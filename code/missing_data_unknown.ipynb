{
 "cells": [
  {
   "cell_type": "markdown",
   "metadata": {},
   "source": [
    "# Fill Missing Values as Unknown"
   ]
  },
  {
   "cell_type": "code",
   "execution_count": 1,
   "metadata": {},
   "outputs": [],
   "source": [
    "import numpy as np\n",
    "import pandas as pd\n",
    "import seaborn as sns"
   ]
  },
  {
   "cell_type": "code",
   "execution_count": 2,
   "metadata": {},
   "outputs": [],
   "source": [
    "def import_dataset(filename):\n",
    "    bank_mkt = pd.read_csv(filename,\n",
    "                           na_values=[\"unknown\", \"nonexistent\"],\n",
    "                           true_values=[\"yes\", \"success\"],\n",
    "                           false_values=[\"no\", \"failure\"])\n",
    "    # Treat pdays = 999 as missing values\n",
    "    bank_mkt[\"pdays\"] = bank_mkt[\"pdays\"].replace(999, np.nan)\n",
    "    # Convert types, \"Int64\" is nullable integer data type in pandas\n",
    "    bank_mkt = bank_mkt.astype(dtype={\"age\": \"Int64\",\n",
    "                                      \"job\": \"category\",\n",
    "                                      \"marital\": \"category\",\n",
    "                                      \"education\": \"category\",\n",
    "                                      \"default\": \"boolean\",\n",
    "                                      \"housing\": \"boolean\",\n",
    "                                      \"loan\": \"boolean\",\n",
    "                                      \"contact\": \"category\",\n",
    "                                      \"month\": \"category\",\n",
    "                                      \"day_of_week\": \"category\",\n",
    "                                      \"duration\": \"Int64\",\n",
    "                                      \"campaign\": \"Int64\",\n",
    "                                      \"pdays\": \"Int64\",\n",
    "                                      \"previous\": \"Int64\",\n",
    "                                      \"poutcome\": \"boolean\",\n",
    "                                      \"y\": \"boolean\"})\n",
    "    return bank_mkt"
   ]
  },
  {
   "cell_type": "code",
   "execution_count": 3,
   "metadata": {},
   "outputs": [],
   "source": [
    "def fill_unknown(df, feature_list):\n",
    "    df = df.copy()\n",
    "    for feature in feature_list:\n",
    "        if pd.api.types.is_categorical_dtype(df[feature]):\n",
    "            df[feature] = df[feature].cat.add_categories(\"unknown\")\n",
    "            df[feature] = df[feature].fillna(\"unknown\")\n",
    "        elif pd.api.types.is_bool_dtype(bank_mkt[feature]):\n",
    "            df[feature] = df[feature].astype(\"category\")\n",
    "            df[feature] = df[feature].cat.add_categories(\"unknown\")\n",
    "            df[feature] = df[feature].fillna(\"unknown\")\n",
    "    return df"
   ]
  },
  {
   "cell_type": "code",
   "execution_count": 4,
   "metadata": {},
   "outputs": [],
   "source": [
    "bank_mkt = import_dataset(\"../data/BankMarketing.csv\")\n",
    "category_list = [\"marital\", \"education\", \"default\", \"job\", \"housing\", \"loan\"]\n",
    "bank_mkt = fill_unknown(bank_mkt, category_list)\n",
    "bank_mkt[\"pdays\"] = bank_mkt[\"pdays\"].fillna(999)\n",
    "bank_mkt[\"poutcome\"] = bank_mkt[\"poutcome\"].fillna(False)"
   ]
  },
  {
   "cell_type": "code",
   "execution_count": 5,
   "metadata": {},
   "outputs": [],
   "source": [
    "from sklearn import preprocessing\n",
    "\n",
    "min_max_scaler = preprocessing.MinMaxScaler()\n",
    "stand_scaler = preprocessing.StandardScaler()\n",
    "data = bank_mkt[[\"age\", \"campaign\", \"previous\", \"pdays\", \"emp.var.rate\", \"cons.price.idx\",\"cons.conf.idx\", \"euribor3m\", \"nr.employed\"]] \n",
    "data = min_max_scaler.fit_transform(data)\n",
    "bank_mkt[[\"age\", \"campaign\", \"previous\", \"pdays\", \"emp.var.rate\", \"cons.price.idx\",\"cons.conf.idx\", \"euribor3m\", \"nr.employed\"]] = data"
   ]
  },
  {
   "cell_type": "code",
   "execution_count": 6,
   "metadata": {},
   "outputs": [],
   "source": [
    "bank_x = bank_mkt.drop([\"duration\", \"y\"], axis=1)\n",
    "bank_x = pd.get_dummies(bank_x, drop_first=True)\n",
    "bank_y = bank_mkt[\"y\"].astype(int)"
   ]
  },
  {
   "cell_type": "code",
   "execution_count": 7,
   "metadata": {},
   "outputs": [
    {
     "name": "stdout",
     "output_type": "stream",
     "text": [
      "0.8506919155134741 0.3249176728869374\n"
     ]
    },
    {
     "data": {
      "text/plain": [
       "<sklearn.metrics._plot.confusion_matrix.ConfusionMatrixDisplay at 0x7f8a50cb66d0>"
      ]
     },
     "execution_count": 7,
     "metadata": {},
     "output_type": "execute_result"
    },
    {
     "data": {
      "image/png": "[encoded data removed]",
      "text/plain": [
       "<Figure size 432x288 with 2 Axes>"
      ]
     },
     "metadata": {
      "needs_background": "light"
     },
     "output_type": "display_data"
    }
   ],
   "source": [
    "from sklearn.model_selection import train_test_split\n",
    "\n",
    "X_train, X_test, Y_train, Y_test = train_test_split(bank_x, bank_y, test_size = 0.1)\n",
    "\n",
    "from sklearn import tree\n",
    "\n",
    "tree_clf = tree.DecisionTreeClassifier(class_weight='balanced')\n",
    "\n",
    "from sklearn.metrics import accuracy_score, f1_score, plot_confusion_matrix\n",
    "tree_fit = tree_clf.fit(X_train, Y_train)\n",
    "Y_test_pred = tree_clf.predict(X_test)\n",
    "accuracy = accuracy_score(Y_test, Y_test_pred)\n",
    "f1 = f1_score(Y_test, Y_test_pred)\n",
    "print(accuracy, f1)\n",
    "plot_confusion_matrix(tree_clf, X_test, Y_test)"
   ]
  },
  {
   "cell_type": "code",
   "execution_count": 8,
   "metadata": {},
   "outputs": [
    {
     "name": "stdout",
     "output_type": "stream",
     "text": [
      "0.8242291818402525 0.43348982785602497\n"
     ]
    },
    {
     "data": {
      "text/plain": [
       "<sklearn.metrics._plot.confusion_matrix.ConfusionMatrixDisplay at 0x7f89f196b400>"
      ]
     },
     "execution_count": 8,
     "metadata": {},
     "output_type": "execute_result"
    },
    {
     "data": {
      "image/png": "[encoded data removed]",
      "text/plain": [
       "<Figure size 432x288 with 2 Axes>"
      ]
     },
     "metadata": {
      "needs_background": "light"
     },
     "output_type": "display_data"
    }
   ],
   "source": [
    "from sklearn.naive_bayes import GaussianNB\n",
    "nb_model = GaussianNB()\n",
    "nb_fit = nb_model.fit(X_train, Y_train)\n",
    "Y_test_pred = nb_model.predict(X_test)\n",
    "accuracy = accuracy_score(Y_test, Y_test_pred)\n",
    "f1 = f1_score(Y_test, Y_test_pred)\n",
    "print(accuracy, f1)\n",
    "plot_confusion_matrix(nb_model, X_test, Y_test)"
   ]
  },
  {
   "cell_type": "code",
   "execution_count": 9,
   "metadata": {},
   "outputs": [
    {
     "name": "stdout",
     "output_type": "stream",
     "text": [
      "0.8943918426802622 0.3794579172610556\n"
     ]
    },
    {
     "data": {
      "text/plain": [
       "<sklearn.metrics._plot.confusion_matrix.ConfusionMatrixDisplay at 0x7f8a70c9fca0>"
      ]
     },
     "execution_count": 9,
     "metadata": {},
     "output_type": "execute_result"
    },
    {
     "data": {
      "image/png": "[encoded data removed]",
      "text/plain": [
       "<Figure size 432x288 with 2 Axes>"
      ]
     },
     "metadata": {
      "needs_background": "light"
     },
     "output_type": "display_data"
    }
   ],
   "source": [
    "from sklearn.ensemble import RandomForestClassifier\n",
    "\n",
    "rf_clf = RandomForestClassifier(class_weight='balanced')\n",
    "rf_clf = rf_clf.fit(X_train, Y_train)\n",
    "Y_test_pred = rf_clf.predict(X_test)\n",
    "accuracy = accuracy_score(Y_test, Y_test_pred)\n",
    "f1 = f1_score(Y_test, Y_test_pred)\n",
    "print(accuracy, f1)\n",
    "plot_confusion_matrix(rf_clf, X_test, Y_test)"
   ]
  }
 ],
 "metadata": {
  "kernelspec": {
   "display_name": "Python 3",
   "language": "python",
   "name": "python3"
  },
  "language_info": {
   "codemirror_mode": {
    "name": "ipython",
    "version": 3
   },
   "file_extension": ".py",
   "mimetype": "text/x-python",
   "name": "python",
   "nbconvert_exporter": "python",
   "pygments_lexer": "ipython3",
   "version": "3.8.5"
  }
 },
 "nbformat": 4,
 "nbformat_minor": 4
}
