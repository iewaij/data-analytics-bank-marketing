{
 "cells": [
  {
   "cell_type": "markdown",
   "metadata": {
    "cell_id": "00000-1b1ea3a8-0c37-42cd-a71c-4fa63218b051",
    "tags": []
   },
   "source": [
    "# Data Preparation"
   ]
  },
  {
   "cell_type": "markdown",
   "metadata": {},
   "source": [
    "## Import Data"
   ]
  },
  {
   "cell_type": "code",
   "execution_count": 2,
   "metadata": {
    "cell_id": "00001-5cf04d27-6f80-4c90-94b3-e82e08b438f4",
    "execution_millis": 1,
    "execution_start": 1603100785978,
    "output_cleared": false,
    "source_hash": "b7dcc9c8",
    "tags": []
   },
   "outputs": [],
   "source": [
    "import numpy as np\n",
    "import pandas as pd\n",
    "pd.set_option('max_columns', None)\n",
    "pd.set_option(\"max_colwidth\", None)"
   ]
  },
  {
   "cell_type": "code",
   "execution_count": 7,
   "metadata": {
    "cell_id": "00007-ee50a782-f279-435b-b785-c002d0440d0a",
    "execution_millis": 2,
    "execution_start": 1603102496110,
    "output_cleared": false,
    "source_hash": "abe646a4",
    "tags": []
   },
   "outputs": [],
   "source": [
    "def import_dataset(filename):\n",
    "    bank_mkt = pd.read_csv(filename,\n",
    "                           na_values=[\"unknown\", \"nonexistent\"],\n",
    "                           true_values=[\"yes\", \"success\"],\n",
    "                           false_values=[\"no\", \"failure\"])\n",
    "    # Treat pdays = 999 as missing values\n",
    "    bank_mkt[\"pdays\"] = bank_mkt[\"pdays\"].replace(999, pd.NA)\n",
    "    # Convert types, \"Int64\" is nullable integer data type in pandas\n",
    "    bank_mkt = bank_mkt.astype(dtype={\"age\": \"Int64\",\n",
    "                                      \"job\": \"category\",\n",
    "                                      \"marital\": \"category\",\n",
    "                                      \"education\": \"category\",\n",
    "                                      \"default\": \"boolean\",\n",
    "                                      \"housing\": \"boolean\",\n",
    "                                      \"loan\": \"boolean\",\n",
    "                                      \"contact\": \"category\",\n",
    "                                      \"month\": \"category\",\n",
    "                                      \"day_of_week\": \"category\",\n",
    "                                      \"duration\": \"Int64\",\n",
    "                                      \"campaign\": \"Int64\",\n",
    "                                      \"pdays\": \"Int64\",\n",
    "                                      \"previous\": \"Int64\",\n",
    "                                      \"poutcome\": \"boolean\",\n",
    "                                      \"y\": \"boolean\"})\n",
    "    # Drop duplicates\n",
    "    bank_mkt = bank_mkt.drop_duplicates().reset_index(drop=True)\n",
    "    # reorder categorical data\n",
    "    bank_mkt[\"education\"] = bank_mkt[\"education\"].cat.reorder_categories([\"illiterate\", \"basic.4y\", \"basic.6y\", \"basic.9y\", \"high.school\", \"professional.course\", \"university.degree\"], ordered=True)\n",
    "    bank_mkt[\"month\"] = bank_mkt[\"month\"].cat.reorder_categories([\"mar\", \"apr\", \"jun\", \"jul\", \"may\", \"aug\", \"sep\", \"oct\", \"nov\", \"dec\"], ordered=True)\n",
    "    bank_mkt[\"day_of_week\"] = bank_mkt[\"day_of_week\"].cat.reorder_categories([\"mon\", \"tue\", \"wed\", \"thu\", \"fri\"], ordered=True)\n",
    "    return bank_mkt"
   ]
  },
  {
   "cell_type": "code",
   "execution_count": 8,
   "metadata": {
    "cell_id": "00009-8df480dc-278d-4405-94c0-c3d127149c5c",
    "execution_millis": 702,
    "execution_start": 1603102496849,
    "output_cleared": false,
    "source_hash": "d85a72d5",
    "tags": []
   },
   "outputs": [],
   "source": [
    "bank_mkt = import_dataset(\"../data/BankMarketing.csv\")"
   ]
  },
  {
   "cell_type": "markdown",
   "metadata": {
    "cell_id": "00009-7890358b-f90c-4768-acb3-8c9ec04ea388",
    "tags": []
   },
   "source": [
    "## Partition\n",
    "\n",
    "We need to split the dataset into trainning set and test set, then we train models on the trainning set and only use test set for final validation purposes. However, simply sampling the dataset may lead to unrepresenatative partition given that our dataset is imbalanced and clients have different features. Luckily, `scikit-learn` provides a useful function to select representative data as test data."
   ]
  },
  {
   "cell_type": "code",
   "execution_count": 9,
   "metadata": {
    "cell_id": "00016-ceca7260-e01b-49fc-8cb5-0ea816504667",
    "tags": []
   },
   "outputs": [],
   "source": [
    "from sklearn.model_selection import StratifiedShuffleSplit"
   ]
  },
  {
   "cell_type": "code",
   "execution_count": 10,
   "metadata": {
    "cell_id": "00016-ceca7260-e01b-49fc-8cb5-0ea816504667",
    "tags": []
   },
   "outputs": [],
   "source": [
    "train_test_split = StratifiedShuffleSplit(n_splits=1, test_size=0.2, random_state=42)\n",
    "\n",
    "for train_index, test_index in train_test_split.split(bank_mkt.drop(\"y\", axis=1), bank_mkt[\"y\"]):\n",
    "    bank_train_set = bank_mkt.loc[train_index].reset_index(drop=True)\n",
    "    bank_test_set = bank_mkt.loc[test_index].reset_index(drop=True)"
   ]
  },
  {
   "cell_type": "markdown",
   "metadata": {},
   "source": [
    "## Encoding and Scaling"
   ]
  },
  {
   "cell_type": "markdown",
   "metadata": {},
   "source": [
    "Even though `sklearn` can process `pd.DataFrame`, more complicated data transformation can only be well processed when the dataframe is encoded in numbers. Missing values will be encoded as `-1`. All boolean and categorical values need to be converted to integers first. For ordinal data like `education`, `month` and `day_of_week` , we can say `basic.6y` is more \"advanced\" than `basic.4y` for example. Therefore, we should encode `education` into ordinal values or transform them into years of `education`. The same logic also goes for `month` and `day_of_week`.\n",
    "\n",
    "As discussed above, some clients do not have `pdays` but have `poutcome`, which implies that they may have been contacted before but the `pdays` is not inluded. We use `pdays=999` for this kind of clients. `pdays` also needs to be cut into different categories which is known as the discretization process.\n",
    "\n",
    "We create a function `cat_encode()` to allow us to do such transformations and then apply one-hot encoding and standardization on the dataset using pipelines. We first create a `basic_preprecessor` pipeline which doesn't do any feature engineering or ordinal encoding."
   ]
  },
  {
   "cell_type": "code",
   "execution_count": 6,
   "metadata": {},
   "outputs": [],
   "source": [
    "from sklearn.compose import ColumnTransformer\n",
    "from sklearn.pipeline import Pipeline\n",
    "from sklearn.preprocessing import FunctionTransformer\n",
    "from sklearn.preprocessing import OneHotEncoder\n",
    "from sklearn.preprocessing import StandardScaler\n",
    "from sklearn.preprocessing import MinMaxScaler\n",
    "from sklearn import set_config\n",
    "set_config(display='diagram')"
   ]
  },
  {
   "cell_type": "code",
   "execution_count": 7,
   "metadata": {},
   "outputs": [
    {
     "data": {
      "text/html": [
       "<style>div.sk-top-container {color: black;background-color: white;}div.sk-toggleable {background-color: white;}label.sk-toggleable__label {cursor: pointer;display: block;width: 100%;margin-bottom: 0;padding: 0.2em 0.3em;box-sizing: border-box;text-align: center;}div.sk-toggleable__content {max-height: 0;max-width: 0;overflow: hidden;text-align: left;background-color: #f0f8ff;}div.sk-toggleable__content pre {margin: 0.2em;color: black;border-radius: 0.25em;background-color: #f0f8ff;}input.sk-toggleable__control:checked~div.sk-toggleable__content {max-height: 200px;max-width: 100%;overflow: auto;}div.sk-estimator input.sk-toggleable__control:checked~label.sk-toggleable__label {background-color: #d4ebff;}div.sk-label input.sk-toggleable__control:checked~label.sk-toggleable__label {background-color: #d4ebff;}input.sk-hidden--visually {border: 0;clip: rect(1px 1px 1px 1px);clip: rect(1px, 1px, 1px, 1px);height: 1px;margin: -1px;overflow: hidden;padding: 0;position: absolute;width: 1px;}div.sk-estimator {font-family: monospace;background-color: #f0f8ff;margin: 0.25em 0.25em;border: 1px dotted black;border-radius: 0.25em;box-sizing: border-box;}div.sk-estimator:hover {background-color: #d4ebff;}div.sk-parallel-item::after {content: \"\";width: 100%;border-bottom: 1px solid gray;flex-grow: 1;}div.sk-label:hover label.sk-toggleable__label {background-color: #d4ebff;}div.sk-serial::before {content: \"\";position: absolute;border-left: 1px solid gray;box-sizing: border-box;top: 2em;bottom: 0;left: 50%;}div.sk-serial {display: flex;flex-direction: column;align-items: center;background-color: white;}div.sk-item {z-index: 1;}div.sk-parallel {display: flex;align-items: stretch;justify-content: center;background-color: white;}div.sk-parallel-item {display: flex;flex-direction: column;position: relative;background-color: white;}div.sk-parallel-item:first-child::after {align-self: flex-end;width: 50%;}div.sk-parallel-item:last-child::after {align-self: flex-start;width: 50%;}div.sk-parallel-item:only-child::after {width: 0;}div.sk-dashed-wrapped {border: 1px dashed gray;margin: 0.2em;box-sizing: border-box;padding-bottom: 0.1em;background-color: white;position: relative;}div.sk-label label {font-family: monospace;font-weight: bold;background-color: white;display: inline-block;line-height: 1.2em;}div.sk-label-container {position: relative;z-index: 2;text-align: center;}div.sk-container {display: inline-block;position: relative;}</style><div class=\"sk-top-container\"><div class=\"sk-container\"><div class=\"sk-item sk-dashed-wrapped\"><div class=\"sk-label-container\"><div class=\"sk-label sk-toggleable\"><input class=\"sk-toggleable__control sk-hidden--visually\" id=\"a82ba645-c5cc-4503-bef1-ad41c5778fea\" type=\"checkbox\" ><label class=\"sk-toggleable__label\" for=\"a82ba645-c5cc-4503-bef1-ad41c5778fea\">Pipeline</label><div class=\"sk-toggleable__content\"><pre>Pipeline(steps=[('basic_encoder',\n",
       "                 FunctionTransformer(func=<function cat_encode at 0x7fb3c8cda940>)),\n",
       "                ('basic_transformer',\n",
       "                 ColumnTransformer(remainder='passthrough',\n",
       "                                   transformers=[('one_hot_encoder',\n",
       "                                                  OneHotEncoder(drop='first',\n",
       "                                                                sparse=False),\n",
       "                                                  ['job', 'marital',\n",
       "                                                   'education', 'default',\n",
       "                                                   'housing', 'loan', 'month',\n",
       "                                                   'day_of_week', 'pdays',\n",
       "                                                   'poutcome'])])),\n",
       "                ('scaler', StandardScaler())])</pre></div></div></div><div class=\"sk-serial\"><div class=\"sk-item\"><div class=\"sk-estimator sk-toggleable\"><input class=\"sk-toggleable__control sk-hidden--visually\" id=\"37878135-5d2f-421f-8ef9-dc252b04de80\" type=\"checkbox\" ><label class=\"sk-toggleable__label\" for=\"37878135-5d2f-421f-8ef9-dc252b04de80\">FunctionTransformer</label><div class=\"sk-toggleable__content\"><pre>FunctionTransformer(func=<function cat_encode at 0x7fb3c8cda940>)</pre></div></div></div><div class=\"sk-item sk-dashed-wrapped\"><div class=\"sk-label-container\"><div class=\"sk-label sk-toggleable\"><input class=\"sk-toggleable__control sk-hidden--visually\" id=\"5f4f5b6a-1884-4042-a444-644f42cdd205\" type=\"checkbox\" ><label class=\"sk-toggleable__label\" for=\"5f4f5b6a-1884-4042-a444-644f42cdd205\">basic_transformer: ColumnTransformer</label><div class=\"sk-toggleable__content\"><pre>ColumnTransformer(remainder='passthrough',\n",
       "                  transformers=[('one_hot_encoder',\n",
       "                                 OneHotEncoder(drop='first', sparse=False),\n",
       "                                 ['job', 'marital', 'education', 'default',\n",
       "                                  'housing', 'loan', 'month', 'day_of_week',\n",
       "                                  'pdays', 'poutcome'])])</pre></div></div></div><div class=\"sk-parallel\"><div class=\"sk-parallel-item\"><div class=\"sk-item\"><div class=\"sk-label-container\"><div class=\"sk-label sk-toggleable\"><input class=\"sk-toggleable__control sk-hidden--visually\" id=\"7990e08c-9c29-470a-9fcb-63c7ee4414e8\" type=\"checkbox\" ><label class=\"sk-toggleable__label\" for=\"7990e08c-9c29-470a-9fcb-63c7ee4414e8\">one_hot_encoder</label><div class=\"sk-toggleable__content\"><pre>['job', 'marital', 'education', 'default', 'housing', 'loan', 'month', 'day_of_week', 'pdays', 'poutcome']</pre></div></div></div><div class=\"sk-serial\"><div class=\"sk-item\"><div class=\"sk-estimator sk-toggleable\"><input class=\"sk-toggleable__control sk-hidden--visually\" id=\"ec3a477d-dfec-41a7-a734-8f4be8b829c3\" type=\"checkbox\" ><label class=\"sk-toggleable__label\" for=\"ec3a477d-dfec-41a7-a734-8f4be8b829c3\">OneHotEncoder</label><div class=\"sk-toggleable__content\"><pre>OneHotEncoder(drop='first', sparse=False)</pre></div></div></div></div></div></div></div></div><div class=\"sk-item\"><div class=\"sk-estimator sk-toggleable\"><input class=\"sk-toggleable__control sk-hidden--visually\" id=\"95d00697-e7e9-4b4a-9e6a-dd3191044b52\" type=\"checkbox\" ><label class=\"sk-toggleable__label\" for=\"95d00697-e7e9-4b4a-9e6a-dd3191044b52\">StandardScaler</label><div class=\"sk-toggleable__content\"><pre>StandardScaler()</pre></div></div></div></div></div></div></div>"
      ],
      "text/plain": [
       "Pipeline(steps=[('basic_encoder',\n",
       "                 FunctionTransformer(func=<function cat_encode at 0x7fb3c8cda940>)),\n",
       "                ('basic_transformer',\n",
       "                 ColumnTransformer(remainder='passthrough',\n",
       "                                   transformers=[('one_hot_encoder',\n",
       "                                                  OneHotEncoder(drop='first',\n",
       "                                                                sparse=False),\n",
       "                                                  ['job', 'marital',\n",
       "                                                   'education', 'default',\n",
       "                                                   'housing', 'loan', 'month',\n",
       "                                                   'day_of_week', 'pdays',\n",
       "                                                   'poutcome'])])),\n",
       "                ('scaler', StandardScaler())])"
      ]
     },
     "execution_count": 7,
     "metadata": {},
     "output_type": "execute_result"
    }
   ],
   "source": [
    "def cat_encode(X, education=None, pdays=None):\n",
    "    \"\"\"Encode categorical data into numerical values.\n",
    "\n",
    "    education: if education is \"year\", education column will be encoded into years of eductaion.\n",
    "    pdays: if pdays is \"cut\", pdays column will be feature engineered and discretized.\n",
    "    \"\"\"\n",
    "    X = X.copy()\n",
    "    # If pdays is \"cut\", pdays column will be feature engineered and discretized.\n",
    "    if pdays == \"cut\":\n",
    "        X.loc[X[\"pdays\"].isna() & X[\"poutcome\"].notna(), \"pdays\"] = 999\n",
    "        X[\"pdays\"] = pd.cut(X[\"pdays\"], [0, 5, 10, 15, 30, 1000], labels=[1, 2, 3, 4, 5], include_lowest=True).astype(\"Int64\")\n",
    "    # Encode nominal and ordinal features\n",
    "    # `month` will be encoded to the corresponding number, e.g. \"mar\" -> 3.\n",
    "    month_map = {\"mar\": 3,\n",
    "                 \"apr\": 4,\n",
    "                 \"jun\": 5,\n",
    "                 \"jul\": 6,\n",
    "                 \"may\": 7,\n",
    "                 \"aug\": 8,\n",
    "                 \"sep\": 9,\n",
    "                 \"oct\": 10,\n",
    "                 \"nov\": 11,\n",
    "                 \"dec\": 12}\n",
    "    X[\"month\"] = X[\"month\"].replace(month_map).astype(\"int\")\n",
    "    # Other categorical features will be coded as its order in pandas categorical index\n",
    "    cat_features = [\"job\", \"education\", \"marital\", \"contact\", \"day_of_week\"]\n",
    "    bool_features = [\"default\", \"housing\", \"loan\", \"poutcome\"]\n",
    "    X[cat_features] = X[cat_features].apply(lambda x: x.cat.codes).astype(\"Int64\")\n",
    "    X[bool_features] = X[bool_features].astype(\"Int64\")\n",
    "    # Fill missing values as -1\n",
    "    X = X.fillna(-1)\n",
    "    # If education is \"year\", education column will be encoded into years of eductaion.\n",
    "    if education == \"year\":\n",
    "        education_map = { 0: 0, # illiterate\n",
    "                          1: 4, # basic.4y\n",
    "                          2: 6, # basic.6y\n",
    "                          3: 9, # basic.9y\n",
    "                          4: 12, # high.school\n",
    "                          5: 15, # professional course\n",
    "                          6: 16} # university\n",
    "        X[\"education\"] = X[\"education\"].replace(education_map)\n",
    "    return X\n",
    "\n",
    "basic_encoder = FunctionTransformer(cat_encode)\n",
    "\n",
    "cat_features = [\"job\", \"marital\", \"education\", \"default\", \"housing\", \"loan\", \"month\", \"day_of_week\", \"pdays\", \"poutcome\"]\n",
    "\n",
    "basic_transformer = ColumnTransformer([\n",
    "    (\"one_hot_encoder\", OneHotEncoder(drop=\"first\", sparse=False), cat_features)],\n",
    "    remainder=\"passthrough\")\n",
    "\n",
    "basic_preprocessor = Pipeline([\n",
    "    (\"basic_encoder\", basic_encoder),\n",
    "    (\"basic_transformer\", basic_transformer),\n",
    "    (\"scaler\", StandardScaler())\n",
    "])\n",
    "\n",
    "basic_preprocessor"
   ]
  },
  {
   "cell_type": "markdown",
   "metadata": {
    "cell_id": "00006-73d59ba8-50e9-4557-8ca0-800cb3b3ef65"
   },
   "source": [
    "## Handling Missing Data\n"
   ]
  },
  {
   "cell_type": "markdown",
   "metadata": {},
   "source": [
    "We have several strategies to handle the missing values. For categorical data, we can treat missing value as a different category (-1), which is done by `cat_encode`.\n",
    "\n",
    "`SimpleImputer` allows us to use simple strategies, such as mean value, to fill the missing values. In our case, because most of our missing values are categorical, it makes more sense to use the most frequent values. This strategy and the feature engineering on `pdays` will be applied on the `freq_preprocessor`."
   ]
  },
  {
   "cell_type": "code",
   "execution_count": 8,
   "metadata": {},
   "outputs": [],
   "source": [
    "from sklearn.experimental import enable_iterative_imputer\n",
    "from sklearn.impute import IterativeImputer\n",
    "from sklearn.impute import SimpleImputer"
   ]
  },
  {
   "cell_type": "code",
   "execution_count": 9,
   "metadata": {},
   "outputs": [
    {
     "data": {
      "text/html": [
       "<style>div.sk-top-container {color: black;background-color: white;}div.sk-toggleable {background-color: white;}label.sk-toggleable__label {cursor: pointer;display: block;width: 100%;margin-bottom: 0;padding: 0.2em 0.3em;box-sizing: border-box;text-align: center;}div.sk-toggleable__content {max-height: 0;max-width: 0;overflow: hidden;text-align: left;background-color: #f0f8ff;}div.sk-toggleable__content pre {margin: 0.2em;color: black;border-radius: 0.25em;background-color: #f0f8ff;}input.sk-toggleable__control:checked~div.sk-toggleable__content {max-height: 200px;max-width: 100%;overflow: auto;}div.sk-estimator input.sk-toggleable__control:checked~label.sk-toggleable__label {background-color: #d4ebff;}div.sk-label input.sk-toggleable__control:checked~label.sk-toggleable__label {background-color: #d4ebff;}input.sk-hidden--visually {border: 0;clip: rect(1px 1px 1px 1px);clip: rect(1px, 1px, 1px, 1px);height: 1px;margin: -1px;overflow: hidden;padding: 0;position: absolute;width: 1px;}div.sk-estimator {font-family: monospace;background-color: #f0f8ff;margin: 0.25em 0.25em;border: 1px dotted black;border-radius: 0.25em;box-sizing: border-box;}div.sk-estimator:hover {background-color: #d4ebff;}div.sk-parallel-item::after {content: \"\";width: 100%;border-bottom: 1px solid gray;flex-grow: 1;}div.sk-label:hover label.sk-toggleable__label {background-color: #d4ebff;}div.sk-serial::before {content: \"\";position: absolute;border-left: 1px solid gray;box-sizing: border-box;top: 2em;bottom: 0;left: 50%;}div.sk-serial {display: flex;flex-direction: column;align-items: center;background-color: white;}div.sk-item {z-index: 1;}div.sk-parallel {display: flex;align-items: stretch;justify-content: center;background-color: white;}div.sk-parallel-item {display: flex;flex-direction: column;position: relative;background-color: white;}div.sk-parallel-item:first-child::after {align-self: flex-end;width: 50%;}div.sk-parallel-item:last-child::after {align-self: flex-start;width: 50%;}div.sk-parallel-item:only-child::after {width: 0;}div.sk-dashed-wrapped {border: 1px dashed gray;margin: 0.2em;box-sizing: border-box;padding-bottom: 0.1em;background-color: white;position: relative;}div.sk-label label {font-family: monospace;font-weight: bold;background-color: white;display: inline-block;line-height: 1.2em;}div.sk-label-container {position: relative;z-index: 2;text-align: center;}div.sk-container {display: inline-block;position: relative;}</style><div class=\"sk-top-container\"><div class=\"sk-container\"><div class=\"sk-item sk-dashed-wrapped\"><div class=\"sk-label-container\"><div class=\"sk-label sk-toggleable\"><input class=\"sk-toggleable__control sk-hidden--visually\" id=\"1f77f095-7adf-4323-864f-5716d9a472cb\" type=\"checkbox\" ><label class=\"sk-toggleable__label\" for=\"1f77f095-7adf-4323-864f-5716d9a472cb\">Pipeline</label><div class=\"sk-toggleable__content\"><pre>Pipeline(steps=[('cut_encoder',\n",
       "                 FunctionTransformer(func=<function cat_encode at 0x7fb3c8cda940>,\n",
       "                                     kw_args={'pdays': 'cut'})),\n",
       "                ('freq_transformer',\n",
       "                 ColumnTransformer(remainder='passthrough',\n",
       "                                   transformers=[('freq_nom_imputer',\n",
       "                                                  Pipeline(steps=[('freq_imputer',\n",
       "                                                                   SimpleImputer(missing_values=-1,\n",
       "                                                                                 strategy='most_frequent')),\n",
       "                                                                  ('one_hot_encoder',\n",
       "                                                                   OneHotEncoder(drop='first',\n",
       "                                                                                 sparse=False))]),\n",
       "                                                  ['job', 'marital', 'default',\n",
       "                                                   'housing', 'loan']),\n",
       "                                                 ('freq_ord_imputer',\n",
       "                                                  Pipeline(steps=[('freq_imputer',\n",
       "                                                                   SimpleImputer(missing_values=-1,\n",
       "                                                                                 strategy='most_frequent'))]),\n",
       "                                                  ['education']),\n",
       "                                                 ('one_hot_encoder',\n",
       "                                                  OneHotEncoder(drop='first',\n",
       "                                                                sparse=False),\n",
       "                                                  ['pdays', 'poutcome'])])),\n",
       "                ('scaler', StandardScaler())])</pre></div></div></div><div class=\"sk-serial\"><div class=\"sk-item\"><div class=\"sk-estimator sk-toggleable\"><input class=\"sk-toggleable__control sk-hidden--visually\" id=\"8c7aa9c3-4868-483c-b46b-56f8c7dc518b\" type=\"checkbox\" ><label class=\"sk-toggleable__label\" for=\"8c7aa9c3-4868-483c-b46b-56f8c7dc518b\">FunctionTransformer</label><div class=\"sk-toggleable__content\"><pre>FunctionTransformer(func=<function cat_encode at 0x7fb3c8cda940>,\n",
       "                    kw_args={'pdays': 'cut'})</pre></div></div></div><div class=\"sk-item sk-dashed-wrapped\"><div class=\"sk-label-container\"><div class=\"sk-label sk-toggleable\"><input class=\"sk-toggleable__control sk-hidden--visually\" id=\"3916414c-194e-4964-b27c-2c68f2f184a8\" type=\"checkbox\" ><label class=\"sk-toggleable__label\" for=\"3916414c-194e-4964-b27c-2c68f2f184a8\">freq_transformer: ColumnTransformer</label><div class=\"sk-toggleable__content\"><pre>ColumnTransformer(remainder='passthrough',\n",
       "                  transformers=[('freq_nom_imputer',\n",
       "                                 Pipeline(steps=[('freq_imputer',\n",
       "                                                  SimpleImputer(missing_values=-1,\n",
       "                                                                strategy='most_frequent')),\n",
       "                                                 ('one_hot_encoder',\n",
       "                                                  OneHotEncoder(drop='first',\n",
       "                                                                sparse=False))]),\n",
       "                                 ['job', 'marital', 'default', 'housing',\n",
       "                                  'loan']),\n",
       "                                ('freq_ord_imputer',\n",
       "                                 Pipeline(steps=[('freq_imputer',\n",
       "                                                  SimpleImputer(missing_values=-1,\n",
       "                                                                strategy='most_frequent'))]),\n",
       "                                 ['education']),\n",
       "                                ('one_hot_encoder',\n",
       "                                 OneHotEncoder(drop='first', sparse=False),\n",
       "                                 ['pdays', 'poutcome'])])</pre></div></div></div><div class=\"sk-parallel\"><div class=\"sk-parallel-item\"><div class=\"sk-item\"><div class=\"sk-label-container\"><div class=\"sk-label sk-toggleable\"><input class=\"sk-toggleable__control sk-hidden--visually\" id=\"437679e3-1570-48cd-8c61-b212c319a183\" type=\"checkbox\" ><label class=\"sk-toggleable__label\" for=\"437679e3-1570-48cd-8c61-b212c319a183\">freq_nom_imputer</label><div class=\"sk-toggleable__content\"><pre>['job', 'marital', 'default', 'housing', 'loan']</pre></div></div></div><div class=\"sk-serial\"><div class=\"sk-item\"><div class=\"sk-serial\"><div class=\"sk-item\"><div class=\"sk-estimator sk-toggleable\"><input class=\"sk-toggleable__control sk-hidden--visually\" id=\"ac792813-ef58-4e8c-823b-8da3e4e938e6\" type=\"checkbox\" ><label class=\"sk-toggleable__label\" for=\"ac792813-ef58-4e8c-823b-8da3e4e938e6\">SimpleImputer</label><div class=\"sk-toggleable__content\"><pre>SimpleImputer(missing_values=-1, strategy='most_frequent')</pre></div></div></div><div class=\"sk-item\"><div class=\"sk-estimator sk-toggleable\"><input class=\"sk-toggleable__control sk-hidden--visually\" id=\"64d3e9d5-f109-4ff9-82ee-c3826ab2c2f6\" type=\"checkbox\" ><label class=\"sk-toggleable__label\" for=\"64d3e9d5-f109-4ff9-82ee-c3826ab2c2f6\">OneHotEncoder</label><div class=\"sk-toggleable__content\"><pre>OneHotEncoder(drop='first', sparse=False)</pre></div></div></div></div></div></div></div></div><div class=\"sk-parallel-item\"><div class=\"sk-item\"><div class=\"sk-label-container\"><div class=\"sk-label sk-toggleable\"><input class=\"sk-toggleable__control sk-hidden--visually\" id=\"576434ce-288e-4943-9634-099c945464c6\" type=\"checkbox\" ><label class=\"sk-toggleable__label\" for=\"576434ce-288e-4943-9634-099c945464c6\">freq_ord_imputer</label><div class=\"sk-toggleable__content\"><pre>['education']</pre></div></div></div><div class=\"sk-serial\"><div class=\"sk-item\"><div class=\"sk-serial\"><div class=\"sk-item\"><div class=\"sk-estimator sk-toggleable\"><input class=\"sk-toggleable__control sk-hidden--visually\" id=\"0157937c-a5df-45e4-b059-07ab74662831\" type=\"checkbox\" ><label class=\"sk-toggleable__label\" for=\"0157937c-a5df-45e4-b059-07ab74662831\">SimpleImputer</label><div class=\"sk-toggleable__content\"><pre>SimpleImputer(missing_values=-1, strategy='most_frequent')</pre></div></div></div></div></div></div></div></div><div class=\"sk-parallel-item\"><div class=\"sk-item\"><div class=\"sk-label-container\"><div class=\"sk-label sk-toggleable\"><input class=\"sk-toggleable__control sk-hidden--visually\" id=\"ddd254a2-2724-4c98-9c0d-837045abe6b8\" type=\"checkbox\" ><label class=\"sk-toggleable__label\" for=\"ddd254a2-2724-4c98-9c0d-837045abe6b8\">one_hot_encoder</label><div class=\"sk-toggleable__content\"><pre>['pdays', 'poutcome']</pre></div></div></div><div class=\"sk-serial\"><div class=\"sk-item\"><div class=\"sk-estimator sk-toggleable\"><input class=\"sk-toggleable__control sk-hidden--visually\" id=\"d842d06e-dfde-418f-b763-f2635a28c706\" type=\"checkbox\" ><label class=\"sk-toggleable__label\" for=\"d842d06e-dfde-418f-b763-f2635a28c706\">OneHotEncoder</label><div class=\"sk-toggleable__content\"><pre>OneHotEncoder(drop='first', sparse=False)</pre></div></div></div></div></div></div></div></div><div class=\"sk-item\"><div class=\"sk-estimator sk-toggleable\"><input class=\"sk-toggleable__control sk-hidden--visually\" id=\"ae250cb2-32e7-4c37-a0a7-f593eb13c882\" type=\"checkbox\" ><label class=\"sk-toggleable__label\" for=\"ae250cb2-32e7-4c37-a0a7-f593eb13c882\">StandardScaler</label><div class=\"sk-toggleable__content\"><pre>StandardScaler()</pre></div></div></div></div></div></div></div>"
      ],
      "text/plain": [
       "Pipeline(steps=[('cut_encoder',\n",
       "                 FunctionTransformer(func=<function cat_encode at 0x7fb3c8cda940>,\n",
       "                                     kw_args={'pdays': 'cut'})),\n",
       "                ('freq_transformer',\n",
       "                 ColumnTransformer(remainder='passthrough',\n",
       "                                   transformers=[('freq_nom_imputer',\n",
       "                                                  Pipeline(steps=[('freq_imputer',\n",
       "                                                                   SimpleImputer(missing_values=-1,\n",
       "                                                                                 strategy='most_frequent')),\n",
       "                                                                  ('one_hot_encoder',\n",
       "                                                                   OneHotEncoder(drop='first',\n",
       "                                                                                 sparse=False))]),\n",
       "                                                  ['job', 'marital', 'default',\n",
       "                                                   'housing', 'loan']),\n",
       "                                                 ('freq_ord_imputer',\n",
       "                                                  Pipeline(steps=[('freq_imputer',\n",
       "                                                                   SimpleImputer(missing_values=-1,\n",
       "                                                                                 strategy='most_frequent'))]),\n",
       "                                                  ['education']),\n",
       "                                                 ('one_hot_encoder',\n",
       "                                                  OneHotEncoder(drop='first',\n",
       "                                                                sparse=False),\n",
       "                                                  ['pdays', 'poutcome'])])),\n",
       "                ('scaler', StandardScaler())])"
      ]
     },
     "execution_count": 9,
     "metadata": {},
     "output_type": "execute_result"
    }
   ],
   "source": [
    "cat_features = [\"job\", \"marital\", \"education\", \"default\", \"housing\", \"loan\", \"pdays\", \"poutcome\"]\n",
    "\n",
    "freq_nom_features = [\"job\", \"marital\", \"default\", \"housing\", \"loan\"]\n",
    "\n",
    "freq_ord_features = [\"education\"]\n",
    "\n",
    "one_hot_features = [i for i in cat_features if i not in freq_nom_features and i not in freq_ord_features]\n",
    "\n",
    "cut_encoder = FunctionTransformer(cat_encode, kw_args={\"pdays\":\"cut\"})\n",
    "\n",
    "freq_nom_imputer = Pipeline([\n",
    "    (\"freq_imputer\", SimpleImputer(missing_values=-1, strategy=\"most_frequent\")),\n",
    "    (\"one_hot_encoder\", OneHotEncoder(drop=\"first\", sparse=False))\n",
    "])\n",
    "\n",
    "freq_ord_imputer = Pipeline([\n",
    "    (\"freq_imputer\", SimpleImputer(missing_values=-1, strategy=\"most_frequent\"))\n",
    "])\n",
    "\n",
    "freq_transformer = ColumnTransformer([\n",
    "    (\"freq_nom_imputer\", freq_nom_imputer, freq_nom_features),\n",
    "    (\"freq_ord_imputer\", freq_ord_imputer, freq_ord_features),\n",
    "    (\"one_hot_encoder\", OneHotEncoder(drop=\"first\", sparse=False), one_hot_features)],\n",
    "    remainder=\"passthrough\")\n",
    "\n",
    "freq_preprocessor = Pipeline([\n",
    "    (\"cut_encoder\", cut_encoder),\n",
    "    (\"freq_transformer\", freq_transformer),\n",
    "    (\"scaler\", StandardScaler())\n",
    "])\n",
    "\n",
    "freq_preprocessor"
   ]
  },
  {
   "cell_type": "markdown",
   "metadata": {},
   "source": [
    "We can also try using machine learning algorithms to impute the missing values. In `sklearn`, this could be achived by an experimental `IterativeImputer`. Here we assume that client data is independent from contact and previous compaingn data. We will only use client basic data to impute missing values. This method along with the feature engineering on `pdays` will be demostrated by `ite_preprocessor`."
   ]
  },
  {
   "cell_type": "code",
   "execution_count": 10,
   "metadata": {},
   "outputs": [
    {
     "data": {
      "text/html": [
       "<style>div.sk-top-container {color: black;background-color: white;}div.sk-toggleable {background-color: white;}label.sk-toggleable__label {cursor: pointer;display: block;width: 100%;margin-bottom: 0;padding: 0.2em 0.3em;box-sizing: border-box;text-align: center;}div.sk-toggleable__content {max-height: 0;max-width: 0;overflow: hidden;text-align: left;background-color: #f0f8ff;}div.sk-toggleable__content pre {margin: 0.2em;color: black;border-radius: 0.25em;background-color: #f0f8ff;}input.sk-toggleable__control:checked~div.sk-toggleable__content {max-height: 200px;max-width: 100%;overflow: auto;}div.sk-estimator input.sk-toggleable__control:checked~label.sk-toggleable__label {background-color: #d4ebff;}div.sk-label input.sk-toggleable__control:checked~label.sk-toggleable__label {background-color: #d4ebff;}input.sk-hidden--visually {border: 0;clip: rect(1px 1px 1px 1px);clip: rect(1px, 1px, 1px, 1px);height: 1px;margin: -1px;overflow: hidden;padding: 0;position: absolute;width: 1px;}div.sk-estimator {font-family: monospace;background-color: #f0f8ff;margin: 0.25em 0.25em;border: 1px dotted black;border-radius: 0.25em;box-sizing: border-box;}div.sk-estimator:hover {background-color: #d4ebff;}div.sk-parallel-item::after {content: \"\";width: 100%;border-bottom: 1px solid gray;flex-grow: 1;}div.sk-label:hover label.sk-toggleable__label {background-color: #d4ebff;}div.sk-serial::before {content: \"\";position: absolute;border-left: 1px solid gray;box-sizing: border-box;top: 2em;bottom: 0;left: 50%;}div.sk-serial {display: flex;flex-direction: column;align-items: center;background-color: white;}div.sk-item {z-index: 1;}div.sk-parallel {display: flex;align-items: stretch;justify-content: center;background-color: white;}div.sk-parallel-item {display: flex;flex-direction: column;position: relative;background-color: white;}div.sk-parallel-item:first-child::after {align-self: flex-end;width: 50%;}div.sk-parallel-item:last-child::after {align-self: flex-start;width: 50%;}div.sk-parallel-item:only-child::after {width: 0;}div.sk-dashed-wrapped {border: 1px dashed gray;margin: 0.2em;box-sizing: border-box;padding-bottom: 0.1em;background-color: white;position: relative;}div.sk-label label {font-family: monospace;font-weight: bold;background-color: white;display: inline-block;line-height: 1.2em;}div.sk-label-container {position: relative;z-index: 2;text-align: center;}div.sk-container {display: inline-block;position: relative;}</style><div class=\"sk-top-container\"><div class=\"sk-container\"><div class=\"sk-item sk-dashed-wrapped\"><div class=\"sk-label-container\"><div class=\"sk-label sk-toggleable\"><input class=\"sk-toggleable__control sk-hidden--visually\" id=\"3fbfb485-8444-4da6-892b-2b083a71e1db\" type=\"checkbox\" ><label class=\"sk-toggleable__label\" for=\"3fbfb485-8444-4da6-892b-2b083a71e1db\">Pipeline</label><div class=\"sk-toggleable__content\"><pre>Pipeline(steps=[('cut_encoder',\n",
       "                 FunctionTransformer(func=<function cat_encode at 0x7fb3c8cda940>,\n",
       "                                     kw_args={'pdays': 'cut'})),\n",
       "                ('ite_transformer',\n",
       "                 ColumnTransformer(remainder='passthrough',\n",
       "                                   transformers=[('ite_imputer',\n",
       "                                                  Pipeline(steps=[('ite_imputer',\n",
       "                                                                   IterativeImputer(initial_strategy='most_frequent',\n",
       "                                                                                    max_iter=100,\n",
       "                                                                                    missing_values=-1,\n",
       "                                                                                    random_state=42)),\n",
       "                                                                  ('ite_round',\n",
       "                                                                   FunctionTransformer(func=<function round_ at 0x7fb3b00a73a0>))]),\n",
       "                                                  ['age', 'job', 'marital',\n",
       "                                                   'education', 'default',\n",
       "                                                   'housing', 'loan'])])),\n",
       "                ('one_hot_encoder',\n",
       "                 ColumnTransformer(remainder='passthrough',\n",
       "                                   transformers=[('one_hot_encoder',\n",
       "                                                  OneHotEncoder(drop='first',\n",
       "                                                                sparse=False),\n",
       "                                                  [1, 2, 11, 13])])),\n",
       "                ('scaler', StandardScaler())])</pre></div></div></div><div class=\"sk-serial\"><div class=\"sk-item\"><div class=\"sk-estimator sk-toggleable\"><input class=\"sk-toggleable__control sk-hidden--visually\" id=\"604e20ee-a85c-4f22-a3c3-f5c0d6d156c6\" type=\"checkbox\" ><label class=\"sk-toggleable__label\" for=\"604e20ee-a85c-4f22-a3c3-f5c0d6d156c6\">FunctionTransformer</label><div class=\"sk-toggleable__content\"><pre>FunctionTransformer(func=<function cat_encode at 0x7fb3c8cda940>,\n",
       "                    kw_args={'pdays': 'cut'})</pre></div></div></div><div class=\"sk-item sk-dashed-wrapped\"><div class=\"sk-label-container\"><div class=\"sk-label sk-toggleable\"><input class=\"sk-toggleable__control sk-hidden--visually\" id=\"01d84011-b711-419f-9560-a7baea32e0cf\" type=\"checkbox\" ><label class=\"sk-toggleable__label\" for=\"01d84011-b711-419f-9560-a7baea32e0cf\">ite_transformer: ColumnTransformer</label><div class=\"sk-toggleable__content\"><pre>ColumnTransformer(remainder='passthrough',\n",
       "                  transformers=[('ite_imputer',\n",
       "                                 Pipeline(steps=[('ite_imputer',\n",
       "                                                  IterativeImputer(initial_strategy='most_frequent',\n",
       "                                                                   max_iter=100,\n",
       "                                                                   missing_values=-1,\n",
       "                                                                   random_state=42)),\n",
       "                                                 ('ite_round',\n",
       "                                                  FunctionTransformer(func=<function round_ at 0x7fb3b00a73a0>))]),\n",
       "                                 ['age', 'job', 'marital', 'education',\n",
       "                                  'default', 'housing', 'loan'])])</pre></div></div></div><div class=\"sk-parallel\"><div class=\"sk-parallel-item\"><div class=\"sk-item\"><div class=\"sk-label-container\"><div class=\"sk-label sk-toggleable\"><input class=\"sk-toggleable__control sk-hidden--visually\" id=\"35fd0fef-1a0d-4350-acaf-7c152db7aee5\" type=\"checkbox\" ><label class=\"sk-toggleable__label\" for=\"35fd0fef-1a0d-4350-acaf-7c152db7aee5\">ite_imputer</label><div class=\"sk-toggleable__content\"><pre>['age', 'job', 'marital', 'education', 'default', 'housing', 'loan']</pre></div></div></div><div class=\"sk-serial\"><div class=\"sk-item\"><div class=\"sk-serial\"><div class=\"sk-item\"><div class=\"sk-estimator sk-toggleable\"><input class=\"sk-toggleable__control sk-hidden--visually\" id=\"0a0ac3f0-b85b-49f7-8f76-20bc4261b1e8\" type=\"checkbox\" ><label class=\"sk-toggleable__label\" for=\"0a0ac3f0-b85b-49f7-8f76-20bc4261b1e8\">IterativeImputer</label><div class=\"sk-toggleable__content\"><pre>IterativeImputer(initial_strategy='most_frequent', max_iter=100,\n",
       "                 missing_values=-1, random_state=42)</pre></div></div></div><div class=\"sk-item\"><div class=\"sk-estimator sk-toggleable\"><input class=\"sk-toggleable__control sk-hidden--visually\" id=\"c42e0265-395f-4628-82f2-87a51da9d73a\" type=\"checkbox\" ><label class=\"sk-toggleable__label\" for=\"c42e0265-395f-4628-82f2-87a51da9d73a\">FunctionTransformer</label><div class=\"sk-toggleable__content\"><pre>FunctionTransformer(func=<function round_ at 0x7fb3b00a73a0>)</pre></div></div></div></div></div></div></div></div></div></div><div class=\"sk-item sk-dashed-wrapped\"><div class=\"sk-label-container\"><div class=\"sk-label sk-toggleable\"><input class=\"sk-toggleable__control sk-hidden--visually\" id=\"7a653f30-c51a-47c3-bfd2-ffceedee7373\" type=\"checkbox\" ><label class=\"sk-toggleable__label\" for=\"7a653f30-c51a-47c3-bfd2-ffceedee7373\">one_hot_encoder: ColumnTransformer</label><div class=\"sk-toggleable__content\"><pre>ColumnTransformer(remainder='passthrough',\n",
       "                  transformers=[('one_hot_encoder',\n",
       "                                 OneHotEncoder(drop='first', sparse=False),\n",
       "                                 [1, 2, 11, 13])])</pre></div></div></div><div class=\"sk-parallel\"><div class=\"sk-parallel-item\"><div class=\"sk-item\"><div class=\"sk-label-container\"><div class=\"sk-label sk-toggleable\"><input class=\"sk-toggleable__control sk-hidden--visually\" id=\"da2cba1c-df93-43db-a9bc-6bbce03a0c86\" type=\"checkbox\" ><label class=\"sk-toggleable__label\" for=\"da2cba1c-df93-43db-a9bc-6bbce03a0c86\">one_hot_encoder</label><div class=\"sk-toggleable__content\"><pre>[1, 2, 11, 13]</pre></div></div></div><div class=\"sk-serial\"><div class=\"sk-item\"><div class=\"sk-estimator sk-toggleable\"><input class=\"sk-toggleable__control sk-hidden--visually\" id=\"9b001f28-5191-4b9f-980a-5d5573d44ec6\" type=\"checkbox\" ><label class=\"sk-toggleable__label\" for=\"9b001f28-5191-4b9f-980a-5d5573d44ec6\">OneHotEncoder</label><div class=\"sk-toggleable__content\"><pre>OneHotEncoder(drop='first', sparse=False)</pre></div></div></div></div></div></div></div></div><div class=\"sk-item\"><div class=\"sk-estimator sk-toggleable\"><input class=\"sk-toggleable__control sk-hidden--visually\" id=\"386aba19-d4d6-49fe-ac7c-c6f44387e32e\" type=\"checkbox\" ><label class=\"sk-toggleable__label\" for=\"386aba19-d4d6-49fe-ac7c-c6f44387e32e\">StandardScaler</label><div class=\"sk-toggleable__content\"><pre>StandardScaler()</pre></div></div></div></div></div></div></div>"
      ],
      "text/plain": [
       "Pipeline(steps=[('cut_encoder',\n",
       "                 FunctionTransformer(func=<function cat_encode at 0x7fb3c8cda940>,\n",
       "                                     kw_args={'pdays': 'cut'})),\n",
       "                ('ite_transformer',\n",
       "                 ColumnTransformer(remainder='passthrough',\n",
       "                                   transformers=[('ite_imputer',\n",
       "                                                  Pipeline(steps=[('ite_imputer',\n",
       "                                                                   IterativeImputer(initial_strategy='most_frequent',\n",
       "                                                                                    max_iter=100,\n",
       "                                                                                    missing_values=-1,\n",
       "                                                                                    random_state=42)),\n",
       "                                                                  ('ite_round',\n",
       "                                                                   FunctionTransformer(func=<function round_ at 0x7fb3b00a73a0>))]),\n",
       "                                                  ['age', 'job', 'marital',\n",
       "                                                   'education', 'default',\n",
       "                                                   'housing', 'loan'])])),\n",
       "                ('one_hot_encoder',\n",
       "                 ColumnTransformer(remainder='passthrough',\n",
       "                                   transformers=[('one_hot_encoder',\n",
       "                                                  OneHotEncoder(drop='first',\n",
       "                                                                sparse=False),\n",
       "                                                  [1, 2, 11, 13])])),\n",
       "                ('scaler', StandardScaler())])"
      ]
     },
     "execution_count": 10,
     "metadata": {},
     "output_type": "execute_result"
    }
   ],
   "source": [
    "cut_encoder = FunctionTransformer(cat_encode, kw_args={\"pdays\":\"cut\"})\n",
    "\n",
    "ite_features = [\"age\", \"job\", \"marital\", \"education\", \"default\", \"housing\", \"loan\"]\n",
    "\n",
    "one_hot_features = [1, 2, 11, 13] # [\"job\", \"marital\", \"pdays\", \"poutcome\"]\n",
    "\n",
    "ite_imputer = Pipeline([\n",
    "    (\"ite_imputer\", IterativeImputer(max_iter=100, missing_values=-1, initial_strategy=\"most_frequent\", random_state=42)),\n",
    "    (\"ite_round\", FunctionTransformer(np.round))\n",
    "])\n",
    "\n",
    "ite_transformer = ColumnTransformer([(\"ite_imputer\", ite_imputer, ite_features)], remainder=\"passthrough\")\n",
    "\n",
    "one_hot_encoder = ColumnTransformer([(\"one_hot_encoder\", OneHotEncoder(drop=\"first\", sparse=False), one_hot_features)], remainder=\"passthrough\")\n",
    "\n",
    "ite_preprocessor = Pipeline([\n",
    "    (\"cut_encoder\", cut_encoder),\n",
    "    (\"ite_transformer\", ite_transformer),\n",
    "    (\"one_hot_encoder\", one_hot_encoder),\n",
    "    (\"scaler\", StandardScaler())\n",
    "])\n",
    "\n",
    "ite_preprocessor"
   ]
  },
  {
   "cell_type": "code",
   "execution_count": 11,
   "metadata": {},
   "outputs": [],
   "source": [
    "X_train = bank_train_set.drop([\"duration\", \"y\"], axis=1)\n",
    "X_test = bank_test_set.drop([\"duration\", \"y\"], axis=1)\n",
    "X_train.to_pickle(\"../data/X_train.pkl\")\n",
    "X_test.to_pickle(\"../data/X_test.pkl\")\n",
    "\n",
    "y_train = bank_train_set[\"y\"].astype(\"int\").to_numpy()\n",
    "y_test = bank_test_set[\"y\"].astype(\"int\").to_numpy()\n",
    "np.save(f\"../data/y_train.npy\", y_train)\n",
    "np.save(f\"../data/y_test.npy\", y_test)\n",
    "\n",
    "names = [\"basic\", \"freq\", \"ite\"]\n",
    "preprocessors = [basic_preprocessor,freq_preprocessor, ite_preprocessor]\n",
    "\n",
    "for name, preprocessor in zip(names, preprocessors):\n",
    "    X_train_pre = preprocessor.fit_transform(X_train)\n",
    "    X_test_pre = preprocessor.transform(X_test)\n",
    "    np.save(f\"../data/X_train_{name}.npy\", X_train_pre)\n",
    "    np.save(f\"../data/X_test_{name}.npy\", X_test_pre)"
   ]
  }
 ],
 "metadata": {
  "deepnote_execution_queue": [],
  "deepnote_notebook_id": "888ca87c-c3cf-496e-9202-20738582021d",
  "kernelspec": {
   "display_name": "Python 3",
   "language": "python",
   "name": "python3"
  },
  "language_info": {
   "codemirror_mode": {
    "name": "ipython",
    "version": 3
   },
   "file_extension": ".py",
   "mimetype": "text/x-python",
   "name": "python",
   "nbconvert_exporter": "python",
   "pygments_lexer": "ipython3",
   "version": "3.8.6"
  }
 },
 "nbformat": 4,
 "nbformat_minor": 4
}
