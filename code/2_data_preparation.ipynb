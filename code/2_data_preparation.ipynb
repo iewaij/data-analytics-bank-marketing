{
 "cells": [
  {
   "cell_type": "markdown",
   "metadata": {
    "cell_id": "00000-1b1ea3a8-0c37-42cd-a71c-4fa63218b051",
    "tags": []
   },
   "source": [
    "# Data Preparation"
   ]
  },
  {
   "cell_type": "markdown",
   "metadata": {},
   "source": [
    "## Import Data"
   ]
  },
  {
   "cell_type": "code",
   "execution_count": 1,
   "metadata": {
    "cell_id": "00001-5cf04d27-6f80-4c90-94b3-e82e08b438f4",
    "execution_millis": 1,
    "execution_start": 1603100785978,
    "output_cleared": false,
    "source_hash": "b7dcc9c8",
    "tags": []
   },
   "outputs": [],
   "source": [
    "import numpy as np\n",
    "import pandas as pd\n",
    "pd.set_option('max_columns', None)\n",
    "pd.set_option(\"max_colwidth\", None)"
   ]
  },
  {
   "cell_type": "code",
   "execution_count": 2,
   "metadata": {
    "cell_id": "00007-ee50a782-f279-435b-b785-c002d0440d0a",
    "execution_millis": 2,
    "execution_start": 1603102496110,
    "output_cleared": false,
    "source_hash": "abe646a4",
    "tags": []
   },
   "outputs": [],
   "source": [
    "def import_dataset(filename):\n",
    "    bank_mkt = pd.read_csv(filename,\n",
    "                           na_values=[\"unknown\", \"nonexistent\"],\n",
    "                           true_values=[\"yes\", \"success\"],\n",
    "                           false_values=[\"no\", \"failure\"])\n",
    "    # Treat pdays = 999 as missing values\n",
    "    bank_mkt[\"pdays\"] = bank_mkt[\"pdays\"].replace(999, pd.NA)\n",
    "    # Convert types, \"Int64\" is nullable integer data type in pandas\n",
    "    bank_mkt = bank_mkt.astype(dtype={\"age\": \"Int64\",\n",
    "                                      \"job\": \"category\",\n",
    "                                      \"marital\": \"category\",\n",
    "                                      \"education\": \"category\",\n",
    "                                      \"default\": \"boolean\",\n",
    "                                      \"housing\": \"boolean\",\n",
    "                                      \"loan\": \"boolean\",\n",
    "                                      \"contact\": \"category\",\n",
    "                                      \"month\": \"category\",\n",
    "                                      \"day_of_week\": \"category\",\n",
    "                                      \"duration\": \"Int64\",\n",
    "                                      \"campaign\": \"Int64\",\n",
    "                                      \"pdays\": \"Int64\",\n",
    "                                      \"previous\": \"Int64\",\n",
    "                                      \"poutcome\": \"boolean\",\n",
    "                                      \"y\": \"boolean\"})\n",
    "    # reorder categorical data\n",
    "    bank_mkt[\"education\"] = bank_mkt[\"education\"].cat.reorder_categories([\"illiterate\", \"basic.4y\", \"basic.6y\", \"basic.9y\", \"high.school\", \"professional.course\", \"university.degree\"], ordered=True)\n",
    "    bank_mkt[\"month\"] = bank_mkt[\"month\"].cat.reorder_categories([\"mar\", \"apr\", \"jun\", \"jul\", \"may\", \"aug\", \"sep\", \"oct\", \"nov\", \"dec\"], ordered=True)\n",
    "    bank_mkt[\"day_of_week\"] = bank_mkt[\"day_of_week\"].cat.reorder_categories([\"mon\", \"tue\", \"wed\", \"thu\", \"fri\"], ordered=True)\n",
    "    return bank_mkt"
   ]
  },
  {
   "cell_type": "code",
   "execution_count": 3,
   "metadata": {
    "cell_id": "00009-8df480dc-278d-4405-94c0-c3d127149c5c",
    "execution_millis": 702,
    "execution_start": 1603102496849,
    "output_cleared": false,
    "source_hash": "d85a72d5",
    "tags": []
   },
   "outputs": [],
   "source": [
    "bank_mkt = import_dataset(\"../data/BankMarketing.csv\")"
   ]
  },
  {
   "cell_type": "markdown",
   "metadata": {
    "cell_id": "00009-7890358b-f90c-4768-acb3-8c9ec04ea388",
    "tags": []
   },
   "source": [
    "## Partition\n",
    "\n",
    "We need to split the dataset into trainning set and test set, then we train models on the trainning set and only use test set for final validation purposes. However, simply sampling the dataset may lead to unrepresenatative partition given that our dataset is imbalanced and clients have different features. Luckily, `scikit-learn` provides a useful function to select representative data as test data."
   ]
  },
  {
   "cell_type": "code",
   "execution_count": 4,
   "metadata": {
    "cell_id": "00016-ceca7260-e01b-49fc-8cb5-0ea816504667",
    "tags": []
   },
   "outputs": [],
   "source": [
    "from sklearn.model_selection import StratifiedShuffleSplit"
   ]
  },
  {
   "cell_type": "code",
   "execution_count": 5,
   "metadata": {
    "cell_id": "00016-ceca7260-e01b-49fc-8cb5-0ea816504667",
    "tags": []
   },
   "outputs": [],
   "source": [
    "train_test_split = StratifiedShuffleSplit(n_splits=1, test_size=0.2, random_state=42)\n",
    "\n",
    "for train_index, test_index in train_test_split.split(bank_mkt.drop(\"y\", axis=1), bank_mkt[\"y\"]):\n",
    "    bank_train_set = bank_mkt.loc[train_index].reset_index(drop=True)\n",
    "    bank_test_set = bank_mkt.loc[test_index].reset_index(drop=True)"
   ]
  },
  {
   "cell_type": "markdown",
   "metadata": {},
   "source": [
    "## Encoding and Scaling"
   ]
  },
  {
   "cell_type": "markdown",
   "metadata": {},
   "source": [
    "Even though `skleaer` can process `pd.DataFrame`, more complicated data transformation can only be well processed when the dataframe is encoded in numbers. Missing values will be encoded as `-1`. All boolean and categorical values need to be converted to integers first. For ordinal data like `education`, `month` and `day_of_week` , we can say `basic.6y` is more \"advanced\" than `basic.4y` for example. Therefore, we should encode `education` into ordinal values or transform them into years of `education`. The same logic also goes for `month` and `day_of_week`.\n",
    "\n",
    "As discussed above, some clients do not have `pdays` but have `poutcome`, which implies that they may have been contacted before but the `pdays` is not inluded. We use `pdays=999` for this kind of clients. `pdays` also needs to be cut into different categories which is known as the discretization process.\n",
    "\n",
    "We create a function `cat_encode()` to allow us to do such transformations and then apply one-hot encoding and standardization on the dataset using pipelines. We first create a `basic_preprecessor` pipeline which doesn't do any feature engineering or ordinal encoding."
   ]
  },
  {
   "cell_type": "code",
   "execution_count": 6,
   "metadata": {},
   "outputs": [],
   "source": [
    "from sklearn.compose import ColumnTransformer\n",
    "from sklearn.pipeline import Pipeline\n",
    "from sklearn.preprocessing import FunctionTransformer\n",
    "from sklearn.preprocessing import OneHotEncoder\n",
    "from sklearn.preprocessing import StandardScaler\n",
    "from sklearn.preprocessing import MinMaxScaler\n",
    "from sklearn import set_config\n",
    "set_config(display='diagram')"
   ]
  },
  {
   "cell_type": "code",
   "execution_count": 7,
   "metadata": {},
   "outputs": [
    {
     "data": {
      "text/html": [
       "<style>div.sk-top-container {color: black;background-color: white;}div.sk-toggleable {background-color: white;}label.sk-toggleable__label {cursor: pointer;display: block;width: 100%;margin-bottom: 0;padding: 0.2em 0.3em;box-sizing: border-box;text-align: center;}div.sk-toggleable__content {max-height: 0;max-width: 0;overflow: hidden;text-align: left;background-color: #f0f8ff;}div.sk-toggleable__content pre {margin: 0.2em;color: black;border-radius: 0.25em;background-color: #f0f8ff;}input.sk-toggleable__control:checked~div.sk-toggleable__content {max-height: 200px;max-width: 100%;overflow: auto;}div.sk-estimator input.sk-toggleable__control:checked~label.sk-toggleable__label {background-color: #d4ebff;}div.sk-label input.sk-toggleable__control:checked~label.sk-toggleable__label {background-color: #d4ebff;}input.sk-hidden--visually {border: 0;clip: rect(1px 1px 1px 1px);clip: rect(1px, 1px, 1px, 1px);height: 1px;margin: -1px;overflow: hidden;padding: 0;position: absolute;width: 1px;}div.sk-estimator {font-family: monospace;background-color: #f0f8ff;margin: 0.25em 0.25em;border: 1px dotted black;border-radius: 0.25em;box-sizing: border-box;}div.sk-estimator:hover {background-color: #d4ebff;}div.sk-parallel-item::after {content: \"\";width: 100%;border-bottom: 1px solid gray;flex-grow: 1;}div.sk-label:hover label.sk-toggleable__label {background-color: #d4ebff;}div.sk-serial::before {content: \"\";position: absolute;border-left: 1px solid gray;box-sizing: border-box;top: 2em;bottom: 0;left: 50%;}div.sk-serial {display: flex;flex-direction: column;align-items: center;background-color: white;}div.sk-item {z-index: 1;}div.sk-parallel {display: flex;align-items: stretch;justify-content: center;background-color: white;}div.sk-parallel-item {display: flex;flex-direction: column;position: relative;background-color: white;}div.sk-parallel-item:first-child::after {align-self: flex-end;width: 50%;}div.sk-parallel-item:last-child::after {align-self: flex-start;width: 50%;}div.sk-parallel-item:only-child::after {width: 0;}div.sk-dashed-wrapped {border: 1px dashed gray;margin: 0.2em;box-sizing: border-box;padding-bottom: 0.1em;background-color: white;position: relative;}div.sk-label label {font-family: monospace;font-weight: bold;background-color: white;display: inline-block;line-height: 1.2em;}div.sk-label-container {position: relative;z-index: 2;text-align: center;}div.sk-container {display: inline-block;position: relative;}</style><div class=\"sk-top-container\"><div class=\"sk-container\"><div class=\"sk-item sk-dashed-wrapped\"><div class=\"sk-label-container\"><div class=\"sk-label sk-toggleable\"><input class=\"sk-toggleable__control sk-hidden--visually\" id=\"4597eded-d298-40e5-a14b-1b3d8173fad7\" type=\"checkbox\" ><label class=\"sk-toggleable__label\" for=\"4597eded-d298-40e5-a14b-1b3d8173fad7\">Pipeline</label><div class=\"sk-toggleable__content\"><pre>Pipeline(steps=[('cat_encoder',\n",
       "                 FunctionTransformer(func=<function cat_encode at 0x7fb2a064f940>)),\n",
       "                ('cat_transformer',\n",
       "                 ColumnTransformer(remainder='passthrough',\n",
       "                                   transformers=[('one_hot_encoder',\n",
       "                                                  OneHotEncoder(drop='first',\n",
       "                                                                sparse=False),\n",
       "                                                  ['job', 'marital',\n",
       "                                                   'education', 'default',\n",
       "                                                   'housing', 'loan', 'month',\n",
       "                                                   'day_of_week', 'pdays',\n",
       "                                                   'poutcome'])])),\n",
       "                ('scaler', StandardScaler())])</pre></div></div></div><div class=\"sk-serial\"><div class=\"sk-item\"><div class=\"sk-estimator sk-toggleable\"><input class=\"sk-toggleable__control sk-hidden--visually\" id=\"c3b6682f-d13f-41dc-8854-89431e2a68b4\" type=\"checkbox\" ><label class=\"sk-toggleable__label\" for=\"c3b6682f-d13f-41dc-8854-89431e2a68b4\">FunctionTransformer</label><div class=\"sk-toggleable__content\"><pre>FunctionTransformer(func=<function cat_encode at 0x7fb2a064f940>)</pre></div></div></div><div class=\"sk-item sk-dashed-wrapped\"><div class=\"sk-label-container\"><div class=\"sk-label sk-toggleable\"><input class=\"sk-toggleable__control sk-hidden--visually\" id=\"9f8480b5-9e8d-41d9-91a3-44c617f2b5b6\" type=\"checkbox\" ><label class=\"sk-toggleable__label\" for=\"9f8480b5-9e8d-41d9-91a3-44c617f2b5b6\">cat_transformer: ColumnTransformer</label><div class=\"sk-toggleable__content\"><pre>ColumnTransformer(remainder='passthrough',\n",
       "                  transformers=[('one_hot_encoder',\n",
       "                                 OneHotEncoder(drop='first', sparse=False),\n",
       "                                 ['job', 'marital', 'education', 'default',\n",
       "                                  'housing', 'loan', 'month', 'day_of_week',\n",
       "                                  'pdays', 'poutcome'])])</pre></div></div></div><div class=\"sk-parallel\"><div class=\"sk-parallel-item\"><div class=\"sk-item\"><div class=\"sk-label-container\"><div class=\"sk-label sk-toggleable\"><input class=\"sk-toggleable__control sk-hidden--visually\" id=\"84dc5c0d-ca9d-409d-93fb-1ddd518e94e2\" type=\"checkbox\" ><label class=\"sk-toggleable__label\" for=\"84dc5c0d-ca9d-409d-93fb-1ddd518e94e2\">one_hot_encoder</label><div class=\"sk-toggleable__content\"><pre>['job', 'marital', 'education', 'default', 'housing', 'loan', 'month', 'day_of_week', 'pdays', 'poutcome']</pre></div></div></div><div class=\"sk-serial\"><div class=\"sk-item\"><div class=\"sk-estimator sk-toggleable\"><input class=\"sk-toggleable__control sk-hidden--visually\" id=\"d1dcb750-8bec-4153-8ce0-e0a42af03960\" type=\"checkbox\" ><label class=\"sk-toggleable__label\" for=\"d1dcb750-8bec-4153-8ce0-e0a42af03960\">OneHotEncoder</label><div class=\"sk-toggleable__content\"><pre>OneHotEncoder(drop='first', sparse=False)</pre></div></div></div></div></div></div></div></div><div class=\"sk-item\"><div class=\"sk-estimator sk-toggleable\"><input class=\"sk-toggleable__control sk-hidden--visually\" id=\"1f39a5e6-6455-4039-80cb-6ae760bdecf1\" type=\"checkbox\" ><label class=\"sk-toggleable__label\" for=\"1f39a5e6-6455-4039-80cb-6ae760bdecf1\">StandardScaler</label><div class=\"sk-toggleable__content\"><pre>StandardScaler()</pre></div></div></div></div></div></div></div>"
      ],
      "text/plain": [
       "Pipeline(steps=[('cat_encoder',\n",
       "                 FunctionTransformer(func=<function cat_encode at 0x7fb2a064f940>)),\n",
       "                ('cat_transformer',\n",
       "                 ColumnTransformer(remainder='passthrough',\n",
       "                                   transformers=[('one_hot_encoder',\n",
       "                                                  OneHotEncoder(drop='first',\n",
       "                                                                sparse=False),\n",
       "                                                  ['job', 'marital',\n",
       "                                                   'education', 'default',\n",
       "                                                   'housing', 'loan', 'month',\n",
       "                                                   'day_of_week', 'pdays',\n",
       "                                                   'poutcome'])])),\n",
       "                ('scaler', StandardScaler())])"
      ]
     },
     "execution_count": 7,
     "metadata": {},
     "output_type": "execute_result"
    }
   ],
   "source": [
    "def cat_encode(X, education=None, pdays=None):\n",
    "    \"\"\"Encode categorical data into numerical values.\n",
    "\n",
    "    education: if education is \"year\", education column will be encoded into years of eductaion.\n",
    "    pdays: if pdays is \"cut\", pdays column will be feature engineered and discretized.\n",
    "    \"\"\"\n",
    "    X = X.copy()\n",
    "    # If pdays is \"cut\", pdays column will be feature engineered and discretized.\n",
    "    if pdays == \"cut\":\n",
    "        X.loc[X[\"pdays\"].isna() & X[\"poutcome\"].notna(), \"pdays\"] = 999\n",
    "        X[\"pdays\"] = pd.cut(X[\"pdays\"], [0, 5, 10, 15, 30, 1000], labels=[1, 2, 3, 4, 5], include_lowest=True).astype(\"Int64\")\n",
    "    # Encode nominal and ordinal features\n",
    "    # `month` will be encoded to the corresponding number, e.g. \"mar\" -> 3.\n",
    "    month_map = {\"mar\": 3, \n",
    "                 \"apr\": 4, \n",
    "                 \"jun\": 5, \n",
    "                 \"jul\": 6, \n",
    "                 \"may\": 7, \n",
    "                 \"aug\": 8, \n",
    "                 \"sep\": 9, \n",
    "                 \"oct\": 10, \n",
    "                 \"nov\": 11, \n",
    "                 \"dec\": 12}\n",
    "    X[\"month\"] = X[\"month\"].replace(month_map).astype(\"int\")\n",
    "    # Other categorical features will be coded as its order in pandas categorical index\n",
    "    cat_features = [\"job\", \"education\", \"marital\", \"contact\", \"day_of_week\"]\n",
    "    bool_features = [\"default\", \"housing\", \"loan\", \"poutcome\"]\n",
    "    X[cat_features] = X[cat_features].apply(lambda x: x.cat.codes).astype(\"Int64\")\n",
    "    X[bool_features] = X[bool_features].astype(\"Int64\")\n",
    "    # Fill missing values as -1\n",
    "    X = X.fillna(-1)\n",
    "    # If education is \"year\", education column will be encoded into years of eductaion.\n",
    "    if education == \"year\":\n",
    "        education_map = { 0: 0, # illiterate\n",
    "                          1: 4, # basic.4y\n",
    "                          2: 6, # basic.6y\n",
    "                          3: 9, # basic.9y\n",
    "                          4: 12, # high.school\n",
    "                          5: 15, # professional course\n",
    "                          6: 16} # university\n",
    "        X[\"education\"] = X[\"education\"].replace(education_map)\n",
    "    return X\n",
    "\n",
    "cat_encoder = FunctionTransformer(cat_encode)\n",
    "\n",
    "cat_features = [\"job\", \"marital\", \"education\", \"default\", \"housing\", \"loan\", \"month\", \"day_of_week\", \"pdays\", \"poutcome\"]\n",
    "\n",
    "cat_transformer = ColumnTransformer([\n",
    "    (\"one_hot_encoder\", OneHotEncoder(drop=\"first\", sparse=False), cat_features)],\n",
    "    remainder=\"passthrough\")\n",
    "\n",
    "basic_preprocessor = Pipeline([\n",
    "    (\"cat_encoder\", cat_encoder),\n",
    "    (\"cat_transformer\", cat_transformer),\n",
    "    (\"scaler\", StandardScaler())\n",
    "])\n",
    "\n",
    "basic_preprocessor"
   ]
  },
  {
   "cell_type": "markdown",
   "metadata": {
    "cell_id": "00006-73d59ba8-50e9-4557-8ca0-800cb3b3ef65"
   },
   "source": [
    "## Handling Missing Data\n"
   ]
  },
  {
   "cell_type": "markdown",
   "metadata": {},
   "source": [
    "We have several strategies to handle the missing values. For categorical data, we can treat missing value as a different category (-1), which is done by `basic_proprocessor`. We can also impute them using `SimpleImputer` or `IterativeImputer`.\n",
    "\n",
    "`SimpleImputer` allows us to use simple strategies, such as mean value, to fill the missing values. In our case, because most of our missing values are categorical, it makes more sense to use the most frequent values. This strategy and the feature engineering on `pdays` will be applied on the `freq_preprocessor`.\n",
    "\n",
    "We can also try using machine learning algorithms to impute the missing values. In `sklearn`, this could be achived by an experimental `IterativeImputer`. Here we assume that client data is independent from contact and previous compaingn data. We will only use client basic data to impute missing values. This method along with the feature engineering on `pdays` will be demostrated by `ite_preprocessor`."
   ]
  },
  {
   "cell_type": "code",
   "execution_count": 8,
   "metadata": {},
   "outputs": [],
   "source": [
    "from sklearn.experimental import enable_iterative_imputer\n",
    "from sklearn.impute import IterativeImputer\n",
    "from sklearn.impute import SimpleImputer"
   ]
  },
  {
   "cell_type": "code",
   "execution_count": 9,
   "metadata": {},
   "outputs": [
    {
     "data": {
      "text/html": [
       "<style>div.sk-top-container {color: black;background-color: white;}div.sk-toggleable {background-color: white;}label.sk-toggleable__label {cursor: pointer;display: block;width: 100%;margin-bottom: 0;padding: 0.2em 0.3em;box-sizing: border-box;text-align: center;}div.sk-toggleable__content {max-height: 0;max-width: 0;overflow: hidden;text-align: left;background-color: #f0f8ff;}div.sk-toggleable__content pre {margin: 0.2em;color: black;border-radius: 0.25em;background-color: #f0f8ff;}input.sk-toggleable__control:checked~div.sk-toggleable__content {max-height: 200px;max-width: 100%;overflow: auto;}div.sk-estimator input.sk-toggleable__control:checked~label.sk-toggleable__label {background-color: #d4ebff;}div.sk-label input.sk-toggleable__control:checked~label.sk-toggleable__label {background-color: #d4ebff;}input.sk-hidden--visually {border: 0;clip: rect(1px 1px 1px 1px);clip: rect(1px, 1px, 1px, 1px);height: 1px;margin: -1px;overflow: hidden;padding: 0;position: absolute;width: 1px;}div.sk-estimator {font-family: monospace;background-color: #f0f8ff;margin: 0.25em 0.25em;border: 1px dotted black;border-radius: 0.25em;box-sizing: border-box;}div.sk-estimator:hover {background-color: #d4ebff;}div.sk-parallel-item::after {content: \"\";width: 100%;border-bottom: 1px solid gray;flex-grow: 1;}div.sk-label:hover label.sk-toggleable__label {background-color: #d4ebff;}div.sk-serial::before {content: \"\";position: absolute;border-left: 1px solid gray;box-sizing: border-box;top: 2em;bottom: 0;left: 50%;}div.sk-serial {display: flex;flex-direction: column;align-items: center;background-color: white;}div.sk-item {z-index: 1;}div.sk-parallel {display: flex;align-items: stretch;justify-content: center;background-color: white;}div.sk-parallel-item {display: flex;flex-direction: column;position: relative;background-color: white;}div.sk-parallel-item:first-child::after {align-self: flex-end;width: 50%;}div.sk-parallel-item:last-child::after {align-self: flex-start;width: 50%;}div.sk-parallel-item:only-child::after {width: 0;}div.sk-dashed-wrapped {border: 1px dashed gray;margin: 0.2em;box-sizing: border-box;padding-bottom: 0.1em;background-color: white;position: relative;}div.sk-label label {font-family: monospace;font-weight: bold;background-color: white;display: inline-block;line-height: 1.2em;}div.sk-label-container {position: relative;z-index: 2;text-align: center;}div.sk-container {display: inline-block;position: relative;}</style><div class=\"sk-top-container\"><div class=\"sk-container\"><div class=\"sk-item sk-dashed-wrapped\"><div class=\"sk-label-container\"><div class=\"sk-label sk-toggleable\"><input class=\"sk-toggleable__control sk-hidden--visually\" id=\"f7f0400e-704a-4cc0-a3a4-46f567aa5318\" type=\"checkbox\" ><label class=\"sk-toggleable__label\" for=\"f7f0400e-704a-4cc0-a3a4-46f567aa5318\">Pipeline</label><div class=\"sk-toggleable__content\"><pre>Pipeline(steps=[('cat_encoder',\n",
       "                 FunctionTransformer(func=<function cat_encode at 0x7fb2a064f940>,\n",
       "                                     kw_args={'pdays': 'cut'})),\n",
       "                ('cat_transformer',\n",
       "                 ColumnTransformer(remainder='passthrough',\n",
       "                                   transformers=[('freq_nom_imputer',\n",
       "                                                  Pipeline(steps=[('freq_imputer',\n",
       "                                                                   SimpleImputer(missing_values=-1,\n",
       "                                                                                 strategy='most_frequent')),\n",
       "                                                                  ('one_hot_encoder',\n",
       "                                                                   OneHotEncoder(drop='first',\n",
       "                                                                                 sparse=False))]),\n",
       "                                                  ['job', 'marital', 'default',\n",
       "                                                   'housing', 'loan']),\n",
       "                                                 ('freq_ord_imputer',\n",
       "                                                  Pipeline(steps=[('freq_imputer',\n",
       "                                                                   SimpleImputer(missing_values=-1,\n",
       "                                                                                 strategy='most_frequent'))]),\n",
       "                                                  ['education']),\n",
       "                                                 ('one_hot_encoder',\n",
       "                                                  OneHotEncoder(drop='first',\n",
       "                                                                sparse=False),\n",
       "                                                  ['pdays', 'poutcome'])])),\n",
       "                ('scaler', StandardScaler())])</pre></div></div></div><div class=\"sk-serial\"><div class=\"sk-item\"><div class=\"sk-estimator sk-toggleable\"><input class=\"sk-toggleable__control sk-hidden--visually\" id=\"fa5e764d-1cb6-4f0f-acea-672b6b03675c\" type=\"checkbox\" ><label class=\"sk-toggleable__label\" for=\"fa5e764d-1cb6-4f0f-acea-672b6b03675c\">FunctionTransformer</label><div class=\"sk-toggleable__content\"><pre>FunctionTransformer(func=<function cat_encode at 0x7fb2a064f940>,\n",
       "                    kw_args={'pdays': 'cut'})</pre></div></div></div><div class=\"sk-item sk-dashed-wrapped\"><div class=\"sk-label-container\"><div class=\"sk-label sk-toggleable\"><input class=\"sk-toggleable__control sk-hidden--visually\" id=\"b056008c-3db6-4ad3-bcba-0c5f4b67e6a7\" type=\"checkbox\" ><label class=\"sk-toggleable__label\" for=\"b056008c-3db6-4ad3-bcba-0c5f4b67e6a7\">cat_transformer: ColumnTransformer</label><div class=\"sk-toggleable__content\"><pre>ColumnTransformer(remainder='passthrough',\n",
       "                  transformers=[('freq_nom_imputer',\n",
       "                                 Pipeline(steps=[('freq_imputer',\n",
       "                                                  SimpleImputer(missing_values=-1,\n",
       "                                                                strategy='most_frequent')),\n",
       "                                                 ('one_hot_encoder',\n",
       "                                                  OneHotEncoder(drop='first',\n",
       "                                                                sparse=False))]),\n",
       "                                 ['job', 'marital', 'default', 'housing',\n",
       "                                  'loan']),\n",
       "                                ('freq_ord_imputer',\n",
       "                                 Pipeline(steps=[('freq_imputer',\n",
       "                                                  SimpleImputer(missing_values=-1,\n",
       "                                                                strategy='most_frequent'))]),\n",
       "                                 ['education']),\n",
       "                                ('one_hot_encoder',\n",
       "                                 OneHotEncoder(drop='first', sparse=False),\n",
       "                                 ['pdays', 'poutcome'])])</pre></div></div></div><div class=\"sk-parallel\"><div class=\"sk-parallel-item\"><div class=\"sk-item\"><div class=\"sk-label-container\"><div class=\"sk-label sk-toggleable\"><input class=\"sk-toggleable__control sk-hidden--visually\" id=\"e25e495f-65b0-46b9-8566-0c165bf9a167\" type=\"checkbox\" ><label class=\"sk-toggleable__label\" for=\"e25e495f-65b0-46b9-8566-0c165bf9a167\">freq_nom_imputer</label><div class=\"sk-toggleable__content\"><pre>['job', 'marital', 'default', 'housing', 'loan']</pre></div></div></div><div class=\"sk-serial\"><div class=\"sk-item\"><div class=\"sk-serial\"><div class=\"sk-item\"><div class=\"sk-estimator sk-toggleable\"><input class=\"sk-toggleable__control sk-hidden--visually\" id=\"7d7c0837-f5c2-40a1-b43e-6edfcd1e8495\" type=\"checkbox\" ><label class=\"sk-toggleable__label\" for=\"7d7c0837-f5c2-40a1-b43e-6edfcd1e8495\">SimpleImputer</label><div class=\"sk-toggleable__content\"><pre>SimpleImputer(missing_values=-1, strategy='most_frequent')</pre></div></div></div><div class=\"sk-item\"><div class=\"sk-estimator sk-toggleable\"><input class=\"sk-toggleable__control sk-hidden--visually\" id=\"9a41ae79-a3f0-4eda-97bd-650f8dcb3507\" type=\"checkbox\" ><label class=\"sk-toggleable__label\" for=\"9a41ae79-a3f0-4eda-97bd-650f8dcb3507\">OneHotEncoder</label><div class=\"sk-toggleable__content\"><pre>OneHotEncoder(drop='first', sparse=False)</pre></div></div></div></div></div></div></div></div><div class=\"sk-parallel-item\"><div class=\"sk-item\"><div class=\"sk-label-container\"><div class=\"sk-label sk-toggleable\"><input class=\"sk-toggleable__control sk-hidden--visually\" id=\"8c79383d-53d4-42c7-9a59-b6ecdad756c1\" type=\"checkbox\" ><label class=\"sk-toggleable__label\" for=\"8c79383d-53d4-42c7-9a59-b6ecdad756c1\">freq_ord_imputer</label><div class=\"sk-toggleable__content\"><pre>['education']</pre></div></div></div><div class=\"sk-serial\"><div class=\"sk-item\"><div class=\"sk-serial\"><div class=\"sk-item\"><div class=\"sk-estimator sk-toggleable\"><input class=\"sk-toggleable__control sk-hidden--visually\" id=\"d4319eed-5c6c-46c3-849f-dc86c28f161b\" type=\"checkbox\" ><label class=\"sk-toggleable__label\" for=\"d4319eed-5c6c-46c3-849f-dc86c28f161b\">SimpleImputer</label><div class=\"sk-toggleable__content\"><pre>SimpleImputer(missing_values=-1, strategy='most_frequent')</pre></div></div></div></div></div></div></div></div><div class=\"sk-parallel-item\"><div class=\"sk-item\"><div class=\"sk-label-container\"><div class=\"sk-label sk-toggleable\"><input class=\"sk-toggleable__control sk-hidden--visually\" id=\"b57c618c-343f-4560-a2e3-f5f461786a86\" type=\"checkbox\" ><label class=\"sk-toggleable__label\" for=\"b57c618c-343f-4560-a2e3-f5f461786a86\">one_hot_encoder</label><div class=\"sk-toggleable__content\"><pre>['pdays', 'poutcome']</pre></div></div></div><div class=\"sk-serial\"><div class=\"sk-item\"><div class=\"sk-estimator sk-toggleable\"><input class=\"sk-toggleable__control sk-hidden--visually\" id=\"e17b8844-ca83-4a7c-abb7-889ce4a2b1e8\" type=\"checkbox\" ><label class=\"sk-toggleable__label\" for=\"e17b8844-ca83-4a7c-abb7-889ce4a2b1e8\">OneHotEncoder</label><div class=\"sk-toggleable__content\"><pre>OneHotEncoder(drop='first', sparse=False)</pre></div></div></div></div></div></div></div></div><div class=\"sk-item\"><div class=\"sk-estimator sk-toggleable\"><input class=\"sk-toggleable__control sk-hidden--visually\" id=\"86121ffe-9fba-4d16-af5c-9dfae6159222\" type=\"checkbox\" ><label class=\"sk-toggleable__label\" for=\"86121ffe-9fba-4d16-af5c-9dfae6159222\">StandardScaler</label><div class=\"sk-toggleable__content\"><pre>StandardScaler()</pre></div></div></div></div></div></div></div>"
      ],
      "text/plain": [
       "Pipeline(steps=[('cat_encoder',\n",
       "                 FunctionTransformer(func=<function cat_encode at 0x7fb2a064f940>,\n",
       "                                     kw_args={'pdays': 'cut'})),\n",
       "                ('cat_transformer',\n",
       "                 ColumnTransformer(remainder='passthrough',\n",
       "                                   transformers=[('freq_nom_imputer',\n",
       "                                                  Pipeline(steps=[('freq_imputer',\n",
       "                                                                   SimpleImputer(missing_values=-1,\n",
       "                                                                                 strategy='most_frequent')),\n",
       "                                                                  ('one_hot_encoder',\n",
       "                                                                   OneHotEncoder(drop='first',\n",
       "                                                                                 sparse=False))]),\n",
       "                                                  ['job', 'marital', 'default',\n",
       "                                                   'housing', 'loan']),\n",
       "                                                 ('freq_ord_imputer',\n",
       "                                                  Pipeline(steps=[('freq_imputer',\n",
       "                                                                   SimpleImputer(missing_values=-1,\n",
       "                                                                                 strategy='most_frequent'))]),\n",
       "                                                  ['education']),\n",
       "                                                 ('one_hot_encoder',\n",
       "                                                  OneHotEncoder(drop='first',\n",
       "                                                                sparse=False),\n",
       "                                                  ['pdays', 'poutcome'])])),\n",
       "                ('scaler', StandardScaler())])"
      ]
     },
     "execution_count": 9,
     "metadata": {},
     "output_type": "execute_result"
    }
   ],
   "source": [
    "cat_features = [\"job\", \"marital\", \"education\", \"default\", \"housing\", \"loan\", \"pdays\", \"poutcome\"]\n",
    "\n",
    "freq_nom_features = [\"job\", \"marital\", \"default\", \"housing\", \"loan\"]\n",
    "\n",
    "freq_ord_features = [\"education\"]\n",
    "\n",
    "one_hot_features = [i for i in cat_features if i not in freq_nom_features and i not in freq_ord_features]\n",
    "\n",
    "cat_encoder = FunctionTransformer(cat_encode, kw_args={\"pdays\":\"cut\"})\n",
    "\n",
    "freq_nom_imputer = Pipeline([\n",
    "    (\"freq_imputer\", SimpleImputer(missing_values=-1, strategy=\"most_frequent\")),\n",
    "    (\"one_hot_encoder\", OneHotEncoder(drop=\"first\", sparse=False))\n",
    "])\n",
    "\n",
    "freq_ord_imputer = Pipeline([\n",
    "    (\"freq_imputer\", SimpleImputer(missing_values=-1, strategy=\"most_frequent\"))\n",
    "])\n",
    "\n",
    "cat_transformer = ColumnTransformer([\n",
    "    (\"freq_nom_imputer\", freq_nom_imputer, freq_nom_features),\n",
    "    (\"freq_ord_imputer\", freq_ord_imputer, freq_ord_features),\n",
    "    (\"one_hot_encoder\", OneHotEncoder(drop=\"first\", sparse=False), one_hot_features)],\n",
    "    remainder=\"passthrough\")\n",
    "\n",
    "freq_preprocessor = Pipeline([\n",
    "    (\"cat_encoder\", cat_encoder),\n",
    "    (\"cat_transformer\", cat_transformer),\n",
    "    (\"scaler\", StandardScaler())\n",
    "])\n",
    "\n",
    "freq_preprocessor"
   ]
  },
  {
   "cell_type": "code",
   "execution_count": 10,
   "metadata": {},
   "outputs": [
    {
     "data": {
      "text/html": [
       "<style>div.sk-top-container {color: black;background-color: white;}div.sk-toggleable {background-color: white;}label.sk-toggleable__label {cursor: pointer;display: block;width: 100%;margin-bottom: 0;padding: 0.2em 0.3em;box-sizing: border-box;text-align: center;}div.sk-toggleable__content {max-height: 0;max-width: 0;overflow: hidden;text-align: left;background-color: #f0f8ff;}div.sk-toggleable__content pre {margin: 0.2em;color: black;border-radius: 0.25em;background-color: #f0f8ff;}input.sk-toggleable__control:checked~div.sk-toggleable__content {max-height: 200px;max-width: 100%;overflow: auto;}div.sk-estimator input.sk-toggleable__control:checked~label.sk-toggleable__label {background-color: #d4ebff;}div.sk-label input.sk-toggleable__control:checked~label.sk-toggleable__label {background-color: #d4ebff;}input.sk-hidden--visually {border: 0;clip: rect(1px 1px 1px 1px);clip: rect(1px, 1px, 1px, 1px);height: 1px;margin: -1px;overflow: hidden;padding: 0;position: absolute;width: 1px;}div.sk-estimator {font-family: monospace;background-color: #f0f8ff;margin: 0.25em 0.25em;border: 1px dotted black;border-radius: 0.25em;box-sizing: border-box;}div.sk-estimator:hover {background-color: #d4ebff;}div.sk-parallel-item::after {content: \"\";width: 100%;border-bottom: 1px solid gray;flex-grow: 1;}div.sk-label:hover label.sk-toggleable__label {background-color: #d4ebff;}div.sk-serial::before {content: \"\";position: absolute;border-left: 1px solid gray;box-sizing: border-box;top: 2em;bottom: 0;left: 50%;}div.sk-serial {display: flex;flex-direction: column;align-items: center;background-color: white;}div.sk-item {z-index: 1;}div.sk-parallel {display: flex;align-items: stretch;justify-content: center;background-color: white;}div.sk-parallel-item {display: flex;flex-direction: column;position: relative;background-color: white;}div.sk-parallel-item:first-child::after {align-self: flex-end;width: 50%;}div.sk-parallel-item:last-child::after {align-self: flex-start;width: 50%;}div.sk-parallel-item:only-child::after {width: 0;}div.sk-dashed-wrapped {border: 1px dashed gray;margin: 0.2em;box-sizing: border-box;padding-bottom: 0.1em;background-color: white;position: relative;}div.sk-label label {font-family: monospace;font-weight: bold;background-color: white;display: inline-block;line-height: 1.2em;}div.sk-label-container {position: relative;z-index: 2;text-align: center;}div.sk-container {display: inline-block;position: relative;}</style><div class=\"sk-top-container\"><div class=\"sk-container\"><div class=\"sk-item sk-dashed-wrapped\"><div class=\"sk-label-container\"><div class=\"sk-label sk-toggleable\"><input class=\"sk-toggleable__control sk-hidden--visually\" id=\"eda571cd-926c-45b7-9a5c-252aa8c4dd25\" type=\"checkbox\" ><label class=\"sk-toggleable__label\" for=\"eda571cd-926c-45b7-9a5c-252aa8c4dd25\">Pipeline</label><div class=\"sk-toggleable__content\"><pre>Pipeline(steps=[('cat_transformer',\n",
       "                 FunctionTransformer(func=<function cat_encode at 0x7fb2a064f940>,\n",
       "                                     kw_args={'pdays': 'cut'})),\n",
       "                ('ite_transformer',\n",
       "                 ColumnTransformer(remainder='passthrough',\n",
       "                                   transformers=[('ite_imputer',\n",
       "                                                  Pipeline(steps=[('ite_imputer',\n",
       "                                                                   IterativeImputer(initial_strategy='most_frequent',\n",
       "                                                                                    max_iter=100,\n",
       "                                                                                    missing_values=-1,\n",
       "                                                                                    random_state=42)),\n",
       "                                                                  ('ite_round',\n",
       "                                                                   FunctionTransformer(func=<function round_ at 0x7fb310da33a0>))]),\n",
       "                                                  ['age', 'job', 'marital',\n",
       "                                                   'education', 'default',\n",
       "                                                   'housing', 'loan'])])),\n",
       "                ('one_hot_encoder',\n",
       "                 ColumnTransformer(remainder='passthrough',\n",
       "                                   transformers=[('one_hot_encoder',\n",
       "                                                  OneHotEncoder(drop='first',\n",
       "                                                                sparse=False),\n",
       "                                                  [1, 2, 11, 13])])),\n",
       "                ('scaler', StandardScaler())])</pre></div></div></div><div class=\"sk-serial\"><div class=\"sk-item\"><div class=\"sk-estimator sk-toggleable\"><input class=\"sk-toggleable__control sk-hidden--visually\" id=\"749d731b-ac78-4814-a789-c2ce124ffc92\" type=\"checkbox\" ><label class=\"sk-toggleable__label\" for=\"749d731b-ac78-4814-a789-c2ce124ffc92\">FunctionTransformer</label><div class=\"sk-toggleable__content\"><pre>FunctionTransformer(func=<function cat_encode at 0x7fb2a064f940>,\n",
       "                    kw_args={'pdays': 'cut'})</pre></div></div></div><div class=\"sk-item sk-dashed-wrapped\"><div class=\"sk-label-container\"><div class=\"sk-label sk-toggleable\"><input class=\"sk-toggleable__control sk-hidden--visually\" id=\"3b33a0e2-d4aa-468d-8292-666546414d6e\" type=\"checkbox\" ><label class=\"sk-toggleable__label\" for=\"3b33a0e2-d4aa-468d-8292-666546414d6e\">ite_transformer: ColumnTransformer</label><div class=\"sk-toggleable__content\"><pre>ColumnTransformer(remainder='passthrough',\n",
       "                  transformers=[('ite_imputer',\n",
       "                                 Pipeline(steps=[('ite_imputer',\n",
       "                                                  IterativeImputer(initial_strategy='most_frequent',\n",
       "                                                                   max_iter=100,\n",
       "                                                                   missing_values=-1,\n",
       "                                                                   random_state=42)),\n",
       "                                                 ('ite_round',\n",
       "                                                  FunctionTransformer(func=<function round_ at 0x7fb310da33a0>))]),\n",
       "                                 ['age', 'job', 'marital', 'education',\n",
       "                                  'default', 'housing', 'loan'])])</pre></div></div></div><div class=\"sk-parallel\"><div class=\"sk-parallel-item\"><div class=\"sk-item\"><div class=\"sk-label-container\"><div class=\"sk-label sk-toggleable\"><input class=\"sk-toggleable__control sk-hidden--visually\" id=\"1bf06987-3249-4d62-914f-945bd5955bac\" type=\"checkbox\" ><label class=\"sk-toggleable__label\" for=\"1bf06987-3249-4d62-914f-945bd5955bac\">ite_imputer</label><div class=\"sk-toggleable__content\"><pre>['age', 'job', 'marital', 'education', 'default', 'housing', 'loan']</pre></div></div></div><div class=\"sk-serial\"><div class=\"sk-item\"><div class=\"sk-serial\"><div class=\"sk-item\"><div class=\"sk-estimator sk-toggleable\"><input class=\"sk-toggleable__control sk-hidden--visually\" id=\"f028e20e-4cf1-41f7-8d75-95b640ec0280\" type=\"checkbox\" ><label class=\"sk-toggleable__label\" for=\"f028e20e-4cf1-41f7-8d75-95b640ec0280\">IterativeImputer</label><div class=\"sk-toggleable__content\"><pre>IterativeImputer(initial_strategy='most_frequent', max_iter=100,\n",
       "                 missing_values=-1, random_state=42)</pre></div></div></div><div class=\"sk-item\"><div class=\"sk-estimator sk-toggleable\"><input class=\"sk-toggleable__control sk-hidden--visually\" id=\"c1b2e689-4d98-4504-bb36-f5b49751d2b5\" type=\"checkbox\" ><label class=\"sk-toggleable__label\" for=\"c1b2e689-4d98-4504-bb36-f5b49751d2b5\">FunctionTransformer</label><div class=\"sk-toggleable__content\"><pre>FunctionTransformer(func=<function round_ at 0x7fb310da33a0>)</pre></div></div></div></div></div></div></div></div></div></div><div class=\"sk-item sk-dashed-wrapped\"><div class=\"sk-label-container\"><div class=\"sk-label sk-toggleable\"><input class=\"sk-toggleable__control sk-hidden--visually\" id=\"b06a164b-0acd-482b-a7e6-84ca8ca2eae5\" type=\"checkbox\" ><label class=\"sk-toggleable__label\" for=\"b06a164b-0acd-482b-a7e6-84ca8ca2eae5\">one_hot_encoder: ColumnTransformer</label><div class=\"sk-toggleable__content\"><pre>ColumnTransformer(remainder='passthrough',\n",
       "                  transformers=[('one_hot_encoder',\n",
       "                                 OneHotEncoder(drop='first', sparse=False),\n",
       "                                 [1, 2, 11, 13])])</pre></div></div></div><div class=\"sk-parallel\"><div class=\"sk-parallel-item\"><div class=\"sk-item\"><div class=\"sk-label-container\"><div class=\"sk-label sk-toggleable\"><input class=\"sk-toggleable__control sk-hidden--visually\" id=\"ec6a6e48-a273-472e-b3a6-aaf7df6b3e47\" type=\"checkbox\" ><label class=\"sk-toggleable__label\" for=\"ec6a6e48-a273-472e-b3a6-aaf7df6b3e47\">one_hot_encoder</label><div class=\"sk-toggleable__content\"><pre>[1, 2, 11, 13]</pre></div></div></div><div class=\"sk-serial\"><div class=\"sk-item\"><div class=\"sk-estimator sk-toggleable\"><input class=\"sk-toggleable__control sk-hidden--visually\" id=\"8f925f43-d8c7-43c0-b078-bc4bfa2c62b2\" type=\"checkbox\" ><label class=\"sk-toggleable__label\" for=\"8f925f43-d8c7-43c0-b078-bc4bfa2c62b2\">OneHotEncoder</label><div class=\"sk-toggleable__content\"><pre>OneHotEncoder(drop='first', sparse=False)</pre></div></div></div></div></div></div></div></div><div class=\"sk-item\"><div class=\"sk-estimator sk-toggleable\"><input class=\"sk-toggleable__control sk-hidden--visually\" id=\"eb413383-f8c4-4545-86e9-793da54ccaf3\" type=\"checkbox\" ><label class=\"sk-toggleable__label\" for=\"eb413383-f8c4-4545-86e9-793da54ccaf3\">StandardScaler</label><div class=\"sk-toggleable__content\"><pre>StandardScaler()</pre></div></div></div></div></div></div></div>"
      ],
      "text/plain": [
       "Pipeline(steps=[('cat_transformer',\n",
       "                 FunctionTransformer(func=<function cat_encode at 0x7fb2a064f940>,\n",
       "                                     kw_args={'pdays': 'cut'})),\n",
       "                ('ite_transformer',\n",
       "                 ColumnTransformer(remainder='passthrough',\n",
       "                                   transformers=[('ite_imputer',\n",
       "                                                  Pipeline(steps=[('ite_imputer',\n",
       "                                                                   IterativeImputer(initial_strategy='most_frequent',\n",
       "                                                                                    max_iter=100,\n",
       "                                                                                    missing_values=-1,\n",
       "                                                                                    random_state=42)),\n",
       "                                                                  ('ite_round',\n",
       "                                                                   FunctionTransformer(func=<function round_ at 0x7fb310da33a0>))]),\n",
       "                                                  ['age', 'job', 'marital',\n",
       "                                                   'education', 'default',\n",
       "                                                   'housing', 'loan'])])),\n",
       "                ('one_hot_encoder',\n",
       "                 ColumnTransformer(remainder='passthrough',\n",
       "                                   transformers=[('one_hot_encoder',\n",
       "                                                  OneHotEncoder(drop='first',\n",
       "                                                                sparse=False),\n",
       "                                                  [1, 2, 11, 13])])),\n",
       "                ('scaler', StandardScaler())])"
      ]
     },
     "execution_count": 10,
     "metadata": {},
     "output_type": "execute_result"
    }
   ],
   "source": [
    "cat_transformer = FunctionTransformer(cat_encode, kw_args={\"pdays\":\"cut\"})\n",
    "\n",
    "ite_features = [\"age\", \"job\", \"marital\", \"education\", \"default\", \"housing\", \"loan\"]\n",
    "\n",
    "one_hot_features = [1, 2, 11, 13] # [\"job\", \"marital\", \"pdays\", \"poutcome\"]\n",
    "\n",
    "ite_imputer = Pipeline([\n",
    "    (\"ite_imputer\", IterativeImputer(max_iter=100, missing_values=-1, initial_strategy=\"most_frequent\", random_state=42)),\n",
    "    (\"ite_round\", FunctionTransformer(np.round))\n",
    "])\n",
    "\n",
    "ite_transformer = ColumnTransformer([(\"ite_imputer\", ite_imputer, ite_features)], remainder=\"passthrough\")\n",
    "\n",
    "one_hot_encoder = ColumnTransformer([(\"one_hot_encoder\", OneHotEncoder(drop=\"first\", sparse=False), one_hot_features)], remainder=\"passthrough\")\n",
    "\n",
    "ite_preprocessor = Pipeline([\n",
    "    (\"cat_transformer\", cat_transformer),\n",
    "    (\"ite_transformer\", ite_transformer),\n",
    "    (\"one_hot_encoder\", one_hot_encoder),\n",
    "    (\"scaler\", StandardScaler())\n",
    "])\n",
    "\n",
    "ite_preprocessor"
   ]
  }
 ],
 "metadata": {
  "deepnote_execution_queue": [],
  "deepnote_notebook_id": "888ca87c-c3cf-496e-9202-20738582021d",
  "kernelspec": {
   "display_name": "Python 3",
   "language": "python",
   "name": "python3"
  },
  "language_info": {
   "codemirror_mode": {
    "name": "ipython",
    "version": 3
   },
   "file_extension": ".py",
   "mimetype": "text/x-python",
   "name": "python",
   "nbconvert_exporter": "python",
   "pygments_lexer": "ipython3",
   "version": "3.8.6"
  }
 },
 "nbformat": 4,
 "nbformat_minor": 4
}
