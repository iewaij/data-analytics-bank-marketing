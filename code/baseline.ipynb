{
 "cells": [
  {
   "cell_type": "code",
   "execution_count": 3,
   "metadata": {},
   "outputs": [
    {
     "output_type": "execute_result",
     "data": {
      "text/plain": "fit_time          0.059709\nscore_time        0.015532\ntest_f1           0.428933\ntrain_f1          0.430663\ntest_accuracy     0.870788\ntrain_accuracy    0.870891\ndtype: float64"
     },
     "metadata": {},
     "execution_count": 3
    }
   ],
   "source": [
    "import numpy as np\n",
    "import pandas as pd\n",
    "from sklearn import preprocessing\n",
    "from sklearn.model_selection import cross_validate\n",
    "from sklearn import tree\n",
    "from sklearn.naive_bayes import GaussianNB\n",
    "from sklearn.ensemble import RandomForestClassifier\n",
    "\n",
    "def import_dataset(filename):\n",
    "    bank_mkt = pd.read_csv(filename,\n",
    "                           na_values=[\"unknown\", \"nonexistent\"],\n",
    "                           true_values=[\"yes\", \"success\"],\n",
    "                           false_values=[\"no\", \"failure\"])\n",
    "    # Treat pdays = 999 as missing values\n",
    "    bank_mkt[\"pdays\"] = bank_mkt[\"pdays\"].replace(999, np.nan)\n",
    "    # Convert types, \"Int64\" is nullable integer data type in pandas\n",
    "    bank_mkt = bank_mkt.astype(dtype={\"age\": \"Int64\",\n",
    "                                      \"job\": \"category\",\n",
    "                                      \"marital\": \"category\",\n",
    "                                      \"education\": \"category\",\n",
    "                                      \"default\": \"boolean\",\n",
    "                                      \"housing\": \"boolean\",\n",
    "                                      \"loan\": \"boolean\",\n",
    "                                      \"contact\": \"category\",\n",
    "                                      \"month\": \"category\",\n",
    "                                      \"day_of_week\": \"category\",\n",
    "                                      \"duration\": \"Int64\",\n",
    "                                      \"campaign\": \"Int64\",\n",
    "                                      \"pdays\": \"Int64\",\n",
    "                                      \"previous\": \"Int64\",\n",
    "                                      \"poutcome\": \"boolean\",\n",
    "                                      \"y\": \"boolean\"})\n",
    "    return bank_mkt\n",
    "\n",
    "def fill_unknown(df, feature_list):\n",
    "    df = df.copy()\n",
    "    for feature in feature_list:\n",
    "        if pd.api.types.is_categorical_dtype(df[feature]):\n",
    "            df[feature] = df[feature].cat.add_categories(\"unknown\")\n",
    "            df[feature] = df[feature].fillna(\"unknown\")\n",
    "        elif pd.api.types.is_bool_dtype(bank_mkt[feature]):\n",
    "            df[feature] = df[feature].astype(\"category\")\n",
    "            df[feature] = df[feature].cat.add_categories(\"unknown\")\n",
    "            df[feature] = df[feature].fillna(\"unknown\")\n",
    "    return df\n",
    "\n",
    "def min_max_scale(df):\n",
    "    min_max_scaler = preprocessing.MinMaxScaler()\n",
    "    min_max_scaler.fit_transform(df.select_dtypes(\"number\"))\n",
    "    \n",
    "def baseline_benchmark(df):\n",
    "    \"\"\"\n",
    "    Feed transfromed dataframe with no missing values.\n",
    "    \"\"\"\n",
    "    shuffled_df = df.sample(frac=1).reset_index(drop=True)\n",
    "    bank_x = shuffled_df.drop([\"duration\", \"y\"], axis=1)\n",
    "    min_max_scale(bank_x)\n",
    "    bank_x = pd.get_dummies(bank_x, drop_first=True).values\n",
    "    bank_y = shuffled_df[\"y\"].astype(int).values\n",
    "    nb_model = GaussianNB()\n",
    "    tree_clf = tree.DecisionTreeClassifier(class_weight=\"balanced\")\n",
    "    rf_clf = RandomForestClassifier(class_weight=\"balanced\")\n",
    "    scoring = [\"f1\", \"accuracy\"]\n",
    "    scores = cross_validate(nb_model, bank_x, bank_y, scoring=scoring, cv=5, return_train_score=True)\n",
    "    result = pd.DataFrame(scores)\n",
    "    return result.mean()\n",
    "\n",
    "bank_mkt = import_dataset(\"../data/BankMarketing.csv\")\n",
    "category_list = [\"marital\", \"education\", \"default\", \"job\", \"housing\", \"loan\"]\n",
    "bank_mkt = fill_unknown(bank_mkt, category_list)\n",
    "bank_mkt[\"pdays\"] = bank_mkt[\"pdays\"].fillna(999)\n",
    "bank_mkt[\"poutcome\"] = bank_mkt[\"poutcome\"].fillna(False)\n",
    "result = baseline_benchmark(bank_mkt)\n",
    "result"
   ]
  },
  {
   "cell_type": "code",
   "execution_count": null,
   "metadata": {},
   "outputs": [],
   "source": []
  }
 ],
 "metadata": {
  "kernelspec": {
   "display_name": "Python 3",
   "language": "python",
   "name": "python3"
  },
  "language_info": {
   "codemirror_mode": {
    "name": "ipython",
    "version": 3
   },
   "file_extension": ".py",
   "mimetype": "text/x-python",
   "name": "python",
   "nbconvert_exporter": "python",
   "pygments_lexer": "ipython3",
   "version": "3.8.5"
  }
 },
 "nbformat": 4,
 "nbformat_minor": 4
}