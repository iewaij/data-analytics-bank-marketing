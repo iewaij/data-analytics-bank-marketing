{
 "cells": [
  {
   "cell_type": "markdown",
   "metadata": {
    "heading_collapsed": true
   },
   "source": [
    "# Uknown as Unknown"
   ]
  },
  {
   "cell_type": "markdown",
   "metadata": {
    "heading_collapsed": true,
    "hidden": true
   },
   "source": [
    "## Binary p-days"
   ]
  },
  {
   "cell_type": "code",
   "execution_count": 15,
   "metadata": {
    "hidden": true
   },
   "outputs": [
    {
     "data": {
      "text/plain": [
       "(41188, 21)"
      ]
     },
     "execution_count": 15,
     "metadata": {},
     "output_type": "execute_result"
    }
   ],
   "source": [
    "import numpy as np\n",
    "import pandas as pd\n",
    "from sklearn import preprocessing\n",
    "from sklearn.model_selection import cross_validate\n",
    "from sklearn import tree\n",
    "from sklearn.naive_bayes import GaussianNB\n",
    "from sklearn.ensemble import RandomForestClassifier\n",
    "bank_mkt = pd.read_csv(\"/Users/alex/Desktop/ML/Group Project/BankMarketing.csv\",\n",
    "                       dtype = {  \"job\": \"category\",\n",
    "                                  \"marital\": \"category\",\n",
    "                                  \"education\": \"category\",\n",
    "                                  \"default\": \"category\",\n",
    "                                  \"housing\": \"category\",\n",
    "                                  \"loan\": \"category\",\n",
    "                                  \"contact\": \"category\",\n",
    "                                  \"month\": \"category\",\n",
    "                                  \"day_of_week\": \"category\",\n",
    "                                  \"poutcome\": \"category\",\n",
    "                                  \"y\": \"category\",})\n",
    "bank_mkt.shape"
   ]
  },
  {
   "cell_type": "code",
   "execution_count": 16,
   "metadata": {
    "hidden": true
   },
   "outputs": [],
   "source": [
    "from sklearn.preprocessing import Binarizer\n",
    "X = np.array(bank_mkt['pdays'])\n",
    "pdays_new = Binarizer(threshold = 30).transform(X.reshape(-1,1))\n",
    "bank_mkt['pdays_new'] = pdays_new\n"
   ]
  },
  {
   "cell_type": "code",
   "execution_count": 17,
   "metadata": {
    "hidden": true
   },
   "outputs": [],
   "source": [
    "bank_mkt1 = bank_mkt.drop(columns=['duration','pdays'])"
   ]
  },
  {
   "cell_type": "code",
   "execution_count": 18,
   "metadata": {
    "hidden": true
   },
   "outputs": [],
   "source": [
    "bank_mkt1 = pd.get_dummies(bank_mkt1, columns =['job', 'marital', 'education', 'default', 'housing', 'loan','contact', 'month', 'day_of_week','poutcome'], drop_first=True)"
   ]
  },
  {
   "cell_type": "code",
   "execution_count": 19,
   "metadata": {
    "hidden": true
   },
   "outputs": [],
   "source": [
    "from sklearn import preprocessing\n",
    "nscaler = preprocessing.MinMaxScaler()\n",
    "bank_mkt1[['age','campaign','previous','emp.var.rate','cons.price.idx','cons.conf.idx','euribor3m','nr.employed']] = nscaler.fit_transform(bank_mkt1[['age','campaign','previous','emp.var.rate','cons.price.idx','cons.conf.idx','euribor3m','nr.employed']])"
   ]
  },
  {
   "cell_type": "code",
   "execution_count": 24,
   "metadata": {
    "hidden": true
   },
   "outputs": [],
   "source": [
    "bank_mkt1['y'] = bank_mkt1['y'].replace(to_replace=['no', 'yes'], value=[0, 1])"
   ]
  },
  {
   "cell_type": "code",
   "execution_count": 25,
   "metadata": {
    "hidden": true
   },
   "outputs": [],
   "source": [
    "def baseline_benchmark(df):\n",
    "    \"\"\"\n",
    "    Feed transfromed dataframe with no missing values.\n",
    "    \"\"\"\n",
    "    shuffled_df = df.sample(frac=1).reset_index(drop=True)\n",
    "    bank_x = shuffled_df.drop([\"y\"], axis=1)\n",
    "    #min_max_scale(bank_x)\n",
    "    bank_x = pd.get_dummies(bank_x, drop_first=True).values\n",
    "    bank_y = shuffled_df[\"y\"].astype(int).values\n",
    "    nb_model = GaussianNB()\n",
    "    tree_clf = tree.DecisionTreeClassifier(class_weight=\"balanced\")\n",
    "    rf_clf = RandomForestClassifier(class_weight=\"balanced\")\n",
    "    scoring = [\"f1\", \"accuracy\"]\n",
    "    scores = cross_validate(nb_model, bank_x, bank_y, scoring=scoring, cv=5, return_train_score=True)\n",
    "    result = pd.DataFrame(scores)\n",
    "    return result.mean()"
   ]
  },
  {
   "cell_type": "code",
   "execution_count": 26,
   "metadata": {
    "hidden": true,
    "scrolled": true
   },
   "outputs": [
    {
     "data": {
      "text/plain": [
       "fit_time          0.032213\n",
       "score_time        0.010209\n",
       "test_f1           0.416717\n",
       "train_f1          0.416229\n",
       "test_accuracy     0.816136\n",
       "train_accuracy    0.815887\n",
       "dtype: float64"
      ]
     },
     "execution_count": 26,
     "metadata": {},
     "output_type": "execute_result"
    }
   ],
   "source": [
    "baseline_benchmark(bank_mkt1)"
   ]
  },
  {
   "cell_type": "markdown",
   "metadata": {
    "heading_collapsed": true,
    "hidden": true
   },
   "source": [
    "##  5 -- 15 -- 999 Pdays"
   ]
  },
  {
   "cell_type": "code",
   "execution_count": 27,
   "metadata": {
    "hidden": true
   },
   "outputs": [],
   "source": [
    "import numpy as np\n",
    "import pandas as pd\n",
    "from sklearn import preprocessing\n",
    "from sklearn.model_selection import cross_validate\n",
    "from sklearn import tree\n",
    "from sklearn.naive_bayes import GaussianNB\n",
    "from sklearn.ensemble import RandomForestClassifier\n",
    "bank_mkt_1= pd.read_csv(\"/Users/alex/Desktop/ML/Group Project/BankMarketing.csv\",\n",
    "                       dtype = {  \"job\": \"category\",\n",
    "                                  \"marital\": \"category\",\n",
    "                                  \"education\": \"category\",\n",
    "                                  \"default\": \"category\",\n",
    "                                  \"housing\": \"category\",\n",
    "                                  \"loan\": \"category\",\n",
    "                                  \"contact\": \"category\",\n",
    "                                  \"month\": \"category\",\n",
    "                                  \"day_of_week\": \"category\",\n",
    "                                  \"poutcome\": \"category\",\n",
    "                                  \"y\": \"category\",})"
   ]
  },
  {
   "cell_type": "code",
   "execution_count": 28,
   "metadata": {
    "hidden": true
   },
   "outputs": [],
   "source": [
    "bank_mkt_1['pdays_missing'] = 0\n",
    "bank_mkt_1['pdays_less_5'] = 0\n",
    "bank_mkt_1['pdays_bet_5_15'] = 0\n",
    "bank_mkt_1['pdays_greater_15'] = 0\n",
    "bank_mkt_1.loc[bank_mkt_1['pdays'] == 999,'pdays_missing'] = 1\n",
    "bank_mkt_1.loc[bank_mkt_1['pdays'] <= 5,'pdays_less_5'] = 1\n",
    "bank_mkt_1.loc[(bank_mkt_1['pdays'] < 999) &(bank_mkt_1['pdays'] > 15),'pdays_greater_15'] = 1\n",
    "bank_mkt_1.loc[(bank_mkt_1['pdays'] <= 15) &(bank_mkt_1['pdays'] > 5),'pdays'] = 1"
   ]
  },
  {
   "cell_type": "code",
   "execution_count": 29,
   "metadata": {
    "hidden": true
   },
   "outputs": [],
   "source": [
    "bank_mkt_1 =bank_mkt_1.drop(columns=['duration','pdays','pdays_less_5'])\n",
    "bank_mkt_1= pd.get_dummies(bank_mkt_1,columns =['job', 'marital', 'education', 'default', 'housing', 'loan',\n",
    "       'contact', 'month', 'day_of_week','poutcome'],drop_first=True)"
   ]
  },
  {
   "cell_type": "code",
   "execution_count": 30,
   "metadata": {
    "hidden": true
   },
   "outputs": [],
   "source": [
    "from sklearn import preprocessing\n",
    "nscaler = preprocessing.MinMaxScaler()\n",
    "bank_mkt_1[['age','campaign','previous','emp.var.rate','cons.price.idx','cons.conf.idx','euribor3m','nr.employed']] = nscaler.fit_transform(bank_mkt_1[['age','campaign','previous','emp.var.rate','cons.price.idx','cons.conf.idx','euribor3m','nr.employed']])"
   ]
  },
  {
   "cell_type": "code",
   "execution_count": 31,
   "metadata": {
    "hidden": true
   },
   "outputs": [],
   "source": [
    "bank_mkt_1['y']= bank_mkt_1['y'].replace(to_replace=['no', 'yes'], value=[0, 1])"
   ]
  },
  {
   "cell_type": "code",
   "execution_count": 32,
   "metadata": {
    "hidden": true
   },
   "outputs": [],
   "source": [
    "def baseline_benchmark(df):\n",
    "    \"\"\"\n",
    "    Feed transfromed dataframe with no missing values.\n",
    "    \"\"\"\n",
    "    shuffled_df = df.sample(frac=1).reset_index(drop=True)\n",
    "    bank_x = shuffled_df.drop([\"y\"], axis=1)\n",
    "    #min_max_scale(bank_x)\n",
    "    bank_x = pd.get_dummies(bank_x, drop_first=True).values\n",
    "    bank_y = shuffled_df[\"y\"].astype(int).values\n",
    "    nb_model = GaussianNB()\n",
    "    tree_clf = tree.DecisionTreeClassifier(class_weight=\"balanced\")\n",
    "    rf_clf = RandomForestClassifier(class_weight=\"balanced\")\n",
    "    scoring = [\"f1\", \"accuracy\"]\n",
    "    scores = cross_validate(nb_model, bank_x, bank_y, scoring=scoring, cv=5, return_train_score=True)\n",
    "    result = pd.DataFrame(scores)\n",
    "    return result.mean()"
   ]
  },
  {
   "cell_type": "code",
   "execution_count": 33,
   "metadata": {
    "hidden": true
   },
   "outputs": [
    {
     "data": {
      "text/plain": [
       "fit_time          0.033822\n",
       "score_time        0.010663\n",
       "test_f1           0.411710\n",
       "train_f1          0.415056\n",
       "test_accuracy     0.828761\n",
       "train_accuracy    0.829562\n",
       "dtype: float64"
      ]
     },
     "execution_count": 33,
     "metadata": {},
     "output_type": "execute_result"
    }
   ],
   "source": [
    "baseline_benchmark(bank_mkt_1)"
   ]
  },
  {
   "cell_type": "markdown",
   "metadata": {
    "heading_collapsed": true,
    "hidden": true
   },
   "source": [
    "## Discretization Age & Ordered Education"
   ]
  },
  {
   "cell_type": "code",
   "execution_count": 134,
   "metadata": {
    "hidden": true
   },
   "outputs": [],
   "source": [
    "import numpy as np\n",
    "import pandas as pd\n",
    "from sklearn import preprocessing\n",
    "from sklearn.model_selection import cross_validate\n",
    "from sklearn import tree\n",
    "from sklearn.naive_bayes import GaussianNB\n",
    "from sklearn.ensemble import RandomForestClassifier\n",
    "bank_mkt_2 = pd.read_csv(\"/Users/alex/Desktop/ML/Group Project/BankMarketing.csv\",\n",
    "                       dtype = {  \"job\": \"category\",\n",
    "                                  \"marital\": \"category\",\n",
    "                                  \"education\": \"category\",\n",
    "                                  \"default\": \"category\",\n",
    "                                  \"housing\": \"category\",\n",
    "                                  \"loan\": \"category\",\n",
    "                                  \"contact\": \"category\",\n",
    "                                  \"month\": \"category\",\n",
    "                                  \"day_of_week\": \"category\",\n",
    "                                  \"poutcome\": \"category\",\n",
    "                                  \"y\": \"category\",})"
   ]
  },
  {
   "cell_type": "code",
   "execution_count": 135,
   "metadata": {
    "hidden": true
   },
   "outputs": [],
   "source": [
    "from sklearn.preprocessing import Binarizer\n",
    "X = np.array(bank_mkt_2['pdays'])\n",
    "pdays_new = Binarizer(threshold = 30).transform(X.reshape(-1,1))\n",
    "bank_mkt_2['pdays_new'] = pdays_new"
   ]
  },
  {
   "cell_type": "code",
   "execution_count": 136,
   "metadata": {
    "hidden": true
   },
   "outputs": [],
   "source": [
    "bank_mkt_2 = bank_mkt_2.drop(columns=['duration','pdays'])"
   ]
  },
  {
   "cell_type": "code",
   "execution_count": 137,
   "metadata": {
    "hidden": true
   },
   "outputs": [],
   "source": [
    "#bank_mkt_2['education']= bank_mkt_2['education'].replace('unknown', 0)\n",
    "#bank_mkt_2['education']= bank_mkt_2['education'].replace('illiterate', 1)\n",
    "#bank_mkt_2['education']= bank_mkt_2['education'].replace('basic.4y', 2)\n",
    "#bank_mkt_2['education']= bank_mkt_2['education'].replace('basic.6y', 2)\n",
    "#bank_mkt_2['education']= bank_mkt_2['education'].replace('basic.9y', 2)\n",
    "#bank_mkt_2['education']= bank_mkt_2['education'].replace('high.school', 3)\n",
    "#bank_mkt_2['education']= bank_mkt_2['education'].replace('professional.course', 4)\n",
    "#bank_mkt_2['education']= bank_mkt_2['education'].replace('university.degree', 5)"
   ]
  },
  {
   "cell_type": "code",
   "execution_count": 138,
   "metadata": {
    "hidden": true
   },
   "outputs": [],
   "source": [
    "bank_mkt_2['Age_new'] = 0\n",
    "bank_mkt_2.loc[bank_mkt_2['age'] <= 20,'Age_new'] = 1\n",
    "bank_mkt_2.loc[(bank_mkt_2['age'] > 20) &(bank_mkt_2['age']> 40),'Age_new'] = 2\n",
    "bank_mkt_2.loc[(bank_mkt_2['age'] >= 40) &(bank_mkt_2['age']< 60),'Age_new'] = 3\n",
    "bank_mkt_2.loc[bank_mkt_2['age'] >=60,'Age_new'] = 4"
   ]
  },
  {
   "cell_type": "code",
   "execution_count": 139,
   "metadata": {
    "hidden": true
   },
   "outputs": [],
   "source": [
    "#bank_mkt_2 = bank_mkt_2.drop(columns=['age'])"
   ]
  },
  {
   "cell_type": "code",
   "execution_count": 140,
   "metadata": {
    "hidden": true
   },
   "outputs": [],
   "source": [
    "#bank_mkt_2.loc[bank_mkt_2['education'] == 'unknown','education'] = 0\n",
    "#bank_mkt_2.loc[bank_mkt_2['education'] == 'illiterate','education'] = 1\n",
    "#bank_mkt_2.loc[bank_mkt_2['education'] == 'basic.4y','education'] = 2\n",
    "#bank_mkt_2.loc[bank_mkt_2['education'] == 'basic.6y','education'] = 2\n",
    "#bank_mkt_2.loc[bank_mkt_2['education'] == 'basic.9y','education'] = 2\n",
    "#bank_mkt_2.loc[bank_mkt_2['education'] == 'high.school','education'] = 3\n",
    "#bank_mkt_2.loc[bank_mkt_2['education'] == 'professional.course','education'] = 4\n",
    "#bank_mkt_2.loc[bank_mkt_2['education'] == 'university.degree','education'] = 5"
   ]
  },
  {
   "cell_type": "code",
   "execution_count": 141,
   "metadata": {
    "hidden": true
   },
   "outputs": [],
   "source": [
    "bank_mkt_2 = pd.get_dummies(bank_mkt_2, columns =['age','job', 'marital','education', 'default', 'housing', 'loan','contact', 'month', 'day_of_week','poutcome'], drop_first=True)"
   ]
  },
  {
   "cell_type": "code",
   "execution_count": 142,
   "metadata": {
    "hidden": true
   },
   "outputs": [],
   "source": [
    "from sklearn import preprocessing\n",
    "nscaler = preprocessing.MinMaxScaler()\n",
    "bank_mkt_2[['campaign','previous','emp.var.rate','cons.price.idx','cons.conf.idx','euribor3m','nr.employed']] = nscaler.fit_transform(bank_mkt_2[['campaign','previous','emp.var.rate','cons.price.idx','cons.conf.idx','euribor3m','nr.employed']])"
   ]
  },
  {
   "cell_type": "code",
   "execution_count": 143,
   "metadata": {
    "hidden": true
   },
   "outputs": [],
   "source": [
    "bank_mkt_2['y'] = bank_mkt_2['y'].replace(to_replace=['no', 'yes'], value=[0, 1])"
   ]
  },
  {
   "cell_type": "code",
   "execution_count": 144,
   "metadata": {
    "hidden": true
   },
   "outputs": [],
   "source": [
    "def baseline_benchmark(df):\n",
    "    \"\"\"\n",
    "    Feed transfromed dataframe with no missing values.\n",
    "    \"\"\"\n",
    "    shuffled_df = df.sample(frac=1).reset_index(drop=True)\n",
    "    bank_x = shuffled_df.drop([\"y\"], axis=1)\n",
    "    #min_max_scale(bank_x)\n",
    "    bank_x = pd.get_dummies(bank_x, drop_first=True).values\n",
    "    bank_y = shuffled_df[\"y\"].astype(int).values\n",
    "    nb_model = GaussianNB()\n",
    "    tree_clf = tree.DecisionTreeClassifier(class_weight=\"balanced\")\n",
    "    rf_clf = RandomForestClassifier(class_weight=\"balanced\")\n",
    "    scoring = [\"f1\", \"accuracy\"]\n",
    "    scores = cross_validate(nb_model, bank_x, bank_y, scoring=scoring, cv=5, return_train_score=True)\n",
    "    result = pd.DataFrame(scores)\n",
    "    return result.mean()"
   ]
  },
  {
   "cell_type": "code",
   "execution_count": 145,
   "metadata": {
    "hidden": true
   },
   "outputs": [
    {
     "data": {
      "text/plain": [
       "fit_time          0.075294\n",
       "score_time        0.020335\n",
       "test_f1           0.418884\n",
       "train_f1          0.420875\n",
       "test_accuracy     0.876469\n",
       "train_accuracy    0.876639\n",
       "dtype: float64"
      ]
     },
     "execution_count": 145,
     "metadata": {},
     "output_type": "execute_result"
    }
   ],
   "source": [
    "baseline_benchmark(bank_mkt_2)"
   ]
  },
  {
   "cell_type": "markdown",
   "metadata": {
    "heading_collapsed": true,
    "hidden": true
   },
   "source": [
    "## 999 as 999"
   ]
  },
  {
   "cell_type": "code",
   "execution_count": 96,
   "metadata": {
    "hidden": true
   },
   "outputs": [],
   "source": [
    "import numpy as np\n",
    "import pandas as pd\n",
    "from sklearn import preprocessing\n",
    "from sklearn.model_selection import cross_validate\n",
    "from sklearn import tree\n",
    "from sklearn.naive_bayes import GaussianNB\n",
    "from sklearn.ensemble import RandomForestClassifier\n",
    "bank_mkt_3 = pd.read_csv(\"/Users/alex/Desktop/ML/Group Project/BankMarketing.csv\",\n",
    "                       dtype = {  \"job\": \"category\",\n",
    "                                  \"marital\": \"category\",\n",
    "                                  \"education\": \"category\",\n",
    "                                  \"default\": \"category\",\n",
    "                                  \"housing\": \"category\",\n",
    "                                  \"loan\": \"category\",\n",
    "                                  \"contact\": \"category\",\n",
    "                                  \"month\": \"category\",\n",
    "                                  \"day_of_week\": \"category\",\n",
    "                                  \"poutcome\": \"category\",\n",
    "                                  \"y\": \"category\",})"
   ]
  },
  {
   "cell_type": "code",
   "execution_count": 97,
   "metadata": {
    "hidden": true
   },
   "outputs": [],
   "source": [
    "bank_mkt_3 = bank_mkt_3.drop(columns=['duration'])"
   ]
  },
  {
   "cell_type": "code",
   "execution_count": 98,
   "metadata": {
    "hidden": true
   },
   "outputs": [],
   "source": [
    "from sklearn import preprocessing\n",
    "nscaler = preprocessing.MinMaxScaler()\n",
    "bank_mkt_3[['age','campaign','previous','pdays','emp.var.rate','cons.price.idx','cons.conf.idx','euribor3m','nr.employed']] = nscaler.fit_transform(bank_mkt_3[['age','campaign','previous','pdays','emp.var.rate','cons.price.idx','cons.conf.idx','euribor3m','nr.employed']])"
   ]
  },
  {
   "cell_type": "code",
   "execution_count": 99,
   "metadata": {
    "hidden": true
   },
   "outputs": [],
   "source": [
    "bank_mkt_3['y'] = bank_mkt_3['y'].replace(to_replace=['no', 'yes'], value=[0, 1])"
   ]
  },
  {
   "cell_type": "code",
   "execution_count": 100,
   "metadata": {
    "hidden": true
   },
   "outputs": [],
   "source": [
    "def baseline_benchmark(df):\n",
    "    \"\"\"\n",
    "    Feed transfromed dataframe with no missing values.\n",
    "    \"\"\"\n",
    "    shuffled_df = df.sample(frac=1).reset_index(drop=True)\n",
    "    bank_x = shuffled_df.drop([\"y\"], axis=1)\n",
    "    #min_max_scale(bank_x)\n",
    "    bank_x = pd.get_dummies(bank_x, drop_first=True).values\n",
    "    bank_y = shuffled_df[\"y\"].astype(int).values\n",
    "    nb_model = GaussianNB()\n",
    "    tree_clf = tree.DecisionTreeClassifier(class_weight=\"balanced\")\n",
    "    rf_clf = RandomForestClassifier(class_weight=\"balanced\")\n",
    "    scoring = [\"f1\", \"accuracy\"]\n",
    "    scores = cross_validate(nb_model, bank_x, bank_y, scoring=scoring, cv=5, return_train_score=True)\n",
    "    result = pd.DataFrame(scores)\n",
    "    return result.mean()"
   ]
  },
  {
   "cell_type": "code",
   "execution_count": 101,
   "metadata": {
    "hidden": true,
    "scrolled": true
   },
   "outputs": [
    {
     "data": {
      "text/plain": [
       "fit_time          0.028355\n",
       "score_time        0.009688\n",
       "test_f1           0.414988\n",
       "train_f1          0.415606\n",
       "test_accuracy     0.815407\n",
       "train_accuracy    0.815808\n",
       "dtype: float64"
      ]
     },
     "execution_count": 101,
     "metadata": {},
     "output_type": "execute_result"
    }
   ],
   "source": [
    "baseline_benchmark(bank_mkt_3)"
   ]
  },
  {
   "cell_type": "markdown",
   "metadata": {
    "heading_collapsed": true
   },
   "source": [
    "# Random Forest Imputing"
   ]
  },
  {
   "cell_type": "code",
   "execution_count": 150,
   "metadata": {
    "hidden": true
   },
   "outputs": [],
   "source": [
    "import numpy as np\n",
    "import pandas as pd\n",
    "bank_mkt_rf = pd.read_csv(\"/Users/alex/Desktop/ML/Group Project/BankMarketing.csv\",\n",
    "                       dtype = {  \"job\": \"category\",\n",
    "                                  \"marital\": \"category\",\n",
    "                                  \"education\": \"category\",\n",
    "                                  \"default\": \"category\",\n",
    "                                  \"housing\": \"category\",\n",
    "                                  \"loan\": \"category\",\n",
    "                                  \"contact\": \"category\",\n",
    "                                  \"month\": \"category\",\n",
    "                                  \"day_of_week\": \"category\",\n",
    "                                  \"poutcome\": \"category\",\n",
    "                                  \"y\": \"category\",})\n",
    "\n",
    "final= pd.read_csv(\"/Users/alex/Desktop/ML/Group Project/final.csv\")"
   ]
  },
  {
   "cell_type": "code",
   "execution_count": 151,
   "metadata": {
    "hidden": true
   },
   "outputs": [],
   "source": [
    "bank_mkt_rf.job = final[['job']]\n",
    "bank_mkt_rf.marital= final[['marital']]\n",
    "bank_mkt_rf.education = final[['education']]\n",
    "bank_mkt_rf.housing = final[['housing']]\n",
    "bank_mkt_rf.loan = final[['loan']]"
   ]
  },
  {
   "cell_type": "markdown",
   "metadata": {
    "heading_collapsed": true,
    "hidden": true
   },
   "source": [
    "## Binary P-days"
   ]
  },
  {
   "cell_type": "code",
   "execution_count": 108,
   "metadata": {
    "hidden": true
   },
   "outputs": [],
   "source": [
    "bank_mkt_rf1 = bank_mkt_rf"
   ]
  },
  {
   "cell_type": "code",
   "execution_count": 109,
   "metadata": {
    "hidden": true
   },
   "outputs": [],
   "source": [
    "from sklearn.preprocessing import Binarizer\n",
    "X = np.array(bank_mkt_rf1 ['pdays'])\n",
    "pdays_new = Binarizer(threshold = 30).transform(X.reshape(-1,1))\n",
    "bank_mkt_rf1 ['pdays_new'] = pdays_new"
   ]
  },
  {
   "cell_type": "code",
   "execution_count": 110,
   "metadata": {
    "hidden": true
   },
   "outputs": [],
   "source": [
    "bank_mkt_rf1  = bank_mkt_rf1 .drop(columns=['duration','pdays'])"
   ]
  },
  {
   "cell_type": "code",
   "execution_count": 111,
   "metadata": {
    "hidden": true
   },
   "outputs": [],
   "source": [
    "bank_mkt_rf1  = pd.get_dummies(bank_mkt_rf1 , columns =['job', 'marital', 'education', 'default', 'housing', 'loan','contact', 'month', 'day_of_week','poutcome'], drop_first=True)"
   ]
  },
  {
   "cell_type": "code",
   "execution_count": 112,
   "metadata": {
    "hidden": true
   },
   "outputs": [],
   "source": [
    "from sklearn import preprocessing\n",
    "nscaler = preprocessing.MinMaxScaler()\n",
    "bank_mkt_rf1[['age','campaign','previous','emp.var.rate','cons.price.idx','cons.conf.idx','euribor3m','nr.employed']] = nscaler.fit_transform(bank_mkt_rf1[['age','campaign','previous','emp.var.rate','cons.price.idx','cons.conf.idx','euribor3m','nr.employed']])"
   ]
  },
  {
   "cell_type": "code",
   "execution_count": 113,
   "metadata": {
    "hidden": true
   },
   "outputs": [],
   "source": [
    "bank_mkt_rf1 ['y'] = bank_mkt_rf1 ['y'].replace(to_replace=['no', 'yes'], value=[0, 1])"
   ]
  },
  {
   "cell_type": "code",
   "execution_count": 114,
   "metadata": {
    "hidden": true
   },
   "outputs": [],
   "source": [
    "def baseline_benchmark(df):\n",
    "    \"\"\"\n",
    "    Feed transfromed dataframe with no missing values.\n",
    "    \"\"\"\n",
    "    shuffled_df = df.sample(frac=1).reset_index(drop=True)\n",
    "    bank_x = shuffled_df.drop([\"y\"], axis=1)\n",
    "    #min_max_scale(bank_x)\n",
    "    bank_x = pd.get_dummies(bank_x, drop_first=True).values\n",
    "    bank_y = shuffled_df[\"y\"].astype(int).values\n",
    "    nb_model = GaussianNB()\n",
    "    tree_clf = tree.DecisionTreeClassifier(class_weight=\"balanced\")\n",
    "    rf_clf = RandomForestClassifier(class_weight=\"balanced\")\n",
    "    scoring = [\"f1\", \"accuracy\"]\n",
    "    scores = cross_validate(nb_model, bank_x, bank_y, scoring=scoring, cv=5, return_train_score=True)\n",
    "    result = pd.DataFrame(scores)\n",
    "    return result.mean()"
   ]
  },
  {
   "cell_type": "code",
   "execution_count": 115,
   "metadata": {
    "hidden": true
   },
   "outputs": [
    {
     "data": {
      "text/plain": [
       "fit_time          0.029399\n",
       "score_time        0.010097\n",
       "test_f1           0.415214\n",
       "train_f1          0.416487\n",
       "test_accuracy     0.811741\n",
       "train_accuracy    0.812470\n",
       "dtype: float64"
      ]
     },
     "execution_count": 115,
     "metadata": {},
     "output_type": "execute_result"
    }
   ],
   "source": [
    "baseline_benchmark(bank_mkt_rf1 )"
   ]
  },
  {
   "cell_type": "markdown",
   "metadata": {
    "heading_collapsed": true,
    "hidden": true
   },
   "source": [
    "## 5 -- 15 -- 999 Pdays"
   ]
  },
  {
   "cell_type": "code",
   "execution_count": 127,
   "metadata": {
    "hidden": true
   },
   "outputs": [],
   "source": [
    "bank_mkt_rf2 = bank_mkt_rf\n"
   ]
  },
  {
   "cell_type": "code",
   "execution_count": 129,
   "metadata": {
    "hidden": true
   },
   "outputs": [],
   "source": [
    "bank_mkt_rf2['pdays_missing'] = 0\n",
    "bank_mkt_rf2['pdays_less_5'] = 0\n",
    "bank_mkt_rf2['pdays_bet_5_15'] = 0\n",
    "bank_mkt_rf2['pdays_greater_15'] = 0\n",
    "bank_mkt_rf2.loc[bank_mkt_rf2['pdays'] == 999,'pdays_missing'] = 1\n",
    "bank_mkt_rf2.loc[bank_mkt_rf2['pdays'] <= 5,'pdays_less_5'] = 1\n",
    "bank_mkt_rf2.loc[(bank_mkt_rf2['pdays'] < 999) &(bank_mkt_rf2['pdays'] > 15),'pdays_greater_15'] = 1\n",
    "bank_mkt_rf2.loc[(bank_mkt_rf2['pdays'] <= 15) &(bank_mkt_rf2['pdays'] > 5),'pdays'] = 1\n"
   ]
  },
  {
   "cell_type": "code",
   "execution_count": 130,
   "metadata": {
    "hidden": true
   },
   "outputs": [],
   "source": [
    "bank_mkt_rf2 =bank_mkt_rf2.drop(columns=['duration','pdays','pdays_less_5'])\n",
    "bank_mkt_rf2= pd.get_dummies(bank_mkt_rf2,columns =['job', 'marital', 'education', 'default', 'housing', 'loan',\n",
    "       'contact', 'month', 'day_of_week','poutcome'],drop_first=True)"
   ]
  },
  {
   "cell_type": "code",
   "execution_count": 131,
   "metadata": {
    "hidden": true
   },
   "outputs": [],
   "source": [
    "from sklearn import preprocessing\n",
    "nscaler = preprocessing.MinMaxScaler()\n",
    "bank_mkt_rf2[['age','campaign','previous','emp.var.rate','cons.price.idx','cons.conf.idx','euribor3m','nr.employed']] = nscaler.fit_transform(bank_mkt_rf2[['age','campaign','previous','emp.var.rate','cons.price.idx','cons.conf.idx','euribor3m','nr.employed']])"
   ]
  },
  {
   "cell_type": "code",
   "execution_count": 132,
   "metadata": {
    "hidden": true
   },
   "outputs": [],
   "source": [
    "bank_mkt_rf2['y']= bank_mkt_rf2['y'].replace(to_replace=['no', 'yes'], value=[0, 1])"
   ]
  },
  {
   "cell_type": "code",
   "execution_count": 133,
   "metadata": {
    "hidden": true
   },
   "outputs": [
    {
     "data": {
      "text/plain": [
       "fit_time          0.028136\n",
       "score_time        0.009045\n",
       "test_f1           0.417167\n",
       "train_f1          0.417536\n",
       "test_accuracy     0.829878\n",
       "train_accuracy    0.829823\n",
       "dtype: float64"
      ]
     },
     "execution_count": 133,
     "metadata": {},
     "output_type": "execute_result"
    }
   ],
   "source": [
    "baseline_benchmark(bank_mkt_rf2)"
   ]
  },
  {
   "cell_type": "markdown",
   "metadata": {
    "heading_collapsed": true,
    "hidden": true
   },
   "source": [
    "## Discretization Age & Ordered Education"
   ]
  },
  {
   "cell_type": "code",
   "execution_count": 185,
   "metadata": {
    "hidden": true
   },
   "outputs": [],
   "source": [
    "bank_mkt_rf3 = bank_mkt_rf"
   ]
  },
  {
   "cell_type": "code",
   "execution_count": 186,
   "metadata": {
    "hidden": true
   },
   "outputs": [],
   "source": [
    "bank_mkt_rf3['pdays_missing'] = 0\n",
    "bank_mkt_rf3['pdays_less_5'] = 0\n",
    "bank_mkt_rf3['pdays_bet_5_15'] = 0\n",
    "bank_mkt_rf3['pdays_greater_15'] = 0\n",
    "bank_mkt_rf3.loc[bank_mkt_rf3['pdays'] == 999,'pdays_missing'] = 1\n",
    "bank_mkt_rf3.loc[bank_mkt_rf3['pdays'] <= 5,'pdays_less_5'] = 1\n",
    "bank_mkt_rf3.loc[(bank_mkt_rf3['pdays'] < 999) &(bank_mkt_rf3['pdays'] > 15),'pdays_greater_15'] = 1\n",
    "bank_mkt_rf3.loc[(bank_mkt_rf3['pdays'] <= 15) &(bank_mkt_rf3['pdays'] > 5),'pdays'] = 1"
   ]
  },
  {
   "cell_type": "code",
   "execution_count": 187,
   "metadata": {
    "hidden": true
   },
   "outputs": [],
   "source": [
    "bank_mkt_rf3 =bank_mkt_rf3.drop(columns=['duration','pdays','pdays_less_5'])"
   ]
  },
  {
   "cell_type": "code",
   "execution_count": 188,
   "metadata": {
    "hidden": true
   },
   "outputs": [],
   "source": [
    "bank_mkt_rf3['education']= bank_mkt_rf3['education'].replace('unknown', 0)\n",
    "bank_mkt_rf3['education']= bank_mkt_rf3['education'].replace('illiterate', 1)\n",
    "bank_mkt_rf3['education']= bank_mkt_rf3['education'].replace('basic.4y', 2)\n",
    "bank_mkt_rf3['education']= bank_mkt_rf3['education'].replace('basic.6y', 2)\n",
    "bank_mkt_rf3['education']= bank_mkt_rf3['education'].replace('basic.9y', 2)\n",
    "bank_mkt_rf3['education']= bank_mkt_rf3['education'].replace('high.school', 3)\n",
    "bank_mkt_rf3['education']= bank_mkt_rf3['education'].replace('professional.course', 4)\n",
    "bank_mkt_rf3['education']= bank_mkt_rf3['education'].replace('university.degree', 5)"
   ]
  },
  {
   "cell_type": "code",
   "execution_count": 189,
   "metadata": {
    "hidden": true
   },
   "outputs": [],
   "source": [
    "bank_mkt_rf3['Age_new'] = 0\n",
    "bank_mkt_rf3.loc[bank_mkt_rf3['age'] <= 20,'Age_new'] = 1\n",
    "bank_mkt_rf3.loc[(bank_mkt_rf3['age'] > 20) &(bank_mkt_rf3['age']> 40),'Age_new'] = 2\n",
    "bank_mkt_rf3.loc[(bank_mkt_rf3['age'] >= 40) &(bank_mkt_rf3['age']< 60),'Age_new'] = 3\n",
    "bank_mkt_rf3.loc[bank_mkt_rf3['age'] >=60,'Age_new'] = 4\n",
    "#bank_mkt_rf3 = bank_mkt_rf3.drop(columns=['age'])"
   ]
  },
  {
   "cell_type": "code",
   "execution_count": 190,
   "metadata": {
    "hidden": true
   },
   "outputs": [],
   "source": [
    "bank_mkt_rf3 = pd.get_dummies(bank_mkt_rf3, columns =['age','job', 'marital', 'default', 'housing', 'loan','contact', 'month', 'day_of_week','poutcome'], drop_first=True)"
   ]
  },
  {
   "cell_type": "code",
   "execution_count": 191,
   "metadata": {
    "hidden": true
   },
   "outputs": [],
   "source": [
    "from sklearn import preprocessing\n",
    "nscaler = preprocessing.MinMaxScaler()\n",
    "bank_mkt_rf3[['campaign','previous','emp.var.rate','cons.price.idx','cons.conf.idx','euribor3m','nr.employed']] = nscaler.fit_transform(bank_mkt_rf3[['campaign','previous','emp.var.rate','cons.price.idx','cons.conf.idx','euribor3m','nr.employed']])"
   ]
  },
  {
   "cell_type": "code",
   "execution_count": 192,
   "metadata": {
    "hidden": true
   },
   "outputs": [],
   "source": [
    "bank_mkt_rf3['y'] =bank_mkt_rf3['y'].replace(to_replace=['no', 'yes'], value=[0, 1])"
   ]
  },
  {
   "cell_type": "code",
   "execution_count": 193,
   "metadata": {
    "hidden": true
   },
   "outputs": [
    {
     "data": {
      "text/plain": [
       "fit_time          0.062678\n",
       "score_time        0.017718\n",
       "test_f1           0.419834\n",
       "train_f1          0.420342\n",
       "test_accuracy     0.878096\n",
       "train_accuracy    0.878399\n",
       "dtype: float64"
      ]
     },
     "execution_count": 193,
     "metadata": {},
     "output_type": "execute_result"
    }
   ],
   "source": [
    "baseline_benchmark(bank_mkt_rf3)"
   ]
  },
  {
   "cell_type": "markdown",
   "metadata": {
    "heading_collapsed": true,
    "hidden": true
   },
   "source": [
    "## 999 As 999"
   ]
  },
  {
   "cell_type": "code",
   "execution_count": 194,
   "metadata": {
    "hidden": true
   },
   "outputs": [],
   "source": [
    "bank_mkt_rf4 = bank_mkt_rf\n",
    "bank_mkt_rf4 =bank_mkt_rf4.drop(columns=['duration'])"
   ]
  },
  {
   "cell_type": "code",
   "execution_count": 195,
   "metadata": {
    "hidden": true
   },
   "outputs": [],
   "source": [
    "bank_mkt_rf4['education']= bank_mkt_rf4['education'].replace('unknown', 0)\n",
    "bank_mkt_rf4['education']= bank_mkt_rf4['education'].replace('illiterate', 1)\n",
    "bank_mkt_rf4['education']= bank_mkt_rf4['education'].replace('basic.4y', 2)\n",
    "bank_mkt_rf4['education']= bank_mkt_rf4['education'].replace('basic.6y', 2)\n",
    "bank_mkt_rf4['education']= bank_mkt_rf4['education'].replace('basic.9y', 2)\n",
    "bank_mkt_rf4['education']= bank_mkt_rf4['education'].replace('high.school', 3)\n",
    "bank_mkt_rf4['education']= bank_mkt_rf4['education'].replace('professional.course', 4)\n",
    "bank_mkt_rf4['education']= bank_mkt_rf4['education'].replace('university.degree', 5)"
   ]
  },
  {
   "cell_type": "code",
   "execution_count": 196,
   "metadata": {
    "hidden": true
   },
   "outputs": [],
   "source": [
    "bank_mkt_rf4['Age_new'] = 0\n",
    "bank_mkt_rf4.loc[bank_mkt_rf4['age'] <= 20,'Age_new'] = 1\n",
    "bank_mkt_rf4.loc[(bank_mkt_rf4['age'] > 20) &(bank_mkt_rf4['age']> 40),'Age_new'] = 2\n",
    "bank_mkt_rf4.loc[(bank_mkt_rf4['age'] >= 40) &(bank_mkt_rf4['age']< 60),'Age_new'] = 3\n",
    "bank_mkt_rf4.loc[bank_mkt_rf4['age'] >=60,'Age_new'] = 4"
   ]
  },
  {
   "cell_type": "code",
   "execution_count": 197,
   "metadata": {
    "hidden": true
   },
   "outputs": [],
   "source": [
    "bank_mkt_rf4 = pd.get_dummies(bank_mkt_rf4, columns =['age','job', 'marital', 'default', 'housing', 'loan','contact', 'month', 'day_of_week','poutcome'], drop_first=True)"
   ]
  },
  {
   "cell_type": "code",
   "execution_count": 198,
   "metadata": {
    "hidden": true
   },
   "outputs": [],
   "source": [
    "from sklearn import preprocessing\n",
    "nscaler = preprocessing.MinMaxScaler()\n",
    "bank_mkt_rf4[['pdays','campaign','previous','emp.var.rate','cons.price.idx','cons.conf.idx','euribor3m','nr.employed']] = nscaler.fit_transform(bank_mkt_rf4[['pdays','campaign','previous','emp.var.rate','cons.price.idx','cons.conf.idx','euribor3m','nr.employed']])"
   ]
  },
  {
   "cell_type": "code",
   "execution_count": 199,
   "metadata": {
    "hidden": true
   },
   "outputs": [],
   "source": [
    "bank_mkt_rf4['y'] =bank_mkt_rf4['y'].replace(to_replace=['no', 'yes'], value=[0, 1])"
   ]
  },
  {
   "cell_type": "code",
   "execution_count": 200,
   "metadata": {
    "hidden": true,
    "scrolled": true
   },
   "outputs": [
    {
     "data": {
      "text/plain": [
       "fit_time          0.066729\n",
       "score_time        0.018162\n",
       "test_f1           0.418136\n",
       "train_f1          0.420939\n",
       "test_accuracy     0.878508\n",
       "train_accuracy    0.879176\n",
       "dtype: float64"
      ]
     },
     "execution_count": 200,
     "metadata": {},
     "output_type": "execute_result"
    }
   ],
   "source": [
    "baseline_benchmark(bank_mkt_rf4)"
   ]
  },
  {
   "cell_type": "markdown",
   "metadata": {
    "heading_collapsed": true
   },
   "source": [
    "# Fill with Freq (exp pdays)"
   ]
  },
  {
   "cell_type": "code",
   "execution_count": 206,
   "metadata": {
    "hidden": true
   },
   "outputs": [],
   "source": [
    "from sklearn.impute import SimpleImputer\n",
    "from sklearn import preprocessing\n",
    "def import_dataset(filename):\n",
    "    bank_mkt = pd.read_csv(filename,\n",
    "                           na_values=[\"unknown\", \"nonexistent\"],\n",
    "                           true_values=[\"yes\", \"success\"],\n",
    "                           false_values=[\"no\", \"failure\"])\n",
    "    # Treat pdays = 999 as missing values\n",
    "    #bank_mkt[\"pdays\"] = bank_mkt[\"pdays\"].replace(999, np.nan)\n",
    "    # Convert types, \"Int64\" is nullable integer data type in pandas\n",
    "    bank_mkt = bank_mkt.astype(dtype={\"age\": \"Int64\",\n",
    "                                      \"job\": \"category\",\n",
    "                                      \"marital\": \"category\",\n",
    "                                      \"education\": \"category\",\n",
    "                                      \"default\": \"boolean\",\n",
    "                                      \"housing\": \"boolean\",\n",
    "                                      \"loan\": \"boolean\",\n",
    "                                      \"contact\": \"category\",\n",
    "                                      \"month\": \"category\",\n",
    "                                      \"day_of_week\": \"category\",\n",
    "                                      \"duration\": \"Int64\",\n",
    "                                      \"campaign\": \"Int64\",\n",
    "                                      \"pdays\": \"Int64\",\n",
    "                                      \"previous\": \"Int64\",\n",
    "                                      \"poutcome\": \"boolean\",\n",
    "                                      \"y\": \"boolean\"})\n",
    "    return bank_mkt"
   ]
  },
  {
   "cell_type": "code",
   "execution_count": 207,
   "metadata": {
    "hidden": true
   },
   "outputs": [],
   "source": [
    "def min_max_scale(df):\n",
    "    min_max_scaler = preprocessing.MinMaxScaler()\n",
    "    min_max_scaler.fit_transform(df.select_dtypes(\"number\"))"
   ]
  },
  {
   "cell_type": "code",
   "execution_count": 208,
   "metadata": {
    "hidden": true
   },
   "outputs": [],
   "source": [
    "def baseline_benchmark(df):\n",
    "    \"\"\"\n",
    "    Feed transfromed dataframe with no missing values.\n",
    "    \"\"\"\n",
    "    shuffled_df = df.sample(frac=1).reset_index(drop=True)\n",
    "    bank_x = shuffled_df.drop([\"duration\", \"y\"], axis=1)\n",
    "    min_max_scale(bank_x)\n",
    "    bank_x = pd.get_dummies(bank_x, drop_first=True).values\n",
    "    bank_y = shuffled_df[\"y\"].astype(int).values\n",
    "    nb_model = GaussianNB()\n",
    "    tree_clf = tree.DecisionTreeClassifier(class_weight=\"balanced\")\n",
    "    rf_clf = RandomForestClassifier(class_weight=\"balanced\")\n",
    "    scoring = [\"f1\", \"accuracy\"]\n",
    "    scores = cross_validate(nb_model, bank_x, bank_y, scoring=scoring, cv=5, return_train_score=True)\n",
    "    result = pd.DataFrame(scores)\n",
    "    return result.mean()"
   ]
  },
  {
   "cell_type": "code",
   "execution_count": 209,
   "metadata": {
    "hidden": true
   },
   "outputs": [],
   "source": [
    "def fill_freq(bank_mkt):\n",
    "    # Add new type\n",
    "#     bank_mkt[\"ptype\"] = pd.NA\n",
    "#     bank_mkt.loc[bank_mkt[\"pdays\"].isna() & bank_mkt[\"poutcome\"].isna(), \"ptype\"] = \"new\"\n",
    "#     bank_mkt.loc[bank_mkt[\"pdays\"].isna() & bank_mkt[\"poutcome\"].notna(), \"ptype\"] = \"lost\"\n",
    "#     bank_mkt.loc[bank_mkt[\"pdays\"].notna() & bank_mkt[\"poutcome\"].notna(), \"ptype\"] = \"previous\"\n",
    "    # Fill with most frequent data\n",
    "    #bank_mkt[\"pdays\"] = bank_mkt[\"pdays\"].fillna(999)\n",
    "    bank_mkt[[\"default\", \"loan\", \"poutcome\"]] = bank_mkt[[\"default\", \"loan\", \"poutcome\"]].fillna(False)\n",
    "    bank_mkt[\"housing\"] = bank_mkt[\"housing\"].fillna(True)\n",
    "    df = bank_mkt[[\"job\", \"marital\", \"education\"]]\n",
    "    imp = SimpleImputer(strategy=\"most_frequent\")\n",
    "    bank_mkt[[\"job\", \"marital\", \"education\"]] = imp.fit_transform(df)"
   ]
  },
  {
   "cell_type": "code",
   "execution_count": 222,
   "metadata": {
    "hidden": true
   },
   "outputs": [
    {
     "data": {
      "text/plain": [
       "fit_time          0.090472\n",
       "score_time        0.022708\n",
       "test_f1           0.431425\n",
       "train_f1          0.430425\n",
       "test_accuracy     0.872414\n",
       "train_accuracy    0.872147\n",
       "dtype: float64"
      ]
     },
     "execution_count": 222,
     "metadata": {},
     "output_type": "execute_result"
    }
   ],
   "source": [
    "bank_mkt_fq = import_dataset(\"/Users/alex/Desktop/ML/Group Project/BankMarketing.csv\")\n",
    "fill_freq(bank_mkt_fq)\n",
    "baseline_benchmark(bank_mkt_fq)"
   ]
  },
  {
   "cell_type": "markdown",
   "metadata": {
    "heading_collapsed": true,
    "hidden": true
   },
   "source": [
    "## Binary P-days\n"
   ]
  },
  {
   "cell_type": "code",
   "execution_count": 214,
   "metadata": {
    "hidden": true
   },
   "outputs": [],
   "source": [
    "bank_mkt_fq1 = bank_mkt_fq\n",
    "from sklearn.preprocessing import Binarizer\n",
    "X = np.array(bank_mkt_fq['pdays'])\n",
    "pdays_new = Binarizer(threshold = 30).transform(X.reshape(-1,1))\n",
    "bank_mkt_fq1['pdays_new'] = pdays_new\n",
    "bank_mkt_fq1 = bank_mkt_fq1.drop(columns=['pdays'])"
   ]
  },
  {
   "cell_type": "code",
   "execution_count": 215,
   "metadata": {
    "hidden": true
   },
   "outputs": [
    {
     "data": {
      "text/plain": [
       "fit_time          0.072563\n",
       "score_time        0.020256\n",
       "test_f1           0.430440\n",
       "train_f1          0.431178\n",
       "test_accuracy     0.870399\n",
       "train_accuracy    0.870624\n",
       "dtype: float64"
      ]
     },
     "execution_count": 215,
     "metadata": {},
     "output_type": "execute_result"
    }
   ],
   "source": [
    "baseline_benchmark(bank_mkt_fq1)"
   ]
  },
  {
   "cell_type": "markdown",
   "metadata": {
    "heading_collapsed": true,
    "hidden": true
   },
   "source": [
    "## 5--15--999 days"
   ]
  },
  {
   "cell_type": "code",
   "execution_count": 218,
   "metadata": {
    "hidden": true
   },
   "outputs": [],
   "source": [
    "bank_mkt_fq2 = bank_mkt_fq\n",
    "bank_mkt_fq2['pdays_missing'] = 0\n",
    "bank_mkt_fq2['pdays_less_5'] = 0\n",
    "bank_mkt_fq2['pdays_bet_5_15'] = 0\n",
    "bank_mkt_fq2['pdays_greater_15'] = 0\n",
    "bank_mkt_fq2.loc[bank_mkt_fq2['pdays'] == 999,'pdays_missing'] = 1\n",
    "bank_mkt_fq2.loc[bank_mkt_fq2['pdays'] <= 5,'pdays_less_5'] = 1\n",
    "bank_mkt_fq2.loc[(bank_mkt_fq2['pdays'] < 999) &(bank_mkt_fq2['pdays'] > 15),'pdays_greater_15'] = 1\n",
    "bank_mkt_fq2.loc[(bank_mkt_fq2['pdays'] <= 15) &(bank_mkt_fq2['pdays'] > 5),'pdays'] = 1"
   ]
  },
  {
   "cell_type": "code",
   "execution_count": 219,
   "metadata": {
    "hidden": true
   },
   "outputs": [],
   "source": [
    "bank_mkt_fq2 =bank_mkt_fq2.drop(columns=['pdays','pdays_less_5'])"
   ]
  },
  {
   "cell_type": "code",
   "execution_count": 220,
   "metadata": {
    "hidden": true
   },
   "outputs": [
    {
     "data": {
      "text/plain": [
       "fit_time          0.071424\n",
       "score_time        0.020096\n",
       "test_f1           0.431295\n",
       "train_f1          0.431067\n",
       "test_accuracy     0.873264\n",
       "train_accuracy    0.873234\n",
       "dtype: float64"
      ]
     },
     "execution_count": 220,
     "metadata": {},
     "output_type": "execute_result"
    }
   ],
   "source": [
    "baseline_benchmark(bank_mkt_fq2)"
   ]
  },
  {
   "cell_type": "markdown",
   "metadata": {
    "hidden": true
   },
   "source": [
    "## Discretization Age & Ordered Education"
   ]
  },
  {
   "cell_type": "code",
   "execution_count": 223,
   "metadata": {
    "hidden": true
   },
   "outputs": [],
   "source": [
    "bank_mkt_fq3 = bank_mkt_fq\n",
    "bank_mkt_fq3['pdays_missing'] = 0\n",
    "bank_mkt_fq3['pdays_less_5'] = 0\n",
    "bank_mkt_fq3['pdays_bet_5_15'] = 0\n",
    "bank_mkt_fq3['pdays_greater_15'] = 0\n",
    "bank_mkt_fq3.loc[bank_mkt_fq3['pdays'] == 999,'pdays_missing'] = 1\n",
    "bank_mkt_fq3.loc[bank_mkt_fq3['pdays'] <= 5,'pdays_less_5'] = 1\n",
    "bank_mkt_fq3.loc[(bank_mkt_fq3['pdays'] < 999) &(bank_mkt_fq3['pdays'] > 15),'pdays_greater_15'] = 1\n",
    "bank_mkt_fq3.loc[(bank_mkt_fq3['pdays'] <= 15) &(bank_mkt_fq3['pdays'] > 5),'pdays'] = 1\n",
    "bank_mkt_fq3 =bank_mkt_fq3.drop(columns=['pdays','pdays_less_5'])"
   ]
  },
  {
   "cell_type": "code",
   "execution_count": 224,
   "metadata": {
    "hidden": true
   },
   "outputs": [],
   "source": [
    "#bank_mkt_2['education']= bank_mkt_2['education'].replace('unknown', 0)\n",
    "#bank_mkt_2['education']= bank_mkt_2['education'].replace('illiterate', 1)\n",
    "#bank_mkt_2['education']= bank_mkt_2['education'].replace('basic.4y', 2)\n",
    "#bank_mkt_2['education']= bank_mkt_2['education'].replace('basic.6y', 2)\n",
    "#bank_mkt_2['education']= bank_mkt_2['education'].replace('basic.9y', 2)\n",
    "#bank_mkt_2['education']= bank_mkt_2['education'].replace('high.school', 3)\n",
    "#bank_mkt_2['education']= bank_mkt_2['education'].replace('professional.course', 4)\n",
    "#bank_mkt_2['education']= bank_mkt_2['education'].replace('university.degree', 5)"
   ]
  },
  {
   "cell_type": "code",
   "execution_count": 225,
   "metadata": {
    "hidden": true
   },
   "outputs": [],
   "source": [
    "bank_mkt_fq3['Age_new'] = 0\n",
    "bank_mkt_fq3.loc[bank_mkt_fq3['age'] <= 20,'Age_new'] = 1\n",
    "bank_mkt_fq3.loc[(bank_mkt_fq3['age'] > 20) &(bank_mkt_fq3['age']> 40),'Age_new'] = 2\n",
    "bank_mkt_fq3.loc[(bank_mkt_fq3['age'] >= 40) &(bank_mkt_fq3['age']< 60),'Age_new'] = 3\n",
    "bank_mkt_fq3.loc[bank_mkt_fq3['age'] >=60,'Age_new'] = 4\n",
    "bank_mkt_fq3 = bank_mkt_fq3.drop(columns=['age'])"
   ]
  },
  {
   "cell_type": "code",
   "execution_count": 226,
   "metadata": {
    "hidden": true
   },
   "outputs": [
    {
     "data": {
      "text/plain": [
       "fit_time          0.073793\n",
       "score_time        0.020948\n",
       "test_f1           0.429802\n",
       "train_f1          0.430837\n",
       "test_accuracy     0.872973\n",
       "train_accuracy    0.872967\n",
       "dtype: float64"
      ]
     },
     "execution_count": 226,
     "metadata": {},
     "output_type": "execute_result"
    }
   ],
   "source": [
    "baseline_benchmark(bank_mkt_fq3)"
   ]
  },
  {
   "cell_type": "markdown",
   "metadata": {
    "hidden": true
   },
   "source": [
    "##  999 as 999"
   ]
  },
  {
   "cell_type": "code",
   "execution_count": null,
   "metadata": {
    "hidden": true
   },
   "outputs": [],
   "source": [
    "'''\n",
    "fit_time          0.051946\n",
    "score_time        0.014076\n",
    "test_f1           0.430063\n",
    "train_f1          0.430596\n",
    "test_accuracy     0.872002\n",
    "train_accuracy    0.872269\n",
    "\n",
    "'''"
   ]
  },
  {
   "cell_type": "code",
   "execution_count": null,
   "metadata": {
    "hidden": true
   },
   "outputs": [],
   "source": [
    "bank_mkt_fq4 = bank_mkt_fq\n"
   ]
  }
 ],
 "metadata": {
  "kernelspec": {
   "display_name": "Python 3",
   "language": "python",
   "name": "python3"
  },
  "language_info": {
   "codemirror_mode": {
    "name": "ipython",
    "version": 3
   },
   "file_extension": ".py",
   "mimetype": "text/x-python",
   "name": "python",
   "nbconvert_exporter": "python",
   "pygments_lexer": "ipython3",
   "version": "3.8.6"
  },
  "toc": {
   "base_numbering": 1,
   "nav_menu": {},
   "number_sections": true,
   "sideBar": true,
   "skip_h1_title": false,
   "title_cell": "Table of Contents",
   "title_sidebar": "Contents",
   "toc_cell": false,
   "toc_position": {
    "height": "calc(100% - 180px)",
    "left": "10px",
    "top": "150px",
    "width": "317px"
   },
   "toc_section_display": true,
   "toc_window_display": true
  }
 },
 "nbformat": 4,
 "nbformat_minor": 4
}
