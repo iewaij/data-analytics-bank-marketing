{
 "cells": [
  {
   "cell_type": "markdown",
   "metadata": {
    "cell_id": "00000-a549eb13-f084-4197-b42a-ec84b05c0aa6",
    "tags": []
   },
   "source": [
    "# Support Vector Machine"
   ]
  },
  {
   "cell_type": "code",
   "execution_count": 43,
   "metadata": {},
   "outputs": [],
   "source": [
    "import numpy as np\n",
    "import pandas as pd\n",
    "import matplotlib.pyplot as plt\n",
    "plt.style.use(\"seaborn\")\n",
    "plt.rcParams[\"figure.figsize\"] = (6.4, 4.8)\n",
    "plt.rcParams[\"figure.dpi\"] = 300\n",
    "plt.rcParams[\"figure.titleweight\"] = \"bold\"\n",
    "plt.rcParams[\"axes.titleweight\"] = \"bold\"\n",
    "plt.rcParams[\"axes.titlepad\"] = 10.0\n",
    "plt.rcParams[\"axes.titlelocation\"] = \"left\"\n",
    "from IPython.display import set_matplotlib_formats\n",
    "set_matplotlib_formats(\"svg\")\n",
    "import seaborn as sns\n",
    "from sklearn.utils.fixes import loguniform\n",
    "from sklearn.model_selection import cross_validate, GridSearchCV, RandomizedSearchCV\n",
    "from sklearn.linear_model import SGDClassifier\n",
    "from sklearn.svm import SVC, LinearSVC\n",
    "from sklearn.metrics import average_precision_score, f1_score, precision_score, recall_score, balanced_accuracy_score, roc_auc_score, confusion_matrix"
   ]
  },
  {
   "cell_type": "code",
   "execution_count": 29,
   "metadata": {},
   "outputs": [],
   "source": [
    "X_train_basic = np.load(\"../data/X_train_basic.npy\")\n",
    "X_train_freq = np.load(\"../data/X_train_freq.npy\")\n",
    "X_train_ite = np.load(\"../data/X_train_ite.npy\")\n",
    "y_train = np.load(\"../data/y_train.npy\")\n",
    "X_train = X_train_freq"
   ]
  },
  {
   "cell_type": "markdown",
   "metadata": {},
   "source": [
    "## Linear SVM"
   ]
  },
  {
   "cell_type": "code",
   "execution_count": 53,
   "metadata": {},
   "outputs": [
    {
     "name": "stdout",
     "output_type": "stream",
     "text": [
      "best parameters found: {'alpha': 0.35, 'learning_rate': 'optimal', 'penalty': 'l2'}, with mean test score: 0.42034961790682274\n",
      "mean test score: 0.4195851195638352, mean train score: 0.4195851195638352, for {'alpha': 0.5, 'learning_rate': 'optimal', 'penalty': 'l2'}.\n",
      "mean test score: 0.42034961790682274, mean train score: 0.42034961790682274, for {'alpha': 0.35, 'learning_rate': 'optimal', 'penalty': 'l2'}.\n",
      "mean test score: 0.4152766490200264, mean train score: 0.4152766490200264, for {'alpha': 0.1, 'learning_rate': 'optimal', 'penalty': 'l2'}.\n"
     ]
    }
   ],
   "source": [
    "linear_sgd = SGDClassifier(loss=\"hinge\", class_weight=\"balanced\", random_state=42)\n",
    "param_grid = [\n",
    "    {\"penalty\": [\"l2\"],\n",
    "     \"alpha\": [0.5, 0.35, 0.1],\n",
    "     \"learning_rate\": [\"optimal\"]}\n",
    "    ]\n",
    "grid_search = GridSearchCV(linear_sgd,\n",
    "                           param_grid,\n",
    "                           scoring=\"average_precision\",\n",
    "                           return_train_score=True,\n",
    "                           cv=5,\n",
    "                           n_jobs=-1)\n",
    "grid_fit = grid_search.fit(X_train, y_train)\n",
    "grid_results = grid_search.cv_results_\n",
    "grid_best_params = grid_search.best_params_\n",
    "\n",
    "grid_fit = grid_search.fit(X_train, y_train)\n",
    "grid_results = grid_search.cv_results_\n",
    "grid_best_params = grid_search.best_params_\n",
    "grid_best_score = grid_search.best_score_\n",
    "\n",
    "print(f\"best parameters found: {grid_best_params}, with mean test score: {grid_best_score}\")\n",
    "\n",
    "for test_score, train_score, params in zip(grid_results[\"mean_test_score\"],\n",
    "                                           grid_results[\"mean_test_score\"],\n",
    "                                           grid_results[\"params\"]):\n",
    "    print(f\"mean test score: {test_score}, mean train score: {train_score}, for {params}.\")"
   ]
  },
  {
   "cell_type": "code",
   "execution_count": 55,
   "metadata": {},
   "outputs": [
    {
     "name": "stdout",
     "output_type": "stream",
     "text": [
      "best parameters found: {'C': 50, 'tol': 0.5}, with mean test score: 0.4297189896717807\n",
      "mean test score: 0.4235122568845678, mean train score: 0.4235122568845678, for {'C': 60, 'tol': 1}.\n",
      "mean test score: 0.4235122568845678, mean train score: 0.4235122568845678, for {'C': 60, 'tol': 0.7}.\n",
      "mean test score: 0.42971792525818164, mean train score: 0.42971792525818164, for {'C': 60, 'tol': 0.5}.\n",
      "mean test score: 0.42927445021847654, mean train score: 0.42927445021847654, for {'C': 60, 'tol': 0.2}.\n",
      "mean test score: 0.4280384167262337, mean train score: 0.4280384167262337, for {'C': 60, 'tol': 0.1}.\n",
      "mean test score: 0.4235122568845678, mean train score: 0.4235122568845678, for {'C': 65, 'tol': 1}.\n",
      "mean test score: 0.4235122568845678, mean train score: 0.4235122568845678, for {'C': 65, 'tol': 0.7}.\n",
      "mean test score: 0.42971792525818164, mean train score: 0.42971792525818164, for {'C': 65, 'tol': 0.5}.\n",
      "mean test score: 0.42927445021847654, mean train score: 0.42927445021847654, for {'C': 65, 'tol': 0.2}.\n",
      "mean test score: 0.42803847916233606, mean train score: 0.42803847916233606, for {'C': 65, 'tol': 0.1}.\n",
      "mean test score: 0.4235122568845678, mean train score: 0.4235122568845678, for {'C': 50, 'tol': 1}.\n",
      "mean test score: 0.4235122568845678, mean train score: 0.4235122568845678, for {'C': 50, 'tol': 0.7}.\n",
      "mean test score: 0.4297189896717807, mean train score: 0.4297189896717807, for {'C': 50, 'tol': 0.5}.\n",
      "mean test score: 0.4292755146320756, mean train score: 0.4292755146320756, for {'C': 50, 'tol': 0.2}.\n",
      "mean test score: 0.42803850655073905, mean train score: 0.42803850655073905, for {'C': 50, 'tol': 0.1}.\n",
      "mean test score: 0.4235122568845678, mean train score: 0.4235122568845678, for {'C': 45, 'tol': 1}.\n",
      "mean test score: 0.4235122568845678, mean train score: 0.4235122568845678, for {'C': 45, 'tol': 0.7}.\n",
      "mean test score: 0.42971874304290497, mean train score: 0.42971874304290497, for {'C': 45, 'tol': 0.5}.\n",
      "mean test score: 0.4292752680031999, mean train score: 0.4292752680031999, for {'C': 45, 'tol': 0.2}.\n",
      "mean test score: 0.42803894825785377, mean train score: 0.42803894825785377, for {'C': 45, 'tol': 0.1}.\n",
      "mean test score: 0.4235122568845678, mean train score: 0.4235122568845678, for {'C': 40, 'tol': 1}.\n",
      "mean test score: 0.4235122568845678, mean train score: 0.4235122568845678, for {'C': 40, 'tol': 0.7}.\n",
      "mean test score: 0.42971874304290497, mean train score: 0.42971874304290497, for {'C': 40, 'tol': 0.5}.\n",
      "mean test score: 0.4292752888415685, mean train score: 0.4292752888415685, for {'C': 40, 'tol': 0.2}.\n",
      "mean test score: 0.428038584983654, mean train score: 0.428038584983654, for {'C': 40, 'tol': 0.1}.\n"
     ]
    }
   ],
   "source": [
    "linear_svm = LinearSVC(loss=\"squared_hinge\", dual=False, class_weight=\"balanced\", random_state=42)\n",
    "param_grid = [\n",
    "    {\"C\": [60, 65, 50, 45, 40],\n",
    "     \"tol\": [1, 0.7, 0.5, 0.2, 0.1]}\n",
    "    ]\n",
    "grid_search = GridSearchCV(linear_svm,\n",
    "                           param_grid,\n",
    "                           scoring=\"average_precision\",\n",
    "                           return_train_score=True,\n",
    "                           cv=5,\n",
    "                           n_jobs=-1)\n",
    "grid_fit = grid_search.fit(X_train, y_train)\n",
    "grid_results = grid_search.cv_results_\n",
    "grid_best_params = grid_search.best_params_\n",
    "grid_best_score = grid_search.best_score_\n",
    "\n",
    "print(f\"best parameters found: {grid_best_params}, with mean test score: {grid_best_score}\")\n",
    "\n",
    "for test_score, train_score, params in zip(grid_results[\"mean_test_score\"],\n",
    "                                           grid_results[\"mean_test_score\"],\n",
    "                                           grid_results[\"params\"]):\n",
    "    print(f\"mean test score: {test_score}, mean train score: {train_score}, for {params}.\")"
   ]
  },
  {
   "cell_type": "markdown",
   "metadata": {},
   "source": [
    "## Non-Linear SVM"
   ]
  },
  {
   "cell_type": "code",
   "execution_count": 57,
   "metadata": {},
   "outputs": [],
   "source": [
    "poly_svm = SVC(kernel=\"poly\", class_weight=\"balanced\", random_state=42)\n",
    "param_grid = [\n",
    "    {\"C\": [100, 10, 1],\n",
    "     \"degree\": [3],\n",
    "     \"tol\": [0.001]}\n",
    "    ]\n",
    "grid_search = GridSearchCV(poly_svm,\n",
    "                           param_grid,\n",
    "                           scoring=\"average_precision\",\n",
    "                           return_train_score=True,\n",
    "                           cv=5,\n",
    "                           n_jobs=-1)\n",
    "grid_fit = grid_search.fit(X_train, y_train)\n",
    "grid_results = grid_search.cv_results_\n",
    "grid_best_params = grid_search.best_params_\n",
    "grid_best_score = grid_search.best_score_\n",
    "\n",
    "print(f\"best parameters found: {grid_best_params}, with mean test score: {grid_best_score}\")\n",
    "\n",
    "for test_score, train_score, params in zip(grid_results[\"mean_test_score\"],\n",
    "                                           grid_results[\"mean_test_score\"],\n",
    "                                           grid_results[\"params\"]):\n",
    "    print(f\"mean test score: {test_score}, mean train score: {train_score}, for {params}.\")"
   ]
  }
 ],
 "metadata": {
  "deepnote_execution_queue": [],
  "deepnote_notebook_id": "79cf9e9f-8a0d-481d-9e99-e8b40319ecb1",
  "kernelspec": {
   "display_name": "Python 3",
   "language": "python",
   "name": "python3"
  },
  "language_info": {
   "codemirror_mode": {
    "name": "ipython",
    "version": 3
   },
   "file_extension": ".py",
   "mimetype": "text/x-python",
   "name": "python",
   "nbconvert_exporter": "python",
   "pygments_lexer": "ipython3",
   "version": "3.8.6"
  }
 },
 "nbformat": 4,
 "nbformat_minor": 4
}