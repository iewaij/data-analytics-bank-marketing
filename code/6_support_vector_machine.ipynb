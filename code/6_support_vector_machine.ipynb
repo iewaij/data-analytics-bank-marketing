{
 "cells": [
  {
   "cell_type": "markdown",
   "metadata": {
    "cell_id": "00000-a549eb13-f084-4197-b42a-ec84b05c0aa6",
    "tags": []
   },
   "source": [
    "# Support Vector Machine"
   ]
  },
  {
   "cell_type": "code",
   "execution_count": 223,
   "metadata": {},
   "outputs": [],
   "source": [
    "import numpy as np\n",
    "import pandas as pd\n",
    "from category_encoders.target_encoder import TargetEncoder\n",
    "from sklearn.preprocessing import FunctionTransformer\n",
    "from sklearn.compose import ColumnTransformer\n",
    "from sklearn.pipeline import Pipeline\n",
    "from sklearn.experimental import enable_iterative_imputer\n",
    "from sklearn.impute import IterativeImputer\n",
    "from sklearn.impute import SimpleImputer\n",
    "from sklearn.preprocessing import StandardScaler\n",
    "from sklearn.preprocessing import MinMaxScaler\n",
    "from sklearn.model_selection import StratifiedShuffleSplit, GridSearchCV, RandomizedSearchCV, cross_validate\n",
    "from sklearn.linear_model import SGDClassifier\n",
    "from sklearn.kernel_approximation import RBFSampler\n",
    "from sklearn.svm import SVC, LinearSVC\n",
    "from sklearn.metrics import accuracy_score, average_precision_score, f1_score, precision_score, recall_score, balanced_accuracy_score, roc_auc_score, confusion_matrix\n",
    "from sklearn.utils.fixes import loguniform"
   ]
  },
  {
   "cell_type": "markdown",
   "metadata": {},
   "source": [
    "## Data Preparation"
   ]
  },
  {
   "cell_type": "code",
   "execution_count": 224,
   "metadata": {},
   "outputs": [],
   "source": [
    "def import_dataset(filename):\n",
    "    bank_mkt = pd.read_csv(filename,\n",
    "                           na_values=[\"unknown\", \"nonexistent\"],\n",
    "                           true_values=[\"yes\", \"success\"],\n",
    "                           false_values=[\"no\", \"failure\"])\n",
    "    # Treat pdays = 999 as missing values\n",
    "    bank_mkt[\"pdays\"] = bank_mkt[\"pdays\"].replace(999, pd.NA)\n",
    "    # Convert types, \"Int64\" is nullable integer data type in pandas\n",
    "    bank_mkt = bank_mkt.astype(dtype={\"age\": \"Int64\",\n",
    "                                      \"job\": \"category\",\n",
    "                                      \"marital\": \"category\",\n",
    "                                      \"education\": \"category\",\n",
    "                                      \"default\": \"boolean\",\n",
    "                                      \"housing\": \"boolean\",\n",
    "                                      \"loan\": \"boolean\",\n",
    "                                      \"contact\": \"category\",\n",
    "                                      \"month\": \"category\",\n",
    "                                      \"day_of_week\": \"category\",\n",
    "                                      \"duration\": \"Int64\",\n",
    "                                      \"campaign\": \"Int64\",\n",
    "                                      \"pdays\": \"Int64\",\n",
    "                                      \"previous\": \"Int64\",\n",
    "                                      \"poutcome\": \"boolean\",\n",
    "                                      \"y\": \"boolean\"})\n",
    "    # Drop duplicates\n",
    "    bank_mkt = bank_mkt.drop_duplicates().reset_index(drop=True)\n",
    "    # reorder categorical data\n",
    "    bank_mkt[\"education\"] = bank_mkt[\"education\"].cat.reorder_categories([\"illiterate\", \"basic.4y\", \"basic.6y\", \"basic.9y\", \"high.school\", \"professional.course\", \"university.degree\"], ordered=True)\n",
    "    bank_mkt[\"month\"] = bank_mkt[\"month\"].cat.reorder_categories([\"mar\", \"apr\", \"jun\", \"jul\", \"may\", \"aug\", \"sep\", \"oct\", \"nov\", \"dec\"], ordered=True)\n",
    "    bank_mkt[\"day_of_week\"] = bank_mkt[\"day_of_week\"].cat.reorder_categories([\"mon\", \"tue\", \"wed\", \"thu\", \"fri\"], ordered=True)\n",
    "    return bank_mkt"
   ]
  },
  {
   "cell_type": "code",
   "execution_count": 225,
   "metadata": {},
   "outputs": [],
   "source": [
    "bank_mkt = import_dataset(\"../data/BankMarketing.csv\")"
   ]
  },
  {
   "cell_type": "code",
   "execution_count": 226,
   "metadata": {},
   "outputs": [],
   "source": [
    "train_test_split = StratifiedShuffleSplit(n_splits=1, test_size=0.2, random_state=12)\n",
    "\n",
    "for train_index, test_index in train_test_split.split(bank_mkt.drop(\"y\", axis=1), bank_mkt[\"y\"]):\n",
    "    bank_train_set = bank_mkt.loc[train_index].reset_index(drop=True)\n",
    "    bank_test_set = bank_mkt.loc[test_index].reset_index(drop=True)"
   ]
  },
  {
   "cell_type": "code",
   "execution_count": 227,
   "metadata": {},
   "outputs": [
    {
     "name": "stderr",
     "output_type": "stream",
     "text": [
      "/usr/local/Caskroom/miniconda/base/envs/analytics/lib/python3.8/site-packages/category_encoders/utils.py:21: FutureWarning: is_categorical is deprecated and will be removed in a future version.  Use is_categorical_dtype instead\n",
      "  elif pd.api.types.is_categorical(cols):\n"
     ]
    }
   ],
   "source": [
    "# Features that should be encoded as their target mean value\n",
    "combine_features = [\"job\", \"education\"]\n",
    "\n",
    "combine_name = \".\".join(combine_features)\n",
    "\n",
    "# Features with missing values that should be imputed with most freq value\n",
    "freq_features = [\"default\", \"housing\", \"loan\"]\n",
    "\n",
    "# Features with missing values that should be imputed by IterativeImputer\n",
    "ite_features = [\"age\", \"job\", \"marital\", \"education\", \"default\", \"housing\", \"loan\"]\n",
    "\n",
    "# Features that should be mean encoded\n",
    "# target_features = [\"month\", \"day_of_week\"]\n",
    "target_features = [1,2,3,8,9,10]\n",
    "\n",
    "def svm_encode(X):\n",
    "    \"\"\"\n",
    "    Encode categorical data into numerical values.\n",
    "    pdays column will be feature engineered and discretized.\n",
    "    \"\"\"\n",
    "    X = X.copy()\n",
    "    # pdays column will be feature engineered and discretized.\n",
    "    X.loc[X[\"pdays\"].isna() & X[\"poutcome\"].notna(), \"pdays\"] = 999\n",
    "    X[\"pdays\"] = pd.cut(X[\"pdays\"], [0, 5, 10, 15, 30, 1000], labels=[1, 2, 3, 4, 5], include_lowest=True).astype(\"Int64\")\n",
    "    # Cut age into age groups\n",
    "    # X[\"age\"] = pd.cut(X[\"age\"], [0, 18, 24, 30, 35, 40, 45, 50, 55, 60, 100], labels=[18, 24, 30, 35, 40, 45, 50, 55, 60, 100], include_lowest=True).astype(\"Int64\")\n",
    "    # Feature interactions\n",
    "    # combine_features = [\"education\", \"job\"]\n",
    "    # combine_name = \"_\".join(combine_features)\n",
    "    # X[combine_name] = X[combine_features].astype(\"str\").apply(lambda x: \".\".join(x), axis=1)\n",
    "    # Encode nominal and ordinal features\n",
    "    # `month` will be encoded to the corresponding number, e.g. \"mar\" -> 3.\n",
    "    month_map = {\"mar\": 3,\n",
    "                 \"apr\": 4,\n",
    "                 \"may\": 5,\n",
    "                 \"jun\": 6,\n",
    "                 \"jul\": 7,\n",
    "                 \"aug\": 8,\n",
    "                 \"sep\": 9,\n",
    "                 \"oct\": 10,\n",
    "                 \"nov\": 11,\n",
    "                 \"dec\": 12}\n",
    "    X[\"month\"] = X[\"month\"].replace(month_map).astype(\"Int64\")\n",
    "    # Other categorical features will be coded as its order in pandas categorical index\n",
    "    cat_features = [\"job\", \"education\", \"marital\", \"day_of_week\", \"contact\"]\n",
    "    bool_features = [\"default\", \"housing\", \"loan\", \"poutcome\"]\n",
    "    X[cat_features] = X[cat_features].apply(lambda x: x.cat.codes).astype(\"Int64\")\n",
    "    X[bool_features] = X[bool_features].astype(\"Int64\")\n",
    "    # X[target_features] = X[target_features].astype(\"str\")\n",
    "    # Fill missing values as -1\n",
    "    X = X.fillna(-1)\n",
    "    return X\n",
    "\n",
    "svm_encoder = FunctionTransformer(svm_encode)\n",
    "\n",
    "ite_imputer = Pipeline([\n",
    "    (\"ite_imputer\", IterativeImputer(max_iter=100, missing_values=-1, initial_strategy=\"most_frequent\", random_state=42)),\n",
    "    (\"ite_round\", FunctionTransformer(np.round))\n",
    "])\n",
    "\n",
    "ite_transformer = ColumnTransformer([(\"ite_imputer\", ite_imputer, ite_features)], remainder=\"passthrough\")\n",
    "\n",
    "target_encoder = TargetEncoder(cols=target_features, return_df=False)\n",
    "\n",
    "svm_preprocessor = Pipeline([\n",
    "    (\"tree_encoder\", svm_encoder),\n",
    "    (\"ite_transformer\", ite_transformer),\n",
    "    (\"target_encoder\", target_encoder),\n",
    "    (\"scaler\", StandardScaler())\n",
    "])\n",
    "\n",
    "y_train = bank_train_set[\"y\"].astype(\"int\").to_numpy()\n",
    "X_duration = bank_train_set[\"duration\"].astype(\"int\").to_numpy()\n",
    "X_train = bank_train_set.drop([\"duration\", \"y\"], axis=1)\n",
    "X_train = svm_preprocessor.fit_transform(X_train, X_duration)\n",
    "y_test = bank_test_set[\"y\"].astype(\"int\").to_numpy()\n",
    "X_test = svm_preprocessor.transform(bank_test_set.drop([\"duration\", \"y\"], axis=1))"
   ]
  },
  {
   "cell_type": "code",
   "execution_count": 228,
   "metadata": {},
   "outputs": [],
   "source": [
    "drop_features = [\"age\", \"job\", \"marital\", \"education\", \"housing\", \"loan\", \"default\", \"duration\", \"y\"]\n",
    "\n",
    "def svm_encode(X):\n",
    "    \"\"\"\n",
    "    Encode categorical data into numerical values.\n",
    "    pdays column will be feature engineered and discretized.\n",
    "    \"\"\"\n",
    "    X = X.copy()\n",
    "    # Categorical and boolean features will be coded as number\n",
    "    X = X.apply(lambda x: x.cat.codes if pd.api.types.is_categorical_dtype(x) else (x.astype(\"Int64\") if pd.api.types.is_bool_dtype(x) else x))\n",
    "    # Drop features\n",
    "    X = X.drop(drop_features, axis=1)\n",
    "    # Fill missing values as -1\n",
    "    # X = X.fillna(-1).to_numpy()\n",
    "    X = X.fillna(-1)\n",
    "    return X\n",
    "\n",
    "svm_encoder = FunctionTransformer(svm_encode)\n",
    "\n",
    "svm_preprocessor = Pipeline([\n",
    "    (\"svm_encoder\", svm_encoder),\n",
    "#     (\"target_encoder\", TargetEncoder(cols=[\"month\", \"day_of_week\"], return_df=False)),\n",
    "    (\"scaler\", StandardScaler())\n",
    "])\n",
    "\n",
    "y_train = bank_train_set[\"y\"].astype(\"int\").to_numpy()\n",
    "X_train = svm_preprocessor.fit_transform(bank_train_set, y_train)\n",
    "y_test = bank_test_set[\"y\"].astype(\"int\").to_numpy()\n",
    "X_test = svm_preprocessor.transform(bank_test_set)"
   ]
  },
  {
   "cell_type": "markdown",
   "metadata": {},
   "source": [
    "## Linear SVM"
   ]
  },
  {
   "cell_type": "code",
   "execution_count": 229,
   "metadata": {},
   "outputs": [],
   "source": [
    "def clf_metric(clf):\n",
    "    matric_names = [\"ACC\", \"bACC\", \"ROC\", \"REC\", \"PRE\", \"F1\", \"AP\"]\n",
    "    cv_metric = [\"accuracy\", \"balanced_accuracy\", \"roc_auc\", \"recall\", \"precision\", \"f1\", \"average_precision\"]\n",
    "    set_names = [\"Train\", \"Validation\", \"Test\"]\n",
    "    metric_df = pd.DataFrame(index=matric_names, columns=set_names)\n",
    "\n",
    "    fit = clf.fit(X_train, y_train)\n",
    "    cv_score = cross_validate(clf, X_train, y_train, scoring=cv_metric, cv=5, n_jobs=-1, return_train_score=True)\n",
    "    cv_mean = pd.DataFrame(cv_score).mean()\n",
    "    train_mean = cv_mean[[\"train_accuracy\", \"train_balanced_accuracy\", \"train_roc_auc\", \"train_recall\", \"train_precision\", \"train_f1\", \"train_average_precision\"]].to_numpy()\n",
    "    validation_mean = cv_mean[[\"test_accuracy\", \"test_balanced_accuracy\", \"test_roc_auc\", \"test_recall\", \"test_precision\", \"test_f1\", \"test_average_precision\"]].to_numpy()\n",
    "\n",
    "    y_pred = clf.predict(X_test)\n",
    "    y_score = clf.decision_function(X_test)\n",
    "    test_score = [accuracy_score(y_test, y_pred),\n",
    "                  balanced_accuracy_score(y_test, y_pred),\n",
    "                  roc_auc_score(y_test, y_score),\n",
    "                  recall_score(y_test, y_pred),\n",
    "                  precision_score(y_test, y_pred),\n",
    "                  f1_score(y_test, y_pred),\n",
    "                  average_precision_score(y_test, y_score)]\n",
    "\n",
    "    metric_df.loc[:, \"Train\"] = train_mean\n",
    "    metric_df.loc[:, \"Validation\"] = validation_mean\n",
    "    metric_df.loc[:, \"Test\"] = test_score\n",
    "    return metric_df"
   ]
  },
  {
   "cell_type": "code",
   "execution_count": 230,
   "metadata": {},
   "outputs": [],
   "source": [
    "linear_svm = LinearSVC(dual=False, class_weight=\"balanced\", random_state=42)"
   ]
  },
  {
   "cell_type": "code",
   "execution_count": 221,
   "metadata": {},
   "outputs": [
    {
     "name": "stdout",
     "output_type": "stream",
     "text": [
      "best parameters found: {'C': 2.2805604370846098, 'loss': 'squared_hinge'}, with mean test score: 0.4329862719989707\n"
     ]
    }
   ],
   "source": [
    "param_distributions = {\"loss\": [\"squared_hinge\", \"hinge\"],\n",
    "                       \"C\": loguniform(1e0, 1e3)}\n",
    "\n",
    "random_search = RandomizedSearchCV(linear_svm,\n",
    "                                   param_distributions,\n",
    "                                   scoring=\"average_precision\",\n",
    "                                   cv=5,\n",
    "                                   n_jobs=-1,\n",
    "                                   n_iter=100)\n",
    "\n",
    "grid_fit = random_search.fit(X_train, y_train)\n",
    "grid_results = random_search.cv_results_\n",
    "grid_best_params = random_search.best_params_\n",
    "grid_best_score = random_search.best_score_\n",
    "\n",
    "print(f\"best parameters found: {grid_best_params}, with mean test score: {grid_best_score}\")"
   ]
  },
  {
   "cell_type": "code",
   "execution_count": 231,
   "metadata": {},
   "outputs": [
    {
     "name": "stdout",
     "output_type": "stream",
     "text": [
      "best parameters found: {'C': 1}, with mean test score: 0.4119208100466861\n"
     ]
    }
   ],
   "source": [
    "param_grid = [\n",
    "    {\"C\": [5,2,1]}\n",
    "    ]\n",
    "grid_search = GridSearchCV(linear_svm,\n",
    "                           param_grid,\n",
    "                           scoring=\"average_precision\",\n",
    "                           return_train_score=True,\n",
    "                           cv=5,\n",
    "                           n_jobs=-1)\n",
    "\n",
    "grid_fit = grid_search.fit(X_train, y_train)\n",
    "grid_results = grid_search.cv_results_\n",
    "grid_best_params = grid_search.best_params_\n",
    "grid_best_score = grid_search.best_score_\n",
    "\n",
    "print(f\"best parameters found: {grid_best_params}, with mean test score: {grid_best_score}\")"
   ]
  },
  {
   "cell_type": "code",
   "execution_count": 232,
   "metadata": {},
   "outputs": [
    {
     "data": {
      "text/html": [
       "<div>\n",
       "<style scoped>\n",
       "    .dataframe tbody tr th:only-of-type {\n",
       "        vertical-align: middle;\n",
       "    }\n",
       "\n",
       "    .dataframe tbody tr th {\n",
       "        vertical-align: top;\n",
       "    }\n",
       "\n",
       "    .dataframe thead th {\n",
       "        text-align: right;\n",
       "    }\n",
       "</style>\n",
       "<table border=\"1\" class=\"dataframe\">\n",
       "  <thead>\n",
       "    <tr style=\"text-align: right;\">\n",
       "      <th></th>\n",
       "      <th>Train</th>\n",
       "      <th>Validation</th>\n",
       "      <th>Test</th>\n",
       "    </tr>\n",
       "  </thead>\n",
       "  <tbody>\n",
       "    <tr>\n",
       "      <th>ACC</th>\n",
       "      <td>0.767911</td>\n",
       "      <td>0.768033</td>\n",
       "      <td>0.768334</td>\n",
       "    </tr>\n",
       "    <tr>\n",
       "      <th>bACC</th>\n",
       "      <td>0.726422</td>\n",
       "      <td>0.726259</td>\n",
       "      <td>0.727875</td>\n",
       "    </tr>\n",
       "    <tr>\n",
       "      <th>ROC</th>\n",
       "      <td>0.781397</td>\n",
       "      <td>0.780210</td>\n",
       "      <td>0.782012</td>\n",
       "    </tr>\n",
       "    <tr>\n",
       "      <th>REC</th>\n",
       "      <td>0.672865</td>\n",
       "      <td>0.672334</td>\n",
       "      <td>0.675647</td>\n",
       "    </tr>\n",
       "    <tr>\n",
       "      <th>PRE</th>\n",
       "      <td>0.279885</td>\n",
       "      <td>0.279757</td>\n",
       "      <td>0.280662</td>\n",
       "    </tr>\n",
       "    <tr>\n",
       "      <th>F1</th>\n",
       "      <td>0.395235</td>\n",
       "      <td>0.395091</td>\n",
       "      <td>0.396584</td>\n",
       "    </tr>\n",
       "    <tr>\n",
       "      <th>AP</th>\n",
       "      <td>0.413407</td>\n",
       "      <td>0.411921</td>\n",
       "      <td>0.418603</td>\n",
       "    </tr>\n",
       "  </tbody>\n",
       "</table>\n",
       "</div>"
      ],
      "text/plain": [
       "         Train  Validation      Test\n",
       "ACC   0.767911    0.768033  0.768334\n",
       "bACC  0.726422    0.726259  0.727875\n",
       "ROC   0.781397    0.780210  0.782012\n",
       "REC   0.672865    0.672334  0.675647\n",
       "PRE   0.279885    0.279757  0.280662\n",
       "F1    0.395235    0.395091  0.396584\n",
       "AP    0.413407    0.411921  0.418603"
      ]
     },
     "execution_count": 232,
     "metadata": {},
     "output_type": "execute_result"
    }
   ],
   "source": [
    "linear_svm = LinearSVC(loss=\"squared_hinge\", C=1, dual=False, class_weight=\"balanced\", random_state=42)\n",
    "clf_metric(linear_svm)"
   ]
  },
  {
   "cell_type": "code",
   "execution_count": 222,
   "metadata": {},
   "outputs": [
    {
     "data": {
      "text/html": [
       "<div>\n",
       "<style scoped>\n",
       "    .dataframe tbody tr th:only-of-type {\n",
       "        vertical-align: middle;\n",
       "    }\n",
       "\n",
       "    .dataframe tbody tr th {\n",
       "        vertical-align: top;\n",
       "    }\n",
       "\n",
       "    .dataframe thead th {\n",
       "        text-align: right;\n",
       "    }\n",
       "</style>\n",
       "<table border=\"1\" class=\"dataframe\">\n",
       "  <thead>\n",
       "    <tr style=\"text-align: right;\">\n",
       "      <th></th>\n",
       "      <th>Train</th>\n",
       "      <th>Validation</th>\n",
       "      <th>Test</th>\n",
       "    </tr>\n",
       "  </thead>\n",
       "  <tbody>\n",
       "    <tr>\n",
       "      <th>ACC</th>\n",
       "      <td>0.775440</td>\n",
       "      <td>0.775015</td>\n",
       "      <td>0.774769</td>\n",
       "    </tr>\n",
       "    <tr>\n",
       "      <th>bACC</th>\n",
       "      <td>0.728312</td>\n",
       "      <td>0.727135</td>\n",
       "      <td>0.728209</td>\n",
       "    </tr>\n",
       "    <tr>\n",
       "      <th>ROC</th>\n",
       "      <td>0.783740</td>\n",
       "      <td>0.781762</td>\n",
       "      <td>0.781874</td>\n",
       "    </tr>\n",
       "    <tr>\n",
       "      <th>REC</th>\n",
       "      <td>0.667475</td>\n",
       "      <td>0.665327</td>\n",
       "      <td>0.668103</td>\n",
       "    </tr>\n",
       "    <tr>\n",
       "      <th>PRE</th>\n",
       "      <td>0.286718</td>\n",
       "      <td>0.285818</td>\n",
       "      <td>0.286110</td>\n",
       "    </tr>\n",
       "    <tr>\n",
       "      <th>F1</th>\n",
       "      <td>0.401117</td>\n",
       "      <td>0.399838</td>\n",
       "      <td>0.400646</td>\n",
       "    </tr>\n",
       "    <tr>\n",
       "      <th>AP</th>\n",
       "      <td>0.434161</td>\n",
       "      <td>0.432987</td>\n",
       "      <td>0.425736</td>\n",
       "    </tr>\n",
       "  </tbody>\n",
       "</table>\n",
       "</div>"
      ],
      "text/plain": [
       "         Train  Validation      Test\n",
       "ACC   0.775440    0.775015  0.774769\n",
       "bACC  0.728312    0.727135  0.728209\n",
       "ROC   0.783740    0.781762  0.781874\n",
       "REC   0.667475    0.665327  0.668103\n",
       "PRE   0.286718    0.285818  0.286110\n",
       "F1    0.401117    0.399838  0.400646\n",
       "AP    0.434161    0.432987  0.425736"
      ]
     },
     "execution_count": 222,
     "metadata": {},
     "output_type": "execute_result"
    }
   ],
   "source": [
    "linear_svm = LinearSVC(loss=\"squared_hinge\", C=2, dual=False, class_weight=\"balanced\", random_state=42)\n",
    "clf_metric(linear_svm)"
   ]
  },
  {
   "cell_type": "markdown",
   "metadata": {},
   "source": [
    "## Non-Linear SVM"
   ]
  },
  {
   "cell_type": "markdown",
   "metadata": {},
   "source": [
    "The Nystroem method, as implemented in Nystroem is a general method for low-rank approximations of kernels. It achieves this by essentially subsampling the data on which the kernel is evaluated."
   ]
  },
  {
   "cell_type": "code",
   "execution_count": 200,
   "metadata": {},
   "outputs": [],
   "source": [
    "rbf_sgd_clf = Pipeline([\n",
    "    (\"rbf\", RBFSampler(random_state=42)),\n",
    "    (\"svm\", SGDClassifier(class_weight=\"balanced\"))\n",
    "])"
   ]
  },
  {
   "cell_type": "code",
   "execution_count": 203,
   "metadata": {},
   "outputs": [
    {
     "name": "stdout",
     "output_type": "stream",
     "text": [
      "best parameters found: {'rbf__gamma': 0.0009558911069941637, 'svm__alpha': 4.051869841853733e-09}, with mean test score: 0.43036481588988706\n"
     ]
    }
   ],
   "source": [
    "param_distributions = {\n",
    "    \"rbf__gamma\": loguniform(1e-6, 1e-3),\n",
    "    \"svm__alpha\": loguniform(1e-10, 1e-6)}\n",
    "\n",
    "random_search = RandomizedSearchCV(rbf_sgd_clf,\n",
    "                                   param_distributions,\n",
    "                                   scoring=\"average_precision\",\n",
    "                                   cv=5,\n",
    "                                   n_jobs=-1,\n",
    "                                   n_iter=10)\n",
    "\n",
    "grid_fit = random_search.fit(X_train, y_train)\n",
    "grid_results = random_search.cv_results_\n",
    "grid_best_params = random_search.best_params_\n",
    "grid_best_score = random_search.best_score_\n",
    "\n",
    "print(f\"best parameters found: {grid_best_params}, with mean test score: {grid_best_score}\")"
   ]
  },
  {
   "cell_type": "code",
   "execution_count": 166,
   "metadata": {},
   "outputs": [
    {
     "name": "stdout",
     "output_type": "stream",
     "text": [
      "best parameters found: {'rbf__gamma': 0.0008, 'svm__alpha': 1e-06}, with mean test score: 0.4324409893062057\n"
     ]
    }
   ],
   "source": [
    "param_grid = {\n",
    "    \"rbf__gamma\": [0.0008, 0.0001, 0.001],\n",
    "    \"svm__alpha\": [1e-7, 1e-6, 1e-5]}\n",
    "\n",
    "grid_search = GridSearchCV(rbf_sgd_clf,\n",
    "                           param_grid,\n",
    "                           scoring=\"average_precision\",\n",
    "                           cv=5,\n",
    "                           n_jobs=-1)\n",
    "\n",
    "grid_fit = grid_search.fit(X_train, y_train)\n",
    "grid_results = grid_search.cv_results_\n",
    "grid_best_params = grid_search.best_params_\n",
    "grid_best_score = grid_search.best_score_\n",
    "\n",
    "print(f\"best parameters found: {grid_best_params}, with mean test score: {grid_best_score}\")"
   ]
  },
  {
   "cell_type": "code",
   "execution_count": 209,
   "metadata": {},
   "outputs": [
    {
     "data": {
      "text/html": [
       "<div>\n",
       "<style scoped>\n",
       "    .dataframe tbody tr th:only-of-type {\n",
       "        vertical-align: middle;\n",
       "    }\n",
       "\n",
       "    .dataframe tbody tr th {\n",
       "        vertical-align: top;\n",
       "    }\n",
       "\n",
       "    .dataframe thead th {\n",
       "        text-align: right;\n",
       "    }\n",
       "</style>\n",
       "<table border=\"1\" class=\"dataframe\">\n",
       "  <thead>\n",
       "    <tr style=\"text-align: right;\">\n",
       "      <th></th>\n",
       "      <th>Train</th>\n",
       "      <th>Validation</th>\n",
       "      <th>Test</th>\n",
       "    </tr>\n",
       "  </thead>\n",
       "  <tbody>\n",
       "    <tr>\n",
       "      <th>ACC</th>\n",
       "      <td>0.704903</td>\n",
       "      <td>0.700789</td>\n",
       "      <td>0.842399</td>\n",
       "    </tr>\n",
       "    <tr>\n",
       "      <th>bACC</th>\n",
       "      <td>0.694084</td>\n",
       "      <td>0.689466</td>\n",
       "      <td>0.737154</td>\n",
       "    </tr>\n",
       "    <tr>\n",
       "      <th>ROC</th>\n",
       "      <td>0.791821</td>\n",
       "      <td>0.789438</td>\n",
       "      <td>0.790256</td>\n",
       "    </tr>\n",
       "    <tr>\n",
       "      <th>REC</th>\n",
       "      <td>0.680123</td>\n",
       "      <td>0.674829</td>\n",
       "      <td>0.601293</td>\n",
       "    </tr>\n",
       "    <tr>\n",
       "      <th>PRE</th>\n",
       "      <td>0.309623</td>\n",
       "      <td>0.302660</td>\n",
       "      <td>0.375505</td>\n",
       "    </tr>\n",
       "    <tr>\n",
       "      <th>F1</th>\n",
       "      <td>0.385414</td>\n",
       "      <td>0.376726</td>\n",
       "      <td>0.462303</td>\n",
       "    </tr>\n",
       "    <tr>\n",
       "      <th>AP</th>\n",
       "      <td>0.444368</td>\n",
       "      <td>0.440877</td>\n",
       "      <td>0.431151</td>\n",
       "    </tr>\n",
       "  </tbody>\n",
       "</table>\n",
       "</div>"
      ],
      "text/plain": [
       "         Train  Validation      Test\n",
       "ACC   0.704903    0.700789  0.842399\n",
       "bACC  0.694084    0.689466  0.737154\n",
       "ROC   0.791821    0.789438  0.790256\n",
       "REC   0.680123    0.674829  0.601293\n",
       "PRE   0.309623    0.302660  0.375505\n",
       "F1    0.385414    0.376726  0.462303\n",
       "AP    0.444368    0.440877  0.431151"
      ]
     },
     "execution_count": 209,
     "metadata": {},
     "output_type": "execute_result"
    }
   ],
   "source": [
    "rbf_sgd_tuned = rbf_sgd_clf.set_params(rbf__gamma=0.0009, svm__alpha=1e-6)\n",
    "clf_metric(rbf_sgd_tuned)"
   ]
  },
  {
   "cell_type": "code",
   "execution_count": 210,
   "metadata": {},
   "outputs": [
    {
     "data": {
      "text/html": [
       "<div>\n",
       "<style scoped>\n",
       "    .dataframe tbody tr th:only-of-type {\n",
       "        vertical-align: middle;\n",
       "    }\n",
       "\n",
       "    .dataframe tbody tr th {\n",
       "        vertical-align: top;\n",
       "    }\n",
       "\n",
       "    .dataframe thead th {\n",
       "        text-align: right;\n",
       "    }\n",
       "</style>\n",
       "<table border=\"1\" class=\"dataframe\">\n",
       "  <thead>\n",
       "    <tr style=\"text-align: right;\">\n",
       "      <th></th>\n",
       "      <th>Train</th>\n",
       "      <th>Validation</th>\n",
       "      <th>Test</th>\n",
       "    </tr>\n",
       "  </thead>\n",
       "  <tbody>\n",
       "    <tr>\n",
       "      <th>ACC</th>\n",
       "      <td>0.563669</td>\n",
       "      <td>0.563297</td>\n",
       "      <td>0.361705</td>\n",
       "    </tr>\n",
       "    <tr>\n",
       "      <th>bACC</th>\n",
       "      <td>0.648558</td>\n",
       "      <td>0.647033</td>\n",
       "      <td>0.605048</td>\n",
       "    </tr>\n",
       "    <tr>\n",
       "      <th>ROC</th>\n",
       "      <td>0.791224</td>\n",
       "      <td>0.789567</td>\n",
       "      <td>0.790342</td>\n",
       "    </tr>\n",
       "    <tr>\n",
       "      <th>REC</th>\n",
       "      <td>0.758141</td>\n",
       "      <td>0.755104</td>\n",
       "      <td>0.919181</td>\n",
       "    </tr>\n",
       "    <tr>\n",
       "      <th>PRE</th>\n",
       "      <td>0.284227</td>\n",
       "      <td>0.281061</td>\n",
       "      <td>0.141342</td>\n",
       "    </tr>\n",
       "    <tr>\n",
       "      <th>F1</th>\n",
       "      <td>0.368936</td>\n",
       "      <td>0.365697</td>\n",
       "      <td>0.245009</td>\n",
       "    </tr>\n",
       "    <tr>\n",
       "      <th>AP</th>\n",
       "      <td>0.442834</td>\n",
       "      <td>0.438833</td>\n",
       "      <td>0.435122</td>\n",
       "    </tr>\n",
       "  </tbody>\n",
       "</table>\n",
       "</div>"
      ],
      "text/plain": [
       "         Train  Validation      Test\n",
       "ACC   0.563669    0.563297  0.361705\n",
       "bACC  0.648558    0.647033  0.605048\n",
       "ROC   0.791224    0.789567  0.790342\n",
       "REC   0.758141    0.755104  0.919181\n",
       "PRE   0.284227    0.281061  0.141342\n",
       "F1    0.368936    0.365697  0.245009\n",
       "AP    0.442834    0.438833  0.435122"
      ]
     },
     "execution_count": 210,
     "metadata": {},
     "output_type": "execute_result"
    }
   ],
   "source": [
    "rbf_sgd_tuned = rbf_sgd_clf.set_params(rbf__gamma=0.0008, svm__alpha=1e-6)\n",
    "clf_metric(rbf_sgd_tuned)"
   ]
  },
  {
   "cell_type": "code",
   "execution_count": 233,
   "metadata": {},
   "outputs": [],
   "source": [
    "rbf_clf = Pipeline([\n",
    "    (\"rbf\", RBFSampler(random_state=42)),\n",
    "    (\"svm\", LinearSVC(loss=\"squared_hinge\", dual=False, class_weight=\"balanced\", max_iter=1000))\n",
    "])"
   ]
  },
  {
   "cell_type": "code",
   "execution_count": 234,
   "metadata": {},
   "outputs": [
    {
     "name": "stdout",
     "output_type": "stream",
     "text": [
      "best parameters found: {'rbf__gamma': 7.577656549962983e-05, 'svm__C': 2.866049325364455}, with mean test score: 0.4184970508015223\n"
     ]
    }
   ],
   "source": [
    "param_distributions = {\n",
    "    \"rbf__gamma\": loguniform(1e-6, 1e-3),\n",
    "    \"svm__C\": loguniform(1e-1, 1e1)}\n",
    "\n",
    "random_search = RandomizedSearchCV(rbf_clf,\n",
    "                                   param_distributions,\n",
    "                                   scoring=\"average_precision\",\n",
    "                                   cv=5,\n",
    "                                   n_jobs=-1,\n",
    "                                   n_iter=10)\n",
    "\n",
    "grid_fit = random_search.fit(X_train, y_train)\n",
    "grid_results = random_search.cv_results_\n",
    "grid_best_params = random_search.best_params_\n",
    "grid_best_score = random_search.best_score_\n",
    "\n",
    "print(f\"best parameters found: {grid_best_params}, with mean test score: {grid_best_score}\")"
   ]
  },
  {
   "cell_type": "code",
   "execution_count": 235,
   "metadata": {},
   "outputs": [
    {
     "name": "stdout",
     "output_type": "stream",
     "text": [
      "best parameters found: {'rbf__gamma': 0.001, 'svm__C': 20}, with mean test score: 0.43551790941021673\n"
     ]
    }
   ],
   "source": [
    "param_grid = {\n",
    "    \"rbf__gamma\": [0.0001, 0.001, 0.01],\n",
    "    \"svm__C\": [1, 10, 20]}\n",
    "\n",
    "grid_search = GridSearchCV(rbf_clf,\n",
    "                           param_grid,\n",
    "                           scoring=\"average_precision\",\n",
    "                           cv=5,\n",
    "                           n_jobs=-1)\n",
    "\n",
    "grid_fit = grid_search.fit(X_train, y_train)\n",
    "grid_results = grid_search.cv_results_\n",
    "grid_best_params = grid_search.best_params_\n",
    "grid_best_score = grid_search.best_score_\n",
    "\n",
    "print(f\"best parameters found: {grid_best_params}, with mean test score: {grid_best_score}\")"
   ]
  },
  {
   "cell_type": "code",
   "execution_count": 236,
   "metadata": {},
   "outputs": [
    {
     "data": {
      "text/html": [
       "<div>\n",
       "<style scoped>\n",
       "    .dataframe tbody tr th:only-of-type {\n",
       "        vertical-align: middle;\n",
       "    }\n",
       "\n",
       "    .dataframe tbody tr th {\n",
       "        vertical-align: top;\n",
       "    }\n",
       "\n",
       "    .dataframe thead th {\n",
       "        text-align: right;\n",
       "    }\n",
       "</style>\n",
       "<table border=\"1\" class=\"dataframe\">\n",
       "  <thead>\n",
       "    <tr style=\"text-align: right;\">\n",
       "      <th></th>\n",
       "      <th>Train</th>\n",
       "      <th>Validation</th>\n",
       "      <th>Test</th>\n",
       "    </tr>\n",
       "  </thead>\n",
       "  <tbody>\n",
       "    <tr>\n",
       "      <th>ACC</th>\n",
       "      <td>0.765634</td>\n",
       "      <td>0.765786</td>\n",
       "      <td>0.771734</td>\n",
       "    </tr>\n",
       "    <tr>\n",
       "      <th>bACC</th>\n",
       "      <td>0.728932</td>\n",
       "      <td>0.728639</td>\n",
       "      <td>0.733084</td>\n",
       "    </tr>\n",
       "    <tr>\n",
       "      <th>ROC</th>\n",
       "      <td>0.784913</td>\n",
       "      <td>0.783210</td>\n",
       "      <td>0.783101</td>\n",
       "    </tr>\n",
       "    <tr>\n",
       "      <th>REC</th>\n",
       "      <td>0.681555</td>\n",
       "      <td>0.680685</td>\n",
       "      <td>0.683190</td>\n",
       "    </tr>\n",
       "    <tr>\n",
       "      <th>PRE</th>\n",
       "      <td>0.278976</td>\n",
       "      <td>0.278960</td>\n",
       "      <td>0.285586</td>\n",
       "    </tr>\n",
       "    <tr>\n",
       "      <th>F1</th>\n",
       "      <td>0.395884</td>\n",
       "      <td>0.395717</td>\n",
       "      <td>0.402795</td>\n",
       "    </tr>\n",
       "    <tr>\n",
       "      <th>AP</th>\n",
       "      <td>0.433833</td>\n",
       "      <td>0.431180</td>\n",
       "      <td>0.433372</td>\n",
       "    </tr>\n",
       "  </tbody>\n",
       "</table>\n",
       "</div>"
      ],
      "text/plain": [
       "         Train  Validation      Test\n",
       "ACC   0.765634    0.765786  0.771734\n",
       "bACC  0.728932    0.728639  0.733084\n",
       "ROC   0.784913    0.783210  0.783101\n",
       "REC   0.681555    0.680685  0.683190\n",
       "PRE   0.278976    0.278960  0.285586\n",
       "F1    0.395884    0.395717  0.402795\n",
       "AP    0.433833    0.431180  0.433372"
      ]
     },
     "execution_count": 236,
     "metadata": {},
     "output_type": "execute_result"
    }
   ],
   "source": [
    "rbf_tuned = rbf_clf.set_params(rbf__gamma=0.0009, svm__C=1)\n",
    "clf_metric(rbf_tuned)"
   ]
  },
  {
   "cell_type": "code",
   "execution_count": null,
   "metadata": {},
   "outputs": [],
   "source": []
  }
 ],
 "metadata": {
  "deepnote_execution_queue": [],
  "deepnote_notebook_id": "79cf9e9f-8a0d-481d-9e99-e8b40319ecb1",
  "kernelspec": {
   "display_name": "Python 3",
   "language": "python",
   "name": "python3"
  },
  "language_info": {
   "codemirror_mode": {
    "name": "ipython",
    "version": 3
   },
   "file_extension": ".py",
   "mimetype": "text/x-python",
   "name": "python",
   "nbconvert_exporter": "python",
   "pygments_lexer": "ipython3",
   "version": "3.8.6"
  }
 },
 "nbformat": 4,
 "nbformat_minor": 4
}
