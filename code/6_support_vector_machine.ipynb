{
 "cells": [
  {
   "cell_type": "markdown",
   "metadata": {
    "cell_id": "00000-a549eb13-f084-4197-b42a-ec84b05c0aa6",
    "tags": []
   },
   "source": [
    "# Support Vector Machine\n",
    "\n",
    "This is SVM part."
   ]
  },
  {
   "cell_type": "markdown",
   "metadata": {},
   "source": [
    "## Data Preparation"
   ]
  },
  {
   "cell_type": "code",
   "execution_count": 4,
   "metadata": {},
   "outputs": [],
   "source": [
    "import numpy as np\n",
    "import pandas as pd\n",
    "pd.set_option('max_columns', None)\n",
    "pd.set_option(\"max_colwidth\", None)\n",
    "from sklearn.model_selection import StratifiedShuffleSplit\n",
    "from sklearn.pipeline import Pipeline\n",
    "from sklearn.compose import ColumnTransformer\n",
    "from sklearn.preprocessing import FunctionTransformer\n",
    "from sklearn.preprocessing import StandardScaler\n",
    "from sklearn.preprocessing import MinMaxScaler\n",
    "from sklearn.impute import SimpleImputer\n",
    "from sklearn.preprocessing import OneHotEncoder"
   ]
  },
  {
   "cell_type": "code",
   "execution_count": 5,
   "metadata": {},
   "outputs": [],
   "source": [
    "# Features where the missing values will be imputed as the most frequent value\n",
    "freq_features = [\"job\", \"marital\", \"education\"]\n",
    "\n",
    "# Features where the missing values will be filled as a distinct value\n",
    "fill_features = [\"housing\", \"loan\", \"default\", \"pdays\", \"poutcome\"]\n",
    "\n",
    "# Features that are not in freq_features or fill_features but need to be one hot encoded\n",
    "one_hot_features = [\"contact\"]"
   ]
  },
  {
   "cell_type": "code",
   "execution_count": 6,
   "metadata": {},
   "outputs": [],
   "source": [
    "def import_dataset(filename):\n",
    "    bank_mkt = pd.read_csv(filename,\n",
    "                           na_values=[\"unknown\", \"nonexistent\"],\n",
    "                           true_values=[\"yes\", \"success\"],\n",
    "                           false_values=[\"no\", \"failure\"])\n",
    "    # Treat pdays = 999 as missing values\n",
    "    bank_mkt[\"pdays\"] = bank_mkt[\"pdays\"].replace(999, pd.NA)\n",
    "    # Convert types, \"Int64\" is nullable integer data type in pandas\n",
    "    bank_mkt = bank_mkt.astype(dtype={\"age\": \"Int64\",\n",
    "                                      \"job\": \"category\",\n",
    "                                      \"marital\": \"category\",\n",
    "                                      \"education\": \"category\",\n",
    "                                      \"default\": \"boolean\",\n",
    "                                      \"housing\": \"boolean\",\n",
    "                                      \"loan\": \"boolean\",\n",
    "                                      \"contact\": \"category\",\n",
    "                                      \"month\": \"category\",\n",
    "                                      \"day_of_week\": \"category\",\n",
    "                                      \"duration\": \"Int64\",\n",
    "                                      \"campaign\": \"Int64\",\n",
    "                                      \"pdays\": \"Int64\",\n",
    "                                      \"previous\": \"Int64\",\n",
    "                                      \"poutcome\": \"boolean\",\n",
    "                                      \"y\": \"boolean\"})\n",
    "    # reorder categorical data\n",
    "    bank_mkt[\"education\"] = bank_mkt[\"education\"].cat.reorder_categories([\"illiterate\", \"basic.4y\", \"basic.6y\", \"basic.9y\", \"high.school\", \"professional.course\", \"university.degree\"], ordered=True)\n",
    "    bank_mkt[\"month\"] = bank_mkt[\"month\"].cat.reorder_categories([\"mar\", \"apr\", \"jun\", \"jul\", \"may\", \"aug\", \"sep\", \"oct\", \"nov\", \"dec\"], ordered=True)\n",
    "    bank_mkt[\"day_of_week\"] = bank_mkt[\"day_of_week\"].cat.reorder_categories([\"mon\", \"tue\", \"wed\", \"thu\", \"fri\"], ordered=True)\n",
    "    return bank_mkt\n",
    "\n",
    "def pdays_transformation(X):\n",
    "    \"\"\"Feature Engineering `pdays`.\"\"\"\n",
    "    X = X.copy()\n",
    "    X.loc[X[\"pdays\"].isna() & X[\"poutcome\"].notna(), \"pdays\"] = 999\n",
    "    X[\"pdays\"] = pd.cut(X[\"pdays\"], [0, 5, 10, 15, 30, 1000], labels=[\"<=5\", \"<=10\", \"<=15\", \"<=30\", \">30\"], include_lowest=True)\n",
    "    return X\n",
    "\n",
    "def ordinal_transformation(X, education=None):\n",
    "    \"\"\"Encode ordinal labels.\n",
    "\n",
    "    education: if education is \"year\", education column will be encoded into years of eductaion.\n",
    "    \"\"\"\n",
    "    X = X.copy()\n",
    "    ordinal_features = [\"education\", \"month\", \"day_of_week\"]\n",
    "    X[ordinal_features] = X[ordinal_features].apply(lambda x: x.cat.codes)\n",
    "    if education==\"year\":\n",
    "        education_map = { 0: 0, # illiterate\n",
    "                          1: 4, # basic.4y\n",
    "                          2: 6, # basic.6y\n",
    "                          3: 9, # basic.9y\n",
    "                          4: 12, # high.school\n",
    "                          5: 15, # professional course\n",
    "                          6: 16} # university\n",
    "        X[\"education\"] = X[\"education\"].replace(education_map)\n",
    "    return X\n",
    "\n",
    "def bool_transformation(X):\n",
    "    \"\"\"Transform boolean data into categorical data.\"\"\"\n",
    "    X = X.copy()\n",
    "    bool_features = [\"default\", \"housing\", \"loan\", \"poutcome\"]\n",
    "    X[bool_features] = X[bool_features].astype(\"category\")\n",
    "    X[bool_features] = X[bool_features].replace({True: \"true\", False: \"false\"})\n",
    "    return X\n",
    "\n",
    "cut_transformer = FunctionTransformer(pdays_transformation)\n",
    "\n",
    "ordinal_transformer = FunctionTransformer(ordinal_transformation)\n",
    "\n",
    "bool_transformer = FunctionTransformer(bool_transformation)\n",
    "\n",
    "freq_transformer = Pipeline([\n",
    "    (\"freq_imputer\", SimpleImputer(strategy=\"most_frequent\")),\n",
    "    (\"one_hot_encoder\", OneHotEncoder(drop=\"first\", handle_unknown=\"error\"))\n",
    "])\n",
    "\n",
    "fill_transformer = Pipeline([\n",
    "    (\"freq_imputer\", SimpleImputer(strategy=\"constant\", fill_value=\"missing\")),\n",
    "    (\"one_hot_encoder\", OneHotEncoder(drop=\"first\", handle_unknown=\"error\"))\n",
    "])\n",
    "\n",
    "cat_transformer = ColumnTransformer([\n",
    "    (\"freq_imputer\", freq_transformer, freq_features),\n",
    "    (\"fill_imputer\", fill_transformer, fill_features),\n",
    "    (\"one_hot_encoder\", OneHotEncoder(drop=\"first\", handle_unknown=\"error\"), one_hot_features)\n",
    "], remainder=\"passthrough\")\n",
    "\n",
    "preprocessor = Pipeline([\n",
    "    (\"bool_transformer\", bool_transformer),\n",
    "    (\"cut_transformer\", cut_transformer),\n",
    "    (\"ordinal_transformer\", ordinal_transformer),\n",
    "    (\"cat_transformer\", cat_transformer),\n",
    "    (\"scaler\", StandardScaler())\n",
    "])"
   ]
  },
  {
   "cell_type": "code",
   "execution_count": 7,
   "metadata": {},
   "outputs": [],
   "source": [
    "bank_mkt = import_dataset(\"../data/BankMarketing.csv\")\n",
    "\n",
    "train_test_split = StratifiedShuffleSplit(n_splits=1, test_size=0.2, random_state=42)\n",
    "\n",
    "for train_index, test_index in train_test_split.split(bank_mkt.drop(\"y\", axis=1), bank_mkt[\"y\"]):\n",
    "    bank_train_set = bank_mkt.loc[train_index].reset_index(drop=True)\n",
    "    bank_test_set = bank_mkt.loc[test_index].reset_index(drop=True)\n",
    "\n",
    "X_train = preprocessor.fit_transform(bank_train_set.drop([\"duration\", \"y\"], axis=1))\n",
    "y_train = bank_train_set[\"y\"].astype(\"int\").to_numpy()"
   ]
  },
  {
   "cell_type": "markdown",
   "metadata": {
    "cell_id": "00000-026bc890-d956-41e0-827d-1d80d6e6cdac",
    "tags": []
   },
   "source": [
    "## Methods"
   ]
  },
  {
   "cell_type": "code",
   "execution_count": null,
   "metadata": {},
   "outputs": [],
   "source": []
  }
 ],
 "metadata": {
  "deepnote_execution_queue": [],
  "deepnote_notebook_id": "79cf9e9f-8a0d-481d-9e99-e8b40319ecb1",
  "kernelspec": {
   "display_name": "Python 3",
   "language": "python",
   "name": "python3"
  },
  "language_info": {
   "codemirror_mode": {
    "name": "ipython",
    "version": 3
   },
   "file_extension": ".py",
   "mimetype": "text/x-python",
   "name": "python",
   "nbconvert_exporter": "python",
   "pygments_lexer": "ipython3",
   "version": "3.8.6"
  }
 },
 "nbformat": 4,
 "nbformat_minor": 4
}
