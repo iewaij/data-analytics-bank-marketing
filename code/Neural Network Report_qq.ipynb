{
 "cells": [
  {
   "cell_type": "markdown",
   "metadata": {},
   "source": [
    "# Neural Network"
   ]
  },
  {
   "cell_type": "code",
   "execution_count": 169,
   "metadata": {},
   "outputs": [
    {
     "name": "stdout",
     "output_type": "stream",
     "text": [
      "Collecting funcsigs\n",
      "  Downloading funcsigs-1.0.2-py2.py3-none-any.whl (17 kB)\n",
      "Installing collected packages: funcsigs\n",
      "Successfully installed funcsigs-1.0.2\n",
      "Note: you may need to restart the kernel to use updated packages.\n"
     ]
    }
   ],
   "source": [
    "pip install funcsigs"
   ]
  },
  {
   "cell_type": "code",
   "execution_count": 2,
   "metadata": {},
   "outputs": [],
   "source": [
    "import pandas as pd\n",
    "import numpy as np\n",
    "from sklearn.neural_network import MLPClassifier\n",
    "from sklearn.metrics import auc,roc_curve,average_precision_score, f1_score, precision_score, recall_score, balanced_accuracy_score, roc_auc_score, confusion_matrix,accuracy_score"
   ]
  },
  {
   "cell_type": "code",
   "execution_count": 3,
   "metadata": {},
   "outputs": [],
   "source": [
    "X_train = np.load(\"/Users/alex/Desktop/X_train_freq.npy\")\n",
    "X_test =np.load(\"/Users/alex/Desktop/X_test_freq.npy\")\n",
    "y_train =np.load(\"/Users/alex/Desktop/y_train.npy\")\n",
    "y_test  =np.load(\"/Users/alex/Desktop/y_test.npy\")"
   ]
  },
  {
   "cell_type": "markdown",
   "metadata": {
    "heading_collapsed": true
   },
   "source": [
    "## Plot Function"
   ]
  },
  {
   "cell_type": "code",
   "execution_count": 171,
   "metadata": {
    "hidden": true
   },
   "outputs": [],
   "source": [
    "import matplotlib.pyplot as plt\n",
    "import itertools\n",
    "import matplotlib\n",
    "import numpy as np\n",
    "from sklearn.metrics import precision_recall_curve\n",
    "from funcsigs import signature"
   ]
  },
  {
   "cell_type": "code",
   "execution_count": 164,
   "metadata": {
    "hidden": true
   },
   "outputs": [],
   "source": [
    "# Confusion matrix\n",
    "def plot_confusion_matrix(cm, classes, normalize=False,title='Confusion matrix', cmap=plt.cm.Blues):\n",
    "\n",
    "    if normalize:\n",
    "        cm = cm.astype('float') / cm.sum(axis=1)[:, np.newaxis]\n",
    "    plt.imshow(cm, interpolation='nearest', cmap=cmap) \n",
    "    plt.title(title)\n",
    "    plt.colorbar()\n",
    "    tick_marks = np.arange(len(classes)) \n",
    "    plt.xticks(tick_marks, classes, rotation=45)\n",
    "    plt.yticks(tick_marks, classes)\n",
    "    fmt = '.2f' if normalize else 'd'\n",
    "    thresh = cm.max() / 2.\n",
    "\n",
    "    for i, j in itertools.product(range(cm.shape[0]),range(cm.shape[1])):\n",
    "        plt.text(j, i, format(cm[i, j], fmt),horizontalalignment=\"center\", fontsize=16, color=\"white\" if cm[i, j] > thresh else \"black\")\n",
    "\n",
    "    \n",
    "    plt.ylabel('True label') \n",
    "    plt.xlabel('Predicted label') \n",
    "    plt.tight_layout()\n",
    "    "
   ]
  },
  {
   "cell_type": "code",
   "execution_count": null,
   "metadata": {
    "hidden": true
   },
   "outputs": [],
   "source": [
    "# Call Function with\n",
    "cmte = confusion_matrix(y_test, y_test_pred)\n",
    "np.set_printoptions(precision=2)\n",
    "class_names = ['no', 'yes']\n",
    "plt.figure()\n",
    "plot_confusion_matrix(cmte, classes=class_names,title='Confusion matrix Neural Network Test')\n",
    "\n",
    "cmtr = confusion_matrix(y_train, y_train_pred)\n",
    "np.set_printoptions(precision=2)\n",
    "class_names = ['no', 'yes']\n",
    "plt.figure()\n",
    "plot_confusion_matrix(cmtr, classes=class_names,title='Confusion matrix Neural Network Train')"
   ]
  },
  {
   "cell_type": "code",
   "execution_count": 205,
   "metadata": {
    "hidden": true
   },
   "outputs": [],
   "source": [
    "# ROC_AUC\n",
    "def plot_roc_auc_curve(method,X_test,y_test, y_test_pred):\n",
    "    y_probs = method.predict_proba(X_test)\n",
    "    fpr, tpr, threshold = roc_curve(y_test, y_probs[:, 1])\n",
    "    roc_auc = auc(fpr, tpr)\n",
    "    plt.plot(fpr, tpr, 'b', label = 'AUC = %0.2f' % roc_auc) \n",
    "    plt.legend(loc = 'lower right')\n",
    "    plt.plot([0, 1], [0, 1],'r--')\n",
    "    plt.xlim([0, 1])\n",
    "    plt.ylim([0, 1])\n",
    "    plt.ylabel('True Positive Rate')\n",
    "    plt.xlabel('False Positive Rate')\n",
    "    plt.title('ROC Curve of Neural Network')\n",
    "    plt.show()"
   ]
  },
  {
   "cell_type": "code",
   "execution_count": null,
   "metadata": {
    "hidden": true
   },
   "outputs": [],
   "source": [
    "# Call Function with\n",
    "plot_roc_auc_curve(method,X_test,y_test, y_test_pred)"
   ]
  },
  {
   "cell_type": "code",
   "execution_count": null,
   "metadata": {
    "hidden": true
   },
   "outputs": [],
   "source": [
    "from sklearn.metrics import precision_recall_curve\n",
    "from sklearn.metrics import plot_precision_recall_curve\n",
    "import matplotlib.pyplot as plt\n",
    "\n",
    "#P_R Curve\n",
    "\n",
    "def plot_precision_recall_curve(method,X_test,y_test, y_test_pred):\n",
    "    average_precision = average_precision_score(y_test, y_test_pred)\n",
    "    disp = plot_precision_recall_curve(method, X_test, y_test)\n",
    "    disp.ax_.set_title('2-class Precision-Recall curve: '\n",
    "                   'AP={0:0.2f}'.format(average_precision))"
   ]
  },
  {
   "cell_type": "code",
   "execution_count": 198,
   "metadata": {
    "hidden": true
   },
   "outputs": [],
   "source": [
    "def report_scores(y_test, y_test_pred):\n",
    "    \n",
    "    f1 = f1_score(y_test, y_test_pred)\n",
    "    accuracy= accuracy_score(y_test, y_test_pred)\n",
    "    precision = precision_score(y_test, y_test_pred)\n",
    "    recall = recall_score(y_test, y_test_pred)\n",
    "    auc = roc_auc_score(y_test, y_test_pred)\n",
    "    average_precision = average_precision_score(y_test, y_test_pred)\n",
    "    \n",
    "    return f1,accuracy,precision,recall,auc,average_precision\n",
    "    "
   ]
  },
  {
   "cell_type": "code",
   "execution_count": 201,
   "metadata": {
    "hidden": true
   },
   "outputs": [],
   "source": [
    "report = pd.DataFrame(columns=['Model','Scores','Train','Validation','Test'])\n",
    "report['Scores'] = ['F1','Accuracy','Precision', 'Recall','AUC','Averaged_Precision']"
   ]
  },
  {
   "cell_type": "markdown",
   "metadata": {
    "heading_collapsed": true
   },
   "source": [
    "## Train/Test"
   ]
  },
  {
   "cell_type": "code",
   "execution_count": 178,
   "metadata": {
    "hidden": true
   },
   "outputs": [],
   "source": [
    "mlp=MLPClassifier(solver =\"adam\",random_state=42,max_iter=1000)\n",
    "mlp.fit(X_train, y_train)\n",
    "y_train_pred = mlp.predict(X_train)\n",
    "y_test_pred = mlp.predict(X_test)"
   ]
  },
  {
   "cell_type": "code",
   "execution_count": 194,
   "metadata": {
    "hidden": true
   },
   "outputs": [
    {
     "data": {
      "text/plain": [
       "array([[0.91, 0.09],\n",
       "       [0.62, 0.38],\n",
       "       [0.22, 0.78],\n",
       "       ...,\n",
       "       [0.51, 0.49],\n",
       "       [0.98, 0.02],\n",
       "       [0.98, 0.02]])"
      ]
     },
     "execution_count": 194,
     "metadata": {},
     "output_type": "execute_result"
    }
   ],
   "source": [
    "y_scores = mlp.predict_proba(X_test)\n",
    "y_scores "
   ]
  },
  {
   "cell_type": "code",
   "execution_count": 179,
   "metadata": {
    "hidden": true,
    "scrolled": true
   },
   "outputs": [
    {
     "data": {
      "image/png": "[encoded data removed]",
      "text/plain": [
       "<Figure size 432x288 with 2 Axes>"
      ]
     },
     "metadata": {
      "needs_background": "light"
     },
     "output_type": "display_data"
    }
   ],
   "source": [
    "cmtr = confusion_matrix(y_train, y_train_pred)\n",
    "np.set_printoptions(precision=2)\n",
    "class_names = ['no', 'yes']\n",
    "plt.figure()\n",
    "plot_confusion_matrix(cmtr, classes=class_names,title='Confusion matrix Neural Network Train')"
   ]
  },
  {
   "cell_type": "code",
   "execution_count": 180,
   "metadata": {
    "hidden": true,
    "scrolled": true
   },
   "outputs": [
    {
     "data": {
      "image/png": "[encoded data removed]",
      "text/plain": [
       "<Figure size 432x288 with 2 Axes>"
      ]
     },
     "metadata": {
      "needs_background": "light"
     },
     "output_type": "display_data"
    }
   ],
   "source": [
    "cmte = confusion_matrix(y_test, y_test_pred)\n",
    "np.set_printoptions(precision=2)\n",
    "class_names = ['no', 'yes']\n",
    "plt.figure()\n",
    "plot_confusion_matrix(cmte, classes=class_names,title='Confusion matrix Neural Network Test')"
   ]
  },
  {
   "cell_type": "code",
   "execution_count": 196,
   "metadata": {
    "hidden": true
   },
   "outputs": [
    {
     "data": {
      "text/plain": [
       "Text(0.5, 1.0, '2-class Precision-Recall curve: AP=0.25')"
      ]
     },
     "execution_count": 196,
     "metadata": {},
     "output_type": "execute_result"
    },
    {
     "data": {
      "image/png": "[encoded data removed]",
      "text/plain": [
       "<Figure size 432x288 with 1 Axes>"
      ]
     },
     "metadata": {
      "needs_background": "light"
     },
     "output_type": "display_data"
    }
   ],
   "source": [
    "average_precision = average_precision_score(y_test, y_test_pred)\n",
    "disp = plot_precision_recall_curve(mlp, X_test, y_test)\n",
    "disp.ax_.set_title('2-class Precision-Recall curve: '\n",
    "                   'AP={0:0.2f}'.format(average_precision))"
   ]
  },
  {
   "cell_type": "code",
   "execution_count": 199,
   "metadata": {
    "hidden": true,
    "scrolled": true
   },
   "outputs": [
    {
     "data": {
      "text/plain": [
       "(0.39494026704146173,\n",
       " 0.8954843408594318,\n",
       " 0.5676767676767677,\n",
       " 0.30280172413793105,\n",
       " 0.6367633791688287,\n",
       " 0.2504319842192171)"
      ]
     },
     "execution_count": 199,
     "metadata": {},
     "output_type": "execute_result"
    }
   ],
   "source": [
    "report_scores(y_test, y_test_pred)"
   ]
  },
  {
   "cell_type": "markdown",
   "metadata": {},
   "source": [
    "## GridSearchCV "
   ]
  },
  {
   "cell_type": "code",
   "execution_count": 92,
   "metadata": {},
   "outputs": [],
   "source": [
    "from sklearn.model_selection import train_test_split\n",
    "from sklearn.model_selection import cross_val_score\n",
    "from sklearn.model_selection import GridSearchCV\n",
    "from sklearn.metrics import make_scorer"
   ]
  },
  {
   "cell_type": "code",
   "execution_count": 55,
   "metadata": {},
   "outputs": [],
   "source": [
    "X_train = np.load(\"/Users/alex/Desktop/X_train_freq.npy\")\n",
    "X_test =np.load(\"/Users/alex/Desktop/X_test_freq.npy\")\n",
    "y_train =np.load(\"/Users/alex/Desktop/y_train.npy\")\n",
    "y_test  =np.load(\"/Users/alex/Desktop/y_test.npy\")"
   ]
  },
  {
   "cell_type": "markdown",
   "metadata": {
    "heading_collapsed": true
   },
   "source": [
    "### Adam"
   ]
  },
  {
   "cell_type": "code",
   "execution_count": 149,
   "metadata": {
    "hidden": true
   },
   "outputs": [
    {
     "data": {
      "text/plain": [
       "GridSearchCV(cv=3, estimator=MLPClassifier(max_iter=1000, random_state=42),\n",
       "             n_jobs=-1,\n",
       "             param_grid={'activation': ['logistic', 'relu', 'tanh'],\n",
       "                         'alpha': [0.0, 0.0001, 0.001, 0.01],\n",
       "                         'hidden_layer_sizes': [(1, 5), (2, 5), (3, 5)],\n",
       "                         'learning_rate': ['constant', 'invscaling',\n",
       "                                           'adaptive']},\n",
       "             refit='AUC', return_train_score=True,\n",
       "             scoring={'AUC': 'roc_auc', 'Accuracy': make_scorer(accuracy_score),\n",
       "                      'Average_Precision': make_scorer(average_precision_score)})"
      ]
     },
     "execution_count": 149,
     "metadata": {},
     "output_type": "execute_result"
    }
   ],
   "source": [
    "mlp=MLPClassifier(solver =\"adam\",random_state=42,max_iter=1000)\n",
    "\n",
    "\n",
    "scoring = {'AUC': 'roc_auc', \n",
    "           'Accuracy': make_scorer(accuracy_score),\n",
    "           'Average_Precision':make_scorer(average_precision_score)\n",
    "           }\n",
    "\n",
    "param_grid ={\n",
    "    'learning_rate':[\"constant\",\"invscaling\",\"adaptive\"],\n",
    "    'hidden_layer_sizes':[(1,5),(2,5),(3,5)],\n",
    "    'alpha':[0.0,0.0001,0.001,0.01],\n",
    "    'activation' :[\"logistic\",\"relu\",\"tanh\"] }\n",
    "\n",
    "CV_nnmodel = GridSearchCV(estimator=mlp,\n",
    "                          param_grid=param_grid,\n",
    "                          scoring = scoring,\n",
    "                          return_train_score=True,\n",
    "                          refit = 'AUC',\n",
    "                          cv =3,\n",
    "                          n_jobs=-1) \n",
    "       \n",
    "CV_nnmodel.fit(X_train,y_train)"
   ]
  },
  {
   "cell_type": "code",
   "execution_count": 151,
   "metadata": {
    "hidden": true
   },
   "outputs": [
    {
     "data": {
      "text/plain": [
       "{'activation': 'relu',\n",
       " 'alpha': 0.001,\n",
       " 'hidden_layer_sizes': (3, 5),\n",
       " 'learning_rate': 'constant'}"
      ]
     },
     "execution_count": 151,
     "metadata": {},
     "output_type": "execute_result"
    }
   ],
   "source": [
    "parameters = CV_nnmodel.best_params_\n",
    "parameters"
   ]
  },
  {
   "cell_type": "code",
   "execution_count": 152,
   "metadata": {
    "hidden": true
   },
   "outputs": [
    {
     "data": {
      "text/plain": [
       "0.7827670980051805"
      ]
     },
     "execution_count": 152,
     "metadata": {},
     "output_type": "execute_result"
    }
   ],
   "source": [
    "scores =CV_nnmodel.best_score_\n",
    "scores"
   ]
  },
  {
   "cell_type": "code",
   "execution_count": 211,
   "metadata": {
    "hidden": true,
    "scrolled": true
   },
   "outputs": [
    {
     "data": {
      "text/html": [
       "<div>\n",
       "<style scoped>\n",
       "    .dataframe tbody tr th:only-of-type {\n",
       "        vertical-align: middle;\n",
       "    }\n",
       "\n",
       "    .dataframe tbody tr th {\n",
       "        vertical-align: top;\n",
       "    }\n",
       "\n",
       "    .dataframe thead th {\n",
       "        text-align: right;\n",
       "    }\n",
       "</style>\n",
       "<table border=\"1\" class=\"dataframe\">\n",
       "  <thead>\n",
       "    <tr style=\"text-align: right;\">\n",
       "      <th></th>\n",
       "      <th>param_learning_rate</th>\n",
       "      <th>param_hidden_layer_sizes</th>\n",
       "      <th>param_alpha</th>\n",
       "      <th>param_activation</th>\n",
       "      <th>mean_train_AUC</th>\n",
       "      <th>mean_test_AUC</th>\n",
       "      <th>mean_train_Accuracy</th>\n",
       "      <th>mean_test_Accuracy</th>\n",
       "      <th>mean_train_Average_Precision</th>\n",
       "      <th>mean_test_Average_Precision</th>\n",
       "    </tr>\n",
       "  </thead>\n",
       "  <tbody>\n",
       "    <tr>\n",
       "      <th>0</th>\n",
       "      <td>constant</td>\n",
       "      <td>(1, 5)</td>\n",
       "      <td>0</td>\n",
       "      <td>logistic</td>\n",
       "      <td>0.773249</td>\n",
       "      <td>0.771836</td>\n",
       "      <td>0.891184</td>\n",
       "      <td>0.889287</td>\n",
       "      <td>0.157237</td>\n",
       "      <td>0.149720</td>\n",
       "    </tr>\n",
       "    <tr>\n",
       "      <th>1</th>\n",
       "      <td>invscaling</td>\n",
       "      <td>(1, 5)</td>\n",
       "      <td>0</td>\n",
       "      <td>logistic</td>\n",
       "      <td>0.773249</td>\n",
       "      <td>0.771836</td>\n",
       "      <td>0.891184</td>\n",
       "      <td>0.889287</td>\n",
       "      <td>0.157237</td>\n",
       "      <td>0.149720</td>\n",
       "    </tr>\n",
       "    <tr>\n",
       "      <th>2</th>\n",
       "      <td>adaptive</td>\n",
       "      <td>(1, 5)</td>\n",
       "      <td>0</td>\n",
       "      <td>logistic</td>\n",
       "      <td>0.773249</td>\n",
       "      <td>0.771836</td>\n",
       "      <td>0.891184</td>\n",
       "      <td>0.889287</td>\n",
       "      <td>0.157237</td>\n",
       "      <td>0.149720</td>\n",
       "    </tr>\n",
       "    <tr>\n",
       "      <th>3</th>\n",
       "      <td>constant</td>\n",
       "      <td>(2, 5)</td>\n",
       "      <td>0</td>\n",
       "      <td>logistic</td>\n",
       "      <td>0.773164</td>\n",
       "      <td>0.771100</td>\n",
       "      <td>0.897527</td>\n",
       "      <td>0.896540</td>\n",
       "      <td>0.248612</td>\n",
       "      <td>0.245210</td>\n",
       "    </tr>\n",
       "    <tr>\n",
       "      <th>4</th>\n",
       "      <td>invscaling</td>\n",
       "      <td>(2, 5)</td>\n",
       "      <td>0</td>\n",
       "      <td>logistic</td>\n",
       "      <td>0.773164</td>\n",
       "      <td>0.771100</td>\n",
       "      <td>0.897527</td>\n",
       "      <td>0.896540</td>\n",
       "      <td>0.248612</td>\n",
       "      <td>0.245210</td>\n",
       "    </tr>\n",
       "    <tr>\n",
       "      <th>...</th>\n",
       "      <td>...</td>\n",
       "      <td>...</td>\n",
       "      <td>...</td>\n",
       "      <td>...</td>\n",
       "      <td>...</td>\n",
       "      <td>...</td>\n",
       "      <td>...</td>\n",
       "      <td>...</td>\n",
       "      <td>...</td>\n",
       "      <td>...</td>\n",
       "    </tr>\n",
       "    <tr>\n",
       "      <th>103</th>\n",
       "      <td>invscaling</td>\n",
       "      <td>(2, 5)</td>\n",
       "      <td>0.01</td>\n",
       "      <td>tanh</td>\n",
       "      <td>0.784445</td>\n",
       "      <td>0.781082</td>\n",
       "      <td>0.899848</td>\n",
       "      <td>0.897663</td>\n",
       "      <td>0.246625</td>\n",
       "      <td>0.235539</td>\n",
       "    </tr>\n",
       "    <tr>\n",
       "      <th>104</th>\n",
       "      <td>adaptive</td>\n",
       "      <td>(2, 5)</td>\n",
       "      <td>0.01</td>\n",
       "      <td>tanh</td>\n",
       "      <td>0.784445</td>\n",
       "      <td>0.781082</td>\n",
       "      <td>0.899848</td>\n",
       "      <td>0.897663</td>\n",
       "      <td>0.246625</td>\n",
       "      <td>0.235539</td>\n",
       "    </tr>\n",
       "    <tr>\n",
       "      <th>105</th>\n",
       "      <td>constant</td>\n",
       "      <td>(3, 5)</td>\n",
       "      <td>0.01</td>\n",
       "      <td>tanh</td>\n",
       "      <td>0.787808</td>\n",
       "      <td>0.774968</td>\n",
       "      <td>0.900592</td>\n",
       "      <td>0.898604</td>\n",
       "      <td>0.247034</td>\n",
       "      <td>0.236945</td>\n",
       "    </tr>\n",
       "    <tr>\n",
       "      <th>106</th>\n",
       "      <td>invscaling</td>\n",
       "      <td>(3, 5)</td>\n",
       "      <td>0.01</td>\n",
       "      <td>tanh</td>\n",
       "      <td>0.787808</td>\n",
       "      <td>0.774968</td>\n",
       "      <td>0.900592</td>\n",
       "      <td>0.898604</td>\n",
       "      <td>0.247034</td>\n",
       "      <td>0.236945</td>\n",
       "    </tr>\n",
       "    <tr>\n",
       "      <th>107</th>\n",
       "      <td>adaptive</td>\n",
       "      <td>(3, 5)</td>\n",
       "      <td>0.01</td>\n",
       "      <td>tanh</td>\n",
       "      <td>0.787808</td>\n",
       "      <td>0.774968</td>\n",
       "      <td>0.900592</td>\n",
       "      <td>0.898604</td>\n",
       "      <td>0.247034</td>\n",
       "      <td>0.236945</td>\n",
       "    </tr>\n",
       "  </tbody>\n",
       "</table>\n",
       "<p>108 rows × 10 columns</p>\n",
       "</div>"
      ],
      "text/plain": [
       "    param_learning_rate param_hidden_layer_sizes param_alpha param_activation  \\\n",
       "0              constant                   (1, 5)           0         logistic   \n",
       "1            invscaling                   (1, 5)           0         logistic   \n",
       "2              adaptive                   (1, 5)           0         logistic   \n",
       "3              constant                   (2, 5)           0         logistic   \n",
       "4            invscaling                   (2, 5)           0         logistic   \n",
       "..                  ...                      ...         ...              ...   \n",
       "103          invscaling                   (2, 5)        0.01             tanh   \n",
       "104            adaptive                   (2, 5)        0.01             tanh   \n",
       "105            constant                   (3, 5)        0.01             tanh   \n",
       "106          invscaling                   (3, 5)        0.01             tanh   \n",
       "107            adaptive                   (3, 5)        0.01             tanh   \n",
       "\n",
       "     mean_train_AUC  mean_test_AUC  mean_train_Accuracy  mean_test_Accuracy  \\\n",
       "0          0.773249       0.771836             0.891184            0.889287   \n",
       "1          0.773249       0.771836             0.891184            0.889287   \n",
       "2          0.773249       0.771836             0.891184            0.889287   \n",
       "3          0.773164       0.771100             0.897527            0.896540   \n",
       "4          0.773164       0.771100             0.897527            0.896540   \n",
       "..              ...            ...                  ...                 ...   \n",
       "103        0.784445       0.781082             0.899848            0.897663   \n",
       "104        0.784445       0.781082             0.899848            0.897663   \n",
       "105        0.787808       0.774968             0.900592            0.898604   \n",
       "106        0.787808       0.774968             0.900592            0.898604   \n",
       "107        0.787808       0.774968             0.900592            0.898604   \n",
       "\n",
       "     mean_train_Average_Precision  mean_test_Average_Precision  \n",
       "0                        0.157237                     0.149720  \n",
       "1                        0.157237                     0.149720  \n",
       "2                        0.157237                     0.149720  \n",
       "3                        0.248612                     0.245210  \n",
       "4                        0.248612                     0.245210  \n",
       "..                            ...                          ...  \n",
       "103                      0.246625                     0.235539  \n",
       "104                      0.246625                     0.235539  \n",
       "105                      0.247034                     0.236945  \n",
       "106                      0.247034                     0.236945  \n",
       "107                      0.247034                     0.236945  \n",
       "\n",
       "[108 rows x 10 columns]"
      ]
     },
     "execution_count": 211,
     "metadata": {},
     "output_type": "execute_result"
    }
   ],
   "source": [
    "report1 = pd.DataFrame(CV_nnmodel.cv_results_)\n",
    "report1[['param_learning_rate','param_hidden_layer_sizes','param_alpha','param_activation','mean_train_AUC','mean_test_AUC','mean_train_Accuracy','mean_test_Accuracy','mean_train_Average_Precision','mean_test_Average_Precision']]"
   ]
  },
  {
   "cell_type": "code",
   "execution_count": 218,
   "metadata": {
    "hidden": true
   },
   "outputs": [
    {
     "data": {
      "text/html": [
       "<div>\n",
       "<style scoped>\n",
       "    .dataframe tbody tr th:only-of-type {\n",
       "        vertical-align: middle;\n",
       "    }\n",
       "\n",
       "    .dataframe tbody tr th {\n",
       "        vertical-align: top;\n",
       "    }\n",
       "\n",
       "    .dataframe thead th {\n",
       "        text-align: right;\n",
       "    }\n",
       "</style>\n",
       "<table border=\"1\" class=\"dataframe\">\n",
       "  <thead>\n",
       "    <tr style=\"text-align: right;\">\n",
       "      <th></th>\n",
       "      <th>mean_test_AUC</th>\n",
       "      <th>mean_test_Accuracy</th>\n",
       "      <th>mean_test_Average_Precision</th>\n",
       "    </tr>\n",
       "  </thead>\n",
       "  <tbody>\n",
       "    <tr>\n",
       "      <th>60</th>\n",
       "      <td>0.782767</td>\n",
       "      <td>0.898786</td>\n",
       "      <td>0.234657</td>\n",
       "    </tr>\n",
       "    <tr>\n",
       "      <th>61</th>\n",
       "      <td>0.782767</td>\n",
       "      <td>0.898786</td>\n",
       "      <td>0.234657</td>\n",
       "    </tr>\n",
       "    <tr>\n",
       "      <th>62</th>\n",
       "      <td>0.782767</td>\n",
       "      <td>0.898786</td>\n",
       "      <td>0.234657</td>\n",
       "    </tr>\n",
       "  </tbody>\n",
       "</table>\n",
       "</div>"
      ],
      "text/plain": [
       "    mean_test_AUC  mean_test_Accuracy  mean_test_Average_Precision\n",
       "60       0.782767            0.898786                     0.234657\n",
       "61       0.782767            0.898786                     0.234657\n",
       "62       0.782767            0.898786                     0.234657"
      ]
     },
     "execution_count": 218,
     "metadata": {},
     "output_type": "execute_result"
    }
   ],
   "source": [
    "report1[report1['mean_test_AUC'].isin([0.7827670980051805])][['mean_test_AUC','mean_test_Accuracy','mean_test_Average_Precision']]"
   ]
  },
  {
   "cell_type": "code",
   "execution_count": 161,
   "metadata": {
    "hidden": true
   },
   "outputs": [],
   "source": [
    "# Test the Trained Model on Test Set\n",
    "mlp_adam=MLPClassifier(solver=\"adam\",\n",
    "                       random_state=42,\n",
    "                       activation = 'relu',\n",
    "                       alpha = 0.01,\n",
    "                       hidden_layer_sizes = (3,5),\n",
    "                       learning_rate = 'constant')\n",
    "mlp_adam.fit(X_train,y_train)\n",
    "y_train_pred_2 = mlp_adam.predict(X_train)\n",
    "y_test_pred_2 = mlp_adam.predict(X_test)"
   ]
  },
  {
   "cell_type": "markdown",
   "metadata": {},
   "source": [
    "### Plot Adam"
   ]
  },
  {
   "cell_type": "code",
   "execution_count": 202,
   "metadata": {},
   "outputs": [
    {
     "data": {
      "image/png": "[encoded data removed]",
      "text/plain": [
       "<Figure size 432x288 with 2 Axes>"
      ]
     },
     "metadata": {
      "needs_background": "light"
     },
     "output_type": "display_data"
    }
   ],
   "source": [
    "cmtr = confusion_matrix(y_train, y_train_pred_2)\n",
    "np.set_printoptions(precision=2)\n",
    "class_names = ['no', 'yes']\n",
    "plt.figure()\n",
    "plot_confusion_matrix(cmtr, classes=class_names,title='Confusion matrix Neural Network Train')"
   ]
  },
  {
   "cell_type": "code",
   "execution_count": 203,
   "metadata": {
    "scrolled": true
   },
   "outputs": [
    {
     "data": {
      "image/png": "[encoded data removed]",
      "text/plain": [
       "<Figure size 432x288 with 2 Axes>"
      ]
     },
     "metadata": {
      "needs_background": "light"
     },
     "output_type": "display_data"
    }
   ],
   "source": [
    "cmte = confusion_matrix(y_test, y_test_pred_2)\n",
    "np.set_printoptions(precision=2)\n",
    "class_names = ['no', 'yes']\n",
    "plt.figure()\n",
    "plot_confusion_matrix(cmte, classes=class_names,title='Confusion matrix Neural Network Test')\n"
   ]
  },
  {
   "cell_type": "code",
   "execution_count": 206,
   "metadata": {},
   "outputs": [
    {
     "data": {
      "image/png": "[encoded data removed]",
      "text/plain": [
       "<Figure size 432x288 with 1 Axes>"
      ]
     },
     "metadata": {
      "needs_background": "light"
     },
     "output_type": "display_data"
    }
   ],
   "source": [
    "plot_roc_auc_curve(mlp_adam,X_test,y_test, y_test_pred_2)"
   ]
  },
  {
   "cell_type": "code",
   "execution_count": 236,
   "metadata": {},
   "outputs": [
    {
     "name": "stderr",
     "output_type": "stream",
     "text": [
      "/Users/alex/opt/anaconda3/lib/python3.8/site-packages/sklearn/utils/validation.py:67: FutureWarning: Pass sample_weight=[0 0 1 ... 0 0 0] as keyword args. From version 0.25 passing these as positional arguments will result in an error\n",
      "  warnings.warn(\"Pass {} as keyword args. From version 0.25 \"\n"
     ]
    },
    {
     "data": {
      "text/plain": [
       "<sklearn.metrics._plot.precision_recall_curve.PrecisionRecallDisplay at 0x11d94c160>"
      ]
     },
     "execution_count": 236,
     "metadata": {},
     "output_type": "execute_result"
    },
    {
     "data": {
      "image/png": "[encoded data removed]",
      "text/plain": [
       "<Figure size 432x288 with 1 Axes>"
      ]
     },
     "metadata": {
      "needs_background": "light"
     },
     "output_type": "display_data"
    }
   ],
   "source": [
    "plot_precision_recall_curve(mlp_adam,X_test,y_test, y_test_pred_2)"
   ]
  },
  {
   "cell_type": "code",
   "execution_count": 210,
   "metadata": {
    "scrolled": false
   },
   "outputs": [
    {
     "data": {
      "text/plain": [
       "(0.3476848090982941,\n",
       " 0.9025248846807478,\n",
       " 0.7062706270627063,\n",
       " 0.23060344827586207,\n",
       " 0.6092141728383415,\n",
       " 0.2495399642307451)"
      ]
     },
     "execution_count": 210,
     "metadata": {},
     "output_type": "execute_result"
    }
   ],
   "source": [
    "report_scores(y_test, y_test_pred_2)"
   ]
  },
  {
   "cell_type": "code",
   "execution_count": 215,
   "metadata": {},
   "outputs": [
    {
     "data": {
      "text/plain": [
       "(0.3542202016208737,\n",
       " 0.9008497723823976,\n",
       " 0.6651818856718634,\n",
       " 0.2413793103448276,\n",
       " 0.6129770893334371,\n",
       " 0.24602396727561643)"
      ]
     },
     "execution_count": 215,
     "metadata": {},
     "output_type": "execute_result"
    }
   ],
   "source": [
    "report_scores(y_train, y_train_pred_2)"
   ]
  },
  {
   "cell_type": "code",
   "execution_count": 222,
   "metadata": {},
   "outputs": [
    {
     "data": {
      "text/html": [
       "<div>\n",
       "<style scoped>\n",
       "    .dataframe tbody tr th:only-of-type {\n",
       "        vertical-align: middle;\n",
       "    }\n",
       "\n",
       "    .dataframe tbody tr th {\n",
       "        vertical-align: top;\n",
       "    }\n",
       "\n",
       "    .dataframe thead th {\n",
       "        text-align: right;\n",
       "    }\n",
       "</style>\n",
       "<table border=\"1\" class=\"dataframe\">\n",
       "  <thead>\n",
       "    <tr style=\"text-align: right;\">\n",
       "      <th></th>\n",
       "      <th>Scores</th>\n",
       "      <th>Train</th>\n",
       "      <th>Validation</th>\n",
       "      <th>Test</th>\n",
       "    </tr>\n",
       "  </thead>\n",
       "  <tbody>\n",
       "    <tr>\n",
       "      <th>0</th>\n",
       "      <td>F1</td>\n",
       "      <td>0.354220</td>\n",
       "      <td>nan</td>\n",
       "      <td>0.347685</td>\n",
       "    </tr>\n",
       "    <tr>\n",
       "      <th>1</th>\n",
       "      <td>Accuracy</td>\n",
       "      <td>0.900850</td>\n",
       "      <td>0.898786</td>\n",
       "      <td>0.902525</td>\n",
       "    </tr>\n",
       "    <tr>\n",
       "      <th>2</th>\n",
       "      <td>Precision</td>\n",
       "      <td>0.665182</td>\n",
       "      <td>nan</td>\n",
       "      <td>0.706271</td>\n",
       "    </tr>\n",
       "    <tr>\n",
       "      <th>3</th>\n",
       "      <td>Recall</td>\n",
       "      <td>0.241379</td>\n",
       "      <td>nan</td>\n",
       "      <td>0.230603</td>\n",
       "    </tr>\n",
       "    <tr>\n",
       "      <th>4</th>\n",
       "      <td>AUC</td>\n",
       "      <td>0.612977</td>\n",
       "      <td>0.782767</td>\n",
       "      <td>0.609214</td>\n",
       "    </tr>\n",
       "    <tr>\n",
       "      <th>5</th>\n",
       "      <td>Averaged_Precision</td>\n",
       "      <td>0.246024</td>\n",
       "      <td>0.234657</td>\n",
       "      <td>0.249540</td>\n",
       "    </tr>\n",
       "  </tbody>\n",
       "</table>\n",
       "</div>"
      ],
      "text/plain": [
       "               Scores     Train Validation      Test\n",
       "0                  F1  0.354220        nan  0.347685\n",
       "1            Accuracy  0.900850   0.898786  0.902525\n",
       "2           Precision  0.665182        nan  0.706271\n",
       "3              Recall  0.241379        nan  0.230603\n",
       "4                 AUC  0.612977   0.782767  0.609214\n",
       "5  Averaged_Precision  0.246024   0.234657  0.249540"
      ]
     },
     "execution_count": 222,
     "metadata": {},
     "output_type": "execute_result"
    }
   ],
   "source": [
    "report_adam = pd.DataFrame(columns=['Scores','Train','Validation','Test'])\n",
    "report_adam['Scores'] = ['F1','Accuracy','Precision', 'Recall','AUC','Averaged_Precision']\n",
    "report_adam['Test'] =(0.3476848090982941,\n",
    " 0.9025248846807478,\n",
    " 0.7062706270627063,\n",
    " 0.23060344827586207,\n",
    " 0.6092141728383415,\n",
    " 0.2495399642307451)\n",
    "report_adam['Train'] =(0.3542202016208737,\n",
    " 0.9008497723823976,\n",
    " 0.6651818856718634,\n",
    " 0.2413793103448276,\n",
    " 0.6129770893334371,\n",
    " 0.24602396727561643)\n",
    "report_adam['Validation'] =('nan',0.898786,'nan','nan',0.782767,0.234657)\n",
    "report_adam"
   ]
  },
  {
   "cell_type": "markdown",
   "metadata": {
    "heading_collapsed": true
   },
   "source": [
    "### sgd"
   ]
  },
  {
   "cell_type": "code",
   "execution_count": 129,
   "metadata": {
    "hidden": true
   },
   "outputs": [
    {
     "data": {
      "text/plain": [
       "GridSearchCV(cv=3,\n",
       "             estimator=MLPClassifier(max_iter=1000, random_state=42,\n",
       "                                     solver='sgd'),\n",
       "             n_jobs=-1,\n",
       "             param_grid={'activation': ['logistic', 'relu', 'tanh'],\n",
       "                         'alpha': [0.0, 0.0001, 0.001, 0.01],\n",
       "                         'hidden_layer_sizes': [(1, 5), (2, 5), (3, 5)],\n",
       "                         'learning_rate': ['constant', 'invscaling',\n",
       "                                           'adaptive']},\n",
       "             refit='AUC', return_train_score=True,\n",
       "             scoring={'AUC': 'roc_auc', 'Accuracy': make_scorer(accuracy_score),\n",
       "                      'Average_Precision': make_scorer(average_precision_score)})"
      ]
     },
     "execution_count": 129,
     "metadata": {},
     "output_type": "execute_result"
    }
   ],
   "source": [
    "mlp_sgd=MLPClassifier(solver =\"sgd\",random_state=42,max_iter=1000)\n",
    "\n",
    "scoring = {'AUC': 'roc_auc', \n",
    "           'Accuracy': make_scorer(accuracy_score),\n",
    "           'Average_Precision':make_scorer(average_precision_score)\n",
    "           }\n",
    "\n",
    "param_grid ={\n",
    "    'learning_rate':[\"constant\",\"invscaling\",\"adaptive\"],\n",
    "    'hidden_layer_sizes':[(1,5),(2,5),(3,5)],\n",
    "    'alpha':[0.0,0.0001,0.001,0.01],\n",
    "    'activation' :[\"logistic\",\"relu\",\"tanh\"] }\n",
    "\n",
    "CV_nnmodel = GridSearchCV(estimator=mlp_sgd,\n",
    "                          param_grid=param_grid,\n",
    "                          scoring = scoring,\n",
    "                          return_train_score=True,\n",
    "                          refit = 'AUC',\n",
    "                          cv =3,\n",
    "                          n_jobs=-1) \n",
    "       \n",
    "CV_nnmodel.fit(X_train,y_train)"
   ]
  },
  {
   "cell_type": "code",
   "execution_count": 225,
   "metadata": {
    "hidden": true
   },
   "outputs": [
    {
     "data": {
      "text/plain": [
       "{'activation': 'relu',\n",
       " 'alpha': 0.001,\n",
       " 'hidden_layer_sizes': (3, 5),\n",
       " 'learning_rate': 'constant'}"
      ]
     },
     "execution_count": 225,
     "metadata": {},
     "output_type": "execute_result"
    }
   ],
   "source": [
    "parameters = CV_nnmodel.best_params_\n",
    "parameters"
   ]
  },
  {
   "cell_type": "code",
   "execution_count": 226,
   "metadata": {
    "hidden": true
   },
   "outputs": [
    {
     "data": {
      "text/plain": [
       "0.7827670980051805"
      ]
     },
     "execution_count": 226,
     "metadata": {},
     "output_type": "execute_result"
    }
   ],
   "source": [
    "scores =CV_nnmodel.best_score_\n",
    "scores"
   ]
  },
  {
   "cell_type": "code",
   "execution_count": 227,
   "metadata": {
    "hidden": true,
    "scrolled": true
   },
   "outputs": [
    {
     "data": {
      "text/html": [
       "<div>\n",
       "<style scoped>\n",
       "    .dataframe tbody tr th:only-of-type {\n",
       "        vertical-align: middle;\n",
       "    }\n",
       "\n",
       "    .dataframe tbody tr th {\n",
       "        vertical-align: top;\n",
       "    }\n",
       "\n",
       "    .dataframe thead th {\n",
       "        text-align: right;\n",
       "    }\n",
       "</style>\n",
       "<table border=\"1\" class=\"dataframe\">\n",
       "  <thead>\n",
       "    <tr style=\"text-align: right;\">\n",
       "      <th></th>\n",
       "      <th>param_learning_rate</th>\n",
       "      <th>param_hidden_layer_sizes</th>\n",
       "      <th>param_alpha</th>\n",
       "      <th>param_activation</th>\n",
       "      <th>mean_train_AUC</th>\n",
       "      <th>mean_test_AUC</th>\n",
       "      <th>mean_train_Accuracy</th>\n",
       "      <th>mean_test_Accuracy</th>\n",
       "      <th>mean_train_Average_Precision</th>\n",
       "      <th>mean_test_Average_Precision</th>\n",
       "    </tr>\n",
       "  </thead>\n",
       "  <tbody>\n",
       "    <tr>\n",
       "      <th>0</th>\n",
       "      <td>constant</td>\n",
       "      <td>(1, 5)</td>\n",
       "      <td>0</td>\n",
       "      <td>logistic</td>\n",
       "      <td>0.773249</td>\n",
       "      <td>0.771836</td>\n",
       "      <td>0.891184</td>\n",
       "      <td>0.889287</td>\n",
       "      <td>0.157237</td>\n",
       "      <td>0.149720</td>\n",
       "    </tr>\n",
       "    <tr>\n",
       "      <th>1</th>\n",
       "      <td>invscaling</td>\n",
       "      <td>(1, 5)</td>\n",
       "      <td>0</td>\n",
       "      <td>logistic</td>\n",
       "      <td>0.773249</td>\n",
       "      <td>0.771836</td>\n",
       "      <td>0.891184</td>\n",
       "      <td>0.889287</td>\n",
       "      <td>0.157237</td>\n",
       "      <td>0.149720</td>\n",
       "    </tr>\n",
       "    <tr>\n",
       "      <th>2</th>\n",
       "      <td>adaptive</td>\n",
       "      <td>(1, 5)</td>\n",
       "      <td>0</td>\n",
       "      <td>logistic</td>\n",
       "      <td>0.773249</td>\n",
       "      <td>0.771836</td>\n",
       "      <td>0.891184</td>\n",
       "      <td>0.889287</td>\n",
       "      <td>0.157237</td>\n",
       "      <td>0.149720</td>\n",
       "    </tr>\n",
       "    <tr>\n",
       "      <th>3</th>\n",
       "      <td>constant</td>\n",
       "      <td>(2, 5)</td>\n",
       "      <td>0</td>\n",
       "      <td>logistic</td>\n",
       "      <td>0.773164</td>\n",
       "      <td>0.771100</td>\n",
       "      <td>0.897527</td>\n",
       "      <td>0.896540</td>\n",
       "      <td>0.248612</td>\n",
       "      <td>0.245210</td>\n",
       "    </tr>\n",
       "    <tr>\n",
       "      <th>4</th>\n",
       "      <td>invscaling</td>\n",
       "      <td>(2, 5)</td>\n",
       "      <td>0</td>\n",
       "      <td>logistic</td>\n",
       "      <td>0.773164</td>\n",
       "      <td>0.771100</td>\n",
       "      <td>0.897527</td>\n",
       "      <td>0.896540</td>\n",
       "      <td>0.248612</td>\n",
       "      <td>0.245210</td>\n",
       "    </tr>\n",
       "    <tr>\n",
       "      <th>...</th>\n",
       "      <td>...</td>\n",
       "      <td>...</td>\n",
       "      <td>...</td>\n",
       "      <td>...</td>\n",
       "      <td>...</td>\n",
       "      <td>...</td>\n",
       "      <td>...</td>\n",
       "      <td>...</td>\n",
       "      <td>...</td>\n",
       "      <td>...</td>\n",
       "    </tr>\n",
       "    <tr>\n",
       "      <th>103</th>\n",
       "      <td>invscaling</td>\n",
       "      <td>(2, 5)</td>\n",
       "      <td>0.01</td>\n",
       "      <td>tanh</td>\n",
       "      <td>0.784445</td>\n",
       "      <td>0.781082</td>\n",
       "      <td>0.899848</td>\n",
       "      <td>0.897663</td>\n",
       "      <td>0.246625</td>\n",
       "      <td>0.235539</td>\n",
       "    </tr>\n",
       "    <tr>\n",
       "      <th>104</th>\n",
       "      <td>adaptive</td>\n",
       "      <td>(2, 5)</td>\n",
       "      <td>0.01</td>\n",
       "      <td>tanh</td>\n",
       "      <td>0.784445</td>\n",
       "      <td>0.781082</td>\n",
       "      <td>0.899848</td>\n",
       "      <td>0.897663</td>\n",
       "      <td>0.246625</td>\n",
       "      <td>0.235539</td>\n",
       "    </tr>\n",
       "    <tr>\n",
       "      <th>105</th>\n",
       "      <td>constant</td>\n",
       "      <td>(3, 5)</td>\n",
       "      <td>0.01</td>\n",
       "      <td>tanh</td>\n",
       "      <td>0.787808</td>\n",
       "      <td>0.774968</td>\n",
       "      <td>0.900592</td>\n",
       "      <td>0.898604</td>\n",
       "      <td>0.247034</td>\n",
       "      <td>0.236945</td>\n",
       "    </tr>\n",
       "    <tr>\n",
       "      <th>106</th>\n",
       "      <td>invscaling</td>\n",
       "      <td>(3, 5)</td>\n",
       "      <td>0.01</td>\n",
       "      <td>tanh</td>\n",
       "      <td>0.787808</td>\n",
       "      <td>0.774968</td>\n",
       "      <td>0.900592</td>\n",
       "      <td>0.898604</td>\n",
       "      <td>0.247034</td>\n",
       "      <td>0.236945</td>\n",
       "    </tr>\n",
       "    <tr>\n",
       "      <th>107</th>\n",
       "      <td>adaptive</td>\n",
       "      <td>(3, 5)</td>\n",
       "      <td>0.01</td>\n",
       "      <td>tanh</td>\n",
       "      <td>0.787808</td>\n",
       "      <td>0.774968</td>\n",
       "      <td>0.900592</td>\n",
       "      <td>0.898604</td>\n",
       "      <td>0.247034</td>\n",
       "      <td>0.236945</td>\n",
       "    </tr>\n",
       "  </tbody>\n",
       "</table>\n",
       "<p>108 rows × 10 columns</p>\n",
       "</div>"
      ],
      "text/plain": [
       "    param_learning_rate param_hidden_layer_sizes param_alpha param_activation  \\\n",
       "0              constant                   (1, 5)           0         logistic   \n",
       "1            invscaling                   (1, 5)           0         logistic   \n",
       "2              adaptive                   (1, 5)           0         logistic   \n",
       "3              constant                   (2, 5)           0         logistic   \n",
       "4            invscaling                   (2, 5)           0         logistic   \n",
       "..                  ...                      ...         ...              ...   \n",
       "103          invscaling                   (2, 5)        0.01             tanh   \n",
       "104            adaptive                   (2, 5)        0.01             tanh   \n",
       "105            constant                   (3, 5)        0.01             tanh   \n",
       "106          invscaling                   (3, 5)        0.01             tanh   \n",
       "107            adaptive                   (3, 5)        0.01             tanh   \n",
       "\n",
       "     mean_train_AUC  mean_test_AUC  mean_train_Accuracy  mean_test_Accuracy  \\\n",
       "0          0.773249       0.771836             0.891184            0.889287   \n",
       "1          0.773249       0.771836             0.891184            0.889287   \n",
       "2          0.773249       0.771836             0.891184            0.889287   \n",
       "3          0.773164       0.771100             0.897527            0.896540   \n",
       "4          0.773164       0.771100             0.897527            0.896540   \n",
       "..              ...            ...                  ...                 ...   \n",
       "103        0.784445       0.781082             0.899848            0.897663   \n",
       "104        0.784445       0.781082             0.899848            0.897663   \n",
       "105        0.787808       0.774968             0.900592            0.898604   \n",
       "106        0.787808       0.774968             0.900592            0.898604   \n",
       "107        0.787808       0.774968             0.900592            0.898604   \n",
       "\n",
       "     mean_train_Average_Precision  mean_test_Average_Precision  \n",
       "0                        0.157237                     0.149720  \n",
       "1                        0.157237                     0.149720  \n",
       "2                        0.157237                     0.149720  \n",
       "3                        0.248612                     0.245210  \n",
       "4                        0.248612                     0.245210  \n",
       "..                            ...                          ...  \n",
       "103                      0.246625                     0.235539  \n",
       "104                      0.246625                     0.235539  \n",
       "105                      0.247034                     0.236945  \n",
       "106                      0.247034                     0.236945  \n",
       "107                      0.247034                     0.236945  \n",
       "\n",
       "[108 rows x 10 columns]"
      ]
     },
     "execution_count": 227,
     "metadata": {},
     "output_type": "execute_result"
    }
   ],
   "source": [
    "report2 = pd.DataFrame(CV_nnmodel.cv_results_)\n",
    "report2[['param_learning_rate','param_hidden_layer_sizes','param_alpha','param_activation','mean_train_AUC','mean_test_AUC','mean_train_Accuracy','mean_test_Accuracy','mean_train_Average_Precision','mean_test_Average_Precision']]"
   ]
  },
  {
   "cell_type": "code",
   "execution_count": 228,
   "metadata": {
    "hidden": true
   },
   "outputs": [
    {
     "data": {
      "text/html": [
       "<div>\n",
       "<style scoped>\n",
       "    .dataframe tbody tr th:only-of-type {\n",
       "        vertical-align: middle;\n",
       "    }\n",
       "\n",
       "    .dataframe tbody tr th {\n",
       "        vertical-align: top;\n",
       "    }\n",
       "\n",
       "    .dataframe thead th {\n",
       "        text-align: right;\n",
       "    }\n",
       "</style>\n",
       "<table border=\"1\" class=\"dataframe\">\n",
       "  <thead>\n",
       "    <tr style=\"text-align: right;\">\n",
       "      <th></th>\n",
       "      <th>mean_test_AUC</th>\n",
       "      <th>mean_test_Accuracy</th>\n",
       "      <th>mean_test_Average_Precision</th>\n",
       "    </tr>\n",
       "  </thead>\n",
       "  <tbody>\n",
       "    <tr>\n",
       "      <th>60</th>\n",
       "      <td>0.782767</td>\n",
       "      <td>0.898786</td>\n",
       "      <td>0.234657</td>\n",
       "    </tr>\n",
       "    <tr>\n",
       "      <th>61</th>\n",
       "      <td>0.782767</td>\n",
       "      <td>0.898786</td>\n",
       "      <td>0.234657</td>\n",
       "    </tr>\n",
       "    <tr>\n",
       "      <th>62</th>\n",
       "      <td>0.782767</td>\n",
       "      <td>0.898786</td>\n",
       "      <td>0.234657</td>\n",
       "    </tr>\n",
       "  </tbody>\n",
       "</table>\n",
       "</div>"
      ],
      "text/plain": [
       "    mean_test_AUC  mean_test_Accuracy  mean_test_Average_Precision\n",
       "60       0.782767            0.898786                     0.234657\n",
       "61       0.782767            0.898786                     0.234657\n",
       "62       0.782767            0.898786                     0.234657"
      ]
     },
     "execution_count": 228,
     "metadata": {},
     "output_type": "execute_result"
    }
   ],
   "source": [
    "report1[report1['mean_test_AUC'].isin([0.7827670980051805])][['mean_test_AUC','mean_test_Accuracy','mean_test_Average_Precision']]"
   ]
  },
  {
   "cell_type": "code",
   "execution_count": 229,
   "metadata": {
    "hidden": true
   },
   "outputs": [
    {
     "data": {
      "text/plain": [
       "MLPClassifier(alpha=0.01, hidden_layer_sizes=(3, 5), random_state=42,\n",
       "              solver='sgd')"
      ]
     },
     "execution_count": 229,
     "metadata": {},
     "output_type": "execute_result"
    }
   ],
   "source": [
    "# Test the Trained Model on Test Set\n",
    "mlp_sgd=MLPClassifier(solver=\"sgd\",\n",
    "                      random_state=42,\n",
    "                      activation = 'relu',\n",
    "                      alpha = 0.01,\n",
    "                      hidden_layer_sizes = (3,5),\n",
    "                      learning_rate = 'constant')\n",
    "mlp_sgd.fit(X_train,y_train)"
   ]
  },
  {
   "cell_type": "code",
   "execution_count": 238,
   "metadata": {
    "hidden": true
   },
   "outputs": [],
   "source": [
    "y_train_pred_3 = mlp_sgd.predict(X_train)\n",
    "y_test_pred_3 = mlp_sgd.predict(X_test)"
   ]
  },
  {
   "cell_type": "markdown",
   "metadata": {
    "heading_collapsed": true
   },
   "source": [
    "### Plot Sgd"
   ]
  },
  {
   "cell_type": "code",
   "execution_count": 239,
   "metadata": {
    "hidden": true
   },
   "outputs": [
    {
     "data": {
      "image/png": "[encoded data removed]",
      "text/plain": [
       "<Figure size 432x288 with 2 Axes>"
      ]
     },
     "metadata": {
      "needs_background": "light"
     },
     "output_type": "display_data"
    }
   ],
   "source": [
    "cmtr = confusion_matrix(y_train, y_train_pred_3)\n",
    "np.set_printoptions(precision=2)\n",
    "class_names = ['no', 'yes']\n",
    "plt.figure()\n",
    "plot_confusion_matrix(cmtr, classes=class_names,title='Confusion matrix Neural Network Train')"
   ]
  },
  {
   "cell_type": "code",
   "execution_count": 240,
   "metadata": {
    "hidden": true
   },
   "outputs": [
    {
     "data": {
      "image/png": "[encoded data removed]",
      "text/plain": [
       "<Figure size 432x288 with 2 Axes>"
      ]
     },
     "metadata": {
      "needs_background": "light"
     },
     "output_type": "display_data"
    }
   ],
   "source": [
    "cmte = confusion_matrix(y_test, y_test_pred_3)\n",
    "np.set_printoptions(precision=2)\n",
    "class_names = ['no', 'yes']\n",
    "plt.figure()\n",
    "plot_confusion_matrix(cmte, classes=class_names,title='Confusion matrix Neural Network Test')"
   ]
  },
  {
   "cell_type": "code",
   "execution_count": 241,
   "metadata": {
    "hidden": true
   },
   "outputs": [
    {
     "data": {
      "image/png": "[encoded data removed]",
      "text/plain": [
       "<Figure size 432x288 with 1 Axes>"
      ]
     },
     "metadata": {
      "needs_background": "light"
     },
     "output_type": "display_data"
    }
   ],
   "source": [
    "plot_roc_auc_curve(mlp_adam,X_test,y_test, y_test_pred_3)"
   ]
  },
  {
   "cell_type": "code",
   "execution_count": 242,
   "metadata": {
    "hidden": true
   },
   "outputs": [
    {
     "name": "stderr",
     "output_type": "stream",
     "text": [
      "/Users/alex/opt/anaconda3/lib/python3.8/site-packages/sklearn/utils/validation.py:67: FutureWarning: Pass sample_weight=[0 0 0 ... 0 0 0] as keyword args. From version 0.25 passing these as positional arguments will result in an error\n",
      "  warnings.warn(\"Pass {} as keyword args. From version 0.25 \"\n"
     ]
    },
    {
     "data": {
      "text/plain": [
       "<sklearn.metrics._plot.precision_recall_curve.PrecisionRecallDisplay at 0x1191993a0>"
      ]
     },
     "execution_count": 242,
     "metadata": {},
     "output_type": "execute_result"
    },
    {
     "data": {
      "image/png": "[encoded data removed]",
      "text/plain": [
       "<Figure size 432x288 with 1 Axes>"
      ]
     },
     "metadata": {
      "needs_background": "light"
     },
     "output_type": "display_data"
    }
   ],
   "source": [
    "plot_precision_recall_curve(mlp_sgd,X_test,y_test, y_test_pred_3)"
   ]
  },
  {
   "cell_type": "code",
   "execution_count": 243,
   "metadata": {
    "hidden": true,
    "scrolled": true
   },
   "outputs": [
    {
     "data": {
      "text/plain": [
       "(0.32053422370617696,\n",
       " 0.9011896091284293,\n",
       " 0.7111111111111111,\n",
       " 0.20689655172413793,\n",
       " 0.5981131185433275,\n",
       " 0.2364685101003759)"
      ]
     },
     "execution_count": 243,
     "metadata": {},
     "output_type": "execute_result"
    }
   ],
   "source": [
    "report_scores(y_test, y_test_pred_3)"
   ]
  },
  {
   "cell_type": "code",
   "execution_count": 245,
   "metadata": {
    "hidden": true,
    "scrolled": true
   },
   "outputs": [
    {
     "data": {
      "text/plain": [
       "(0.3201637666325486,\n",
       " 0.8992109256449166,\n",
       " 0.6666666666666666,\n",
       " 0.21066810344827586,\n",
       " 0.5986475478593045,\n",
       " 0.22936801231402507)"
      ]
     },
     "execution_count": 245,
     "metadata": {},
     "output_type": "execute_result"
    }
   ],
   "source": [
    "report_scores(y_train, y_train_pred_3)"
   ]
  },
  {
   "cell_type": "code",
   "execution_count": 246,
   "metadata": {
    "hidden": true
   },
   "outputs": [
    {
     "data": {
      "text/html": [
       "<div>\n",
       "<style scoped>\n",
       "    .dataframe tbody tr th:only-of-type {\n",
       "        vertical-align: middle;\n",
       "    }\n",
       "\n",
       "    .dataframe tbody tr th {\n",
       "        vertical-align: top;\n",
       "    }\n",
       "\n",
       "    .dataframe thead th {\n",
       "        text-align: right;\n",
       "    }\n",
       "</style>\n",
       "<table border=\"1\" class=\"dataframe\">\n",
       "  <thead>\n",
       "    <tr style=\"text-align: right;\">\n",
       "      <th></th>\n",
       "      <th>Scores</th>\n",
       "      <th>Train</th>\n",
       "      <th>Validation</th>\n",
       "      <th>Test</th>\n",
       "    </tr>\n",
       "  </thead>\n",
       "  <tbody>\n",
       "    <tr>\n",
       "      <th>0</th>\n",
       "      <td>F1</td>\n",
       "      <td>0.320164</td>\n",
       "      <td>nan</td>\n",
       "      <td>0.320534</td>\n",
       "    </tr>\n",
       "    <tr>\n",
       "      <th>1</th>\n",
       "      <td>Accuracy</td>\n",
       "      <td>0.899211</td>\n",
       "      <td>0.898786</td>\n",
       "      <td>0.901190</td>\n",
       "    </tr>\n",
       "    <tr>\n",
       "      <th>2</th>\n",
       "      <td>Precision</td>\n",
       "      <td>0.666667</td>\n",
       "      <td>nan</td>\n",
       "      <td>0.711111</td>\n",
       "    </tr>\n",
       "    <tr>\n",
       "      <th>3</th>\n",
       "      <td>Recall</td>\n",
       "      <td>0.210668</td>\n",
       "      <td>nan</td>\n",
       "      <td>0.206897</td>\n",
       "    </tr>\n",
       "    <tr>\n",
       "      <th>4</th>\n",
       "      <td>AUC</td>\n",
       "      <td>0.598648</td>\n",
       "      <td>0.782767</td>\n",
       "      <td>0.598113</td>\n",
       "    </tr>\n",
       "    <tr>\n",
       "      <th>5</th>\n",
       "      <td>Averaged_Precision</td>\n",
       "      <td>0.229368</td>\n",
       "      <td>0.234657</td>\n",
       "      <td>0.236469</td>\n",
       "    </tr>\n",
       "  </tbody>\n",
       "</table>\n",
       "</div>"
      ],
      "text/plain": [
       "               Scores     Train Validation      Test\n",
       "0                  F1  0.320164        nan  0.320534\n",
       "1            Accuracy  0.899211   0.898786  0.901190\n",
       "2           Precision  0.666667        nan  0.711111\n",
       "3              Recall  0.210668        nan  0.206897\n",
       "4                 AUC  0.598648   0.782767  0.598113\n",
       "5  Averaged_Precision  0.229368   0.234657  0.236469"
      ]
     },
     "execution_count": 246,
     "metadata": {},
     "output_type": "execute_result"
    }
   ],
   "source": [
    "report_adam = pd.DataFrame(columns=['Scores','Train','Validation','Test'])\n",
    "report_adam['Scores'] = ['F1','Accuracy','Precision', 'Recall','AUC','Averaged_Precision']\n",
    "report_adam['Test'] =(0.32053422370617696,\n",
    " 0.9011896091284293,\n",
    " 0.7111111111111111,\n",
    " 0.20689655172413793,\n",
    " 0.5981131185433275,\n",
    " 0.2364685101003759)\n",
    "report_adam['Train'] =(0.3201637666325486,\n",
    " 0.8992109256449166,\n",
    " 0.6666666666666666,\n",
    " 0.21066810344827586,\n",
    " 0.5986475478593045,\n",
    " 0.22936801231402507)\n",
    "report_adam['Validation'] =('nan',0.898786,'nan','nan',0.782767,0.234657)\n",
    "report_adam"
   ]
  }
 ],
 "metadata": {
  "kernelspec": {
   "display_name": "Python 3",
   "language": "python",
   "name": "python3"
  },
  "language_info": {
   "codemirror_mode": {
    "name": "ipython",
    "version": 3
   },
   "file_extension": ".py",
   "mimetype": "text/x-python",
   "name": "python",
   "nbconvert_exporter": "python",
   "pygments_lexer": "ipython3",
   "version": "3.8.3"
  },
  "toc": {
   "base_numbering": 1,
   "nav_menu": {},
   "number_sections": true,
   "sideBar": true,
   "skip_h1_title": false,
   "title_cell": "Table of Contents",
   "title_sidebar": "Contents",
   "toc_cell": false,
   "toc_position": {},
   "toc_section_display": true,
   "toc_window_display": false
  }
 },
 "nbformat": 4,
 "nbformat_minor": 4
}
