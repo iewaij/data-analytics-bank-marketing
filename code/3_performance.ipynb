{
 "cells": [
  {
   "cell_type": "markdown",
   "metadata": {
    "cell_id": "00020-05cc8cbb-c4b6-45f4-83fc-32865dc9b388",
    "tags": []
   },
   "source": [
    "# Performance Metrics"
   ]
  },
  {
   "cell_type": "code",
   "execution_count": 20,
   "metadata": {
    "cell_id": "00024-191c0674-bc01-4c62-9628-65183c0af970",
    "tags": []
   },
   "outputs": [],
   "source": [
    "from sklearn.model_selection import cross_validate\n",
    "from sklearn.dummy import DummyClassifier\n",
    "from sklearn.naive_bayes import GaussianNB\n",
    "from sklearn.neighbors import KNeighborsClassifier\n",
    "from sklearn.linear_model import LogisticRegression\n",
    "from sklearn.metrics import f1_score\n",
    "from sklearn.metrics import precision_score\n",
    "from sklearn.metrics import recall_score\n",
    "from sklearn.metrics import roc_auc_score"
   ]
  },
  {
   "cell_type": "code",
   "execution_count": 19,
   "metadata": {
    "tags": []
   },
   "outputs": [],
   "source": [
    "X_train = bank_train_set.drop([\"duration\", \"y\"], axis=1)\n",
    "y_train = bank_train_set[\"y\"].astype(\"int\").to_numpy()\n",
    "X_test = bank_test_set.drop([\"duration\", \"y\"], axis=1)\n",
    "y_test = bank_test_set[\"y\"].astype(\"int\").to_numpy()"
   ]
  },
  {
   "cell_type": "code",
   "execution_count": 21,
   "metadata": {},
   "outputs": [
    {
     "data": {
      "text/html": [
       "<div>\n",
       "<style scoped>\n",
       "    .dataframe tbody tr th:only-of-type {\n",
       "        vertical-align: middle;\n",
       "    }\n",
       "\n",
       "    .dataframe tbody tr th {\n",
       "        vertical-align: top;\n",
       "    }\n",
       "\n",
       "    .dataframe thead th {\n",
       "        text-align: right;\n",
       "    }\n",
       "</style>\n",
       "<table border=\"1\" class=\"dataframe\">\n",
       "  <thead>\n",
       "    <tr style=\"text-align: right;\">\n",
       "      <th></th>\n",
       "      <th>Naive Bayes</th>\n",
       "      <th>Logistic Regression</th>\n",
       "      <th>KNN</th>\n",
       "    </tr>\n",
       "  </thead>\n",
       "  <tbody>\n",
       "    <tr>\n",
       "      <th>fit_time</th>\n",
       "      <td>0.014816</td>\n",
       "      <td>0.084774</td>\n",
       "      <td>0.612159</td>\n",
       "    </tr>\n",
       "    <tr>\n",
       "      <th>score_time</th>\n",
       "      <td>0.011017</td>\n",
       "      <td>0.007934</td>\n",
       "      <td>10.643387</td>\n",
       "    </tr>\n",
       "    <tr>\n",
       "      <th>test_f1</th>\n",
       "      <td>0.311337</td>\n",
       "      <td>0.419526</td>\n",
       "      <td>0.335483</td>\n",
       "    </tr>\n",
       "    <tr>\n",
       "      <th>test_precision</th>\n",
       "      <td>0.199409</td>\n",
       "      <td>0.312006</td>\n",
       "      <td>0.507897</td>\n",
       "    </tr>\n",
       "    <tr>\n",
       "      <th>test_recall</th>\n",
       "      <td>0.771852</td>\n",
       "      <td>0.640625</td>\n",
       "      <td>0.250540</td>\n",
       "    </tr>\n",
       "    <tr>\n",
       "      <th>test_roc_auc</th>\n",
       "      <td>0.750778</td>\n",
       "      <td>0.781366</td>\n",
       "      <td>0.706039</td>\n",
       "    </tr>\n",
       "  </tbody>\n",
       "</table>\n",
       "</div>"
      ],
      "text/plain": [
       "                Naive Bayes  Logistic Regression        KNN\n",
       "fit_time           0.014816             0.084774   0.612159\n",
       "score_time         0.011017             0.007934  10.643387\n",
       "test_f1            0.311337             0.419526   0.335483\n",
       "test_precision     0.199409             0.312006   0.507897\n",
       "test_recall        0.771852             0.640625   0.250540\n",
       "test_roc_auc       0.750778             0.781366   0.706039"
      ]
     },
     "execution_count": 21,
     "metadata": {},
     "output_type": "execute_result"
    }
   ],
   "source": [
    "scoring = [\"f1\", \"precision\", \"recall\", \"roc_auc\"]\n",
    "# Initialize Model\n",
    "nb_model = GaussianNB()\n",
    "logit_model = LogisticRegression(class_weight=\"balanced\")\n",
    "knn_model = KNeighborsClassifier(n_neighbors=5)\n",
    "# Train model and get CV results \n",
    "nb_cv = cross_validate(nb_model, X_train, y_train, scoring=scoring, cv = 5)\n",
    "logit_cv = cross_validate(logit_model, X_train, y_train, scoring=scoring, cv = 5)\n",
    "knn_cv = cross_validate(knn_model, X_train, y_train, scoring=scoring, cv = 5)\n",
    "# Calculate CV result mean\n",
    "nb_result = pd.DataFrame(nb_cv).mean().rename(\"Naive Bayes\")\n",
    "logit_result = pd.DataFrame(logit_cv).mean().rename(\"Logistic Regression\")\n",
    "knn_result = pd.DataFrame(knn_cv).mean().rename(\"KNN\")\n",
    "# Store and output result\n",
    "result = pd.concat([nb_result, logit_result, knn_result], axis=1)\n",
    "result"
   ]
  },
  {
   "cell_type": "code",
   "execution_count": 23,
   "metadata": {},
   "outputs": [],
   "source": [
    "from sklearn.dummy import DummyClassifier\n"
   ]
  },
  {
   "cell_type": "code",
   "execution_count": 24,
   "metadata": {},
   "outputs": [
    {
     "data": {
      "text/html": [
       "<div>\n",
       "<style scoped>\n",
       "    .dataframe tbody tr th:only-of-type {\n",
       "        vertical-align: middle;\n",
       "    }\n",
       "\n",
       "    .dataframe tbody tr th {\n",
       "        vertical-align: top;\n",
       "    }\n",
       "\n",
       "    .dataframe thead th {\n",
       "        text-align: right;\n",
       "    }\n",
       "</style>\n",
       "<table border=\"1\" class=\"dataframe\">\n",
       "  <thead>\n",
       "    <tr style=\"text-align: right;\">\n",
       "      <th></th>\n",
       "      <th>Dummy Classifier</th>\n",
       "      <th>Naive Bayes</th>\n",
       "      <th>Logistic Regression</th>\n",
       "      <th>KNN</th>\n",
       "    </tr>\n",
       "  </thead>\n",
       "  <tbody>\n",
       "    <tr>\n",
       "      <th>F1 Score</th>\n",
       "      <td>0.0</td>\n",
       "      <td>0.345568</td>\n",
       "      <td>0.440070</td>\n",
       "      <td>0.372325</td>\n",
       "    </tr>\n",
       "    <tr>\n",
       "      <th>Precision Score</th>\n",
       "      <td>0.0</td>\n",
       "      <td>0.224894</td>\n",
       "      <td>0.326552</td>\n",
       "      <td>0.550633</td>\n",
       "    </tr>\n",
       "    <tr>\n",
       "      <th>Recall Score</th>\n",
       "      <td>0.0</td>\n",
       "      <td>0.745690</td>\n",
       "      <td>0.674569</td>\n",
       "      <td>0.281250</td>\n",
       "    </tr>\n",
       "    <tr>\n",
       "      <th>ROC AUC Score</th>\n",
       "      <td>0.5</td>\n",
       "      <td>0.709712</td>\n",
       "      <td>0.748981</td>\n",
       "      <td>0.626056</td>\n",
       "    </tr>\n",
       "  </tbody>\n",
       "</table>\n",
       "</div>"
      ],
      "text/plain": [
       "                 Dummy Classifier  Naive Bayes  Logistic Regression       KNN\n",
       "F1 Score                      0.0     0.345568             0.440070  0.372325\n",
       "Precision Score               0.0     0.224894             0.326552  0.550633\n",
       "Recall Score                  0.0     0.745690             0.674569  0.281250\n",
       "ROC AUC Score                 0.5     0.709712             0.748981  0.626056"
      ]
     },
     "execution_count": 24,
     "metadata": {},
     "output_type": "execute_result"
    }
   ],
   "source": [
    "X_test = preprocessor.transform(bank_test_set.drop([\"duration\", \"y\"], axis=1))\n",
    "y_test = bank_test_set[\"y\"].astype(\"int\").to_numpy()\n",
    "# Initialize and fit Model\n",
    "dummy_model = DummyClassifier(strategy=\"prior\").fit(X_train, y_train)\n",
    "nb_model = GaussianNB().fit(X_train, y_train)\n",
    "logit_model = LogisticRegression(class_weight=\"balanced\").fit(X_train, y_train)\n",
    "knn_model = KNeighborsClassifier(n_neighbors=5).fit(X_train, y_train)\n",
    "# Predict and calculate score\n",
    "dummy_predict = dummy_model.predict(X_test)\n",
    "dummy_f1 = f1_score(y_test, dummy_predict)\n",
    "dummy_precision = precision_score(y_test, dummy_predict)\n",
    "dummy_recall = recall_score(y_test, dummy_predict)\n",
    "dummy_roc_auc = roc_auc_score(y_test, dummy_predict)\n",
    "nb_predict = nb_model.predict(X_test)\n",
    "nb_f1 = f1_score(y_test, nb_predict)\n",
    "nb_precision = precision_score(y_test, nb_predict)\n",
    "nb_recall = recall_score(y_test, nb_predict)\n",
    "nb_roc_auc = roc_auc_score(y_test, nb_predict)\n",
    "logit_predict = logit_model.predict(X_test)\n",
    "logit_f1 = f1_score(y_test, logit_predict)\n",
    "logit_precision = precision_score(y_test, logit_predict)\n",
    "logit_recall = recall_score(y_test, logit_predict)\n",
    "logit_roc_auc = roc_auc_score(y_test, logit_predict)\n",
    "knn_predict = knn_model.predict(X_test)\n",
    "knn_f1 = f1_score(y_test, knn_predict)\n",
    "knn_precision = precision_score(y_test, knn_predict)\n",
    "knn_recall = recall_score(y_test, knn_predict)\n",
    "knn_roc_auc = roc_auc_score(y_test, knn_predict)\n",
    "# Store and output result\n",
    "result = pd.DataFrame(data={\"Dummy Classifier\": [dummy_f1, dummy_precision, dummy_recall, dummy_roc_auc],\n",
    "                            \"Naive Bayes\": [nb_f1, nb_precision, nb_recall, nb_roc_auc],\n",
    "                            \"Logistic Regression\": [logit_f1, logit_precision, logit_recall, logit_roc_auc],\n",
    "                            \"KNN\": [knn_f1, knn_precision, knn_recall, knn_roc_auc]},\n",
    "                       index=[\"F1 Score\", \"Precision Score\", \"Recall Score\", \"ROC AUC Score\"])\n",
    "result"
   ]
  }
 ],
 "metadata": {
  "kernelspec": {
   "display_name": "Python 3",
   "language": "python",
   "name": "python3"
  },
  "language_info": {
   "codemirror_mode": {
    "name": "ipython",
    "version": 3
   },
   "file_extension": ".py",
   "mimetype": "text/x-python",
   "name": "python",
   "nbconvert_exporter": "python",
   "pygments_lexer": "ipython3",
   "version": "3.8.6"
  }
 },
 "nbformat": 4,
 "nbformat_minor": 4
}
