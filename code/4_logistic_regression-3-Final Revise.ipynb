{
 "cells": [
  {
   "cell_type": "markdown",
   "metadata": {},
   "source": [
    "# Logistic Regression\n"
   ]
  },
  {
   "cell_type": "markdown",
   "metadata": {},
   "source": [
    "### 1. Import Data"
   ]
  },
  {
   "cell_type": "code",
   "execution_count": 1,
   "metadata": {},
   "outputs": [],
   "source": [
    "import numpy as np\n",
    "import pandas as pd\n",
    "import matplotlib.pyplot as plt\n",
    "pd.set_option('max_columns', None)\n",
    "pd.set_option(\"max_colwidth\", None)\n",
    "from sklearn.model_selection import StratifiedShuffleSplit\n",
    "from sklearn.pipeline import Pipeline, make_pipeline\n",
    "from sklearn.compose import ColumnTransformer\n",
    "from sklearn.preprocessing import FunctionTransformer\n",
    "from sklearn.preprocessing import StandardScaler\n",
    "from sklearn.preprocessing import MinMaxScaler\n",
    "from sklearn.impute import SimpleImputer\n",
    "from sklearn.preprocessing import OneHotEncoder\n",
    "from sklearn.metrics import accuracy_score, confusion_matrix, average_precision_score, recall_score, balanced_accuracy_score, roc_auc_score, precision_score"
   ]
  },
  {
   "cell_type": "code",
   "execution_count": 2,
   "metadata": {},
   "outputs": [],
   "source": [
    "def import_dataset(filename):\n",
    "    \"\"\"\n",
    "    Import the dataset from the path.\n",
    "\n",
    "    Parameters\n",
    "    ----------\n",
    "        filename : str\n",
    "            filename with path\n",
    "\n",
    "    Returns\n",
    "    -------\n",
    "        data : DataFrame\n",
    "\n",
    "    Examples\n",
    "    --------\n",
    "        bank_mkt = import_dataset(\"../data/BankMarketing.csv\")\n",
    "    \"\"\"\n",
    "    bank_mkt = pd.read_csv(filename,\n",
    "                           na_values=[\"unknown\", \"nonexistent\"],\n",
    "                           true_values=[\"yes\", \"success\"],\n",
    "                           false_values=[\"no\", \"failure\"])\n",
    "    # Treat pdays = 999 as missing values\n",
    "    bank_mkt[\"pdays\"] = bank_mkt[\"pdays\"].replace(999, pd.NA)\n",
    "    # Convert types, \"Int64\" is nullable integer data type in pandas\n",
    "    bank_mkt = bank_mkt.astype(dtype={\"age\": \"Int64\",\n",
    "                                      \"job\": \"category\",\n",
    "                                      \"marital\": \"category\",\n",
    "                                      \"education\": \"category\",\n",
    "                                      \"default\": \"boolean\",\n",
    "                                      \"housing\": \"boolean\",\n",
    "                                      \"loan\": \"boolean\",\n",
    "                                      \"contact\": \"category\",\n",
    "                                      \"month\": \"category\",\n",
    "                                      \"day_of_week\": \"category\",\n",
    "                                      \"duration\": \"Int64\",\n",
    "                                      \"campaign\": \"Int64\",\n",
    "                                      \"pdays\": \"Int64\",\n",
    "                                      \"previous\": \"Int64\",\n",
    "                                      \"poutcome\": \"boolean\",\n",
    "                                      \"y\": \"boolean\"})\n",
    "    # Drop 12 duplicated rows\n",
    "    bank_mkt = bank_mkt.drop_duplicates().reset_index(drop=True)\n",
    "    # reorder categorical data\n",
    "    bank_mkt[\"education\"] = bank_mkt[\"education\"].cat.reorder_categories([\"illiterate\", \"basic.4y\", \"basic.6y\", \"basic.9y\", \"high.school\", \"professional.course\", \"university.degree\"], ordered=True)\n",
    "    bank_mkt[\"month\"] = bank_mkt[\"month\"].cat.reorder_categories([\"mar\", \"apr\", \"jun\", \"jul\", \"may\", \"aug\", \"sep\", \"oct\", \"nov\", \"dec\"], ordered=True)\n",
    "    bank_mkt[\"day_of_week\"] = bank_mkt[\"day_of_week\"].cat.reorder_categories([\"mon\", \"tue\", \"wed\", \"thu\", \"fri\"], ordered=True)\n",
    "    return bank_mkt"
   ]
  },
  {
   "cell_type": "code",
   "execution_count": 4,
   "metadata": {},
   "outputs": [],
   "source": [
    "bank_mkt = import_dataset(\"../data/BankMarketing.csv\")"
   ]
  },
  {
   "cell_type": "markdown",
   "metadata": {},
   "source": [
    "### 2. Data Preparation"
   ]
  },
  {
   "cell_type": "code",
   "execution_count": 5,
   "metadata": {},
   "outputs": [],
   "source": [
    "def benchmark(data, preprocessor, clf):\n",
    "    \"\"\"\n",
    "    Benchmark preprocessor and clf's performance on train, validation and test sets. \n",
    "    All the data transformation should be handled by preprocessor and estimation should be handled by clf.\n",
    "    \n",
    "    Parameters\n",
    "    ----------\n",
    "        data : DataFrame\n",
    "        \n",
    "        preprocessor : Pipeline\n",
    "        \n",
    "        clf : estimator\n",
    "        \n",
    "        name : str, default = None\n",
    "        \n",
    "        compare_to: DataFrame, default = None\n",
    "        \n",
    "    \"\"\"\n",
    "    X_train, y_train, X_test, y_test, X_ttrain, y_ttrain, X_validate, y_validate = split_dataset(data, preprocessor)\n",
    "    X_sets = [X_ttrain, X_validate, X_test]\n",
    "    y_sets = [y_ttrain, y_validate, y_test]\n",
    "    \n",
    "    metric_names = [\"TNR\", \"TPR\", \"bACC\", \"ROC\", \"REC\", \"PRE\", \"AP\"]\n",
    "    set_names = [\"Train\", \"Validate\", \"Test\"]\n",
    "    metric_df = pd.DataFrame(index=metric_names, columns=set_names)\n",
    "    \n",
    "    try:\n",
    "        clf.fit(X_ttrain, y_ttrain, eval_set=(X_validate, y_validate), verbose=False)\n",
    "    except (ValueError, TypeError):\n",
    "        clf.fit(X_ttrain, y_ttrain)\n",
    "        \n",
    "    for name, X, y in zip(set_names, X_sets, y_sets):\n",
    "        # Re-fit model on train set before test set evaluation except CatBoost\n",
    "        if name == \"Test\":\n",
    "            try:\n",
    "                clf.fit(X_ttrain, y_ttrain, eval_set=(X_validate, y_validate), verbose=False)\n",
    "            except (ValueError, TypeError):\n",
    "                clf.fit(X_train, y_train)\n",
    "                \n",
    "        y_pred = clf.predict(X)\n",
    "        \n",
    "        try:\n",
    "            y_score = clf.decision_function(X)\n",
    "        except AttributeError:\n",
    "            y_score = clf.predict_proba(X)[:, 1]\n",
    "            \n",
    "        metrics = [recall_score(y, y_pred, pos_label=0),\n",
    "                   recall_score(y, y_pred),\n",
    "                   balanced_accuracy_score(y, y_pred),\n",
    "                   roc_auc_score(y, y_score),\n",
    "                   recall_score(y, y_pred),\n",
    "                   precision_score(y, y_pred),\n",
    "                   average_precision_score(y, y_score)]\n",
    "        metric_df[name] = metrics\n",
    "        \n",
    "    return metric_df"
   ]
  },
  {
   "cell_type": "code",
   "execution_count": 6,
   "metadata": {},
   "outputs": [],
   "source": [
    "#### Define plot_confusion_matrix\n",
    "import numpy as np\n",
    "import matplotlib.pyplot as plt\n",
    "import seaborn as sns\n",
    "from sklearn import metrics\n",
    "import itertools\n",
    "\n",
    "def plot_confusion_matrix(cm, classes, normalize=False,\n",
    "                          title='Confusion matrix', cmap=plt.cm.Blues):\n",
    "    \"\"\"\n",
    "    This function prints and plots the confusion matrix.\n",
    "    Normalization can be applied by setting `normalize=True`.\n",
    "    \"\"\"\n",
    "    if normalize:\n",
    "        cm = cm.astype('float') / cm.sum(axis=1)[:, np.newaxis]\n",
    "    plt.imshow(cm, interpolation='nearest', cmap=cmap)\n",
    "    plt.title(title)\n",
    "    plt.colorbar()\n",
    "    tick_marks = np.arange(len(classes))\n",
    "    plt.xticks(tick_marks, classes, rotation=45)\n",
    "    plt.yticks(tick_marks, classes)\n",
    "    fmt = '.2f' if normalize else 'd'\n",
    "    thresh = cm.max() / 2.\n",
    "    for i, j in itertools.product(range(cm.shape[0]),range(cm.shape[1])): \n",
    "         plt.text(j, i, format(cm[i, j], fmt), \n",
    "                  horizontalalignment=\"center\", fontsize=16,                  \n",
    "                  color=\"white\" if cm[i, j] > thresh else \"black\") \n",
    "    plt.ylabel('True label')     \n",
    "    plt.xlabel('Predicted label')     \n",
    "    plt.tight_layout()\n"
   ]
  },
  {
   "cell_type": "code",
   "execution_count": 7,
   "metadata": {},
   "outputs": [],
   "source": [
    "def split_dataset(data, preprocessor, random_state=42):\n",
    "    \"\"\"\n",
    "    Split dataset into train, test and validation sets using preprocessor.\n",
    "    Because the random state of validation set is not specified, the validation set will be different each time when the function is called.\n",
    "\n",
    "    Parameters\n",
    "    ----------\n",
    "        data : DataFrame\n",
    "\n",
    "        preprocessor : Pipeline\n",
    "\n",
    "    Returns\n",
    "    -------\n",
    "        datasets : tuple\n",
    "\n",
    "    Examples\n",
    "    --------\n",
    "        from sklearn.preprocessing import OrdinalEncoder\n",
    "        data = import_dataset(\"../data/BankMarketing.csv\").interpolate(method=\"pad\").loc[:, [\"job\", \"education\", \"y\"]]\n",
    "        # To unpack all train, test, and validation sets \n",
    "        X_train, y_train, X_test, y_test, X_ttrain, y_ttrain, X_validate, y_validate = split_dataset(data, OrdinalEncoder())\n",
    "        # To unpack train and test sets.\n",
    "        X_train, y_train, X_test, y_test, *other_sets = split_dataset(data, OrdinalEncoder())\n",
    "        # To unpack test and validation set\n",
    "        *other_sets, X_test, y_test, X_ttrain, y_ttrain, X_validate, y_validate = split_dataset(data, OrdinalEncoder())\n",
    "        # To unpack only train set.\n",
    "        X_train, y_train, *other_sets = split_dataset(data, OneHotEncoder())\n",
    "    \"\"\"\n",
    "    train_test_split = StratifiedShuffleSplit(n_splits=1, test_size=0.2, random_state=random_state)\n",
    "    for train_index, test_index in train_test_split.split(data.drop(\"y\", axis=1), data[\"y\"]):\n",
    "        train_set = data.loc[train_index].reset_index(drop=True)\n",
    "        test_set = data.loc[test_index].reset_index(drop=True)\n",
    "\n",
    "    y_train = train_set[\"y\"].astype(\"int\").to_numpy()\n",
    "    y_test = test_set[\"y\"].astype(\"int\").to_numpy()\n",
    "    X_train = preprocessor.fit_transform(train_set, y_train)\n",
    "    X_test = preprocessor.transform(test_set)\n",
    "        \n",
    "    train_validate_split = StratifiedShuffleSplit(n_splits=1, test_size=0.2)\n",
    "    for ttrain_index, validate_index in train_validate_split.split(X_train, y_train):\n",
    "        ttrain_set = train_set.loc[ttrain_index].reset_index(drop=True)\n",
    "        validate_set = train_set.loc[validate_index].reset_index(drop=True)\n",
    "    \n",
    "    y_ttrain = ttrain_set[\"y\"].astype(\"int\").to_numpy()\n",
    "    y_validate = validate_set[\"y\"].astype(\"int\").to_numpy()\n",
    "    X_ttrain = preprocessor.fit_transform(ttrain_set, y_ttrain)\n",
    "    X_validate = preprocessor.transform(validate_set)\n",
    "    \n",
    "    if isinstance(X_train, pd.DataFrame):\n",
    "        X_train = X_train.to_numpy()\n",
    "        X_test = X_test.to_numpy()\n",
    "        X_ttrain = X_ttrain.to_numpy()\n",
    "        X_validate = X_validate.to_numpy()\n",
    "\n",
    "    return (X_train, y_train, X_test, y_test, X_ttrain, y_ttrain, X_validate, y_validate)"
   ]
  },
  {
   "cell_type": "code",
   "execution_count": 8,
   "metadata": {},
   "outputs": [],
   "source": [
    "def cat_encode(X,\n",
    "               drop=[\"duration\", \"y\"],\n",
    "               cut=None,\n",
    "               cyclic=None,\n",
    "               target=None):\n",
    "    \"\"\"\n",
    "    Encode and transform categorical data into numerical values.\n",
    "    \n",
    "    Parameters\n",
    "    ----------\n",
    "        X : DataFrame\n",
    "        \n",
    "        drop : list, default = [\"duration\", \"y\"]\n",
    "        \n",
    "        cut : list\n",
    "        \n",
    "        cyclic : list\n",
    "        \n",
    "        target : list\n",
    "    \n",
    "    Returns\n",
    "    -------\n",
    "        X : DataFrame\n",
    "\n",
    "    Examples\n",
    "    --------\n",
    "    bank_mkt = import_dataset(\"../data/BankMarketing.csv\")\n",
    "    X = cat_encode(bank_mkt)\n",
    "    \"\"\"\n",
    "    X = X.copy()\n",
    "    \n",
    "    # `month` will be encoded to the corresponding number, e.g. \"mar\" -> 3.\n",
    "    month_map = {\"mar\": 3,\n",
    "                 \"apr\": 4,\n",
    "                 \"may\": 5,\n",
    "                 \"jun\": 6,\n",
    "                 \"jul\": 7,\n",
    "                 \"aug\": 8,\n",
    "                 \"sep\": 9,\n",
    "                 \"oct\": 10,\n",
    "                 \"nov\": 11,\n",
    "                 \"dec\": 12}\n",
    "    X[\"month\"] = X[\"month\"].replace(month_map).astype(\"Int64\")\n",
    "    \n",
    "    if cut != None:\n",
    "        if \"pdays\" in cut:\n",
    "            X[\"pdays\"] = X[\"pdays\"].fillna(-1)\n",
    "            # Clients who have been contacted but do not have pdays record\n",
    "            X.loc[X[\"pdays\"].isna() & X[\"poutcome\"].notna(), \"pdays\"] = 999\n",
    "            # Cut pdays into categories\n",
    "            X[\"pdays\"] = pd.cut(X[\"pdays\"], [0, 3, 5, 10, 15, 30, 1000], labels=[3, 5, 10, 15, 30, 1000], include_lowest=True).astype(\"Int64\")\n",
    "    else:\n",
    "        # Fill missing values in pdays as 999\n",
    "        X[\"pdays\"] = X[\"pdays\"].fillna(999)\n",
    "    \n",
    "    if cyclic != None:\n",
    "        if \"month\" in cyclic:\n",
    "            X['month_sin'] = np.sin(2 * np.pi * X[\"month\"]/12)\n",
    "            X['month_cos'] = np.cos(2 * np.pi * X[\"month\"]/12)\n",
    "            X = X.drop(\"month\", axis=1)\n",
    "        if \"day_of_week\" in cyclic:\n",
    "            X[\"day_of_week\"] = X[\"day_of_week\"].cat.codes\n",
    "            X['day_sin'] = np.sin(2 * np.pi * X[\"day_of_week\"]/5)\n",
    "            X['day_cos'] = np.cos(2 * np.pi * X[\"day_of_week\"]/5)\n",
    "            X = X.drop(\"day_of_week\", axis=1)\n",
    "    \n",
    "    # Transform target encoded feature as str\n",
    "    if target != None:\n",
    "        X[target] = X[target].astype(\"str\")\n",
    "        \n",
    "    # Drop features\n",
    "    X = X.drop(drop, axis=1)\n",
    "    \n",
    "    # Other categorical features will be coded as its order in pandas categorical index\n",
    "    X = X.apply(lambda x: x.cat.codes if pd.api.types.is_categorical_dtype(x) else (x.astype(\"Int64\") if pd.api.types.is_bool_dtype(x) else x))\n",
    "    \n",
    "    # Fill missing values as -1\n",
    "    X = X.fillna(-1)\n",
    "    \n",
    "    return X"
   ]
  },
  {
   "cell_type": "code",
   "execution_count": 9,
   "metadata": {},
   "outputs": [],
   "source": [
    "cat_encoder = FunctionTransformer(cat_encode)\n",
    "\n",
    "freq_features = [\"job\", \"marital\", \"education\", \"default\", \"housing\", \"loan\"]\n",
    "\n",
    "freq_imputer = ColumnTransformer([\n",
    "    (\"freq_imputer\", SimpleImputer(missing_values=-1, strategy=\"most_frequent\"), freq_features)\n",
    "], remainder=\"passthrough\")\n",
    "\n",
    "freq_encoder = make_pipeline(cat_encoder, freq_imputer)"
   ]
  },
  {
   "cell_type": "code",
   "execution_count": 10,
   "metadata": {},
   "outputs": [],
   "source": [
    "X_train, y_train, X_test, y_test, *other_sets = split_dataset(bank_mkt, freq_encoder)"
   ]
  },
  {
   "cell_type": "markdown",
   "metadata": {},
   "source": [
    "### 3. Logistic Regression"
   ]
  },
  {
   "attachments": {
    "image-2.png": {
     "image/png": "[encoded data removed]"
    },
    "image.png": {
     "image/png": "[encoded data removed]"
    }
   },
   "cell_type": "markdown",
   "metadata": {},
   "source": [
    "##### Logistic Model\n",
    "![image.png](attachment:image.png)\n",
    "![image-2.png](attachment:image-2.png)"
   ]
  },
  {
   "cell_type": "code",
   "execution_count": 11,
   "metadata": {},
   "outputs": [
    {
     "name": "stdout",
     "output_type": "stream",
     "text": [
      "Confusion Matrix:\n",
      " [[21241  7988]\n",
      " [ 1119  2592]] \n",
      "Accuracy Score:\n",
      " 0.7235276259866423 \n",
      "APS:\n",
      " 0.20508794070054304\n",
      "Confusion Matrix:\n",
      " [[5679 1629]\n",
      " [ 277  651]] \n",
      "Accuracy Score:\n",
      " 0.7685769791160758 \n",
      "APS:\n",
      " 0.23393200343166073\n"
     ]
    }
   ],
   "source": [
    "#### Use freq train set\n",
    "from sklearn.linear_model import LogisticRegression\n",
    "lrmodel = LogisticRegression(class_weight='balanced',max_iter=10000) ### set two parameters!!!!\n",
    "lrmodel.fit(X_train, y_train)\n",
    "y_train_pred = lrmodel.predict(X_train)\n",
    "#### model measures for training data\n",
    "cmtr = confusion_matrix(y_train, y_train_pred)\n",
    "acctr = accuracy_score(y_train, y_train_pred)\n",
    "aps_train = average_precision_score(y_train, y_train_pred)\n",
    "\n",
    "#### Use freq test set\n",
    "lrmodel.fit(X_test, y_test)\n",
    "y_test_pred = lrmodel.predict(X_test)\n",
    "#### model measures for testing data\n",
    "cmte = confusion_matrix(y_test, y_test_pred)\n",
    "accte = accuracy_score(y_test, y_test_pred)\n",
    "aps_test = average_precision_score(y_test, y_test_pred)\n",
    "\n",
    "print('Confusion Matrix:\\n',cmtr,'\\nAccuracy Score:\\n',acctr, '\\nAPS:\\n',aps_train)\n",
    "print('Confusion Matrix:\\n',cmte,'\\nAccuracy Score:\\n',accte, '\\nAPS:\\n',aps_test)"
   ]
  },
  {
   "cell_type": "code",
   "execution_count": 12,
   "metadata": {
    "scrolled": true
   },
   "outputs": [
    {
     "data": {
      "image/png": "[encoded data removed]",
      "text/plain": [
       "<Figure size 432x288 with 2 Axes>"
      ]
     },
     "metadata": {
      "needs_background": "light"
     },
     "output_type": "display_data"
    }
   ],
   "source": [
    "#### Plot confusion matrix for train-prediction\n",
    "np.set_printoptions(precision=2)\n",
    "class_names = ['no', 'yes']\n",
    "plt.figure()\n",
    "plot_confusion_matrix(cmtr, classes=class_names,\n",
    "                      title='Confusion matrix Logistic train')"
   ]
  },
  {
   "cell_type": "code",
   "execution_count": 13,
   "metadata": {},
   "outputs": [
    {
     "data": {
      "image/png": "[encoded data removed]",
      "text/plain": [
       "<Figure size 432x288 with 2 Axes>"
      ]
     },
     "metadata": {
      "needs_background": "light"
     },
     "output_type": "display_data"
    }
   ],
   "source": [
    "#### Plot confusion matrix for test-prediction\n",
    "np.set_printoptions(precision=2)\n",
    "class_names = ['no', 'yes']\n",
    "plt.figure()\n",
    "plot_confusion_matrix(cmte, classes=class_names,\n",
    "                      title='Confusion matrix Logistic train')"
   ]
  },
  {
   "cell_type": "code",
   "execution_count": 14,
   "metadata": {},
   "outputs": [
    {
     "data": {
      "image/png": "[encoded data removed]",
      "text/plain": [
       "<Figure size 432x288 with 1 Axes>"
      ]
     },
     "metadata": {
      "needs_background": "light"
     },
     "output_type": "display_data"
    }
   ],
   "source": [
    "#### Plot AUC for test set\n",
    "y_pred_proba = lrmodel.predict_proba(X_test)[::,1]\n",
    "fpr, tpr, _ = metrics.roc_curve(y_test,  y_pred_proba)\n",
    "auc = metrics.roc_auc_score(y_test, y_pred_proba)\n",
    "plt.plot(fpr,tpr,label=\"data 1, auc=\"+str(auc))\n",
    "plt.legend(loc=4)\n",
    "plt.show()"
   ]
  },
  {
   "cell_type": "code",
   "execution_count": 15,
   "metadata": {},
   "outputs": [
    {
     "data": {
      "text/html": [
       "<div>\n",
       "<style scoped>\n",
       "    .dataframe tbody tr th:only-of-type {\n",
       "        vertical-align: middle;\n",
       "    }\n",
       "\n",
       "    .dataframe tbody tr th {\n",
       "        vertical-align: top;\n",
       "    }\n",
       "\n",
       "    .dataframe thead th {\n",
       "        text-align: right;\n",
       "    }\n",
       "</style>\n",
       "<table border=\"1\" class=\"dataframe\">\n",
       "  <thead>\n",
       "    <tr style=\"text-align: right;\">\n",
       "      <th></th>\n",
       "      <th>Train</th>\n",
       "      <th>Validate</th>\n",
       "      <th>Test</th>\n",
       "    </tr>\n",
       "  </thead>\n",
       "  <tbody>\n",
       "    <tr>\n",
       "      <th>TNR</th>\n",
       "      <td>0.791387</td>\n",
       "      <td>0.788060</td>\n",
       "      <td>0.733306</td>\n",
       "    </tr>\n",
       "    <tr>\n",
       "      <th>TPR</th>\n",
       "      <td>0.658471</td>\n",
       "      <td>0.649596</td>\n",
       "      <td>0.728448</td>\n",
       "    </tr>\n",
       "    <tr>\n",
       "      <th>bACC</th>\n",
       "      <td>0.724929</td>\n",
       "      <td>0.718828</td>\n",
       "      <td>0.730877</td>\n",
       "    </tr>\n",
       "    <tr>\n",
       "      <th>ROC</th>\n",
       "      <td>0.776031</td>\n",
       "      <td>0.773543</td>\n",
       "      <td>0.773593</td>\n",
       "    </tr>\n",
       "    <tr>\n",
       "      <th>REC</th>\n",
       "      <td>0.658471</td>\n",
       "      <td>0.649596</td>\n",
       "      <td>0.728448</td>\n",
       "    </tr>\n",
       "    <tr>\n",
       "      <th>PRE</th>\n",
       "      <td>0.286112</td>\n",
       "      <td>0.280070</td>\n",
       "      <td>0.257524</td>\n",
       "    </tr>\n",
       "    <tr>\n",
       "      <th>AP</th>\n",
       "      <td>0.421317</td>\n",
       "      <td>0.430669</td>\n",
       "      <td>0.422791</td>\n",
       "    </tr>\n",
       "  </tbody>\n",
       "</table>\n",
       "</div>"
      ],
      "text/plain": [
       "         Train  Validate      Test\n",
       "TNR   0.791387  0.788060  0.733306\n",
       "TPR   0.658471  0.649596  0.728448\n",
       "bACC  0.724929  0.718828  0.730877\n",
       "ROC   0.776031  0.773543  0.773593\n",
       "REC   0.658471  0.649596  0.728448\n",
       "PRE   0.286112  0.280070  0.257524\n",
       "AP    0.421317  0.430669  0.422791"
      ]
     },
     "execution_count": 15,
     "metadata": {},
     "output_type": "execute_result"
    }
   ],
   "source": [
    "benchmark(bank_mkt, freq_encoder, lrmodel)"
   ]
  },
  {
   "cell_type": "markdown",
   "metadata": {},
   "source": [
    "### 4.  Grid Search \n"
   ]
  },
  {
   "cell_type": "code",
   "execution_count": 17,
   "metadata": {
    "scrolled": true
   },
   "outputs": [
    {
     "name": "stdout",
     "output_type": "stream",
     "text": [
      "Confusion Matrix:\n",
      " [[22160  7069]\n",
      " [ 1186  2525]] \n",
      "Accuracy Score:\n",
      " 0.7493928354584092 \n",
      "APS:\n",
      " 0.21507867663898383\n",
      "Confusion Matrix:\n",
      " [[5359 1949]\n",
      " [ 252  676]] \n",
      "Accuracy Score:\n",
      " 0.7327586206896551 \n",
      "APS:\n",
      " 0.2181901524087051\n",
      "best parameters: {'C': 0.001, 'penalty': 'l2'}\n"
     ]
    }
   ],
   "source": [
    "#### Try the 1st GridSearch param_grid combination:\n",
    "from sklearn.linear_model import LogisticRegression\n",
    "from sklearn.metrics import accuracy_score, confusion_matrix, average_precision_score\n",
    "from sklearn.model_selection import GridSearchCV\n",
    "lrmodel = LogisticRegression(class_weight='balanced', max_iter=10000)\n",
    "\n",
    "#### Grid Search\n",
    "param_grid = {'penalty': ['l2'],\n",
    "              'C':[0.001,.009,0.01,.09,1,5,10,25,50,100]}\n",
    "GS_lrmodel_1 = GridSearchCV(lrmodel, param_grid, scoring='recall')\n",
    "GS_lrmodel_1.fit(X_train, y_train)\n",
    "lrmodel_gs1 = lrmodel.set_params(**GS_lrmodel_1.best_params_)\n",
    "\n",
    "#### use calibrated model on train set\n",
    "lrmodel_gs1.fit(X_train, y_train)\n",
    "y_train_pred = lrmodel_gs1.predict(X_train)\n",
    "cmtr_gs1 = confusion_matrix(y_train, y_train_pred)\n",
    "acctr_gs1 = accuracy_score(y_train, y_train_pred)\n",
    "aps_train_gs1 = average_precision_score(y_train, y_train_pred)\n",
    "#### test the model\n",
    "lrmodel_gs1.fit(X_test, y_test)\n",
    "y_test_pred = lrmodel_gs1.predict(X_test)\n",
    "cmte_gs1 = confusion_matrix(y_test, y_test_pred)\n",
    "accte_gs1 = accuracy_score(y_test, y_test_pred)\n",
    "aps_test_gs1 = average_precision_score(y_test, y_test_pred)\n",
    "\n",
    "print('Confusion Matrix:\\n',cmtr_gs1,'\\nAccuracy Score:\\n',acctr_gs1, '\\nAPS:\\n',aps_train_gs1)\n",
    "print('Confusion Matrix:\\n',cmte_gs1,'\\nAccuracy Score:\\n',accte_gs1, '\\nAPS:\\n',aps_test_gs1)\n",
    "print('best parameters:',GS_lrmodel_1.best_params_)"
   ]
  },
  {
   "cell_type": "code",
   "execution_count": 18,
   "metadata": {},
   "outputs": [
    {
     "data": {
      "text/html": [
       "<div>\n",
       "<style scoped>\n",
       "    .dataframe tbody tr th:only-of-type {\n",
       "        vertical-align: middle;\n",
       "    }\n",
       "\n",
       "    .dataframe tbody tr th {\n",
       "        vertical-align: top;\n",
       "    }\n",
       "\n",
       "    .dataframe thead th {\n",
       "        text-align: right;\n",
       "    }\n",
       "</style>\n",
       "<table border=\"1\" class=\"dataframe\">\n",
       "  <thead>\n",
       "    <tr style=\"text-align: right;\">\n",
       "      <th></th>\n",
       "      <th>Train</th>\n",
       "      <th>Validate</th>\n",
       "      <th>Test</th>\n",
       "    </tr>\n",
       "  </thead>\n",
       "  <tbody>\n",
       "    <tr>\n",
       "      <th>TNR</th>\n",
       "      <td>0.753710</td>\n",
       "      <td>0.752822</td>\n",
       "      <td>0.765326</td>\n",
       "    </tr>\n",
       "    <tr>\n",
       "      <th>TPR</th>\n",
       "      <td>0.681037</td>\n",
       "      <td>0.699461</td>\n",
       "      <td>0.711207</td>\n",
       "    </tr>\n",
       "    <tr>\n",
       "      <th>bACC</th>\n",
       "      <td>0.717374</td>\n",
       "      <td>0.726142</td>\n",
       "      <td>0.738266</td>\n",
       "    </tr>\n",
       "    <tr>\n",
       "      <th>ROC</th>\n",
       "      <td>0.765923</td>\n",
       "      <td>0.780018</td>\n",
       "      <td>0.780575</td>\n",
       "    </tr>\n",
       "    <tr>\n",
       "      <th>REC</th>\n",
       "      <td>0.681037</td>\n",
       "      <td>0.699461</td>\n",
       "      <td>0.711207</td>\n",
       "    </tr>\n",
       "    <tr>\n",
       "      <th>PRE</th>\n",
       "      <td>0.259864</td>\n",
       "      <td>0.264257</td>\n",
       "      <td>0.277895</td>\n",
       "    </tr>\n",
       "    <tr>\n",
       "      <th>AP</th>\n",
       "      <td>0.410849</td>\n",
       "      <td>0.462047</td>\n",
       "      <td>0.430201</td>\n",
       "    </tr>\n",
       "  </tbody>\n",
       "</table>\n",
       "</div>"
      ],
      "text/plain": [
       "         Train  Validate      Test\n",
       "TNR   0.753710  0.752822  0.765326\n",
       "TPR   0.681037  0.699461  0.711207\n",
       "bACC  0.717374  0.726142  0.738266\n",
       "ROC   0.765923  0.780018  0.780575\n",
       "REC   0.681037  0.699461  0.711207\n",
       "PRE   0.259864  0.264257  0.277895\n",
       "AP    0.410849  0.462047  0.430201"
      ]
     },
     "execution_count": 18,
     "metadata": {},
     "output_type": "execute_result"
    }
   ],
   "source": [
    "benchmark(bank_mkt, freq_encoder, lrmodel_gs1)"
   ]
  },
  {
   "cell_type": "code",
   "execution_count": null,
   "metadata": {
    "scrolled": true
   },
   "outputs": [],
   "source": [
    "#### Try the 2nd GridSearch param_grid combination:\n",
    "from sklearn.linear_model import LogisticRegression\n",
    "from sklearn.metrics import accuracy_score, confusion_matrix, average_precision_score\n",
    "from sklearn.model_selection import GridSearchCV\n",
    "lrmodel_gs = LogisticRegression(class_weight='balanced',max_iter=10000)\n",
    "\n",
    "#### Grid Search\n",
    "param_grid = {\"C\":np.logspace(-3,3,7), \n",
    "              \"penalty\":[\"l1\",\"l2\"],\n",
    "              \"solver\": [\"saga\"]}\n",
    "GS_lrmodel_2 = GridSearchCV(lrmodel_gs, param_grid, cv=10)\n",
    "GS_lrmodel_2.fit(X_train, y_train)\n",
    "lrmodel_gs2 = lrmodel_gs.set_params(**GS_lrmodel_2.best_params_)\n",
    "\n",
    "#### use calibrated model on train set\n",
    "lrmodel_gs2.fit(X_train, y_train)\n",
    "y_train_pred = lrmodel_gs2.predict(X_train)\n",
    "cmtr_gs2 = confusion_matrix(y_train, y_train_pred)\n",
    "acctr_gs2 = accuracy_score(y_train, y_train_pred)\n",
    "aps_train_gs2 = average_precision_score(y_train, y_train_pred)\n",
    "#### test the model\n",
    "lrmodel_gs2.fit(X_test, y_test)\n",
    "y_test_pred = lrmodel_gs2.predict(X_test)\n",
    "cmte_gs2 = confusion_matrix(y_test, y_test_pred)\n",
    "accte_gs2 = accuracy_score(y_test, y_test_pred)\n",
    "aps_test_gs2 = average_precision_score(y_test, y_test_pred)\n",
    "\n",
    "print('Confusion Matrix:\\n',cmtr_gs2,'\\nAccuracy Score:\\n',acctr_gs2, '\\nAPS:\\n',aps_train_gs2)\n",
    "print('Confusion Matrix:\\n',cmte_gs2,'\\nAccuracy Score:\\n',accte_gs2, '\\nAPS:\\n',aps_test_gs2)\n",
    "print('best parameters:',GS_lrmodel_2.best_params_)"
   ]
  },
  {
   "cell_type": "code",
   "execution_count": 20,
   "metadata": {},
   "outputs": [
    {
     "data": {
      "text/html": [
       "<div>\n",
       "<style scoped>\n",
       "    .dataframe tbody tr th:only-of-type {\n",
       "        vertical-align: middle;\n",
       "    }\n",
       "\n",
       "    .dataframe tbody tr th {\n",
       "        vertical-align: top;\n",
       "    }\n",
       "\n",
       "    .dataframe thead th {\n",
       "        text-align: right;\n",
       "    }\n",
       "</style>\n",
       "<table border=\"1\" class=\"dataframe\">\n",
       "  <thead>\n",
       "    <tr style=\"text-align: right;\">\n",
       "      <th></th>\n",
       "      <th>Train</th>\n",
       "      <th>Validate</th>\n",
       "      <th>Test</th>\n",
       "    </tr>\n",
       "  </thead>\n",
       "  <tbody>\n",
       "    <tr>\n",
       "      <th>TNR</th>\n",
       "      <td>0.787709</td>\n",
       "      <td>0.783955</td>\n",
       "      <td>0.793103</td>\n",
       "    </tr>\n",
       "    <tr>\n",
       "      <th>TPR</th>\n",
       "      <td>0.663860</td>\n",
       "      <td>0.648248</td>\n",
       "      <td>0.678879</td>\n",
       "    </tr>\n",
       "    <tr>\n",
       "      <th>bACC</th>\n",
       "      <td>0.725784</td>\n",
       "      <td>0.716101</td>\n",
       "      <td>0.735991</td>\n",
       "    </tr>\n",
       "    <tr>\n",
       "      <th>ROC</th>\n",
       "      <td>0.777518</td>\n",
       "      <td>0.769845</td>\n",
       "      <td>0.783334</td>\n",
       "    </tr>\n",
       "    <tr>\n",
       "      <th>REC</th>\n",
       "      <td>0.663860</td>\n",
       "      <td>0.648248</td>\n",
       "      <td>0.678879</td>\n",
       "    </tr>\n",
       "    <tr>\n",
       "      <th>PRE</th>\n",
       "      <td>0.284211</td>\n",
       "      <td>0.275803</td>\n",
       "      <td>0.294118</td>\n",
       "    </tr>\n",
       "    <tr>\n",
       "      <th>AP</th>\n",
       "      <td>0.427567</td>\n",
       "      <td>0.420256</td>\n",
       "      <td>0.427467</td>\n",
       "    </tr>\n",
       "  </tbody>\n",
       "</table>\n",
       "</div>"
      ],
      "text/plain": [
       "         Train  Validate      Test\n",
       "TNR   0.787709  0.783955  0.793103\n",
       "TPR   0.663860  0.648248  0.678879\n",
       "bACC  0.725784  0.716101  0.735991\n",
       "ROC   0.777518  0.769845  0.783334\n",
       "REC   0.663860  0.648248  0.678879\n",
       "PRE   0.284211  0.275803  0.294118\n",
       "AP    0.427567  0.420256  0.427467"
      ]
     },
     "execution_count": 20,
     "metadata": {},
     "output_type": "execute_result"
    }
   ],
   "source": [
    "benchmark(bank_mkt, freq_encoder, lrmodel_gs2)"
   ]
  },
  {
   "cell_type": "markdown",
   "metadata": {},
   "source": [
    "### 5.  Describe Logistic Model"
   ]
  },
  {
   "cell_type": "code",
   "execution_count": null,
   "metadata": {},
   "outputs": [],
   "source": [
    "from sklearn.linear_model import LogisticRegression\n",
    "lrmodel = LogisticRegression(class_weight='balanced',max_iter=1000)\n",
    "lrmodel.fit(X_train, y_train)\n",
    "\n",
    "print(\"Training set score: {:.3f}\".format(lrmodel.score(X_train, y_train)))"
   ]
  },
  {
   "cell_type": "code",
   "execution_count": null,
   "metadata": {},
   "outputs": [],
   "source": [
    "import statsmodels.api as sm\n",
    "logit_model=sm.Logit(y_test, X_test)\n",
    "result=logit_model.fit()\n",
    "print(result.summary())"
   ]
  },
  {
   "cell_type": "code",
   "execution_count": null,
   "metadata": {},
   "outputs": [],
   "source": []
  }
 ],
 "metadata": {
  "kernelspec": {
   "display_name": "Python 3",
   "language": "python",
   "name": "python3"
  },
  "language_info": {
   "codemirror_mode": {
    "name": "ipython",
    "version": 3
   },
   "file_extension": ".py",
   "mimetype": "text/x-python",
   "name": "python",
   "nbconvert_exporter": "python",
   "pygments_lexer": "ipython3",
   "version": "3.8.6"
  }
 },
 "nbformat": 4,
 "nbformat_minor": 4
}
