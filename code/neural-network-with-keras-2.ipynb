{
 "cells": [
  {
   "cell_type": "markdown",
   "metadata": {
    "heading_collapsed": true
   },
   "source": [
    "# Function Importing & Prepare Data"
   ]
  },
  {
   "cell_type": "code",
   "execution_count": 248,
   "metadata": {
    "hidden": true
   },
   "outputs": [],
   "source": [
    "import numpy as np\n",
    "import pandas as pd\n",
    "import matplotlib.pyplot as plt\n",
    "import itertools\n",
    "import matplotlib\n",
    "import os\n",
    "import keras\n",
    "from category_encoders.target_encoder import TargetEncoder\n",
    "from sklearn.preprocessing import FunctionTransformer\n",
    "from sklearn.compose import ColumnTransformer\n",
    "from sklearn.pipeline import Pipeline\n",
    "from sklearn.experimental import enable_iterative_imputer\n",
    "from sklearn.impute import IterativeImputer\n",
    "from sklearn.impute import SimpleImputer\n",
    "from sklearn.preprocessing import StandardScaler\n",
    "from sklearn.preprocessing import MinMaxScaler\n",
    "from sklearn.model_selection import StratifiedShuffleSplit, GridSearchCV, RandomizedSearchCV, cross_validate\n",
    "from sklearn.linear_model import SGDClassifier\n",
    "from sklearn.kernel_approximation import RBFSampler\n",
    "from sklearn.metrics import accuracy_score, average_precision_score, f1_score, precision_score, recall_score, balanced_accuracy_score, roc_auc_score, confusion_matrix\n",
    "from sklearn.utils.fixes import loguniform\n",
    "from sklearn.neural_network import MLPClassifier\n",
    "from funcsigs import signature\n",
    "from sklearn.model_selection import train_test_split\n",
    "from sklearn.metrics import make_scorer\n",
    "from keras.models import Sequential\n",
    "from keras.layers import Dense\n",
    "from keras.layers import Dropout"
   ]
  },
  {
   "cell_type": "code",
   "execution_count": 497,
   "metadata": {
    "hidden": true
   },
   "outputs": [],
   "source": [
    "def split_dataset(data, preprocessor, random_state=82):\n",
    "    \"\"\"\n",
    "    Split dataset into train, test and validation sets using preprocessor.\n",
    "    Because the random state of validation set is not specified, the validation set will be different each time when the function is called.\n",
    "\n",
    "    Parameters\n",
    "    ----------\n",
    "        data : DataFrame\n",
    "\n",
    "        preprocessor : Pipeline\n",
    "\n",
    "    Returns\n",
    "    -------\n",
    "        datasets : tuple\n",
    "\n",
    "    Examples\n",
    "    --------\n",
    "        from sklearn.preprocessing import OrdinalEncoder\n",
    "        data = import_dataset(\"../data/BankMarketing.csv\").interpolate(method=\"pad\").loc[:, [\"job\", \"education\", \"y\"]]\n",
    "        # To unpack all train, test, and validation sets \n",
    "        X_train, y_train, X_test, y_test, X_ttrain, y_ttrain, X_validate, y_validate = split_dataset(data, OrdinalEncoder())\n",
    "        # To unpack train and test sets.\n",
    "        X_train, y_train, X_test, y_test, *other_sets = split_dataset(data, OrdinalEncoder())\n",
    "        # To unpack test and validation set\n",
    "        *other_sets, X_test, y_test, X_ttrain, y_ttrain, X_validate, y_validate = split_dataset(data, OrdinalEncoder())\n",
    "        # To unpack only train set.\n",
    "        X_train, y_train, *other_sets = split_dataset(data, OneHotEncoder())\n",
    "    \"\"\"\n",
    "    train_test_split = StratifiedShuffleSplit(n_splits=1, test_size=0.2, random_state=random_state)\n",
    "    for train_index, test_index in train_test_split.split(data.drop(\"y\", axis=1), data[\"y\"]):\n",
    "        train_set = data.loc[train_index].reset_index(drop=True)\n",
    "        test_set = data.loc[test_index].reset_index(drop=True)\n",
    "\n",
    "    y_train = train_set[\"y\"].astype(\"int\").to_numpy()\n",
    "    y_test = test_set[\"y\"].astype(\"int\").to_numpy()\n",
    "    X_train = preprocessor.fit_transform(train_set, y_train)\n",
    "    X_test = preprocessor.transform(test_set)\n",
    "        \n",
    "    train_validate_split = StratifiedShuffleSplit(n_splits=1, test_size=0.2)\n",
    "    for ttrain_index, validate_index in train_validate_split.split(X_train, y_train):\n",
    "        ttrain_set = train_set.loc[ttrain_index].reset_index(drop=True)\n",
    "        validate_set = train_set.loc[validate_index].reset_index(drop=True)\n",
    "    \n",
    "    y_ttrain = ttrain_set[\"y\"].astype(\"int\").to_numpy()\n",
    "    y_validate = validate_set[\"y\"].astype(\"int\").to_numpy()\n",
    "    X_ttrain = preprocessor.fit_transform(ttrain_set, y_ttrain)\n",
    "    X_validate = preprocessor.transform(validate_set)\n",
    "    \n",
    "    if isinstance(X_train, pd.DataFrame):\n",
    "        X_train = X_train.to_numpy()\n",
    "        X_test = X_test.to_numpy()\n",
    "        X_ttrain = X_ttrain.to_numpy()\n",
    "        X_validate = X_validate.to_numpy()\n",
    "\n",
    "    return (X_train, y_train, X_test, y_test, X_ttrain, y_ttrain, X_validate, y_validate)"
   ]
  },
  {
   "cell_type": "code",
   "execution_count": 498,
   "metadata": {
    "hidden": true
   },
   "outputs": [],
   "source": [
    "def import_dataset(filename):\n",
    "    \"\"\"\n",
    "    Import the dataset from the path.\n",
    "\n",
    "    Parameters\n",
    "    ----------\n",
    "        filename : str\n",
    "            filename with path\n",
    "\n",
    "    Returns\n",
    "    -------\n",
    "        data : DataFrame\n",
    "\n",
    "    Examples\n",
    "    --------\n",
    "        bank_mkt = import_dataset(\"../data/BankMarketing.csv\")\n",
    "    \"\"\"\n",
    "    bank_mkt = pd.read_csv(filename,\n",
    "                           na_values=[\"unknown\", \"nonexistent\"],\n",
    "                           true_values=[\"yes\", \"success\"],\n",
    "                           false_values=[\"no\", \"failure\"])\n",
    "    # Treat pdays = 999 as missing values\n",
    "    bank_mkt[\"pdays\"] = bank_mkt[\"pdays\"].replace(999, pd.NA)\n",
    "    # Convert types, \"Int64\" is nullable integer data type in pandas\n",
    "    bank_mkt = bank_mkt.astype(dtype={\"age\": \"Int64\",\n",
    "                                      \"job\": \"category\",\n",
    "                                      \"marital\": \"category\",\n",
    "                                      \"education\": \"category\",\n",
    "                                      \"default\": \"boolean\",\n",
    "                                      \"housing\": \"boolean\",\n",
    "                                      \"loan\": \"boolean\",\n",
    "                                      \"contact\": \"category\",\n",
    "                                      \"month\": \"category\",\n",
    "                                      \"day_of_week\": \"category\",\n",
    "                                      \"duration\": \"Int64\",\n",
    "                                      \"campaign\": \"Int64\",\n",
    "                                      \"pdays\": \"Int64\",\n",
    "                                      \"previous\": \"Int64\",\n",
    "                                      \"poutcome\": \"boolean\",\n",
    "                                      \"y\": \"boolean\"})\n",
    "    # Drop 12 duplicated rows\n",
    "    bank_mkt = bank_mkt.drop_duplicates().reset_index(drop=True)\n",
    "    # reorder categorical data\n",
    "    bank_mkt[\"education\"] = bank_mkt[\"education\"].cat.reorder_categories([\"illiterate\", \"basic.4y\", \"basic.6y\", \"basic.9y\", \"high.school\", \"professional.course\", \"university.degree\"], ordered=True)\n",
    "    bank_mkt[\"month\"] = bank_mkt[\"month\"].cat.reorder_categories([\"mar\", \"apr\", \"jun\", \"jul\", \"may\", \"aug\", \"sep\", \"oct\", \"nov\", \"dec\"], ordered=True)\n",
    "    bank_mkt[\"day_of_week\"] = bank_mkt[\"day_of_week\"].cat.reorder_categories([\"mon\", \"tue\", \"wed\", \"thu\", \"fri\"], ordered=True)\n",
    "    return bank_mkt"
   ]
  },
  {
   "cell_type": "code",
   "execution_count": 499,
   "metadata": {
    "hidden": true
   },
   "outputs": [],
   "source": [
    "def benchmark(data, preprocessor, clf):\n",
    "    \"\"\"\n",
    "    Benchmark preprocessor and clf's performance on train, validation and test sets. \n",
    "    All the data transformation should be handled by preprocessor and estimation should be handled by clf.\n",
    "    \n",
    "    Parameters\n",
    "    ----------\n",
    "        data : DataFrame\n",
    "        \n",
    "        preprocessor : Pipeline\n",
    "        \n",
    "        clf : estimator\n",
    "        \n",
    "        name : str, default = None\n",
    "        \n",
    "        compare_to: DataFrame, default = None\n",
    "        \n",
    "    \"\"\"\n",
    "    X_train, y_train, X_test, y_test, X_ttrain, y_ttrain, X_validate, y_validate = split_dataset(data, preprocessor)\n",
    "    X_sets = [X_ttrain, X_validate, X_test]\n",
    "    y_sets = [y_ttrain, y_validate, y_test]\n",
    "    \n",
    "    metric_names = [\"TNR\", \"TPR\", \"bACC\", \"ROC\", \"REC\", \"PRE\", \"AP\"]\n",
    "    set_names = [\"Train\", \"Validate\", \"Test\"]\n",
    "    metric_df = pd.DataFrame(index=metric_names, columns=set_names)\n",
    "    \n",
    "    try:\n",
    "        clf.fit(X_ttrain, y_ttrain, eval_set=(X_validate, y_validate), verbose=False)\n",
    "    except (ValueError, TypeError):\n",
    "        clf.fit(X_ttrain, y_ttrain)\n",
    "        \n",
    "    for name, X, y in zip(set_names, X_sets, y_sets):\n",
    "        # Re-fit model on train set before test set evaluation except CatBoost\n",
    "        if name == \"Test\":\n",
    "            try:\n",
    "                clf.fit(X_ttrain, y_ttrain, eval_set=(X_validate, y_validate), verbose=False)\n",
    "            except (ValueError, TypeError):\n",
    "                clf.fit(X_train, y_train)\n",
    "                \n",
    "        y_pred = clf.predict(X)\n",
    "        \n",
    "        try:\n",
    "            y_score = clf.decision_function(X)\n",
    "        except AttributeError:\n",
    "            y_score = clf.predict_proba(X)[:, 1]\n",
    "            \n",
    "        metrics = [recall_score(y, y_pred, pos_label=0),\n",
    "                   recall_score(y, y_pred),\n",
    "                   balanced_accuracy_score(y, y_pred),\n",
    "                   roc_auc_score(y, y_score),\n",
    "                   recall_score(y, y_pred),\n",
    "                   precision_score(y, y_pred),\n",
    "                   average_precision_score(y, y_score)]\n",
    "        metric_df[name] = metrics\n",
    "        \n",
    "    return metric_df"
   ]
  },
  {
   "cell_type": "code",
   "execution_count": 500,
   "metadata": {
    "hidden": true
   },
   "outputs": [],
   "source": [
    "def cat_encode(X,\n",
    "               drop=[\"duration\", \"y\"],\n",
    "               cut=None,\n",
    "               cyclic=None,\n",
    "               target=None):\n",
    "    \"\"\"\n",
    "    Encode and transform categorical data into numerical values.\n",
    "    \n",
    "    Parameters\n",
    "    ----------\n",
    "        X : DataFrame\n",
    "        \n",
    "        drop : list, default = [\"duration\", \"y\"]\n",
    "        \n",
    "        cut : list\n",
    "        \n",
    "        cyclic : list\n",
    "        \n",
    "        target : list\n",
    "    \n",
    "    Returns\n",
    "    -------\n",
    "        X : DataFrame\n",
    "\n",
    "    Examples\n",
    "    --------\n",
    "    bank_mkt = import_dataset(\"../data/BankMarketing.csv\")\n",
    "    X = cat_encode(bank_mkt)\n",
    "    \"\"\"\n",
    "    X = X.copy()\n",
    "    \n",
    "    # `month` will be encoded to the corresponding number, e.g. \"mar\" -> 3.\n",
    "    month_map = {\"mar\": 3,\n",
    "                 \"apr\": 4,\n",
    "                 \"may\": 5,\n",
    "                 \"jun\": 6,\n",
    "                 \"jul\": 7,\n",
    "                 \"aug\": 8,\n",
    "                 \"sep\": 9,\n",
    "                 \"oct\": 10,\n",
    "                 \"nov\": 11,\n",
    "                 \"dec\": 12}\n",
    "    X[\"month\"] = X[\"month\"].replace(month_map).astype(\"Int64\")\n",
    "    \n",
    "    if cut != None:\n",
    "        if \"pdays\" in cut:\n",
    "            X[\"pdays\"] = X[\"pdays\"].fillna(-1)\n",
    "            # Clients who have been contacted but do not have pdays record\n",
    "            X.loc[X[\"pdays\"].isna() & X[\"poutcome\"].notna(), \"pdays\"] = 999\n",
    "            # Cut pdays into categories\n",
    "            X[\"pdays\"] = pd.cut(X[\"pdays\"], [0, 3, 5, 10, 15, 30, 1000], labels=[3, 5, 10, 15, 30, 1000], include_lowest=True).astype(\"Int64\")\n",
    "    else:\n",
    "        # Fill missing values in pdays as 999\n",
    "        X[\"pdays\"] = X[\"pdays\"].fillna(999)\n",
    "    \n",
    "    if cyclic != None:\n",
    "        if \"month\" in cyclic:\n",
    "            X['month_sin'] = np.sin(2 * np.pi * X[\"month\"]/12)\n",
    "            X['month_cos'] = np.cos(2 * np.pi * X[\"month\"]/12)\n",
    "            X = X.drop(\"month\", axis=1)\n",
    "        if \"day_of_week\" in cyclic:\n",
    "            X[\"day_of_week\"] = X[\"day_of_week\"].cat.codes\n",
    "            X['day_sin'] = np.sin(2 * np.pi * X[\"day_of_week\"]/5)\n",
    "            X['day_cos'] = np.cos(2 * np.pi * X[\"day_of_week\"]/5)\n",
    "            X = X.drop(\"day_of_week\", axis=1)\n",
    "    \n",
    "    # Transform target encoded feature as str\n",
    "    if target != None:\n",
    "        X[target] = X[target].astype(\"str\")\n",
    "        \n",
    "    # Drop features\n",
    "    X = X.drop(drop, axis=1)\n",
    "    \n",
    "    # Other categorical features will be coded as its order in pandas categorical index\n",
    "    X = X.apply(lambda x: x.cat.codes if pd.api.types.is_categorical_dtype(x) else (x.astype(\"Int64\") if pd.api.types.is_bool_dtype(x) else x))\n",
    "    \n",
    "    # Fill missing values as -1\n",
    "    X = X.fillna(-1)\n",
    "    \n",
    "    return X"
   ]
  },
  {
   "cell_type": "code",
   "execution_count": 501,
   "metadata": {
    "hidden": true
   },
   "outputs": [],
   "source": [
    "bank_mkt = import_dataset(\"/Users/alex/Desktop/Data Anal/ML/Group Project/BankMarketing.csv\")"
   ]
  },
  {
   "cell_type": "code",
   "execution_count": 502,
   "metadata": {
    "hidden": true
   },
   "outputs": [],
   "source": [
    "from sklearn.pipeline import make_pipeline\n",
    "cat_encoder = FunctionTransformer(cat_encode)\n",
    "\n",
    "freq_features = [\"job\", \"marital\", \"education\", \"default\", \"housing\", \"loan\"]\n",
    "\n",
    "freq_imputer = ColumnTransformer([\n",
    "    (\"freq_imputer\", SimpleImputer(missing_values=-1, strategy=\"most_frequent\"), freq_features)\n",
    "], remainder=\"passthrough\")\n",
    "\n",
    "freq_encoder = make_pipeline(cat_encoder, freq_imputer)"
   ]
  },
  {
   "cell_type": "code",
   "execution_count": 503,
   "metadata": {
    "hidden": true
   },
   "outputs": [],
   "source": [
    "X_train, y_train, X_test, y_test, X_ttrain, y_ttrain, X_validate, y_validate = split_dataset(bank_mkt, freq_encoder)"
   ]
  },
  {
   "cell_type": "markdown",
   "metadata": {
    "heading_collapsed": true
   },
   "source": [
    "# Train/ Test / Validate without Tuning"
   ]
  },
  {
   "cell_type": "code",
   "execution_count": 94,
   "metadata": {
    "hidden": true,
    "scrolled": true
   },
   "outputs": [
    {
     "data": {
      "text/html": [
       "<div>\n",
       "<style scoped>\n",
       "    .dataframe tbody tr th:only-of-type {\n",
       "        vertical-align: middle;\n",
       "    }\n",
       "\n",
       "    .dataframe tbody tr th {\n",
       "        vertical-align: top;\n",
       "    }\n",
       "\n",
       "    .dataframe thead th {\n",
       "        text-align: right;\n",
       "    }\n",
       "</style>\n",
       "<table border=\"1\" class=\"dataframe\">\n",
       "  <thead>\n",
       "    <tr style=\"text-align: right;\">\n",
       "      <th></th>\n",
       "      <th>Train</th>\n",
       "      <th>Validate</th>\n",
       "      <th>Test</th>\n",
       "    </tr>\n",
       "  </thead>\n",
       "  <tbody>\n",
       "    <tr>\n",
       "      <th>TNR</th>\n",
       "      <td>0.990591</td>\n",
       "      <td>0.990250</td>\n",
       "      <td>0.986180</td>\n",
       "    </tr>\n",
       "    <tr>\n",
       "      <th>TPR</th>\n",
       "      <td>0.188953</td>\n",
       "      <td>0.192722</td>\n",
       "      <td>0.181034</td>\n",
       "    </tr>\n",
       "    <tr>\n",
       "      <th>bACC</th>\n",
       "      <td>0.589772</td>\n",
       "      <td>0.591486</td>\n",
       "      <td>0.583607</td>\n",
       "    </tr>\n",
       "    <tr>\n",
       "      <th>ROC</th>\n",
       "      <td>0.758686</td>\n",
       "      <td>0.785037</td>\n",
       "      <td>0.770525</td>\n",
       "    </tr>\n",
       "    <tr>\n",
       "      <th>REC</th>\n",
       "      <td>0.188953</td>\n",
       "      <td>0.192722</td>\n",
       "      <td>0.181034</td>\n",
       "    </tr>\n",
       "    <tr>\n",
       "      <th>PRE</th>\n",
       "      <td>0.718310</td>\n",
       "      <td>0.715000</td>\n",
       "      <td>0.624535</td>\n",
       "    </tr>\n",
       "    <tr>\n",
       "      <th>AP</th>\n",
       "      <td>0.419627</td>\n",
       "      <td>0.436628</td>\n",
       "      <td>0.410457</td>\n",
       "    </tr>\n",
       "  </tbody>\n",
       "</table>\n",
       "</div>"
      ],
      "text/plain": [
       "         Train  Validate      Test\n",
       "TNR   0.990591  0.990250  0.986180\n",
       "TPR   0.188953  0.192722  0.181034\n",
       "bACC  0.589772  0.591486  0.583607\n",
       "ROC   0.758686  0.785037  0.770525\n",
       "REC   0.188953  0.192722  0.181034\n",
       "PRE   0.718310  0.715000  0.624535\n",
       "AP    0.419627  0.436628  0.410457"
      ]
     },
     "execution_count": 94,
     "metadata": {},
     "output_type": "execute_result"
    }
   ],
   "source": [
    "mlp=MLPClassifier(solver =\"lbfgs\",random_state=42,max_iter=1000)\n",
    "benchmark(bank_mkt, freq_encoder, mlp)"
   ]
  },
  {
   "cell_type": "markdown",
   "metadata": {
    "heading_collapsed": true
   },
   "source": [
    "# GridsearchCV"
   ]
  },
  {
   "cell_type": "code",
   "execution_count": 150,
   "metadata": {
    "hidden": true
   },
   "outputs": [
    {
     "name": "stdout",
     "output_type": "stream",
     "text": [
      "best parameters found: {'activation': 'relu', 'alpha': 0.01, 'hidden_layer_sizes': (100,), 'learning_rate': 'constant', 'solver': 'lbfgs'}, with mean test score: 0.4208468058986027\n"
     ]
    }
   ],
   "source": [
    "mlp=MLPClassifier(random_state=42,max_iter=1000)\n",
    "\n",
    "param_grid ={\n",
    "    'solver':['lbfgs', 'sgd', 'adam'],\n",
    "    'learning_rate':[\"constant\",\"invscaling\",\"adaptive\"],\n",
    "    'hidden_layer_sizes':[(100,),(200,),(20,5,),(10,5,),(100,50,25,)],\n",
    "    'alpha':[0.0,0.001,0.01],\n",
    "    'activation' :[\"logistic\",\"relu\",\"tanh\"] }\n",
    "\n",
    "grid_search = GridSearchCV(estimator=mlp,\n",
    "                          param_grid=param_grid,\n",
    "                          scoring = \"average_precision\",\n",
    "                          return_train_score=True,\n",
    "                          cv =2,\n",
    "                          n_jobs=-1) \n",
    "       \n",
    "grid_fit = grid_search.fit(X_train, y_train)\n",
    "grid_results = grid_search.cv_results_\n",
    "grid_best_params = grid_search.best_params_\n",
    "grid_best_score = grid_search.best_score_\n",
    "\n",
    "print(f\"best parameters found: {grid_best_params}, with mean test score: {grid_best_score}\")"
   ]
  },
  {
   "cell_type": "code",
   "execution_count": 153,
   "metadata": {
    "hidden": true,
    "scrolled": true
   },
   "outputs": [
    {
     "data": {
      "text/html": [
       "<div>\n",
       "<style scoped>\n",
       "    .dataframe tbody tr th:only-of-type {\n",
       "        vertical-align: middle;\n",
       "    }\n",
       "\n",
       "    .dataframe tbody tr th {\n",
       "        vertical-align: top;\n",
       "    }\n",
       "\n",
       "    .dataframe thead th {\n",
       "        text-align: right;\n",
       "    }\n",
       "</style>\n",
       "<table border=\"1\" class=\"dataframe\">\n",
       "  <thead>\n",
       "    <tr style=\"text-align: right;\">\n",
       "      <th></th>\n",
       "      <th>Train</th>\n",
       "      <th>Validate</th>\n",
       "      <th>Test</th>\n",
       "    </tr>\n",
       "  </thead>\n",
       "  <tbody>\n",
       "    <tr>\n",
       "      <th>TNR</th>\n",
       "      <td>0.989864</td>\n",
       "      <td>0.988026</td>\n",
       "      <td>0.986590</td>\n",
       "    </tr>\n",
       "    <tr>\n",
       "      <th>TPR</th>\n",
       "      <td>0.195352</td>\n",
       "      <td>0.207547</td>\n",
       "      <td>0.193966</td>\n",
       "    </tr>\n",
       "    <tr>\n",
       "      <th>bACC</th>\n",
       "      <td>0.592608</td>\n",
       "      <td>0.597787</td>\n",
       "      <td>0.590278</td>\n",
       "    </tr>\n",
       "    <tr>\n",
       "      <th>ROC</th>\n",
       "      <td>0.763937</td>\n",
       "      <td>0.762834</td>\n",
       "      <td>0.771836</td>\n",
       "    </tr>\n",
       "    <tr>\n",
       "      <th>REC</th>\n",
       "      <td>0.195352</td>\n",
       "      <td>0.207547</td>\n",
       "      <td>0.193966</td>\n",
       "    </tr>\n",
       "    <tr>\n",
       "      <th>PRE</th>\n",
       "      <td>0.709914</td>\n",
       "      <td>0.687500</td>\n",
       "      <td>0.647482</td>\n",
       "    </tr>\n",
       "    <tr>\n",
       "      <th>AP</th>\n",
       "      <td>0.421345</td>\n",
       "      <td>0.438027</td>\n",
       "      <td>0.415162</td>\n",
       "    </tr>\n",
       "  </tbody>\n",
       "</table>\n",
       "</div>"
      ],
      "text/plain": [
       "         Train  Validate      Test\n",
       "TNR   0.989864  0.988026  0.986590\n",
       "TPR   0.195352  0.207547  0.193966\n",
       "bACC  0.592608  0.597787  0.590278\n",
       "ROC   0.763937  0.762834  0.771836\n",
       "REC   0.195352  0.207547  0.193966\n",
       "PRE   0.709914  0.687500  0.647482\n",
       "AP    0.421345  0.438027  0.415162"
      ]
     },
     "execution_count": 153,
     "metadata": {},
     "output_type": "execute_result"
    }
   ],
   "source": [
    "mlp_trained=MLPClassifier(solver =\"lbfgs\",\n",
    "                          random_state=42,\n",
    "                          max_iter=1000,\n",
    "                          activation = 'relu',\n",
    "                          alpha = 0.01,\n",
    "                          hidden_layer_sizes = (100,),\n",
    "                          learning_rate = 'constant')\n",
    "\n",
    "benchmark(bank_mkt, freq_encoder, mlp_trained)"
   ]
  },
  {
   "cell_type": "markdown",
   "metadata": {
    "heading_collapsed": true
   },
   "source": [
    "# Keras"
   ]
  },
  {
   "cell_type": "code",
   "execution_count": 692,
   "metadata": {
    "hidden": true
   },
   "outputs": [],
   "source": [
    "bank_mkt = import_dataset(\"/Users/alex/Desktop/Data Anal/ML/Group Project/BankMarketing.csv\")"
   ]
  },
  {
   "cell_type": "code",
   "execution_count": 693,
   "metadata": {
    "hidden": true
   },
   "outputs": [],
   "source": [
    "from sklearn.pipeline import make_pipeline\n",
    "cat_encoder = FunctionTransformer(cat_encode)\n",
    "\n",
    "freq_features = [\"job\", \"marital\", \"education\", \"default\", \"housing\", \"loan\"]\n",
    "\n",
    "freq_imputer = ColumnTransformer([\n",
    "    (\"freq_imputer\", SimpleImputer(missing_values=-1, strategy=\"most_frequent\"), freq_features)\n",
    "], remainder=\"passthrough\")\n",
    "\n",
    "freq_encoder = make_pipeline(cat_encoder, freq_imputer)"
   ]
  },
  {
   "cell_type": "code",
   "execution_count": 694,
   "metadata": {
    "hidden": true
   },
   "outputs": [],
   "source": [
    "X_train, y_train, X_test, y_test, X_ttrain, y_ttrain, X_validate, y_validate = split_dataset(bank_mkt, freq_encoder)"
   ]
  },
  {
   "cell_type": "code",
   "execution_count": 695,
   "metadata": {
    "hidden": true
   },
   "outputs": [],
   "source": [
    "X_train = np.asarray(X_train).astype('float32')\n",
    "X_test = np.asarray(X_test).astype('float32')\n",
    "y_train = np.asarray(y_train).astype('float32')\n",
    "y_test = np.asarray(y_test).astype('float32')\n",
    "X_ttrain = np.asarray(X_ttrain).astype('float32')\n",
    "y_ttrain = np.asarray(y_ttrain).astype('float32')\n",
    "X_validate = np.asarray(X_validate).astype('float32')\n",
    "y_validate = np.asarray(y_validate).astype('float32')"
   ]
  },
  {
   "cell_type": "markdown",
   "metadata": {
    "hidden": true
   },
   "source": [
    "Metrics in Keras:\n",
    "    \n",
    "https://machinelearningmastery.com/custom-metrics-deep-learning-keras-python/"
   ]
  },
  {
   "cell_type": "markdown",
   "metadata": {
    "hidden": true
   },
   "source": [
    "Optimizer：\n",
    "\n",
    "https://blog.csdn.net/weixin_40170902/article/details/80092628"
   ]
  },
  {
   "cell_type": "markdown",
   "metadata": {
    "hidden": true
   },
   "source": [
    "Batch/Epochs/Iteration：\n",
    "\n",
    "如果Batch_Size过小，训练数据就会非常难收敛，从而导致underfitting；\n",
    "\n",
    "增大Batch_Size,相对处理速度加快，所需内存容量增加（epoch的次数需要增加以达到最好的结果）\n",
    "\n",
    "Batch_Size的正确选择是为了在内存效率和内存容量之间寻找最佳平衡。\n",
    "\n",
    "1个epoch指用训练集中的全部样本训练一次\n",
    "\n",
    "随着epoch数量增加，神经网络中的权重的更新次数也在增加，曲线从欠拟合变得过拟合\n",
    "\n",
    "1个iteration即迭代一次，也就是用batchsize个样本训练一次。\n",
    "\n"
   ]
  },
  {
   "cell_type": "markdown",
   "metadata": {
    "hidden": true
   },
   "source": [
    "## Keras model with validation"
   ]
  },
  {
   "cell_type": "code",
   "execution_count": 704,
   "metadata": {
    "hidden": true
   },
   "outputs": [],
   "source": [
    "model = Sequential()\n",
    "model.add(Dropout(0.5, input_shape=(19,)))\n",
    "model.add(Dense(5, activation='relu'))\n",
    "model.add(Dropout(0.8))\n",
    "#model.add(Dense(5, activation='relu'))\n",
    "#model.add(Dropout(0.8))\n",
    "model.add(Dense(1, activation='sigmoid'))\n",
    "model.compile(loss='binary_crossentropy', \n",
    "              optimizer='rmsprop', \n",
    "              metrics=['binary_accuracy'])"
   ]
  },
  {
   "cell_type": "code",
   "execution_count": 705,
   "metadata": {
    "hidden": true,
    "scrolled": true
   },
   "outputs": [
    {
     "name": "stdout",
     "output_type": "stream",
     "text": [
      "Epoch 1/25\n",
      "53/53 [==============================] - 0s 3ms/step - loss: 1235.0629 - binary_accuracy: 0.7450 - val_loss: 24.9997 - val_binary_accuracy: 0.8981\n",
      "Epoch 2/25\n",
      "53/53 [==============================] - 0s 2ms/step - loss: 889.4126 - binary_accuracy: 0.7937 - val_loss: 68.4195 - val_binary_accuracy: 0.8874\n",
      "Epoch 3/25\n",
      "53/53 [==============================] - 0s 2ms/step - loss: 684.8979 - binary_accuracy: 0.8124 - val_loss: 85.5190 - val_binary_accuracy: 0.8874\n",
      "Epoch 4/25\n",
      "53/53 [==============================] - 0s 1ms/step - loss: 465.5873 - binary_accuracy: 0.8256 - val_loss: 81.2773 - val_binary_accuracy: 0.8874\n",
      "Epoch 5/25\n",
      "53/53 [==============================] - 0s 2ms/step - loss: 301.1856 - binary_accuracy: 0.8328 - val_loss: 69.7759 - val_binary_accuracy: 0.8874\n",
      "Epoch 6/25\n",
      "53/53 [==============================] - 0s 1ms/step - loss: 187.7012 - binary_accuracy: 0.8508 - val_loss: 52.8702 - val_binary_accuracy: 0.8874\n",
      "Epoch 7/25\n",
      "53/53 [==============================] - 0s 2ms/step - loss: 108.3776 - binary_accuracy: 0.8547 - val_loss: 33.5070 - val_binary_accuracy: 0.8874\n",
      "Epoch 8/25\n",
      "53/53 [==============================] - 0s 2ms/step - loss: 44.4293 - binary_accuracy: 0.8653 - val_loss: 16.1880 - val_binary_accuracy: 0.8874\n",
      "Epoch 9/25\n",
      "53/53 [==============================] - 0s 1ms/step - loss: 17.2305 - binary_accuracy: 0.8864 - val_loss: 5.9351 - val_binary_accuracy: 0.8874\n",
      "Epoch 10/25\n",
      "53/53 [==============================] - 0s 2ms/step - loss: 7.9975 - binary_accuracy: 0.8873 - val_loss: 1.4997 - val_binary_accuracy: 0.8874\n",
      "Epoch 11/25\n",
      "53/53 [==============================] - 0s 2ms/step - loss: 2.9376 - binary_accuracy: 0.8796 - val_loss: 0.6811 - val_binary_accuracy: 0.8874\n",
      "Epoch 12/25\n",
      "53/53 [==============================] - 0s 2ms/step - loss: 0.8554 - binary_accuracy: 0.8858 - val_loss: 0.4941 - val_binary_accuracy: 0.8874\n",
      "Epoch 13/25\n",
      "53/53 [==============================] - 0s 2ms/step - loss: 0.4682 - binary_accuracy: 0.8873 - val_loss: 0.4493 - val_binary_accuracy: 0.8874\n",
      "Epoch 14/25\n",
      "53/53 [==============================] - 0s 2ms/step - loss: 0.4553 - binary_accuracy: 0.8873 - val_loss: 0.4350 - val_binary_accuracy: 0.8874\n",
      "Epoch 15/25\n",
      "53/53 [==============================] - 0s 2ms/step - loss: 0.4451 - binary_accuracy: 0.8873 - val_loss: 0.4562 - val_binary_accuracy: 0.8874\n",
      "Epoch 16/25\n",
      "53/53 [==============================] - 0s 2ms/step - loss: 0.4367 - binary_accuracy: 0.8868 - val_loss: 0.4155 - val_binary_accuracy: 0.8874\n",
      "Epoch 17/25\n",
      "53/53 [==============================] - 0s 2ms/step - loss: 0.4296 - binary_accuracy: 0.8873 - val_loss: 0.4208 - val_binary_accuracy: 0.8874\n",
      "Epoch 18/25\n",
      "53/53 [==============================] - 0s 1ms/step - loss: 0.4224 - binary_accuracy: 0.8873 - val_loss: 0.4021 - val_binary_accuracy: 0.8874\n",
      "Epoch 19/25\n",
      "53/53 [==============================] - 0s 2ms/step - loss: 0.4136 - binary_accuracy: 0.8874 - val_loss: 0.4102 - val_binary_accuracy: 0.8874\n",
      "Epoch 20/25\n",
      "53/53 [==============================] - 0s 1ms/step - loss: 0.4071 - binary_accuracy: 0.8873 - val_loss: 0.4066 - val_binary_accuracy: 0.8874\n",
      "Epoch 21/25\n",
      "53/53 [==============================] - 0s 1ms/step - loss: 0.4018 - binary_accuracy: 0.8873 - val_loss: 0.3984 - val_binary_accuracy: 0.8874\n",
      "Epoch 22/25\n",
      "53/53 [==============================] - 0s 2ms/step - loss: 0.3954 - binary_accuracy: 0.8873 - val_loss: 0.3969 - val_binary_accuracy: 0.8874\n",
      "Epoch 23/25\n",
      "53/53 [==============================] - 0s 2ms/step - loss: 0.3908 - binary_accuracy: 0.8873 - val_loss: 0.3815 - val_binary_accuracy: 0.8874\n",
      "Epoch 24/25\n",
      "53/53 [==============================] - 0s 2ms/step - loss: 0.3865 - binary_accuracy: 0.8873 - val_loss: 0.3805 - val_binary_accuracy: 0.8874\n",
      "Epoch 25/25\n",
      "53/53 [==============================] - 0s 2ms/step - loss: 0.3805 - binary_accuracy: 0.8873 - val_loss: 0.3773 - val_binary_accuracy: 0.8874\n"
     ]
    }
   ],
   "source": [
    "history = model.fit(X_ttrain, \n",
    "                    y_ttrain,\n",
    "                    validation_data = (X_validate,y_validate), \n",
    "                    epochs=25, \n",
    "                    batch_size=500)"
   ]
  },
  {
   "cell_type": "code",
   "execution_count": 706,
   "metadata": {
    "hidden": true
   },
   "outputs": [
    {
     "data": {
      "image/png": "[encoded data removed]",
      "text/plain": [
       "<Figure size 432x288 with 1 Axes>"
      ]
     },
     "metadata": {
      "needs_background": "light"
     },
     "output_type": "display_data"
    }
   ],
   "source": [
    "plt.plot(history.history['binary_accuracy'])\n",
    "plt.plot(history.history['val_binary_accuracy'])\n",
    "plt.title('Model accuracy')\n",
    "plt.ylabel('Accuracy')\n",
    "plt.xlabel('Epoch')\n",
    "plt.legend(['Train', 'Validation'], loc='upper left')\n",
    "plt.show()"
   ]
  },
  {
   "cell_type": "code",
   "execution_count": 707,
   "metadata": {
    "hidden": true
   },
   "outputs": [
    {
     "data": {
      "image/png": "[encoded data removed]",
      "text/plain": [
       "<Figure size 432x288 with 1 Axes>"
      ]
     },
     "metadata": {
      "needs_background": "light"
     },
     "output_type": "display_data"
    }
   ],
   "source": [
    "plt.plot(history.history['loss']) \n",
    "plt.plot(history.history['val_loss']) \n",
    "plt.title('Model loss') \n",
    "plt.ylabel('Loss') \n",
    "plt.xlabel('Epoch') \n",
    "plt.legend(['Train', 'Validation'], loc='upper left') \n",
    "plt.show()"
   ]
  },
  {
   "cell_type": "markdown",
   "metadata": {
    "hidden": true
   },
   "source": [
    "## Keras_test_accuracy"
   ]
  },
  {
   "cell_type": "code",
   "execution_count": 712,
   "metadata": {
    "hidden": true
   },
   "outputs": [
    {
     "name": "stdout",
     "output_type": "stream",
     "text": [
      "258/258 [==============================] - 0s 624us/step - loss: 0.3774 - binary_accuracy: 0.8873\n",
      "Accuracy: 88.73\n"
     ]
    }
   ],
   "source": [
    "_, accuracy = model.evaluate(x=X_test, y=y_test)\n",
    "print('Accuracy: %.2f' % (accuracy*100))"
   ]
  },
  {
   "cell_type": "code",
   "execution_count": null,
   "metadata": {
    "hidden": true
   },
   "outputs": [],
   "source": []
  }
 ],
 "metadata": {
  "kernelspec": {
   "display_name": "Python 3",
   "language": "python",
   "name": "python3"
  },
  "language_info": {
   "codemirror_mode": {
    "name": "ipython",
    "version": 3
   },
   "file_extension": ".py",
   "mimetype": "text/x-python",
   "name": "python",
   "nbconvert_exporter": "python",
   "pygments_lexer": "ipython3",
   "version": "3.8.6"
  },
  "toc": {
   "base_numbering": 1,
   "nav_menu": {},
   "number_sections": true,
   "sideBar": true,
   "skip_h1_title": false,
   "title_cell": "Table of Contents",
   "title_sidebar": "Contents",
   "toc_cell": false,
   "toc_position": {},
   "toc_section_display": true,
   "toc_window_display": true
  }
 },
 "nbformat": 4,
 "nbformat_minor": 4
}
