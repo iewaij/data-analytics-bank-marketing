{
 "cells": [
  {
   "cell_type": "code",
   "execution_count": 2,
   "metadata": {},
   "outputs": [],
   "source": [
    "import numpy as np\n",
    "import pandas as pd\n",
    "from sklearn import preprocessing\n",
    "from sklearn.model_selection import cross_validate\n",
    "from sklearn import tree\n",
    "from sklearn.naive_bayes import GaussianNB\n",
    "from sklearn.ensemble import RandomForestClassifier"
   ]
  },
  {
   "cell_type": "code",
   "execution_count": 3,
   "metadata": {},
   "outputs": [],
   "source": [
    "def import_dataset(filename):\n",
    "    bank_mkt = pd.read_csv(filename,\n",
    "                           na_values=[\"unknown\", \"nonexistent\"],\n",
    "                           true_values=[\"yes\", \"success\"],\n",
    "                           false_values=[\"no\", \"failure\"])\n",
    "    # Treat pdays = 999 as missing values\n",
    "    bank_mkt[\"pdays\"] = bank_mkt[\"pdays\"].replace(999, np.nan)\n",
    "    # Convert types, \"Int64\" is nullable integer data type in pandas\n",
    "    bank_mkt = bank_mkt.astype(dtype={\"age\": \"Int64\",\n",
    "                                      \"job\": \"category\",\n",
    "                                      \"marital\": \"category\",\n",
    "                                      \"education\": \"category\",\n",
    "                                      \"default\": \"boolean\",\n",
    "                                      \"housing\": \"boolean\",\n",
    "                                      \"loan\": \"boolean\",\n",
    "                                      \"contact\": \"category\",\n",
    "                                      \"month\": \"category\",\n",
    "                                      \"day_of_week\": \"category\",\n",
    "                                      \"duration\": \"Int64\",\n",
    "                                      \"campaign\": \"Int64\",\n",
    "                                      \"pdays\": \"Int64\",\n",
    "                                      \"previous\": \"Int64\",\n",
    "                                      \"poutcome\": \"boolean\",\n",
    "                                      \"y\": \"boolean\"})\n",
    "    return bank_mkt"
   ]
  },
  {
   "cell_type": "code",
   "execution_count": 4,
   "metadata": {},
   "outputs": [],
   "source": [
    "def min_max_scale(df):\n",
    "    min_max_scaler = preprocessing.MinMaxScaler()\n",
    "    min_max_scaler.fit_transform(df.select_dtypes(\"number\"))"
   ]
  },
  {
   "cell_type": "code",
   "execution_count": 5,
   "metadata": {},
   "outputs": [],
   "source": [
    "def baseline_benchmark(df):\n",
    "    \"\"\"\n",
    "    Feed transfromed dataframe with no missing values.\n",
    "    \"\"\"\n",
    "    shuffled_df = df.sample(frac=1).reset_index(drop=True)\n",
    "    bank_x = shuffled_df.drop([\"duration\", \"y\"], axis=1)\n",
    "    min_max_scale(bank_x)\n",
    "    bank_x = pd.get_dummies(bank_x, drop_first=True).values\n",
    "    bank_y = shuffled_df[\"y\"].astype(int).values\n",
    "    nb_model = GaussianNB()\n",
    "    tree_clf = tree.DecisionTreeClassifier(class_weight=\"balanced\")\n",
    "    rf_clf = RandomForestClassifier(class_weight=\"balanced\")\n",
    "    scoring = [\"f1\", \"accuracy\"]\n",
    "    scores = cross_validate(nb_model, bank_x, bank_y, scoring=scoring, cv=5, return_train_score=True)\n",
    "    result = pd.DataFrame(scores)\n",
    "    return result.mean()"
   ]
  },
  {
   "cell_type": "markdown",
   "metadata": {},
   "source": [
    "## Transform education"
   ]
  },
  {
   "cell_type": "code",
   "execution_count": 6,
   "metadata": {},
   "outputs": [
    {
     "output_type": "execute_result",
     "data": {
      "text/plain": "university.degree      12168\nhigh.school             9515\nbasic.9y                6045\nprofessional.course     5243\nbasic.4y                4176\nbasic.6y                2292\nilliterate                18\nName: education, dtype: int64"
     },
     "metadata": {},
     "execution_count": 6
    }
   ],
   "source": [
    "bank_mkt = import_dataset(\"../data/BankMarketing.csv\")\n",
    "bank_mkt[\"education\"].value_counts()"
   ]
  },
  {
   "cell_type": "code",
   "execution_count": 7,
   "metadata": {},
   "outputs": [],
   "source": [
    "# Treat education as grades\n",
    "def trans_edu(df):\n",
    "    education_grade = {\"university.degree\": 16,\n",
    "                   \"high.school\": 12,\n",
    "                   \"professional.course\": 12,\n",
    "                   \"basic.9y\": 9,\n",
    "                   \"basic.4y\": 4,\n",
    "                   \"basic.6y\": 6,\n",
    "                   \"illiterate\": 0}\n",
    "    df[\"education\"] = df[\"education\"].replace(education_grade)"
   ]
  },
  {
   "cell_type": "markdown",
   "metadata": {},
   "source": [
    "## Fill Missing Values as Unknown"
   ]
  },
  {
   "cell_type": "code",
   "execution_count": 8,
   "metadata": {},
   "outputs": [],
   "source": [
    "def fill_unknown(df, feature_list):\n",
    "    df = df.copy()\n",
    "    for feature in feature_list:\n",
    "        if pd.api.types.is_categorical_dtype(df[feature]):\n",
    "            df[feature] = df[feature].cat.add_categories(\"unknown\")\n",
    "            df[feature] = df[feature].fillna(\"unknown\")\n",
    "        elif pd.api.types.is_bool_dtype(bank_mkt[feature]):\n",
    "            df[feature] = df[feature].astype(\"category\")\n",
    "            df[feature] = df[feature].cat.add_categories(\"unknown\")\n",
    "            df[feature] = df[feature].fillna(\"unknown\")\n",
    "    return df"
   ]
  },
  {
   "cell_type": "code",
   "execution_count": 9,
   "metadata": {},
   "outputs": [
    {
     "output_type": "execute_result",
     "data": {
      "text/plain": "fit_time          0.059572\nscore_time        0.016776\ntest_f1           0.429805\ntrain_f1          0.430581\ntest_accuracy     0.870788\ntrain_accuracy    0.870897\ndtype: float64"
     },
     "metadata": {},
     "execution_count": 9
    }
   ],
   "source": [
    "bank_mkt = import_dataset(\"../data/BankMarketing.csv\")\n",
    "category_list = [\"marital\", \"education\", \"default\", \"job\", \"housing\", \"loan\"]\n",
    "bank_mkt = fill_unknown(bank_mkt, category_list)\n",
    "bank_mkt[\"pdays\"] = bank_mkt[\"pdays\"].fillna(999)\n",
    "bank_mkt[\"poutcome\"] = bank_mkt[\"poutcome\"].fillna(False)\n",
    "baseline_benchmark(bank_mkt)"
   ]
  },
  {
   "cell_type": "code",
   "execution_count": 10,
   "metadata": {},
   "outputs": [
    {
     "output_type": "execute_result",
     "data": {
      "text/plain": "fit_time          0.050785\nscore_time        0.013010\ntest_f1           0.430620\ntrain_f1          0.430084\ntest_accuracy     0.870618\ntrain_accuracy    0.870521\ndtype: float64"
     },
     "metadata": {},
     "execution_count": 10
    }
   ],
   "source": [
    "bank_mkt = import_dataset(\"../data/BankMarketing.csv\")\n",
    "category_list = [\"marital\", \"education\", \"default\", \"job\", \"housing\", \"loan\"]\n",
    "bank_mkt = fill_unknown(bank_mkt, category_list)\n",
    "bank_mkt[\"pdays\"] = bank_mkt[\"pdays\"].fillna(999)\n",
    "bank_mkt[\"poutcome\"] = bank_mkt[\"poutcome\"].fillna(False)\n",
    "education_grade = {\"university.degree\": 16,\n",
    "                   \"professional.course\": 16,\n",
    "                   \"high.school\": 12,\n",
    "                   \"unknown\": 10,\n",
    "                   \"basic.9y\": 9,\n",
    "                   \"basic.6y\": 6,\n",
    "                   \"basic.4y\": 4,\n",
    "                   \"illiterate\": 0}\n",
    "bank_mkt[\"education\"] = bank_mkt[\"education\"].replace(education_grade).astype(\"Int64\")\n",
    "baseline_benchmark(bank_mkt)"
   ]
  },
  {
   "cell_type": "markdown",
   "metadata": {},
   "source": [
    "## Fill Missing Values by Imputation"
   ]
  },
  {
   "cell_type": "markdown",
   "metadata": {},
   "source": [
    "### Most Frequent"
   ]
  },
  {
   "cell_type": "code",
   "execution_count": 11,
   "metadata": {},
   "outputs": [],
   "source": [
    "from sklearn.impute import SimpleImputer\n",
    "from sklearn import preprocessing\n",
    "from sklearn.model_selection import train_test_split\n",
    "from sklearn.model_selection import cross_validate\n",
    "from sklearn.metrics import accuracy_score, f1_score\n",
    "from sklearn import tree\n",
    "from sklearn.naive_bayes import GaussianNB\n",
    "from sklearn.ensemble import RandomForestClassifier"
   ]
  },
  {
   "cell_type": "code",
   "execution_count": 12,
   "metadata": {},
   "outputs": [
    {
     "output_type": "execute_result",
     "data": {
      "text/plain": "       default housing   loan poutcome\ncount    41188   41188  41188    41188\nunique       3       3      3        2\ntop      False    True  False    False\nfreq     32588   21576  33950    39815",
      "text/html": "<div>\n<style scoped>\n    .dataframe tbody tr th:only-of-type {\n        vertical-align: middle;\n    }\n\n    .dataframe tbody tr th {\n        vertical-align: top;\n    }\n\n    .dataframe thead th {\n        text-align: right;\n    }\n</style>\n<table border=\"1\" class=\"dataframe\">\n  <thead>\n    <tr style=\"text-align: right;\">\n      <th></th>\n      <th>default</th>\n      <th>housing</th>\n      <th>loan</th>\n      <th>poutcome</th>\n    </tr>\n  </thead>\n  <tbody>\n    <tr>\n      <th>count</th>\n      <td>41188</td>\n      <td>41188</td>\n      <td>41188</td>\n      <td>41188</td>\n    </tr>\n    <tr>\n      <th>unique</th>\n      <td>3</td>\n      <td>3</td>\n      <td>3</td>\n      <td>2</td>\n    </tr>\n    <tr>\n      <th>top</th>\n      <td>False</td>\n      <td>True</td>\n      <td>False</td>\n      <td>False</td>\n    </tr>\n    <tr>\n      <th>freq</th>\n      <td>32588</td>\n      <td>21576</td>\n      <td>33950</td>\n      <td>39815</td>\n    </tr>\n  </tbody>\n</table>\n</div>"
     },
     "metadata": {},
     "execution_count": 12
    }
   ],
   "source": [
    "bank_mkt[[\"default\", \"housing\", \"loan\", \"poutcome\"]].describe()"
   ]
  },
  {
   "cell_type": "code",
   "execution_count": 13,
   "metadata": {},
   "outputs": [
    {
     "output_type": "execute_result",
     "data": {
      "text/plain": "count    41188.000000\nmean       962.475454\nstd        186.910907\nmin          0.000000\n25%        999.000000\n50%        999.000000\n75%        999.000000\nmax        999.000000\nName: pdays, dtype: float64"
     },
     "metadata": {},
     "execution_count": 13
    }
   ],
   "source": [
    "bank_mkt[\"pdays\"].describe()"
   ]
  },
  {
   "cell_type": "code",
   "execution_count": 14,
   "metadata": {},
   "outputs": [],
   "source": [
    "def fill_freq(bank_mkt):\n",
    "    # Add new type\n",
    "#     bank_mkt[\"ptype\"] = pd.NA\n",
    "#     bank_mkt.loc[bank_mkt[\"pdays\"].isna() & bank_mkt[\"poutcome\"].isna(), \"ptype\"] = \"new\"\n",
    "#     bank_mkt.loc[bank_mkt[\"pdays\"].isna() & bank_mkt[\"poutcome\"].notna(), \"ptype\"] = \"lost\"\n",
    "#     bank_mkt.loc[bank_mkt[\"pdays\"].notna() & bank_mkt[\"poutcome\"].notna(), \"ptype\"] = \"previous\"\n",
    "    # Fill with most frequent data\n",
    "    bank_mkt[\"pdays\"] = bank_mkt[\"pdays\"].fillna(999)\n",
    "    bank_mkt[[\"default\", \"loan\", \"poutcome\"]] = bank_mkt[[\"default\", \"loan\", \"poutcome\"]].fillna(False)\n",
    "    bank_mkt[\"housing\"] = bank_mkt[\"housing\"].fillna(True)\n",
    "    df = bank_mkt[[\"job\", \"marital\", \"education\"]]\n",
    "    imp = SimpleImputer(strategy=\"most_frequent\")\n",
    "    bank_mkt[[\"job\", \"marital\", \"education\"]] = imp.fit_transform(df)"
   ]
  },
  {
   "cell_type": "code",
   "execution_count": 19,
   "metadata": {},
   "outputs": [
    {
     "output_type": "execute_result",
     "data": {
      "text/plain": "29       55\n35       55\n73       57\n91       57\n144      38\n         ..\n40370    59\n40428    64\n40656    67\n41005    63\n41108    64\nName: age, Length: 330, dtype: Int64"
     },
     "metadata": {},
     "execution_count": 19
    }
   ],
   "source": [
    "bank_mkt = import_dataset(\"../data/BankMarketing.csv\")\n",
    "bank_mkt[bank_mkt[\"job\"].isna()].age"
   ]
  },
  {
   "cell_type": "code",
   "execution_count": 26,
   "metadata": {},
   "outputs": [
    {
     "output_type": "execute_result",
     "data": {
      "text/plain": "count    1720.000000\nmean       62.027326\nstd        10.493293\nmin        23.000000\n25%        56.000000\n50%        59.000000\n75%        69.000000\nmax        98.000000\nName: age, dtype: float64"
     },
     "metadata": {},
     "execution_count": 26
    }
   ],
   "source": [
    "bank_mkt[bank_mkt[\"job\"] == \"retired\"].age.describe()"
   ]
  },
  {
   "cell_type": "code",
   "execution_count": 16,
   "metadata": {},
   "outputs": [
    {
     "output_type": "execute_result",
     "data": {
      "text/plain": "fit_time          0.051946\nscore_time        0.014076\ntest_f1           0.430063\ntrain_f1          0.430596\ntest_accuracy     0.872002\ntrain_accuracy    0.872269\ndtype: float64"
     },
     "metadata": {},
     "execution_count": 16
    }
   ],
   "source": [
    "bank_mkt = import_dataset(\"../data/BankMarketing.csv\")\n",
    "fill_freq(bank_mkt)\n",
    "baseline_benchmark(bank_mkt)"
   ]
  },
  {
   "cell_type": "code",
   "execution_count": 90,
   "metadata": {},
   "outputs": [
    {
     "output_type": "execute_result",
     "data": {
      "text/plain": "fit_time          2.180267\nscore_time        0.124848\ntest_f1           0.373589\ntrain_f1          0.971932\ntest_accuracy     0.891400\ntrain_accuracy    0.993511\ndtype: float64"
     },
     "metadata": {},
     "execution_count": 90
    }
   ],
   "source": [
    "bank_mkt = import_dataset(\"../data/BankMarketing.csv\")\n",
    "fill_freq(bank_mkt)\n",
    "education_grade = {\"university.degree\": 6,\n",
    "                   \"professional.course\": 6,\n",
    "                   \"high.school\": 5,\n",
    "                   \"basic.9y\": 4,\n",
    "                   \"basic.6y\": 3,\n",
    "                   \"basic.4y\": 2,\n",
    "                   \"illiterate\": 0}\n",
    "bank_mkt[\"education\"] = bank_mkt[\"education\"].replace(education_grade).astype(\"Int64\")\n",
    "baseline_benchmark(bank_mkt)"
   ]
  },
  {
   "cell_type": "markdown",
   "metadata": {},
   "source": [
    "## Mix Unknown and Freq"
   ]
  },
  {
   "cell_type": "code",
   "execution_count": 91,
   "metadata": {},
   "outputs": [],
   "source": [
    "def fill_mix(bank_mkt):\n",
    "    # Fill with most frequent data\n",
    "    bank_mkt[\"pdays\"] = bank_mkt[\"pdays\"].fillna(999)\n",
    "    bank_mkt[[\"default\", \"loan\", \"poutcome\"]] = bank_mkt[[\"default\", \"loan\", \"poutcome\"]].fillna(False)\n",
    "    bank_mkt[\"housing\"] = bank_mkt[\"housing\"].fillna(True)\n",
    "    df = bank_mkt[[\"job\", \"education\"]]\n",
    "    imp = SimpleImputer(strategy=\"most_frequent\")\n",
    "    bank_mkt[[\"job\", \"education\"]] = imp.fit_transform(df)\n",
    "    # Fill marital as unknown\n",
    "    bank_mkt[\"marital\"] = bank_mkt[\"marital\"].cat.add_categories(\"unknown\")\n",
    "    bank_mkt[\"marital\"] = bank_mkt[\"marital\"].fillna(\"unknown\")"
   ]
  },
  {
   "cell_type": "code",
   "execution_count": 100,
   "metadata": {},
   "outputs": [
    {
     "output_type": "execute_result",
     "data": {
      "text/plain": "fit_time          2.203759\nscore_time        0.125677\ntest_f1           0.369754\ntrain_f1          0.972594\ntest_accuracy     0.891546\ntrain_accuracy    0.993669\ndtype: float64"
     },
     "metadata": {},
     "execution_count": 100
    }
   ],
   "source": [
    "bank_mkt = import_dataset(\"../data/BankMarketing.csv\")\n",
    "fill_mix(bank_mkt)\n",
    "baseline_benchmark(bank_mkt)"
   ]
  },
  {
   "cell_type": "code",
   "execution_count": 99,
   "metadata": {},
   "outputs": [
    {
     "output_type": "execute_result",
     "data": {
      "text/plain": "fit_time          2.205433\nscore_time        0.124501\ntest_f1           0.371182\ntrain_f1          0.972479\ntest_accuracy     0.890866\ntrain_accuracy    0.993645\ndtype: float64"
     },
     "metadata": {},
     "execution_count": 99
    }
   ],
   "source": [
    "bank_mkt = import_dataset(\"../data/BankMarketing.csv\")\n",
    "fill_mix(bank_mkt)\n",
    "education_grade = {\"university.degree\": 6,\n",
    "                   \"professional.course\": 6,\n",
    "                   \"high.school\": 5,\n",
    "                   \"basic.9y\": 4,\n",
    "                   \"basic.6y\": 3,\n",
    "                   \"basic.4y\": 2,\n",
    "                   \"illiterate\": 0}\n",
    "bank_mkt[\"education\"] = bank_mkt[\"education\"].replace(education_grade).astype(\"Int64\")\n",
    "baseline_benchmark(bank_mkt)"
   ]
  },
  {
   "cell_type": "markdown",
   "metadata": {},
   "source": [
    "## Iterative Imputer"
   ]
  },
  {
   "cell_type": "code",
   "execution_count": 148,
   "metadata": {},
   "outputs": [
    {
     "output_type": "execute_result",
     "data": {
      "text/plain": "fit_time          0.483089\nscore_time        0.115229\ntest_f1           0.202894\ntrain_f1          0.206718\ntest_accuracy     0.130475\ntrain_accuracy    0.136308\ndtype: float64"
     },
     "metadata": {},
     "execution_count": 148
    }
   ],
   "source": [
    "from sklearn.experimental import enable_iterative_imputer\n",
    "from sklearn.impute import IterativeImputer\n",
    "from sklearn.tree import DecisionTreeRegressor\n",
    "from sklearn.linear_model import BayesianRidge\n",
    "\n",
    "bank_mkt = import_dataset(\"../data/BankMarketing.csv\")\n",
    "bank_mkt[\"pdays\"] = bank_mkt[\"pdays\"].fillna(999)\n",
    "bank_mkt[\"poutcome\"] = bank_mkt[\"poutcome\"].fillna(False)\n",
    "bank_mkt[\"job\"] = bank_mkt[\"job\"].cat.codes\n",
    "bank_mkt[\"marital\"] = bank_mkt[\"marital\"].cat.codes\n",
    "bank_mkt[\"default\"] = bank_mkt[\"default\"].astype(\"float\")\n",
    "bank_mkt[\"housing\"] = bank_mkt[\"housing\"].astype(\"float\")\n",
    "bank_mkt[\"loan\"] = bank_mkt[\"loan\"].astype(\"float\")\n",
    "education_grade = {\"university.degree\": 6,\n",
    "                   \"professional.course\": 6,\n",
    "                   \"high.school\": 5,\n",
    "                   \"basic.9y\": 4,\n",
    "                   \"basic.6y\": 3,\n",
    "                   \"basic.4y\": 2,\n",
    "                   \"illiterate\": 0}\n",
    "bank_mkt[\"education\"] = bank_mkt[\"education\"].replace(education_grade).astype(\"float\")\n",
    "X = bank_mkt[[\"age\", \"job\", \"education\", \"default\", \"housing\", \"loan\"]].fillna(np.nan)\n",
    "imputer = IterativeImputer(max_iter=100, estimator=DecisionTreeRegressor())\n",
    "bank_mkt[[\"age\", \"job\", \"education\", \"default\", \"housing\", \"loan\"]] = imputer.fit_transform(X)\n",
    "bank_mkt = bank_mkt.astype(dtype={\"job\": \"category\",\n",
    "                                  \"marital\": \"category\",\n",
    "                                  \"education\": \"category\"})\n",
    "baseline_benchmark(bank_mkt)"
   ]
  },
  {
   "cell_type": "code",
   "execution_count": 129,
   "metadata": {},
   "outputs": [],
   "source": [
    "bank_mkt = import_dataset(\"../data/BankMarketing.csv\")\n",
    "bank_mkt[\"pdays\"] = bank_mkt[\"pdays\"].fillna(999)\n",
    "bank_mkt[\"poutcome\"] = bank_mkt[\"poutcome\"].fillna(False)\n",
    "bank_mkt[\"job\"] = bank_mkt[\"job\"].cat.codes\n",
    "bank_mkt[\"marital\"] = bank_mkt[\"marital\"].cat.codes\n",
    "bank_mkt[\"default\"] = bank_mkt[\"default\"].astype(\"float\")\n",
    "bank_mkt[\"housing\"] = bank_mkt[\"housing\"].astype(\"float\")\n",
    "bank_mkt[\"loan\"] = bank_mkt[\"loan\"].astype(\"float\")\n",
    "education_grade = {\"university.degree\": 6,\n",
    "                   \"professional.course\": 6,\n",
    "                   \"high.school\": 5,\n",
    "                   \"basic.9y\": 4,\n",
    "                   \"basic.6y\": 3,\n",
    "                   \"basic.4y\": 2,\n",
    "                   \"illiterate\": 0}\n",
    "bank_mkt[\"education\"] = bank_mkt[\"education\"].replace(education_grade).astype(\"float\")"
   ]
  },
  {
   "cell_type": "code",
   "execution_count": 134,
   "metadata": {},
   "outputs": [],
   "source": [
    "from sklearn.impute import KNNImputer\n",
    "X = bank_mkt[[\"age\", \"job\", \"education\", \"default\", \"housing\", \"loan\"]].fillna(np.nan)\n",
    "min_max_scale(X)\n",
    "imputer = KNNImputer(missing_values=np.nan, n_neighbors=5, weights=\"uniform\")\n",
    "bank_mkt[[\"age\", \"job\", \"education\", \"default\", \"housing\", \"loan\"]] = imputer.fit_transform(X).astype(\"int\")\n",
    "bank_mkt.astype(dtype={\"job\": \"category\",\n",
    "                       \"marital\": \"category\",\n",
    "                       \"education\": \"category\"})"
   ]
  },
  {
   "cell_type": "code",
   "execution_count": 141,
   "metadata": {},
   "outputs": [
    {
     "output_type": "execute_result",
     "data": {
      "text/plain": "fit_time          0.036999\nscore_time        0.009882\ntest_f1           0.420050\ntrain_f1          0.419619\ntest_accuracy     0.881834\ntrain_accuracy    0.881762\ndtype: float64"
     },
     "metadata": {},
     "execution_count": 141
    }
   ],
   "source": [
    "baseline_benchmark(bank_mkt)"
   ]
  },
  {
   "cell_type": "code",
   "execution_count": null,
   "metadata": {},
   "outputs": [],
   "source": []
  }
 ],
 "metadata": {
  "kernelspec": {
   "display_name": "Python 3.8.5 64-bit ('Analytics': conda)",
   "language": "python",
   "name": "python_defaultSpec_1603032907236"
  },
  "language_info": {
   "codemirror_mode": {
    "name": "ipython",
    "version": 3
   },
   "file_extension": ".py",
   "mimetype": "text/x-python",
   "name": "python",
   "nbconvert_exporter": "python",
   "pygments_lexer": "ipython3",
   "version": "3.8.5-final"
  }
 },
 "nbformat": 4,
 "nbformat_minor": 4
}