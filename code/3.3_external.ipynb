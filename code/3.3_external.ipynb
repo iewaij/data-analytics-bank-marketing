{
 "cells": [
  {
   "cell_type": "markdown",
   "metadata": {},
   "source": [
    "## External Data\n",
    "\n",
    "- Spending now or invest for the future\n",
    "- price, inflation\n",
    "- income, employment, labour supply\n",
    "- comsuption level, GDP\n",
    "- Composite leading indicator\n",
    "- adjust interest rate\n",
    "- Portugal bond return and rating\n",
    "- German bond return\n",
    "- Stock market return and volatity\n",
    "- Gold price"
   ]
  },
  {
   "cell_type": "code",
   "execution_count": 1,
   "metadata": {},
   "outputs": [],
   "source": [
    "from bank_marketing import *"
   ]
  },
  {
   "cell_type": "code",
   "execution_count": 2,
   "metadata": {},
   "outputs": [],
   "source": [
    "bank_mkt = import_dataset(\"../data/BankMarketing.csv\")"
   ]
  },
  {
   "cell_type": "markdown",
   "metadata": {},
   "source": [
    "## Year"
   ]
  },
  {
   "cell_type": "code",
   "execution_count": 3,
   "metadata": {},
   "outputs": [],
   "source": [
    "drop_features = ['age',\n",
    "                 'job',\n",
    "                 'marital',\n",
    "                 'education',\n",
    "                 'default',\n",
    "                 'housing',\n",
    "                 'loan',\n",
    "                 \"duration\",\n",
    "                 \"y\"]\n",
    "\n",
    "year_encoder = FunctionTransformer(cat_encode, kw_args= {\"drop\": drop_features,\"external\":[\"year\"]})\n"
   ]
  },
  {
   "cell_type": "code",
   "execution_count": 4,
   "metadata": {},
   "outputs": [
    {
     "output_type": "execute_result",
     "data": {
      "text/plain": "         Train  Validate      Test\nTNR   0.863320  0.867431  0.861248\nTPR   0.642977  0.681941  0.640086\nbACC  0.753148  0.774686  0.750667\nROC   0.820415  0.835277  0.804160\nREC   0.642977  0.681941  0.640086\nPRE   0.373947  0.395004  0.369403\nAP    0.504129  0.513574  0.457063",
      "text/html": "<div>\n<style scoped>\n    .dataframe tbody tr th:only-of-type {\n        vertical-align: middle;\n    }\n\n    .dataframe tbody tr th {\n        vertical-align: top;\n    }\n\n    .dataframe thead th {\n        text-align: right;\n    }\n</style>\n<table border=\"1\" class=\"dataframe\">\n  <thead>\n    <tr style=\"text-align: right;\">\n      <th></th>\n      <th>Train</th>\n      <th>Validate</th>\n      <th>Test</th>\n    </tr>\n  </thead>\n  <tbody>\n    <tr>\n      <th>TNR</th>\n      <td>0.863320</td>\n      <td>0.867431</td>\n      <td>0.861248</td>\n    </tr>\n    <tr>\n      <th>TPR</th>\n      <td>0.642977</td>\n      <td>0.681941</td>\n      <td>0.640086</td>\n    </tr>\n    <tr>\n      <th>bACC</th>\n      <td>0.753148</td>\n      <td>0.774686</td>\n      <td>0.750667</td>\n    </tr>\n    <tr>\n      <th>ROC</th>\n      <td>0.820415</td>\n      <td>0.835277</td>\n      <td>0.804160</td>\n    </tr>\n    <tr>\n      <th>REC</th>\n      <td>0.642977</td>\n      <td>0.681941</td>\n      <td>0.640086</td>\n    </tr>\n    <tr>\n      <th>PRE</th>\n      <td>0.373947</td>\n      <td>0.395004</td>\n      <td>0.369403</td>\n    </tr>\n    <tr>\n      <th>AP</th>\n      <td>0.504129</td>\n      <td>0.513574</td>\n      <td>0.457063</td>\n    </tr>\n  </tbody>\n</table>\n</div>"
     },
     "metadata": {},
     "execution_count": 4
    }
   ],
   "source": [
    "cat_clf = CatBoostClassifier(eval_metric=\"AUC\", class_weights=[1,8], verbose=False)\n",
    "benchmark(bank_mkt, year_encoder, cat_clf)"
   ]
  },
  {
   "cell_type": "markdown",
   "metadata": {},
   "source": [
    "## Economic Indicators"
   ]
  },
  {
   "cell_type": "code",
   "execution_count": 33,
   "metadata": {},
   "outputs": [],
   "source": [
    "\n",
    "def benchmark(data, preprocessor, clf):\n",
    "    \"\"\"\n",
    "    Benchmark preprocessor and clf's performance on train, validation and test sets. \n",
    "    All the data transformation should be handled by preprocessor and estimation should be handled by clf.\n",
    "    \n",
    "    Parameters\n",
    "    ----------\n",
    "        data : DataFrame\n",
    "        \n",
    "        preprocessor : Pipeline\n",
    "        \n",
    "        clf : estimator\n",
    "        \n",
    "        name : str, default = None\n",
    "        \n",
    "        compare_to: DataFrame, default = None\n",
    "        \n",
    "    \"\"\"\n",
    "    X_train, y_train, X_test, y_test, X_ttrain, y_ttrain, X_validate, y_validate = split_dataset(data, preprocessor)\n",
    "    X_sets = [X_ttrain, X_validate, X_test]\n",
    "    y_sets = [y_ttrain, y_validate, y_test]\n",
    "    \n",
    "    metric_names = [\"TNR\", \"TPR\", \"bACC\", \"ROC\", \"REC\", \"PRE\", \"AP\"]\n",
    "    set_names = [\"Train\", \"Validate\", \"Test\"]\n",
    "    metric_df = pd.DataFrame(index=metric_names, columns=set_names)\n",
    "    \n",
    "    try:\n",
    "        clf.fit(X_ttrain, y_ttrain, eval_set=(X_validate, y_validate), use_best_model=True, verbose=False)\n",
    "    except (ValueError, TypeError):\n",
    "        clf.fit(X_ttrain, y_ttrain)\n",
    "        \n",
    "    for name, X, y in zip(set_names, X_sets, y_sets):\n",
    "        y_pred = clf.predict(X)\n",
    "        try:\n",
    "            y_score = clf.decision_function(X)\n",
    "        except AttributeError:\n",
    "            y_score = clf.predict_proba(X)[:, 1]\n",
    "            \n",
    "        metrics = [recall_score(y, y_pred, pos_label=0),\n",
    "                   recall_score(y, y_pred),\n",
    "                   balanced_accuracy_score(y, y_pred),\n",
    "                   roc_auc_score(y, y_score),\n",
    "                   recall_score(y, y_pred),\n",
    "                   precision_score(y, y_pred),\n",
    "                   average_precision_score(y, y_score)]\n",
    "        metric_df[name] = metrics\n",
    "        \n",
    "    return metric_df"
   ]
  },
  {
   "cell_type": "code",
   "execution_count": 34,
   "metadata": {},
   "outputs": [],
   "source": [
    "from sklearn.impute import SimpleImputer"
   ]
  },
  {
   "cell_type": "code",
   "execution_count": 40,
   "metadata": {},
   "outputs": [],
   "source": [
    "freq_features = [\"job\", \"marital\", \"education\", \"default\", \"housing\", \"loan\"]\n",
    "\n",
    "freq_imputer = ColumnTransformer([\n",
    "    (\"freq_imputer\", SimpleImputer(missing_values=-1, strategy=\"most_frequent\"), freq_features)\n",
    "], remainder=\"passthrough\")\n",
    "\n",
    "drop_features = [\"duration\",\n",
    "                 \"y\"]\n",
    "\n",
    "econ_encoder = FunctionTransformer(cat_encode, kw_args= {\"drop\": drop_features,\"external\":[\"year\"]})\n",
    "\n",
    "econ_transformer = make_pipeline(econ_encoder, freq_imputer)"
   ]
  },
  {
   "cell_type": "code",
   "execution_count": 41,
   "metadata": {},
   "outputs": [
    {
     "output_type": "execute_result",
     "data": {
      "text/plain": "array([[3.0, 1.0, 1.0, ..., 4.857, 5191.0, 2008],\n       [7.0, 1.0, 4.0, ..., 4.857, 5191.0, 2008],\n       [7.0, 1.0, 4.0, ..., 4.857, 5191.0, 2008],\n       ...,\n       [5.0, 1.0, 6.0, ..., 1.028, 4963.6, 2010],\n       [9.0, 1.0, 5.0, ..., 1.028, 4963.6, 2010],\n       [5.0, 1.0, 5.0, ..., 1.028, 4963.6, 2010]], dtype=object)"
     },
     "metadata": {},
     "execution_count": 41
    }
   ],
   "source": [
    "econ_transformer.fit_transform(bank_mkt)"
   ]
  },
  {
   "cell_type": "code",
   "execution_count": 42,
   "metadata": {},
   "outputs": [
    {
     "output_type": "execute_result",
     "data": {
      "text/plain": "         Train  Validate      Test\nTNR   0.861224  0.854259  0.855501\nTPR   0.658471  0.672507  0.649784\nbACC  0.759847  0.763383  0.752643\nROC   0.840873  0.813380  0.804210\nREC   0.658471  0.672507  0.649784\nPRE   0.375962  0.369356  0.363472\nAP    0.523720  0.505116  0.449931",
      "text/html": "<div>\n<style scoped>\n    .dataframe tbody tr th:only-of-type {\n        vertical-align: middle;\n    }\n\n    .dataframe tbody tr th {\n        vertical-align: top;\n    }\n\n    .dataframe thead th {\n        text-align: right;\n    }\n</style>\n<table border=\"1\" class=\"dataframe\">\n  <thead>\n    <tr style=\"text-align: right;\">\n      <th></th>\n      <th>Train</th>\n      <th>Validate</th>\n      <th>Test</th>\n    </tr>\n  </thead>\n  <tbody>\n    <tr>\n      <th>TNR</th>\n      <td>0.861224</td>\n      <td>0.854259</td>\n      <td>0.855501</td>\n    </tr>\n    <tr>\n      <th>TPR</th>\n      <td>0.658471</td>\n      <td>0.672507</td>\n      <td>0.649784</td>\n    </tr>\n    <tr>\n      <th>bACC</th>\n      <td>0.759847</td>\n      <td>0.763383</td>\n      <td>0.752643</td>\n    </tr>\n    <tr>\n      <th>ROC</th>\n      <td>0.840873</td>\n      <td>0.813380</td>\n      <td>0.804210</td>\n    </tr>\n    <tr>\n      <th>REC</th>\n      <td>0.658471</td>\n      <td>0.672507</td>\n      <td>0.649784</td>\n    </tr>\n    <tr>\n      <th>PRE</th>\n      <td>0.375962</td>\n      <td>0.369356</td>\n      <td>0.363472</td>\n    </tr>\n    <tr>\n      <th>AP</th>\n      <td>0.523720</td>\n      <td>0.505116</td>\n      <td>0.449931</td>\n    </tr>\n  </tbody>\n</table>\n</div>"
     },
     "metadata": {},
     "execution_count": 42
    }
   ],
   "source": [
    "cat_clf = CatBoostClassifier(eval_metric=\"AUC\", class_weights=[1,8],  verbose=False)\n",
    "benchmark(bank_mkt, econ_encoder, cat_clf)"
   ]
  },
  {
   "cell_type": "code",
   "execution_count": null,
   "metadata": {},
   "outputs": [],
   "source": []
  }
 ],
 "metadata": {
  "kernelspec": {
   "display_name": "Python 3",
   "language": "python",
   "name": "python3"
  },
  "language_info": {
   "codemirror_mode": {
    "name": "ipython",
    "version": 3
   },
   "file_extension": ".py",
   "mimetype": "text/x-python",
   "name": "python",
   "nbconvert_exporter": "python",
   "pygments_lexer": "ipython3",
   "version": "3.8.6"
  }
 },
 "nbformat": 4,
 "nbformat_minor": 4
}